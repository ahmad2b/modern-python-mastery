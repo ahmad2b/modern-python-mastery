{
 "cells": [
  {
   "cell_type": "code",
   "execution_count": 4,
   "metadata": {},
   "outputs": [
    {
     "name": "stdout",
     "output_type": "stream",
     "text": [
      "Logic 1\n",
      "Logic 2\n",
      "2.5\n",
      "No Exception Occurred\n",
      "Logic 3\n",
      "Logic 4\n"
     ]
    }
   ],
   "source": [
    "# Uncomment below to see the exception handling in action \n",
    "\n",
    "print(\"Logic 1\")\n",
    "print(\"Logic 2\")\n",
    "\n",
    "l1: list[int] = [1, 2, 3]\n",
    "\n",
    "try:\n",
    "    print(5/2)\n",
    "    # print(l1[3]) # IndexError\n",
    "    # print(xyz) # NameError\n",
    "    # open(\"abc.txt\") # FileNotFoundError\n",
    "except ZeroDivisionError:\n",
    "    print(\"Zero Division Error\")\n",
    "except IndexError:\n",
    "    print(\"Index Error\")\n",
    "except NameError:\n",
    "    print(\"Name Error\")\n",
    "except Exception as e:\n",
    "    print(\"Exception Occurred\")\n",
    "    print(e)\n",
    "else:\n",
    "    print(\"No Exception Occurred\")\n",
    "    \n",
    "print(\"Logic 3\")\n",
    "print(\"Logic 4\")\n",
    "    "
   ]
  },
  {
   "cell_type": "code",
   "execution_count": 7,
   "metadata": {},
   "outputs": [
    {
     "name": "stdout",
     "output_type": "stream",
     "text": [
      "Some thing is wrong!\n",
      "list index out of range\n"
     ]
    }
   ],
   "source": [
    "try:\n",
    "    # print(age) # name 'age' is not defined\n",
    "    print(l1[200]) # list index out of range\n",
    "except Exception as e:\n",
    "    print(f\"Some thing is wrong!\\n{e}\")"
   ]
  },
  {
   "cell_type": "code",
   "execution_count": 9,
   "metadata": {},
   "outputs": [
    {
     "ename": "StudentAgeError",
     "evalue": "You are not eligible for this program.",
     "output_type": "error",
     "traceback": [
      "\u001b[1;31m---------------------------------------------------------------------------\u001b[0m",
      "\u001b[1;31mStudentAgeError\u001b[0m                           Traceback (most recent call last)",
      "\u001b[1;32mc:\\Users\\ahmad\\Desktop\\TrainingGround\\modern-python-mastery\\step-12\\app.ipynb Cell 3\u001b[0m line \u001b[0;36m1\n\u001b[0;32m     <a href='vscode-notebook-cell:/c%3A/Users/ahmad/Desktop/TrainingGround/modern-python-mastery/step-12/app.ipynb#W2sZmlsZQ%3D%3D?line=9'>10</a>\u001b[0m \u001b[39mclass\u001b[39;00m \u001b[39mStudentAgeError\u001b[39;00m(\u001b[39mException\u001b[39;00m):\n\u001b[0;32m     <a href='vscode-notebook-cell:/c%3A/Users/ahmad/Desktop/TrainingGround/modern-python-mastery/step-12/app.ipynb#W2sZmlsZQ%3D%3D?line=10'>11</a>\u001b[0m     \u001b[39mpass\u001b[39;00m\n\u001b[1;32m---> <a href='vscode-notebook-cell:/c%3A/Users/ahmad/Desktop/TrainingGround/modern-python-mastery/step-12/app.ipynb#W2sZmlsZQ%3D%3D?line=12'>13</a>\u001b[0m student1 \u001b[39m=\u001b[39m StudentCard(\u001b[39m1\u001b[39;49m, \u001b[39m\"\u001b[39;49m\u001b[39mABC\u001b[39;49m\u001b[39m\"\u001b[39;49m, \u001b[39m267\u001b[39;49m)\n\u001b[0;32m     <a href='vscode-notebook-cell:/c%3A/Users/ahmad/Desktop/TrainingGround/modern-python-mastery/step-12/app.ipynb#W2sZmlsZQ%3D%3D?line=14'>15</a>\u001b[0m \u001b[39mprint\u001b[39m(student1\u001b[39m.\u001b[39mroll_number, student1\u001b[39m.\u001b[39mname, student1\u001b[39m.\u001b[39mage)\n",
      "\u001b[1;32mc:\\Users\\ahmad\\Desktop\\TrainingGround\\modern-python-mastery\\step-12\\app.ipynb Cell 3\u001b[0m line \u001b[0;36m4\n\u001b[0;32m      <a href='vscode-notebook-cell:/c%3A/Users/ahmad/Desktop/TrainingGround/modern-python-mastery/step-12/app.ipynb#W2sZmlsZQ%3D%3D?line=1'>2</a>\u001b[0m \u001b[39mdef\u001b[39;00m \u001b[39m__init__\u001b[39m(\u001b[39mself\u001b[39m, roll_number: \u001b[39mint\u001b[39m, name: \u001b[39mstr\u001b[39m, age: \u001b[39mint\u001b[39m) \u001b[39m-\u001b[39m\u001b[39m>\u001b[39m \u001b[39mNone\u001b[39;00m:\n\u001b[0;32m      <a href='vscode-notebook-cell:/c%3A/Users/ahmad/Desktop/TrainingGround/modern-python-mastery/step-12/app.ipynb#W2sZmlsZQ%3D%3D?line=2'>3</a>\u001b[0m     \u001b[39mif\u001b[39;00m age \u001b[39m<\u001b[39m \u001b[39m18\u001b[39m \u001b[39mor\u001b[39;00m age \u001b[39m>\u001b[39m \u001b[39m60\u001b[39m:\n\u001b[1;32m----> <a href='vscode-notebook-cell:/c%3A/Users/ahmad/Desktop/TrainingGround/modern-python-mastery/step-12/app.ipynb#W2sZmlsZQ%3D%3D?line=3'>4</a>\u001b[0m         \u001b[39mraise\u001b[39;00m StudentAgeError(\u001b[39m\"\u001b[39m\u001b[39mYou are not eligible for this program.\u001b[39m\u001b[39m\"\u001b[39m)\n\u001b[0;32m      <a href='vscode-notebook-cell:/c%3A/Users/ahmad/Desktop/TrainingGround/modern-python-mastery/step-12/app.ipynb#W2sZmlsZQ%3D%3D?line=4'>5</a>\u001b[0m     \u001b[39mself\u001b[39m\u001b[39m.\u001b[39mroll_number \u001b[39m=\u001b[39m roll_number\n\u001b[0;32m      <a href='vscode-notebook-cell:/c%3A/Users/ahmad/Desktop/TrainingGround/modern-python-mastery/step-12/app.ipynb#W2sZmlsZQ%3D%3D?line=5'>6</a>\u001b[0m     \u001b[39mself\u001b[39m\u001b[39m.\u001b[39mname \u001b[39m=\u001b[39m name\n",
      "\u001b[1;31mStudentAgeError\u001b[0m: You are not eligible for this program."
     ]
    }
   ],
   "source": [
    "class StudentCard():\n",
    "    def __init__(self, roll_number: int, name: str, age: int) -> None:\n",
    "        if age < 18 or age > 60:\n",
    "            raise StudentAgeError(\"You are not eligible for this program.\")\n",
    "        self.roll_number = roll_number\n",
    "        self.name = name\n",
    "        self.age = age\n",
    "        \n",
    "# Custom Exception/ Error Class\n",
    "class StudentAgeError(Exception):\n",
    "    pass\n",
    "\n",
    "student1 = StudentCard(1, \"ABC\", 267)\n",
    "\n",
    "print(student1.roll_number, student1.name, student1.age)"
   ]
  },
  {
   "cell_type": "code",
   "execution_count": 10,
   "metadata": {},
   "outputs": [
    {
     "name": "stdout",
     "output_type": "stream",
     "text": [
      "2 XYZ 24\n"
     ]
    }
   ],
   "source": [
    "student_2 = StudentCard(2, \"XYZ\", 24)\n",
    "\n",
    "print(student_2.roll_number, student_2.name, student_2.age)"
   ]
  },
  {
   "cell_type": "markdown",
   "metadata": {},
   "source": [
    "# File Handling\n",
    "https://www.geeksforgeeks.org/reading-writing-text-files-python/\n",
    "\n",
    "<img src=\"https://net-informations.com/python/file/img/modes.png\">"
   ]
  },
  {
   "cell_type": "code",
   "execution_count": 12,
   "metadata": {},
   "outputs": [
    {
     "data": {
      "text/plain": [
       "<_io.TextIOWrapper name='./abc.txt' mode='r' encoding='utf-8'>"
      ]
     },
     "execution_count": 12,
     "metadata": {},
     "output_type": "execute_result"
    }
   ],
   "source": [
    "open(\"./abc.txt\")"
   ]
  },
  {
   "cell_type": "code",
   "execution_count": 14,
   "metadata": {},
   "outputs": [
    {
     "data": {
      "text/plain": [
       "<_io.TextIOWrapper name='./abc.txt' mode='r' encoding='utf-8'>"
      ]
     },
     "execution_count": 14,
     "metadata": {},
     "output_type": "execute_result"
    }
   ],
   "source": [
    "data = open(\"./abc.txt\")\n",
    "data"
   ]
  },
  {
   "cell_type": "code",
   "execution_count": 19,
   "metadata": {},
   "outputs": [
    {
     "name": "stdout",
     "output_type": "stream",
     "text": [
      "26\n"
     ]
    },
    {
     "data": {
      "text/plain": [
       "['buffer',\n",
       " 'close',\n",
       " 'closed',\n",
       " 'detach',\n",
       " 'encoding',\n",
       " 'errors',\n",
       " 'fileno',\n",
       " 'flush',\n",
       " 'isatty',\n",
       " 'line_buffering',\n",
       " 'mode',\n",
       " 'name',\n",
       " 'newlines',\n",
       " 'read',\n",
       " 'readable',\n",
       " 'readline',\n",
       " 'readlines',\n",
       " 'reconfigure',\n",
       " 'seek',\n",
       " 'seekable',\n",
       " 'tell',\n",
       " 'truncate',\n",
       " 'writable',\n",
       " 'write',\n",
       " 'write_through',\n",
       " 'writelines']"
      ]
     },
     "execution_count": 19,
     "metadata": {},
     "output_type": "execute_result"
    }
   ],
   "source": [
    "# Methods / Atrributes of File \n",
    "methods = [i for i in dir(data) if not i.startswith(\"_\")]\n",
    "print(len(methods))\n",
    "methods"
   ]
  },
  {
   "cell_type": "code",
   "execution_count": 20,
   "metadata": {},
   "outputs": [
    {
     "data": {
      "text/plain": [
       "_io.TextIOWrapper"
      ]
     },
     "execution_count": 20,
     "metadata": {},
     "output_type": "execute_result"
    }
   ],
   "source": [
    "type(data)"
   ]
  },
  {
   "cell_type": "code",
   "execution_count": 22,
   "metadata": {},
   "outputs": [
    {
     "name": "stdout",
     "output_type": "stream",
     "text": [
      "Hello abc\n"
     ]
    }
   ],
   "source": [
    "from typing import TextIO\n",
    "\n",
    "data: TextIO = open(\"./abc.txt\")\n",
    "print(data.read())"
   ]
  },
  {
   "cell_type": "code",
   "execution_count": 23,
   "metadata": {},
   "outputs": [
    {
     "name": "stdout",
     "output_type": "stream",
     "text": [
      "Hello abc\n"
     ]
    }
   ],
   "source": [
    "from typing import TextIO\n",
    "\n",
    "data: TextIO = open(\"./abc.txt\")\n",
    "print(data.read())\n",
    "\n",
    "data.close()"
   ]
  },
  {
   "cell_type": "code",
   "execution_count": 24,
   "metadata": {},
   "outputs": [
    {
     "name": "stdout",
     "output_type": "stream",
     "text": [
      "<class '_io.TextIOWrapper'>\n",
      "Hello abc\n",
      "Pakistan Zinabad\n"
     ]
    }
   ],
   "source": [
    "with open(\"./abc.txt\") as file: # type TextIO\n",
    "    print(type(file))\n",
    "    print(file.read())\n",
    "    \n",
    "print(\"Pakistan Zinabad\")"
   ]
  },
  {
   "cell_type": "code",
   "execution_count": 34,
   "metadata": {},
   "outputs": [
    {
     "name": "stdout",
     "output_type": "stream",
     "text": [
      "<class '_io.TextIOWrapper'>\n",
      "Hello abc\n",
      "\n",
      "\n",
      "\n",
      "test\n"
     ]
    }
   ],
   "source": [
    "with open(\"./abc.txt\") as file:  # type: TextIO\n",
    "    print(type(file))\n",
    "    print(file.readline()) # read only one line (first line)\n",
    "    print(file.readline())# line2\n",
    "    print(file.readline())# line3"
   ]
  },
  {
   "cell_type": "code",
   "execution_count": 35,
   "metadata": {},
   "outputs": [
    {
     "name": "stdout",
     "output_type": "stream",
     "text": [
      "<class '_io.TextIOWrapper'>\n",
      "Hello abc\n",
      "\n",
      "test"
     ]
    }
   ],
   "source": [
    "with open(\"./abc.txt\") as file:  # type: TextIO\n",
    "    print(type(file))\n",
    "    print(file.readline(), end=\"\") # read only one line \n",
    "    print(file.readline(), end=\"\")# line2\n",
    "    print(file.readline(), end=\"\")# line3"
   ]
  },
  {
   "cell_type": "code",
   "execution_count": 36,
   "metadata": {},
   "outputs": [
    {
     "name": "stdout",
     "output_type": "stream",
     "text": [
      "<class '_io.TextIOWrapper'>\n",
      "['Hello abc\\n', '\\n', 'test']\n"
     ]
    }
   ],
   "source": [
    "with open(\"./abc.txt\") as file:  # type: TextIO\n",
    "    print(type(file))\n",
    "    print(file.readlines()) # \n",
    "    "
   ]
  },
  {
   "cell_type": "code",
   "execution_count": 37,
   "metadata": {},
   "outputs": [
    {
     "name": "stdout",
     "output_type": "stream",
     "text": [
      "<class '_io.TextIOWrapper'>\n",
      "['Hello abc\\n', '\\n', 'test']\n"
     ]
    }
   ],
   "source": [
    "with open(\"./abc.txt\", 'r') as file:  # type: TextIO\n",
    "    print(type(file))\n",
    "    print(file.readlines()[:3]) "
   ]
  },
  {
   "cell_type": "code",
   "execution_count": 38,
   "metadata": {},
   "outputs": [
    {
     "name": "stdout",
     "output_type": "stream",
     "text": [
      "Hello abc\n",
      "\n",
      "test\n"
     ]
    },
    {
     "ename": "UnsupportedOperation",
     "evalue": "not writable",
     "output_type": "error",
     "traceback": [
      "\u001b[1;31m---------------------------------------------------------------------------\u001b[0m",
      "\u001b[1;31mUnsupportedOperation\u001b[0m                      Traceback (most recent call last)",
      "\u001b[1;32mc:\\Users\\ahmad\\Desktop\\TrainingGround\\modern-python-mastery\\step-12\\app.ipynb Cell 17\u001b[0m line \u001b[0;36m3\n\u001b[0;32m      <a href='vscode-notebook-cell:/c%3A/Users/ahmad/Desktop/TrainingGround/modern-python-mastery/step-12/app.ipynb#X23sZmlsZQ%3D%3D?line=0'>1</a>\u001b[0m \u001b[39mwith\u001b[39;00m \u001b[39mopen\u001b[39m(\u001b[39m\"\u001b[39m\u001b[39m./abc.txt\u001b[39m\u001b[39m\"\u001b[39m, \u001b[39m'\u001b[39m\u001b[39mr\u001b[39m\u001b[39m'\u001b[39m) \u001b[39mas\u001b[39;00m file:  \u001b[39m# type: TextIO\u001b[39;00m\n\u001b[0;32m      <a href='vscode-notebook-cell:/c%3A/Users/ahmad/Desktop/TrainingGround/modern-python-mastery/step-12/app.ipynb#X23sZmlsZQ%3D%3D?line=1'>2</a>\u001b[0m     \u001b[39mprint\u001b[39m(file\u001b[39m.\u001b[39mread())\n\u001b[1;32m----> <a href='vscode-notebook-cell:/c%3A/Users/ahmad/Desktop/TrainingGround/modern-python-mastery/step-12/app.ipynb#X23sZmlsZQ%3D%3D?line=2'>3</a>\u001b[0m     file\u001b[39m.\u001b[39;49mwrite(\u001b[39m\"\u001b[39;49m\u001b[39mPakistan zinda bad\u001b[39;49m\u001b[39m\"\u001b[39;49m)\n",
      "\u001b[1;31mUnsupportedOperation\u001b[0m: not writable"
     ]
    }
   ],
   "source": [
    "with open(\"./abc.txt\", 'r') as file:  # type: TextIO\n",
    "    print(file.read())\n",
    "    file.write(\"Pakistan zinda bad\")\n",
    "    "
   ]
  },
  {
   "cell_type": "code",
   "execution_count": 39,
   "metadata": {},
   "outputs": [
    {
     "ename": "UnsupportedOperation",
     "evalue": "not readable",
     "output_type": "error",
     "traceback": [
      "\u001b[1;31m---------------------------------------------------------------------------\u001b[0m",
      "\u001b[1;31mUnsupportedOperation\u001b[0m                      Traceback (most recent call last)",
      "\u001b[1;32mc:\\Users\\ahmad\\Desktop\\TrainingGround\\modern-python-mastery\\step-12\\app.ipynb Cell 18\u001b[0m line \u001b[0;36m2\n\u001b[0;32m      <a href='vscode-notebook-cell:/c%3A/Users/ahmad/Desktop/TrainingGround/modern-python-mastery/step-12/app.ipynb#X24sZmlsZQ%3D%3D?line=0'>1</a>\u001b[0m \u001b[39mwith\u001b[39;00m \u001b[39mopen\u001b[39m(\u001b[39m\"\u001b[39m\u001b[39m./abc.txt\u001b[39m\u001b[39m\"\u001b[39m, \u001b[39m'\u001b[39m\u001b[39mw\u001b[39m\u001b[39m'\u001b[39m) \u001b[39mas\u001b[39;00m file:  \u001b[39m# type: TextIO\u001b[39;00m\n\u001b[1;32m----> <a href='vscode-notebook-cell:/c%3A/Users/ahmad/Desktop/TrainingGround/modern-python-mastery/step-12/app.ipynb#X24sZmlsZQ%3D%3D?line=1'>2</a>\u001b[0m     \u001b[39mprint\u001b[39m(file\u001b[39m.\u001b[39;49mread())\n\u001b[0;32m      <a href='vscode-notebook-cell:/c%3A/Users/ahmad/Desktop/TrainingGround/modern-python-mastery/step-12/app.ipynb#X24sZmlsZQ%3D%3D?line=2'>3</a>\u001b[0m     file\u001b[39m.\u001b[39mwrite(\u001b[39m\"\u001b[39m\u001b[39mPakistan zinda bad\u001b[39m\u001b[39m\"\u001b[39m)\n",
      "\u001b[1;31mUnsupportedOperation\u001b[0m: not readable"
     ]
    }
   ],
   "source": [
    "with open(\"./abc.txt\", 'w') as file:  # type: TextIO\n",
    "    print(file.read())\n",
    "    file.write(\"Pakistan zinda bad\")\n",
    "    "
   ]
  },
  {
   "cell_type": "code",
   "execution_count": 40,
   "metadata": {},
   "outputs": [],
   "source": [
    "with open(\"./abc.txt\", 'w') as file:  # type: TextIO\n",
    "    file.write(\"Pakistan zinda bad\")\n",
    "    "
   ]
  },
  {
   "cell_type": "code",
   "execution_count": 42,
   "metadata": {},
   "outputs": [
    {
     "name": "stdout",
     "output_type": "stream",
     "text": [
      "Pakistan zinda bad\n"
     ]
    }
   ],
   "source": [
    "with open(\"./abc.txt\", 'r+') as file:  # type: TextIO\n",
    "    print(file.read())\n",
    "    file.write(\"WE love our country!\")"
   ]
  },
  {
   "cell_type": "code",
   "execution_count": 44,
   "metadata": {},
   "outputs": [
    {
     "name": "stdout",
     "output_type": "stream",
     "text": [
      "Pakistan zinda badWE love our country!\n",
      "After \n"
     ]
    }
   ],
   "source": [
    "with open(\"./abc.txt\", 'r+') as file:  # type: TextIO\n",
    "    print(file.read())\n",
    "\n",
    "    file.write(\"WE love our country!\")\n",
    "\n",
    "    print(\"After\",file.read())"
   ]
  },
  {
   "cell_type": "code",
   "execution_count": 46,
   "metadata": {},
   "outputs": [
    {
     "name": "stdout",
     "output_type": "stream",
     "text": [
      "Pakistan zinda badWE love our country!WE love our country!\n",
      "After Pakistan zinda badWE love our country!WE love our country!WE love our country!\n"
     ]
    }
   ],
   "source": [
    "with open(\"./abc.txt\", 'r+') as file:  # type: TextIO\n",
    "    print(file.read())\n",
    "\n",
    "    file.write(\"WE love our country!\")\n",
    "    file.seek(0)\n",
    "\n",
    "    print(\"After\",file.read())"
   ]
  },
  {
   "cell_type": "code",
   "execution_count": 47,
   "metadata": {},
   "outputs": [],
   "source": [
    "with open(\"./abc2.txt\", 'w') as file:  # type: TextIO\n",
    "    # print(file.read())\n",
    "    file.write(\"Pakistan\") \n",
    "\n",
    "# if file exist then it overwrite the text\n",
    "# if file not exist then it will create new file"
   ]
  },
  {
   "cell_type": "code",
   "execution_count": 48,
   "metadata": {},
   "outputs": [],
   "source": [
    "with open(\"./abc3.txt\", 'a') as file:  # type: TextIO\n",
    "    # print(file.read())\n",
    "    file.write(\"Pakistan\") \n",
    "\n",
    "# if file exist then it overwrite the text\n",
    "# if file not exist then it will create new file"
   ]
  },
  {
   "cell_type": "markdown",
   "metadata": {},
   "source": [
    "## Read some real world data files\n",
    "\n",
    "* image\n",
    "* csv\n",
    "* live camera"
   ]
  },
  {
   "cell_type": "code",
   "execution_count": 50,
   "metadata": {},
   "outputs": [
    {
     "name": "stdout",
     "output_type": "stream",
     "text": [
      "Collecting matplotlibNote: you may need to restart the kernel to use updated packages.\n",
      "\n",
      "  Obtaining dependency information for matplotlib from https://files.pythonhosted.org/packages/2e/51/c77a14869b7eb9d6fb440e811b754fc3950d6868c38ace57d0632b674415/matplotlib-3.8.2-cp312-cp312-win_amd64.whl.metadata\n",
      "  Downloading matplotlib-3.8.2-cp312-cp312-win_amd64.whl.metadata (5.9 kB)\n",
      "Collecting contourpy>=1.0.1 (from matplotlib)\n",
      "  Obtaining dependency information for contourpy>=1.0.1 from https://files.pythonhosted.org/packages/8e/ae/a6353db548bff1a592b85ae6bb80275f0a51dc25a0410d059e5b33183e36/contourpy-1.2.0-cp312-cp312-win_amd64.whl.metadata\n",
      "  Downloading contourpy-1.2.0-cp312-cp312-win_amd64.whl.metadata (5.8 kB)\n",
      "Collecting cycler>=0.10 (from matplotlib)\n",
      "  Obtaining dependency information for cycler>=0.10 from https://files.pythonhosted.org/packages/e7/05/c19819d5e3d95294a6f5947fb9b9629efb316b96de511b418c53d245aae6/cycler-0.12.1-py3-none-any.whl.metadata\n",
      "  Downloading cycler-0.12.1-py3-none-any.whl.metadata (3.8 kB)\n",
      "Collecting fonttools>=4.22.0 (from matplotlib)\n",
      "  Obtaining dependency information for fonttools>=4.22.0 from https://files.pythonhosted.org/packages/71/00/46562cbdf644aeaa20666d920e2d6b71a0096ff987ef878ec510e4c1d886/fonttools-4.45.1-cp312-cp312-win_amd64.whl.metadata\n",
      "  Downloading fonttools-4.45.1-cp312-cp312-win_amd64.whl.metadata (158 kB)\n",
      "     ---------------------------------------- 0.0/158.4 kB ? eta -:--:--\n",
      "     -- ------------------------------------- 10.2/158.4 kB ? eta -:--:--\n",
      "     ------- ----------------------------- 30.7/158.4 kB 660.6 kB/s eta 0:00:01\n",
      "     --------------------------- ---------- 112.6/158.4 kB 1.1 MB/s eta 0:00:01\n",
      "     -------------------------------------- 158.4/158.4 kB 1.1 MB/s eta 0:00:00\n",
      "Collecting kiwisolver>=1.3.1 (from matplotlib)\n",
      "  Obtaining dependency information for kiwisolver>=1.3.1 from https://files.pythonhosted.org/packages/63/50/2746566bdf4a6a842d117367d05c90cfb87ac04e9e2845aa1fa21f071362/kiwisolver-1.4.5-cp312-cp312-win_amd64.whl.metadata\n",
      "  Downloading kiwisolver-1.4.5-cp312-cp312-win_amd64.whl.metadata (6.5 kB)\n",
      "Requirement already satisfied: numpy<2,>=1.21 in c:\\users\\ahmad\\.conda\\envs\\py12\\lib\\site-packages (from matplotlib) (1.26.0)\n",
      "Requirement already satisfied: packaging>=20.0 in c:\\users\\ahmad\\.conda\\envs\\py12\\lib\\site-packages (from matplotlib) (23.2)\n",
      "Collecting pillow>=8 (from matplotlib)\n",
      "  Obtaining dependency information for pillow>=8 from https://files.pythonhosted.org/packages/32/e4/978865107d097dd9cb650331676d8dc29ed9fcd0aaab46486e9d6e5123f0/Pillow-10.1.0-cp312-cp312-win_amd64.whl.metadata\n",
      "  Downloading Pillow-10.1.0-cp312-cp312-win_amd64.whl.metadata (9.6 kB)\n",
      "Collecting pyparsing>=2.3.1 (from matplotlib)\n",
      "  Obtaining dependency information for pyparsing>=2.3.1 from https://files.pythonhosted.org/packages/39/92/8486ede85fcc088f1b3dba4ce92dd29d126fd96b0008ea213167940a2475/pyparsing-3.1.1-py3-none-any.whl.metadata\n",
      "  Downloading pyparsing-3.1.1-py3-none-any.whl.metadata (5.1 kB)\n",
      "Requirement already satisfied: python-dateutil>=2.7 in c:\\users\\ahmad\\.conda\\envs\\py12\\lib\\site-packages (from matplotlib) (2.8.2)\n",
      "Requirement already satisfied: six>=1.5 in c:\\users\\ahmad\\.conda\\envs\\py12\\lib\\site-packages (from python-dateutil>=2.7->matplotlib) (1.16.0)\n",
      "Downloading matplotlib-3.8.2-cp312-cp312-win_amd64.whl (7.6 MB)\n",
      "   ---------------------------------------- 0.0/7.6 MB ? eta -:--:--\n",
      "    --------------------------------------- 0.1/7.6 MB 6.8 MB/s eta 0:00:02\n",
      "    --------------------------------------- 0.2/7.6 MB 2.3 MB/s eta 0:00:04\n",
      "   - -------------------------------------- 0.3/7.6 MB 2.5 MB/s eta 0:00:03\n",
      "   -- ------------------------------------- 0.5/7.6 MB 2.6 MB/s eta 0:00:03\n",
      "   --- ------------------------------------ 0.7/7.6 MB 2.9 MB/s eta 0:00:03\n",
      "   ----- ---------------------------------- 1.0/7.6 MB 3.5 MB/s eta 0:00:02\n",
      "   ------- -------------------------------- 1.4/7.6 MB 4.3 MB/s eta 0:00:02\n",
      "   -------- ------------------------------- 1.7/7.6 MB 4.5 MB/s eta 0:00:02\n",
      "   ----------- ---------------------------- 2.2/7.6 MB 5.1 MB/s eta 0:00:02\n",
      "   ------------ --------------------------- 2.4/7.6 MB 5.2 MB/s eta 0:00:02\n",
      "   -------------- ------------------------- 2.7/7.6 MB 5.1 MB/s eta 0:00:01\n",
      "   ---------------- ----------------------- 3.1/7.6 MB 5.4 MB/s eta 0:00:01\n",
      "   ----------------- ---------------------- 3.3/7.6 MB 5.4 MB/s eta 0:00:01\n",
      "   ------------------- -------------------- 3.7/7.6 MB 5.6 MB/s eta 0:00:01\n",
      "   -------------------- ------------------- 3.9/7.6 MB 5.5 MB/s eta 0:00:01\n",
      "   ---------------------- ----------------- 4.2/7.6 MB 5.7 MB/s eta 0:00:01\n",
      "   ------------------------ --------------- 4.8/7.6 MB 6.0 MB/s eta 0:00:01\n",
      "   -------------------------- ------------- 5.0/7.6 MB 6.1 MB/s eta 0:00:01\n",
      "   --------------------------- ------------ 5.2/7.6 MB 6.1 MB/s eta 0:00:01\n",
      "   --------------------------- ------------ 5.2/7.6 MB 6.1 MB/s eta 0:00:01\n",
      "   --------------------------- ------------ 5.2/7.6 MB 6.1 MB/s eta 0:00:01\n",
      "   --------------------------- ------------ 5.2/7.6 MB 6.1 MB/s eta 0:00:01\n",
      "   -------------------------------- ------- 6.2/7.6 MB 5.8 MB/s eta 0:00:01\n",
      "   --------------------------------- ------ 6.4/7.6 MB 5.7 MB/s eta 0:00:01\n",
      "   ----------------------------------- ---- 6.8/7.6 MB 5.8 MB/s eta 0:00:01\n",
      "   ------------------------------------- -- 7.2/7.6 MB 5.9 MB/s eta 0:00:01\n",
      "   ------------------------------------- -- 7.3/7.6 MB 5.9 MB/s eta 0:00:01\n",
      "   -------------------------------------- - 7.3/7.6 MB 5.7 MB/s eta 0:00:01\n",
      "   ---------------------------------------  7.6/7.6 MB 5.8 MB/s eta 0:00:01\n",
      "   ---------------------------------------  7.6/7.6 MB 5.8 MB/s eta 0:00:01\n",
      "   ---------------------------------------- 7.6/7.6 MB 5.4 MB/s eta 0:00:00\n",
      "Downloading contourpy-1.2.0-cp312-cp312-win_amd64.whl (187 kB)\n",
      "   ---------------------------------------- 0.0/187.7 kB ? eta -:--:--\n",
      "   ---------------------------------------- 187.7/187.7 kB 5.7 MB/s eta 0:00:00\n",
      "Downloading cycler-0.12.1-py3-none-any.whl (8.3 kB)\n",
      "Downloading fonttools-4.45.1-cp312-cp312-win_amd64.whl (2.1 MB)\n",
      "   ---------------------------------------- 0.0/2.1 MB ? eta -:--:--\n",
      "   ------ --------------------------------- 0.4/2.1 MB 7.4 MB/s eta 0:00:01\n",
      "   -------------- ------------------------- 0.8/2.1 MB 8.3 MB/s eta 0:00:01\n",
      "   ------------------- -------------------- 1.0/2.1 MB 6.6 MB/s eta 0:00:01\n",
      "   ------------------------- -------------- 1.4/2.1 MB 6.7 MB/s eta 0:00:01\n",
      "   -------------------------------- ------- 1.7/2.1 MB 7.3 MB/s eta 0:00:01\n",
      "   ------------------------------------ --- 2.0/2.1 MB 6.6 MB/s eta 0:00:01\n",
      "   ---------------------------------------  2.1/2.1 MB 6.2 MB/s eta 0:00:01\n",
      "   ---------------------------------------- 2.1/2.1 MB 5.7 MB/s eta 0:00:00\n",
      "Downloading kiwisolver-1.4.5-cp312-cp312-win_amd64.whl (56 kB)\n",
      "   ---------------------------------------- 0.0/56.0 kB ? eta -:--:--\n",
      "   ---------------------------------------- 56.0/56.0 kB 2.9 MB/s eta 0:00:00\n",
      "Downloading Pillow-10.1.0-cp312-cp312-win_amd64.whl (2.6 MB)\n",
      "   ---------------------------------------- 0.0/2.6 MB ? eta -:--:--\n",
      "   --- ------------------------------------ 0.2/2.6 MB 6.9 MB/s eta 0:00:01\n",
      "   --------- ------------------------------ 0.6/2.6 MB 7.7 MB/s eta 0:00:01\n",
      "   --------------- ------------------------ 1.0/2.6 MB 7.0 MB/s eta 0:00:01\n",
      "   --------------------- ------------------ 1.4/2.6 MB 7.5 MB/s eta 0:00:01\n",
      "   ------------------------ --------------- 1.6/2.6 MB 6.9 MB/s eta 0:00:01\n",
      "   ---------------------------- ----------- 1.9/2.6 MB 7.0 MB/s eta 0:00:01\n",
      "   -------------------------------- ------- 2.1/2.6 MB 6.4 MB/s eta 0:00:01\n",
      "   ----------------------------------- ---- 2.3/2.6 MB 6.5 MB/s eta 0:00:01\n",
      "   ---------------------------------------  2.6/2.6 MB 6.4 MB/s eta 0:00:01\n",
      "   ---------------------------------------- 2.6/2.6 MB 5.9 MB/s eta 0:00:00\n",
      "Using cached pyparsing-3.1.1-py3-none-any.whl (103 kB)\n",
      "Installing collected packages: pyparsing, pillow, kiwisolver, fonttools, cycler, contourpy, matplotlib\n",
      "Successfully installed contourpy-1.2.0 cycler-0.12.1 fonttools-4.45.1 kiwisolver-1.4.5 matplotlib-3.8.2 pillow-10.1.0 pyparsing-3.1.1\n"
     ]
    }
   ],
   "source": [
    "%pip install matplotlib"
   ]
  },
  {
   "cell_type": "code",
   "execution_count": 51,
   "metadata": {},
   "outputs": [],
   "source": [
    "import pandas as pd\n",
    "import matplotlib.pyplot as plt\n",
    "import matplotlib.image as mpimg"
   ]
  },
  {
   "cell_type": "code",
   "execution_count": 53,
   "metadata": {},
   "outputs": [],
   "source": [
    "df : pd.DataFrame = pd.read_csv(\"./appleAppData.csv\")"
   ]
  },
  {
   "cell_type": "code",
   "execution_count": 54,
   "metadata": {},
   "outputs": [
    {
     "data": {
      "text/html": [
       "<div>\n",
       "<style scoped>\n",
       "    .dataframe tbody tr th:only-of-type {\n",
       "        vertical-align: middle;\n",
       "    }\n",
       "\n",
       "    .dataframe tbody tr th {\n",
       "        vertical-align: top;\n",
       "    }\n",
       "\n",
       "    .dataframe thead th {\n",
       "        text-align: right;\n",
       "    }\n",
       "</style>\n",
       "<table border=\"1\" class=\"dataframe\">\n",
       "  <thead>\n",
       "    <tr style=\"text-align: right;\">\n",
       "      <th></th>\n",
       "      <th>App_Id</th>\n",
       "      <th>App_Name</th>\n",
       "      <th>AppStore_Url</th>\n",
       "      <th>Primary_Genre</th>\n",
       "      <th>Content_Rating</th>\n",
       "      <th>Size_Bytes</th>\n",
       "      <th>Required_IOS_Version</th>\n",
       "      <th>Released</th>\n",
       "      <th>Updated</th>\n",
       "      <th>Version</th>\n",
       "      <th>...</th>\n",
       "      <th>Currency</th>\n",
       "      <th>Free</th>\n",
       "      <th>DeveloperId</th>\n",
       "      <th>Developer</th>\n",
       "      <th>Developer_Url</th>\n",
       "      <th>Developer_Website</th>\n",
       "      <th>Average_User_Rating</th>\n",
       "      <th>Reviews</th>\n",
       "      <th>Current_Version_Score</th>\n",
       "      <th>Current_Version_Reviews</th>\n",
       "    </tr>\n",
       "  </thead>\n",
       "  <tbody>\n",
       "    <tr>\n",
       "      <th>0</th>\n",
       "      <td>com.hkbu.arc.apaper</td>\n",
       "      <td>A+ Paper Guide</td>\n",
       "      <td>https://apps.apple.com/us/app/a-paper-guide/id...</td>\n",
       "      <td>Education</td>\n",
       "      <td>4+</td>\n",
       "      <td>21993472.0</td>\n",
       "      <td>8.0</td>\n",
       "      <td>2017-09-28T03:02:41Z</td>\n",
       "      <td>2018-12-21T21:30:36Z</td>\n",
       "      <td>1.1.2</td>\n",
       "      <td>...</td>\n",
       "      <td>USD</td>\n",
       "      <td>True</td>\n",
       "      <td>1375410542</td>\n",
       "      <td>HKBU ARC</td>\n",
       "      <td>https://apps.apple.com/us/developer/hkbu-arc/i...</td>\n",
       "      <td>NaN</td>\n",
       "      <td>0.00000</td>\n",
       "      <td>0</td>\n",
       "      <td>0.00000</td>\n",
       "      <td>0</td>\n",
       "    </tr>\n",
       "    <tr>\n",
       "      <th>1</th>\n",
       "      <td>com.dmitriev.abooks</td>\n",
       "      <td>A-Books</td>\n",
       "      <td>https://apps.apple.com/us/app/a-books/id103157...</td>\n",
       "      <td>Book</td>\n",
       "      <td>4+</td>\n",
       "      <td>13135872.0</td>\n",
       "      <td>10.0</td>\n",
       "      <td>2015-08-31T19:31:32Z</td>\n",
       "      <td>2019-07-23T20:31:09Z</td>\n",
       "      <td>1.3</td>\n",
       "      <td>...</td>\n",
       "      <td>USD</td>\n",
       "      <td>True</td>\n",
       "      <td>1031572001</td>\n",
       "      <td>Roman Dmitriev</td>\n",
       "      <td>https://apps.apple.com/us/developer/roman-dmit...</td>\n",
       "      <td>NaN</td>\n",
       "      <td>5.00000</td>\n",
       "      <td>1</td>\n",
       "      <td>5.00000</td>\n",
       "      <td>1</td>\n",
       "    </tr>\n",
       "    <tr>\n",
       "      <th>2</th>\n",
       "      <td>no.terp.abooks</td>\n",
       "      <td>A-books</td>\n",
       "      <td>https://apps.apple.com/us/app/a-books/id145702...</td>\n",
       "      <td>Book</td>\n",
       "      <td>4+</td>\n",
       "      <td>21943296.0</td>\n",
       "      <td>9.0</td>\n",
       "      <td>2021-04-14T07:00:00Z</td>\n",
       "      <td>2021-05-30T21:08:54Z</td>\n",
       "      <td>1.3.1</td>\n",
       "      <td>...</td>\n",
       "      <td>USD</td>\n",
       "      <td>True</td>\n",
       "      <td>1457024163</td>\n",
       "      <td>Terp AS</td>\n",
       "      <td>https://apps.apple.com/us/developer/terp-as/id...</td>\n",
       "      <td>NaN</td>\n",
       "      <td>0.00000</td>\n",
       "      <td>0</td>\n",
       "      <td>0.00000</td>\n",
       "      <td>0</td>\n",
       "    </tr>\n",
       "    <tr>\n",
       "      <th>3</th>\n",
       "      <td>fr.antoinettefleur.Book1</td>\n",
       "      <td>A-F Book #1</td>\n",
       "      <td>https://apps.apple.com/us/app/a-f-book-1/id500...</td>\n",
       "      <td>Book</td>\n",
       "      <td>4+</td>\n",
       "      <td>81851392.0</td>\n",
       "      <td>8.0</td>\n",
       "      <td>2012-02-10T03:40:07Z</td>\n",
       "      <td>2019-10-29T12:40:37Z</td>\n",
       "      <td>1.2</td>\n",
       "      <td>...</td>\n",
       "      <td>USD</td>\n",
       "      <td>False</td>\n",
       "      <td>439568839</td>\n",
       "      <td>i-editeur.com</td>\n",
       "      <td>https://apps.apple.com/us/developer/i-editeur-...</td>\n",
       "      <td>NaN</td>\n",
       "      <td>0.00000</td>\n",
       "      <td>0</td>\n",
       "      <td>0.00000</td>\n",
       "      <td>0</td>\n",
       "    </tr>\n",
       "    <tr>\n",
       "      <th>4</th>\n",
       "      <td>com.imonstersoft.azdictionaryios</td>\n",
       "      <td>A-Z Synonyms Dictionary</td>\n",
       "      <td>https://apps.apple.com/us/app/a-z-synonyms-dic...</td>\n",
       "      <td>Reference</td>\n",
       "      <td>4+</td>\n",
       "      <td>64692224.0</td>\n",
       "      <td>9.0</td>\n",
       "      <td>2020-12-16T08:00:00Z</td>\n",
       "      <td>2020-12-18T21:36:11Z</td>\n",
       "      <td>1.0.1</td>\n",
       "      <td>...</td>\n",
       "      <td>USD</td>\n",
       "      <td>True</td>\n",
       "      <td>656731821</td>\n",
       "      <td>Ngov chiheang</td>\n",
       "      <td>https://apps.apple.com/us/developer/ngov-chihe...</td>\n",
       "      <td>http://imonstersoft.com</td>\n",
       "      <td>0.00000</td>\n",
       "      <td>0</td>\n",
       "      <td>0.00000</td>\n",
       "      <td>0</td>\n",
       "    </tr>\n",
       "    <tr>\n",
       "      <th>...</th>\n",
       "      <td>...</td>\n",
       "      <td>...</td>\n",
       "      <td>...</td>\n",
       "      <td>...</td>\n",
       "      <td>...</td>\n",
       "      <td>...</td>\n",
       "      <td>...</td>\n",
       "      <td>...</td>\n",
       "      <td>...</td>\n",
       "      <td>...</td>\n",
       "      <td>...</td>\n",
       "      <td>...</td>\n",
       "      <td>...</td>\n",
       "      <td>...</td>\n",
       "      <td>...</td>\n",
       "      <td>...</td>\n",
       "      <td>...</td>\n",
       "      <td>...</td>\n",
       "      <td>...</td>\n",
       "      <td>...</td>\n",
       "      <td>...</td>\n",
       "    </tr>\n",
       "    <tr>\n",
       "      <th>1230371</th>\n",
       "      <td>com.ledtech.sadblock</td>\n",
       "      <td>Sесurity АdBlосkеr</td>\n",
       "      <td>https://apps.apple.com/us/app/s%D0%B5%D1%81uri...</td>\n",
       "      <td>Utilities</td>\n",
       "      <td>4+</td>\n",
       "      <td>16666624.0</td>\n",
       "      <td>13.0</td>\n",
       "      <td>2020-07-07T07:00:00Z</td>\n",
       "      <td>2020-07-10T00:48:50Z</td>\n",
       "      <td>1.0.1</td>\n",
       "      <td>...</td>\n",
       "      <td>USD</td>\n",
       "      <td>True</td>\n",
       "      <td>1522287989</td>\n",
       "      <td>LED-TECHNOLOGIES</td>\n",
       "      <td>https://apps.apple.com/us/developer/led-techno...</td>\n",
       "      <td>NaN</td>\n",
       "      <td>3.91608</td>\n",
       "      <td>143</td>\n",
       "      <td>3.91608</td>\n",
       "      <td>143</td>\n",
       "    </tr>\n",
       "    <tr>\n",
       "      <th>1230372</th>\n",
       "      <td>com.securex.vpn</td>\n",
       "      <td>SесurеХ VРN - Wifi Proxy</td>\n",
       "      <td>https://apps.apple.com/us/app/s%D0%B5%D1%81ur%...</td>\n",
       "      <td>Utilities</td>\n",
       "      <td>4+</td>\n",
       "      <td>39016448.0</td>\n",
       "      <td>9.0</td>\n",
       "      <td>2019-02-12T10:10:13Z</td>\n",
       "      <td>2020-10-21T23:25:15Z</td>\n",
       "      <td>1.1</td>\n",
       "      <td>...</td>\n",
       "      <td>USD</td>\n",
       "      <td>True</td>\n",
       "      <td>1492288123</td>\n",
       "      <td>Trust VPN Ltd.</td>\n",
       "      <td>https://apps.apple.com/us/developer/trust-vpn-...</td>\n",
       "      <td>https://securexvpn.com/</td>\n",
       "      <td>4.82733</td>\n",
       "      <td>1500</td>\n",
       "      <td>4.82733</td>\n",
       "      <td>1500</td>\n",
       "    </tr>\n",
       "    <tr>\n",
       "      <th>1230373</th>\n",
       "      <td>com.beelab.SoTayXayDung</td>\n",
       "      <td>Sổ tay Xây dựng</td>\n",
       "      <td>https://apps.apple.com/us/app/s%E1%BB%95-tay-x...</td>\n",
       "      <td>Utilities</td>\n",
       "      <td>4+</td>\n",
       "      <td>17223680.0</td>\n",
       "      <td>9.0</td>\n",
       "      <td>2018-10-17T04:22:41Z</td>\n",
       "      <td>2018-10-17T04:22:41Z</td>\n",
       "      <td>1.0</td>\n",
       "      <td>...</td>\n",
       "      <td>USD</td>\n",
       "      <td>True</td>\n",
       "      <td>1438594214</td>\n",
       "      <td>Luu Minh</td>\n",
       "      <td>https://apps.apple.com/us/developer/luu-minh/i...</td>\n",
       "      <td>http://bee-labs.github.io</td>\n",
       "      <td>4.00000</td>\n",
       "      <td>1</td>\n",
       "      <td>4.00000</td>\n",
       "      <td>1</td>\n",
       "    </tr>\n",
       "    <tr>\n",
       "      <th>1230374</th>\n",
       "      <td>com.icc.sttb</td>\n",
       "      <td>Sổ tay đảng viên Thái Bình</td>\n",
       "      <td>https://apps.apple.com/us/app/s%E1%BB%95-tay-%...</td>\n",
       "      <td>Utilities</td>\n",
       "      <td>4+</td>\n",
       "      <td>56716288.0</td>\n",
       "      <td>10.0</td>\n",
       "      <td>2021-02-20T08:00:00Z</td>\n",
       "      <td>2021-10-02T22:00:19Z</td>\n",
       "      <td>1.2.5</td>\n",
       "      <td>...</td>\n",
       "      <td>USD</td>\n",
       "      <td>True</td>\n",
       "      <td>1515469508</td>\n",
       "      <td>Thái Bình</td>\n",
       "      <td>https://apps.apple.com/us/developer/th%C3%A1i-...</td>\n",
       "      <td>https://aisoftech.vn</td>\n",
       "      <td>0.00000</td>\n",
       "      <td>0</td>\n",
       "      <td>0.00000</td>\n",
       "      <td>0</td>\n",
       "    </tr>\n",
       "    <tr>\n",
       "      <th>1230375</th>\n",
       "      <td>com.vnptlonganios.sodiemthongminh</td>\n",
       "      <td>Sổ Điểm Thông Minh</td>\n",
       "      <td>https://apps.apple.com/us/app/s%E1%BB%95-%C4%9...</td>\n",
       "      <td>Utilities</td>\n",
       "      <td>4+</td>\n",
       "      <td>85135360.0</td>\n",
       "      <td>8.0</td>\n",
       "      <td>2018-06-05T07:45:41Z</td>\n",
       "      <td>2019-05-21T22:03:17Z</td>\n",
       "      <td>1.9</td>\n",
       "      <td>...</td>\n",
       "      <td>USD</td>\n",
       "      <td>True</td>\n",
       "      <td>1350355912</td>\n",
       "      <td>Pham Thanh Vo</td>\n",
       "      <td>https://apps.apple.com/us/developer/pham-thanh...</td>\n",
       "      <td>NaN</td>\n",
       "      <td>0.00000</td>\n",
       "      <td>0</td>\n",
       "      <td>0.00000</td>\n",
       "      <td>0</td>\n",
       "    </tr>\n",
       "  </tbody>\n",
       "</table>\n",
       "<p>1230376 rows × 21 columns</p>\n",
       "</div>"
      ],
      "text/plain": [
       "                                    App_Id                    App_Name  \\\n",
       "0                      com.hkbu.arc.apaper              A+ Paper Guide   \n",
       "1                      com.dmitriev.abooks                     A-Books   \n",
       "2                           no.terp.abooks                     A-books   \n",
       "3                 fr.antoinettefleur.Book1                 A-F Book #1   \n",
       "4         com.imonstersoft.azdictionaryios     A-Z Synonyms Dictionary   \n",
       "...                                    ...                         ...   \n",
       "1230371               com.ledtech.sadblock          Sесurity АdBlосkеr   \n",
       "1230372                    com.securex.vpn    SесurеХ VРN - Wifi Proxy   \n",
       "1230373            com.beelab.SoTayXayDung             Sổ tay Xây dựng   \n",
       "1230374                       com.icc.sttb  Sổ tay đảng viên Thái Bình   \n",
       "1230375  com.vnptlonganios.sodiemthongminh          Sổ Điểm Thông Minh   \n",
       "\n",
       "                                              AppStore_Url Primary_Genre  \\\n",
       "0        https://apps.apple.com/us/app/a-paper-guide/id...     Education   \n",
       "1        https://apps.apple.com/us/app/a-books/id103157...          Book   \n",
       "2        https://apps.apple.com/us/app/a-books/id145702...          Book   \n",
       "3        https://apps.apple.com/us/app/a-f-book-1/id500...          Book   \n",
       "4        https://apps.apple.com/us/app/a-z-synonyms-dic...     Reference   \n",
       "...                                                    ...           ...   \n",
       "1230371  https://apps.apple.com/us/app/s%D0%B5%D1%81uri...     Utilities   \n",
       "1230372  https://apps.apple.com/us/app/s%D0%B5%D1%81ur%...     Utilities   \n",
       "1230373  https://apps.apple.com/us/app/s%E1%BB%95-tay-x...     Utilities   \n",
       "1230374  https://apps.apple.com/us/app/s%E1%BB%95-tay-%...     Utilities   \n",
       "1230375  https://apps.apple.com/us/app/s%E1%BB%95-%C4%9...     Utilities   \n",
       "\n",
       "        Content_Rating  Size_Bytes Required_IOS_Version              Released  \\\n",
       "0                   4+  21993472.0                  8.0  2017-09-28T03:02:41Z   \n",
       "1                   4+  13135872.0                 10.0  2015-08-31T19:31:32Z   \n",
       "2                   4+  21943296.0                  9.0  2021-04-14T07:00:00Z   \n",
       "3                   4+  81851392.0                  8.0  2012-02-10T03:40:07Z   \n",
       "4                   4+  64692224.0                  9.0  2020-12-16T08:00:00Z   \n",
       "...                ...         ...                  ...                   ...   \n",
       "1230371             4+  16666624.0                 13.0  2020-07-07T07:00:00Z   \n",
       "1230372             4+  39016448.0                  9.0  2019-02-12T10:10:13Z   \n",
       "1230373             4+  17223680.0                  9.0  2018-10-17T04:22:41Z   \n",
       "1230374             4+  56716288.0                 10.0  2021-02-20T08:00:00Z   \n",
       "1230375             4+  85135360.0                  8.0  2018-06-05T07:45:41Z   \n",
       "\n",
       "                      Updated Version  ...  Currency   Free  DeveloperId  \\\n",
       "0        2018-12-21T21:30:36Z   1.1.2  ...       USD   True   1375410542   \n",
       "1        2019-07-23T20:31:09Z     1.3  ...       USD   True   1031572001   \n",
       "2        2021-05-30T21:08:54Z   1.3.1  ...       USD   True   1457024163   \n",
       "3        2019-10-29T12:40:37Z     1.2  ...       USD  False    439568839   \n",
       "4        2020-12-18T21:36:11Z   1.0.1  ...       USD   True    656731821   \n",
       "...                       ...     ...  ...       ...    ...          ...   \n",
       "1230371  2020-07-10T00:48:50Z   1.0.1  ...       USD   True   1522287989   \n",
       "1230372  2020-10-21T23:25:15Z     1.1  ...       USD   True   1492288123   \n",
       "1230373  2018-10-17T04:22:41Z     1.0  ...       USD   True   1438594214   \n",
       "1230374  2021-10-02T22:00:19Z   1.2.5  ...       USD   True   1515469508   \n",
       "1230375  2019-05-21T22:03:17Z     1.9  ...       USD   True   1350355912   \n",
       "\n",
       "                Developer                                      Developer_Url  \\\n",
       "0                HKBU ARC  https://apps.apple.com/us/developer/hkbu-arc/i...   \n",
       "1          Roman Dmitriev  https://apps.apple.com/us/developer/roman-dmit...   \n",
       "2                 Terp AS  https://apps.apple.com/us/developer/terp-as/id...   \n",
       "3           i-editeur.com  https://apps.apple.com/us/developer/i-editeur-...   \n",
       "4           Ngov chiheang  https://apps.apple.com/us/developer/ngov-chihe...   \n",
       "...                   ...                                                ...   \n",
       "1230371  LED-TECHNOLOGIES  https://apps.apple.com/us/developer/led-techno...   \n",
       "1230372    Trust VPN Ltd.  https://apps.apple.com/us/developer/trust-vpn-...   \n",
       "1230373          Luu Minh  https://apps.apple.com/us/developer/luu-minh/i...   \n",
       "1230374         Thái Bình  https://apps.apple.com/us/developer/th%C3%A1i-...   \n",
       "1230375     Pham Thanh Vo  https://apps.apple.com/us/developer/pham-thanh...   \n",
       "\n",
       "                 Developer_Website Average_User_Rating  Reviews  \\\n",
       "0                              NaN             0.00000        0   \n",
       "1                              NaN             5.00000        1   \n",
       "2                              NaN             0.00000        0   \n",
       "3                              NaN             0.00000        0   \n",
       "4          http://imonstersoft.com             0.00000        0   \n",
       "...                            ...                 ...      ...   \n",
       "1230371                        NaN             3.91608      143   \n",
       "1230372    https://securexvpn.com/             4.82733     1500   \n",
       "1230373  http://bee-labs.github.io             4.00000        1   \n",
       "1230374       https://aisoftech.vn             0.00000        0   \n",
       "1230375                        NaN             0.00000        0   \n",
       "\n",
       "         Current_Version_Score  Current_Version_Reviews  \n",
       "0                      0.00000                        0  \n",
       "1                      5.00000                        1  \n",
       "2                      0.00000                        0  \n",
       "3                      0.00000                        0  \n",
       "4                      0.00000                        0  \n",
       "...                        ...                      ...  \n",
       "1230371                3.91608                      143  \n",
       "1230372                4.82733                     1500  \n",
       "1230373                4.00000                        1  \n",
       "1230374                0.00000                        0  \n",
       "1230375                0.00000                        0  \n",
       "\n",
       "[1230376 rows x 21 columns]"
      ]
     },
     "execution_count": 54,
     "metadata": {},
     "output_type": "execute_result"
    }
   ],
   "source": [
    "df"
   ]
  },
  {
   "cell_type": "code",
   "execution_count": 55,
   "metadata": {},
   "outputs": [
    {
     "data": {
      "text/html": [
       "<div>\n",
       "<style scoped>\n",
       "    .dataframe tbody tr th:only-of-type {\n",
       "        vertical-align: middle;\n",
       "    }\n",
       "\n",
       "    .dataframe tbody tr th {\n",
       "        vertical-align: top;\n",
       "    }\n",
       "\n",
       "    .dataframe thead th {\n",
       "        text-align: right;\n",
       "    }\n",
       "</style>\n",
       "<table border=\"1\" class=\"dataframe\">\n",
       "  <thead>\n",
       "    <tr style=\"text-align: right;\">\n",
       "      <th></th>\n",
       "      <th>App_Id</th>\n",
       "      <th>App_Name</th>\n",
       "      <th>AppStore_Url</th>\n",
       "      <th>Primary_Genre</th>\n",
       "      <th>Content_Rating</th>\n",
       "      <th>Size_Bytes</th>\n",
       "      <th>Required_IOS_Version</th>\n",
       "      <th>Released</th>\n",
       "      <th>Updated</th>\n",
       "      <th>Version</th>\n",
       "      <th>...</th>\n",
       "      <th>Currency</th>\n",
       "      <th>Free</th>\n",
       "      <th>DeveloperId</th>\n",
       "      <th>Developer</th>\n",
       "      <th>Developer_Url</th>\n",
       "      <th>Developer_Website</th>\n",
       "      <th>Average_User_Rating</th>\n",
       "      <th>Reviews</th>\n",
       "      <th>Current_Version_Score</th>\n",
       "      <th>Current_Version_Reviews</th>\n",
       "    </tr>\n",
       "  </thead>\n",
       "  <tbody>\n",
       "    <tr>\n",
       "      <th>723488</th>\n",
       "      <td>com.myways.mobile</td>\n",
       "      <td>CircleOf | Family Caregivers</td>\n",
       "      <td>https://apps.apple.com/us/app/circleof-family-...</td>\n",
       "      <td>Health &amp; Fitness</td>\n",
       "      <td>4+</td>\n",
       "      <td>74651648.0</td>\n",
       "      <td>12.0</td>\n",
       "      <td>2018-05-08T22:44:53Z</td>\n",
       "      <td>2021-10-06T18:04:45Z</td>\n",
       "      <td>2.2.2</td>\n",
       "      <td>...</td>\n",
       "      <td>USD</td>\n",
       "      <td>True</td>\n",
       "      <td>1298712206</td>\n",
       "      <td>CircleOf, Inc.</td>\n",
       "      <td>https://apps.apple.com/us/developer/circleof-i...</td>\n",
       "      <td>https://circleof.com/</td>\n",
       "      <td>4.5</td>\n",
       "      <td>20</td>\n",
       "      <td>4.5</td>\n",
       "      <td>20</td>\n",
       "    </tr>\n",
       "    <tr>\n",
       "      <th>233280</th>\n",
       "      <td>com.DLRLLC</td>\n",
       "      <td>Donations</td>\n",
       "      <td>https://apps.apple.com/us/app/donations/id1224...</td>\n",
       "      <td>Education</td>\n",
       "      <td>17+</td>\n",
       "      <td>81106944.0</td>\n",
       "      <td>9.0</td>\n",
       "      <td>2017-07-18T00:46:00Z</td>\n",
       "      <td>2017-09-23T19:18:12Z</td>\n",
       "      <td>3.1.2</td>\n",
       "      <td>...</td>\n",
       "      <td>USD</td>\n",
       "      <td>True</td>\n",
       "      <td>1215504292</td>\n",
       "      <td>Darryl Reed</td>\n",
       "      <td>https://apps.apple.com/us/developer/darryl-ree...</td>\n",
       "      <td>NaN</td>\n",
       "      <td>5.0</td>\n",
       "      <td>1</td>\n",
       "      <td>5.0</td>\n",
       "      <td>1</td>\n",
       "    </tr>\n",
       "    <tr>\n",
       "      <th>563185</th>\n",
       "      <td>br.com.organicodochico</td>\n",
       "      <td>Orgânico do Chico</td>\n",
       "      <td>https://apps.apple.com/us/app/org%C3%A2nico-do...</td>\n",
       "      <td>Shopping</td>\n",
       "      <td>17+</td>\n",
       "      <td>75787264.0</td>\n",
       "      <td>10.0</td>\n",
       "      <td>2021-03-06T08:00:00Z</td>\n",
       "      <td>2021-10-10T10:44:24Z</td>\n",
       "      <td>4.4.3</td>\n",
       "      <td>...</td>\n",
       "      <td>USD</td>\n",
       "      <td>True</td>\n",
       "      <td>1031047995</td>\n",
       "      <td>Instabuy Servicos de Tecnologia Ltda</td>\n",
       "      <td>https://apps.apple.com/us/developer/instabuy-s...</td>\n",
       "      <td>NaN</td>\n",
       "      <td>0.0</td>\n",
       "      <td>0</td>\n",
       "      <td>0.0</td>\n",
       "      <td>0</td>\n",
       "    </tr>\n",
       "    <tr>\n",
       "      <th>69580</th>\n",
       "      <td>com.paxtechnology.app</td>\n",
       "      <td>PAX Technology</td>\n",
       "      <td>https://apps.apple.com/us/app/pax-technology/i...</td>\n",
       "      <td>Business</td>\n",
       "      <td>4+</td>\n",
       "      <td>21038080.0</td>\n",
       "      <td>9.3</td>\n",
       "      <td>2019-03-14T21:25:18Z</td>\n",
       "      <td>2019-03-20T22:24:04Z</td>\n",
       "      <td>1.0.1</td>\n",
       "      <td>...</td>\n",
       "      <td>USD</td>\n",
       "      <td>True</td>\n",
       "      <td>1448016727</td>\n",
       "      <td>PAX Technology Europe Limited</td>\n",
       "      <td>https://apps.apple.com/us/developer/pax-techno...</td>\n",
       "      <td>http://www.paxtechnology.com</td>\n",
       "      <td>5.0</td>\n",
       "      <td>1</td>\n",
       "      <td>5.0</td>\n",
       "      <td>1</td>\n",
       "    </tr>\n",
       "    <tr>\n",
       "      <th>1131839</th>\n",
       "      <td>fr.netanswer.isae</td>\n",
       "      <td>ISAE SUPAERO ENSICA Alumni</td>\n",
       "      <td>https://apps.apple.com/us/app/isae-supaero-ens...</td>\n",
       "      <td>Social Networking</td>\n",
       "      <td>4+</td>\n",
       "      <td>21496832.0</td>\n",
       "      <td>11.0</td>\n",
       "      <td>2021-01-03T08:00:00Z</td>\n",
       "      <td>2021-01-03T17:59:26Z</td>\n",
       "      <td>4.9.3</td>\n",
       "      <td>...</td>\n",
       "      <td>USD</td>\n",
       "      <td>True</td>\n",
       "      <td>1526791289</td>\n",
       "      <td>ISAE SUPAERO ENSICA Alumni</td>\n",
       "      <td>https://apps.apple.com/us/developer/isae-supae...</td>\n",
       "      <td>https://www.isae-alumni.net/</td>\n",
       "      <td>0.0</td>\n",
       "      <td>0</td>\n",
       "      <td>0.0</td>\n",
       "      <td>0</td>\n",
       "    </tr>\n",
       "  </tbody>\n",
       "</table>\n",
       "<p>5 rows × 21 columns</p>\n",
       "</div>"
      ],
      "text/plain": [
       "                         App_Id                      App_Name  \\\n",
       "723488        com.myways.mobile  CircleOf | Family Caregivers   \n",
       "233280               com.DLRLLC                     Donations   \n",
       "563185   br.com.organicodochico             Orgânico do Chico   \n",
       "69580     com.paxtechnology.app                PAX Technology   \n",
       "1131839       fr.netanswer.isae    ISAE SUPAERO ENSICA Alumni   \n",
       "\n",
       "                                              AppStore_Url      Primary_Genre  \\\n",
       "723488   https://apps.apple.com/us/app/circleof-family-...   Health & Fitness   \n",
       "233280   https://apps.apple.com/us/app/donations/id1224...          Education   \n",
       "563185   https://apps.apple.com/us/app/org%C3%A2nico-do...           Shopping   \n",
       "69580    https://apps.apple.com/us/app/pax-technology/i...           Business   \n",
       "1131839  https://apps.apple.com/us/app/isae-supaero-ens...  Social Networking   \n",
       "\n",
       "        Content_Rating  Size_Bytes Required_IOS_Version              Released  \\\n",
       "723488              4+  74651648.0                 12.0  2018-05-08T22:44:53Z   \n",
       "233280             17+  81106944.0                  9.0  2017-07-18T00:46:00Z   \n",
       "563185             17+  75787264.0                 10.0  2021-03-06T08:00:00Z   \n",
       "69580               4+  21038080.0                  9.3  2019-03-14T21:25:18Z   \n",
       "1131839             4+  21496832.0                 11.0  2021-01-03T08:00:00Z   \n",
       "\n",
       "                      Updated Version  ...  Currency  Free  DeveloperId  \\\n",
       "723488   2021-10-06T18:04:45Z   2.2.2  ...       USD  True   1298712206   \n",
       "233280   2017-09-23T19:18:12Z   3.1.2  ...       USD  True   1215504292   \n",
       "563185   2021-10-10T10:44:24Z   4.4.3  ...       USD  True   1031047995   \n",
       "69580    2019-03-20T22:24:04Z   1.0.1  ...       USD  True   1448016727   \n",
       "1131839  2021-01-03T17:59:26Z   4.9.3  ...       USD  True   1526791289   \n",
       "\n",
       "                                    Developer  \\\n",
       "723488                         CircleOf, Inc.   \n",
       "233280                            Darryl Reed   \n",
       "563185   Instabuy Servicos de Tecnologia Ltda   \n",
       "69580           PAX Technology Europe Limited   \n",
       "1131839            ISAE SUPAERO ENSICA Alumni   \n",
       "\n",
       "                                             Developer_Url  \\\n",
       "723488   https://apps.apple.com/us/developer/circleof-i...   \n",
       "233280   https://apps.apple.com/us/developer/darryl-ree...   \n",
       "563185   https://apps.apple.com/us/developer/instabuy-s...   \n",
       "69580    https://apps.apple.com/us/developer/pax-techno...   \n",
       "1131839  https://apps.apple.com/us/developer/isae-supae...   \n",
       "\n",
       "                    Developer_Website Average_User_Rating  Reviews  \\\n",
       "723488          https://circleof.com/                 4.5       20   \n",
       "233280                            NaN                 5.0        1   \n",
       "563185                            NaN                 0.0        0   \n",
       "69580    http://www.paxtechnology.com                 5.0        1   \n",
       "1131839  https://www.isae-alumni.net/                 0.0        0   \n",
       "\n",
       "         Current_Version_Score  Current_Version_Reviews  \n",
       "723488                     4.5                       20  \n",
       "233280                     5.0                        1  \n",
       "563185                     0.0                        0  \n",
       "69580                      5.0                        1  \n",
       "1131839                    0.0                        0  \n",
       "\n",
       "[5 rows x 21 columns]"
      ]
     },
     "execution_count": 55,
     "metadata": {},
     "output_type": "execute_result"
    }
   ],
   "source": [
    "df.sample(5)"
   ]
  },
  {
   "cell_type": "code",
   "execution_count": 57,
   "metadata": {},
   "outputs": [
    {
     "name": "stdout",
     "output_type": "stream",
     "text": [
      "Collecting PyPDF2Note: you may need to restart the kernel to use updated packages.\n",
      "\n",
      "  Using cached pypdf2-3.0.1-py3-none-any.whl (232 kB)\n",
      "Installing collected packages: PyPDF2\n",
      "Successfully installed PyPDF2-3.0.1\n"
     ]
    }
   ],
   "source": [
    "%pip install PyPDF2"
   ]
  },
  {
   "cell_type": "code",
   "execution_count": 58,
   "metadata": {},
   "outputs": [],
   "source": [
    "# Read PDF\n",
    "\n",
    "from typing import List\n",
    "import PyPDF2"
   ]
  },
  {
   "cell_type": "code",
   "execution_count": 59,
   "metadata": {},
   "outputs": [
    {
     "data": {
      "text/plain": [
       "['PAKISTAN EXPORT STRATEGY SOFTWARE DEVELOPMENTGOVERNMENT OF PAKISTAN\\n2023-2027\\nPakistan\\nExport Strategy\\nSoftware \\nDevelopment\\n2023-2027',\n",
       " 'This Software development sector strategy is part of the National Priority Sectors Export \\nStrategy (NPSES) initiative which contributes to the implementation of Pakistan’s Strategic \\nTrade Policy Framework (STPF) 2020-2025. \\nITC is the joint agency of the World Trade Organization and the United Nations. As part of the \\nITC mandate of fostering sustainable development through increased trade opportunities, the \\nTrade Development Strategies Programme offers a suite of trade-related strategy solutions to \\nmaximize the development payoffs from trade. ITC-facilitated trade development strategies \\nand roadmaps are oriented to the trade objectives of a country or region and can be tailored \\nto high-level economic goals, specific development targets or particular sectors. This docu -\\nment was developed on the basis of the process, methodology and technical assistance of \\nthe International Trade Centre (ITC) within the framework of its Trade Development Strategy \\nprogramme. \\nThis document has been developed as part of the Revenue Mobilisation, Investment and Trade \\nproject (ReMIT) funded by the Government of the United Kingdom and implemented by ITC. \\nThe views expressed herein do not reflect the official opinion of ITC. Mention of firms, products \\nand product brands does not imply the endorsement of ITC.\\nThis document has been produced with the financial support of the Foreign, Commonwealth & \\nDevelopment Office. The contents of this document can in no way be taken to reflect the views \\nof the Government of the United Kingdom.\\nThe International Trade Centre\\nStreet address: ITC, 54–56, Rue de Montbrillant, 1202 Geneva, Switzerland\\nPostal address: ITC, Palais des Nations, 1211 Geneva, Switzerland\\nTelephone: (41-22) 730 01 11\\nE-mail: itcreg@intracen.org\\nInternet: http://www.intracen.org\\nLayout: Jesús Alés / www.sputnix.es',\n",
       " '2023-2027Software DevelopmentPakistan\\nExport Strategy',\n",
       " 'ii\\nPakistan Export Strategy 2023-2027 • SOFTWARE DEVELOPMENT\\nForewords\\nMessage from the Ministry of Commerce\\nIncreasing international trade is not only a means \\nof boosting economic growth and the nation’s \\nwelfare, but also contributing to strengthening in -\\nternational relations. The stabilization of economic \\nand political affairs paves the way for reinforcing \\nfriendly relations based on mutual interests with a \\nwide range of trade partners. Trade is thus one of \\nthe most important forms of exchange between \\ncountries and fostering this will lead to connections \\nsuch as foreign investments, better employment \\nopportunities, and scientific and technical ex -\\nchanges, all of which will contribute to Pakistan’s \\ngrowth and prosperity.\\nThe Government of Pakistan has taken a series \\nof initiatives to promote exports to achieve sus -\\ntainable and inclusive economic growth, poverty \\nreduction and improvement in the living standard \\nof the Pakistani people. This is also aligned with \\nthe government’s vision of the Strategic Trade \\nPolicy Framework (  STPF  ) 2020–25 for ‘Pakistan \\nto become a dynamic and efficient domestic \\nmarket as well as a globally competitive export-\\ndriven economy’. In this context, the Ministry of \\nCommerce supported the preparation of the \\nSoftware Development Export Strategy, a priority \\nexport sector under the STPF, which will bring vis -\\nible benefits to the economy of the country and \\ngenerate tremendous employment opportunities. \\nThis sector export strategy has been formulated \\nwith close consultation of all the stakeholders; \\nand the Ministry of Commerce appreciates all \\nthose involved in the process, particularly the  \\nprivate sector.\\nAs a priority export product within the frame -\\nwork of the STPF 2020–25, the software sector \\npresents a new export avenue and an opportunity \\nfor Pakistan. The strategy encompasses coun -\\ntry’s existing strengths, constraints, and foresee -\\nable potentials in this sector. All activities in the \\nframework of designing Strategies has outlined \\na detailed 5-year Plan of Action to tackle issues \\nand facilitate export procedures, and as identified by all the stakeholders of the Software sector in \\nPakistan.\\nDespite challenges in the international trade \\nscenario and the global business environment, \\nI am confident that this initiative will serve as an \\naction-oriented blueprint to enhance trade per -\\nformance and develop a coordinated mechanism \\nwith participation from both the public and private \\nsector, increasing its competitiveness in the inter -\\nnational market.\\nTo maintain the momentum sparked by the con -\\nsultations, the Ministry of Commerce is committed \\nto play constructive and facilitative role, while mak -\\ning it our top-priority to execute the activities and \\nreforms proposed in the Plan of Action in consul -\\ntations with the stakeholders. We are particularly \\ncommitted to continue keeping the private sector \\nin the driving seat for the implementation process \\nthrough the Sector Specific Council on Information \\nTechnology. The Government of Pakistan is fully \\ncommitted to promoting export-led economic \\ngrowth and would encourage all to join hands and \\nwork together in making the vision of a flourishing \\nSoftware sector a reality.',\n",
       " 'iii\\nMessage from Pakistan Software  \\nHouses Association ( P@SHA )\\nAs the representatives of Pakistan’s information \\ntechnology ( IT ) and IT-enabled services ( ITeS ) \\nsector, we were pleased to see that the Strategic \\nTrade Policy Framework Review ( STPF ) 2020-25 \\nhas identified the IT software exports sector as a \\npriority focus export sector for growth and devel -\\nopment for the next five years. This builds on the \\nimpressive gains made by our industry in a short \\nperiod of time, amid unprecedented domestic and \\nglobal challenges.\\nEspecially as the COVID-19 crisis gripped the \\nglobal economy, the demand for the services \\nprovided by our member firms have been rapidly \\ngrowing and Pakistan’s reputation for delivery of \\nglobal services is increasing. As a strong industry \\nvoice that has lobbied with the government to initi -\\nate policies and create an environment that would \\nattract more firms to join the industry, we remain \\ncommitted to supporting this strategy’s implemen -\\ntation, towards improving sectoral competitiveness \\nand global expansion.\\nHaving grown from a nascent industry to a \\nprominent service export sector in a short time-\\nframe, there are now several key issues that re -\\nquire addressing in order to reach the next growth \\nwave. These include improving the sector’s global \\npositioning, tackling certain regulatory and policy \\nbottlenecks, improving investor attractiveness, ag -\\ngressively promoting in key growth markets, en -\\nhancing the skilled talent pool and strengthening \\nfirms’ internal delivery capabilities, to name a few.\\nThe industry has been increasing its presence in \\nregional and international markets. Through imple -\\nmentation of key actions envisaged in this strategy, \\nwe expect to strengthen global market penetration, \\nin existing and new segments. Notably, the strate -\\ngy also puts forward activities to improve firm-level \\ncapabilities in the sector, so that software services exporters can be more competitive, more innova -\\ntive, more productive and more competent.\\nUnsurprisingly, our surveys have shown that IT \\nsector jobs tend to be higher paid than other ex -\\nport jobs. As such, we believe that, by delivering \\non this strategy’s goals, the industry can play a \\ncatalytic role in Pakistan’s economic transforma -\\ntion through the creation of good jobs. Even while \\nthis is a vision, the shortage of skilled workers is \\na key risk to current and future growth. As such, it \\nis essential to accelerate efforts to improve both \\ntechnical/hard skills and soft skills. We recog -\\nnize the strategy’s focus on addressing this, and \\ncommit to working with public and private stake -\\nholders to implement feasible and time-bound \\nprogrammes.\\nMeanwhile, our industry is a pioneer in recog -\\nnizing the importance of diversity and inclusion. \\nHaving published a framework report in 2021, we \\nlook forward to accelerating efforts to improve our \\nfirms’ commitment to this agenda, as it will not only \\nserve domestic stakeholders well, but will also be \\na key differentiator in international markets.\\nThis strategy provides an excellent roadmap for \\nthe sector’s future growth, with a focus on qual -\\nity, competitiveness, innovation and export market \\nexpansion. We welcome recent government initia -\\ntives to improve the framework conditions for our \\nsector’s growth. Coupled with the measures in this \\nstrategy and the private sector’s tenacity, we are \\nconfident of a bright future for the sector.\\nAs digitalization takes hold across nearly every \\nsector globally, Pakistan’s software industry stands \\nready to be a dominant player in the region and \\ndeliver impressive growth performance through \\nexports, capitalizing on emerging trends while \\ncontinuing to strengthen current competencies.\\n \\nBadar Khushnood,  \\nChairman, P@SHA\\n',\n",
       " 'iv\\nPakistan Export Strategy 2023-2027 • SOFTWARE DEVELOPMENT\\nAcknowledgments\\n1.– The full list of public–private stakeholders that participated in the consultations and their names is available in Annex I.The Software Development Export Strategy forms an integral part of Pakistan’s \\nStrategic Trade Policy Framework ( STPF ). It was developed under the aegis of \\nthe Government of Pakistan and the leadership of the Ministry of Commerce \\n( MoC ) and the Trade Development Authority of Pakistan ( TDAP ), in close col -\\nlaboration with MoITT and the Pakistan Software Houses Association ( P@SHA ).\\nThe document benefited particularly from the inputs and guidance provided \\nby the sector stakeholders that steered the strategy’s formulation, namely the \\nfollowing key sector institutions1\\nInstitutions\\nAABBLL\\nAsian Development Bank\\nBrandverse Pvt Ltd\\nContour Software\\nDPL ( Pvt ) Ltd\\nEpiphany\\nLuminogics ( SMC-PVT ) Ltd\\nNexDegree Private Limited\\nOraan Tech ( Pvt ) Ltd\\nPakistan Software Export Board ( PSEB )\\nSecurities & Exchange Commission of Pakistan ( SECP )\\nSindh Revenue Board\\nSystems Limited\\nTPS Worldwide\\nUniversity of Engineering and Technology ( UET ), Lahore\\nTechnical support and guidance from ITC was rendered by the following people  :\\nName Designation\\nTauqir Shah Revenue Mobilization, Investment and Trade project ( ReMIT ) project coordinator\\nShoaib Zafar Project advisor\\nUsama Iftikhar National sector consultant\\nCharles Roberge Senior Officer Export Strategy\\nAlexandra Golovko Advisor, Export Strategy and Competitiveness\\nAnushka Wijesinha Manufacturing and digitisation strategy specialist\\nAishwarya Nahata International consultant\\nShiraj Lye International expert, software development',\n",
       " 'v\\nNote for the reader\\nIn order to boost export growth, the Ministry of Commerce ( MoC ) has developed \\nthe Strategic Trade Policy Framework ( STPF ) 2020-25, which was approved in \\nNovember 2021. ITC provided technical support to MoC and the Trade Develop -\\nment Authority of Pakistan ( TDAP ) to design selected sector export strategies \\nof the STPF priority sectors. This initiative, called the National Priority Sectors \\nExport Strategy (  NPSES  ), focused on 10 of the 18 STPF priority sectors through \\na consultative process.\\nThe Software Development Export Strategy was developed based on a partici -\\npatory approach, during which more than 30 Pakistani industry leaders, small \\nbusiness owners and public sector representatives held consultations to reach \\nconsensus on key sector competitiveness issues and priority activities. These \\ninclusive consultations were held in a hybrid model owing to the travel restrictions \\nimposed due to the COVID-19 pandemic.\\nBesides in-depth qualitative and quantitative research and service map analysis, \\nthese consultations were complemented by visits and interviews by the national \\nconsultants with domestic firms to guide the strategy with insights and market \\nintelligence.\\nThe Software Development Export Strategy builds on the ongoing initiatives \\nin areas of private sector development, regional integration, investment and \\neconomic empowerment of youth. Equally importantly, the sector strategy is \\ncomplemented by an effort to establish the proper implementation responsi -\\nbilities among key stakeholders early on to ensure timely implementation of \\nactivities, whether by the public sector, private sector or international develop -\\nment agencies. This strategy’s principal output is an endorsed, coherent and \\ncomprehensive document with a five-year detailed plan of action ( PoA ) and an \\nimplementation management framework.\\nThis document was approved as the official export strategy for the Software \\nSector 2023-2027 by the Software Sector Specific Council and endorsed by the \\nMinistry of Commerce of Pakistan.',\n",
       " 'vi\\nPakistan Export Strategy 2023-2027 • SOFTWARE DEVELOPMENT\\nContents\\nEXECUTIVE SUMMARY   1\\nA RAPIDLY EVOLVING GLOBAL INDUSTRY DRIVEN BY HEIGHTENED COMPETITION  3\\nIT AND SOFTWARE LEADING GLOBAL SERVICES EXPORTS   . . . . . . . . . . . . . . . . . . . . .  4\\nACCELERATED DIGITALIZATION IS DRIVING DEMAND FOR IT SERVICES   . . . . . . . . . . .  8\\nNEW MARKET TRENDS, EMERGING TECHNOLOGIES AND COVID-19 SHIFTS   . . . . . . . .  11\\nPAKISTANI SOFTWARE SECTOR EQUIPPED TO TAP INTO DYNAMIC GLOBAL TRENDS  15\\nPAKISTANI SOFTWARE SECTOR LEVERAGING ITS COMPARATIVE ADVANTAGES   . . . . .  15\\nPOSITIVE EXPORT OUTLOOK CONFIRMS SECTOR POTENTIAL   . . . . . . . . . . . . . . . . . . .  18\\nFAVOURABLE INVESTMENT ENVIRONMENT BEING ESTABLISHED   . . . . . . . . . . . . . . . .  19\\nSERVICE MAP AND COMPETITIVENESS DIAGNOSTIC  21\\nSERVICE MAP OVERVIEW   . . . . . . . . . . . . . . . . . . . . . . . . . . . . . . . . . . . . . . . . . . . . . . .  21\\nCOMPETITIVENESS CONSTRAINTS   . . . . . . . . . . . . . . . . . . . . . . . . . . . . . . . . . . . . . . .  24\\nDEEPER DISCUSSION OF SELECTED KEY ISSUES   . . . . . . . . . . . . . . . . . . . . . . . . . . . . .  25\\nTHE WAY FORWARD  29\\nKEY ORIENTATIONS TO DRIVE TRANSFORMATION IN THE SECTOR   . . . . . . . . . . . . . . .  31\\nTHE STRATEGIC FRAMEWORK   . . . . . . . . . . . . . . . . . . . . . . . . . . . . . . . . . . . . . . . . . . .  39\\nIMPLEMENTATION FRAMEWORK   41\\nPLAN OF ACTION ( 2023-2027 )  45',\n",
       " 'vii\\nANNEXES  53\\nANNEX I: LIST OF PARTICIPANTS IN THE PUBLIC-PRIVATE CONSULTATIONS  54\\nANNEX II: COUNTRY EXAMPLES  55\\nANNEX III: DETAILED PLAN OF ACTION DESCRIPTION  63\\nREFERENCES   68',\n",
       " 'viii\\nPakistan Export Strategy 2023-2027 • SOFTWARE DEVELOPMENT\\nFigures\\nFigure 1 :  Information technology outsourcing ( ITO ) and ITeS / BPO services classification  3\\nFigure 2 :  Growth in global services exports ( 2019 ) 4\\nFigure 3 :  Share of global computer service exports ( 2005-20 ) ( per cent of total services exports ) 5\\nFigure 4 :  Computer and information service exports by exporter ( 2019 ) ( USD billion ) 5\\nFigure 5 :  Leading markets for ICT imports ( Top 10 + Association of Southeast Asian Nations ) 6\\nFigure 6 :  Global technology industry snapshot  7\\nFigure 7 :  Key categories of the technology industry  7\\nFigure 8 :  Global internet users by country income group ( 2000-17 ) 9\\nFigure 9 :  Forecast growth in the global IT / BPM market ( 2019-25 ) ( USD billion ) 9\\nFigure 10 :  Emerging Technologies and Trends Impact Radar  12\\nFigure 11 :  Emerging technologies align with three broad themes  12\\nFigure 12 :  What will fundamentally change due to COVID-19 ? 13\\nFigure 13 :  Pakistan ranks 31st in Global Services Location Index ( 2021 ) 16\\nFigure 14 :  Top 15 freelancing countries ( 2017 – left ; 2021 – right ) 17\\nFigure 15 :  IT and ITeS export remittances  18\\nFigure 16 :  IT products and services value pyramid  21\\nFigure 17 :  Ride Two Curves foresight exercise  30\\nFigure 18 :  MENA IT spending ( 2020-22 ) ( USD, million ) 31\\nFigure 19 :  ICT spending growth rate YoY  32\\nFigure 20 :  Top technology priorities globally dominated by cloud, advanced analytics  \\nand cybersecurity  35\\nFigure 21 :  Global cybersecurity market share, by industry ( 2020 ) 36\\nFigure 22 :  Key investments and focus areas in cybersecurity  36\\nFigure 23 :  Word cloud of key vision areas  39',\n",
       " 'ix\\nTables\\nTable 1 :  Competitor country service offerings  8\\nTable 2 :  Comparison between service offerings for enterprise software  11\\nTable 3 :  Women in the IT segment : Pakistan vs selected countries  17\\nTable 4 :  Top 5 export destinations  19\\nTable 5 :  Pakistani software services industry stakeholders : Role and capabilities  22\\nTable 6 :  Other key laws and regulations pertaining to the sector  23\\nTable 7 :  Longlist of competitiveness constraints  24\\nBoxes\\nBox 1 :  Key trends and outlook for the IT industry ( 2021 ) 10\\nBox 2 :  Pakistan’s push for special technology zones  20\\nBox 3 :  Data and database administration  34\\nBox 4 :  Cybersecurity spending booms in the pandemic era  36',\n",
       " 'x\\nPakistan Export Strategy 2023-2027 • SOFTWARE DEVELOPMENT\\nAcronyms and abbreviations\\nUnless otherwise specified, all references to dollars ( $ ) are to United States \\ndollars, and all references to tons are to metric tons.\\nAI Artificial intelligence\\nBPM Business process management\\nBPO Business process outsourcing\\nCAGR Compound annual growth rate\\nFDI Foreign direct investment\\nICT Information and communications \\ntechnology\\nIDC Industrial Development Corporation\\nIoT Internet of things\\nIP Intellectual property\\nIT Information technology\\nITC International Trade Centre\\nITeS IT-enabled servicesMENA Middle East and North Africa\\nMoC Ministry of Commerce\\nMoITT Ministry of Information Technology  \\nand Telecommunication\\nNASSCOM National Association of Software and \\nService Companies\\nP@SHA  Pakistan Software Houses Association\\nPoA Plan of action\\nPSEB  Pakistan Software Export Board\\nSMEs  Small and medium-sized enterprises\\nSTPF Strategic Trade Policy Framework\\nTDAP Trade Development Authority of Pakistan',\n",
       " '1\\nEXECUTIVE SUMMARY\\nThe present strategy outlines a proposed path for the development of the software services sector in \\nthe Islamic Republic of Pakistan. It is a five-year endeavour that was defined through a consultative \\nprocess between public and private sector stakeholders. The strategy addresses constraints in a \\ncomprehensive manner and defines concrete opportunities that can be realized through the specific \\nsteps detailed in its plan of action ( PoA ). The Software Development Export Strategy is an integral \\npart of Pakistan’s Strategic Trade Policy Framework ( STPF ).\\nPakistan’s information technology ( IT ) and IT-enabled \\nservices ( ITeS ) sector’s recent advancement points to \\na strong export potential in the medium term, lever -\\naging the available talent pool, financial attractiveness \\nand existing market entry to major importing locations. \\nIn particular, Pakistan’s software sector has many of \\nthe fundamentals in place to drive faster growth, and \\nthe rapid rise in export earnings already seen in recent \\nyears is a sign of future prospects. Building on from \\nthis would require tackling some key challenges to \\ngrowth and competitiveness.\\nThe acceleration of digitalization, further spurred by the \\ndramatic shifts brought on by COVID-19, indicate bright \\nprospects for the global IT services industry. This pro -\\nvides ample opportunity for Pakistan, with an already \\ndynamic sector, to leverage this growth and become a \\nleading software services player for regional and global \\nclients. As industry and government stakeholders ac -\\nknowledge, Pakistan’s IT services sector has many of \\nthe fundamentals in place to drive faster growth.\\nThe strategy process considered current capabilities, \\nconstraints, and future shifts and opportunities for \\nPakistan’s software sector, and industry stakeholders \\nextensively evaluated future orientations and upgrad -\\ning trajectories. During the strategy consultations and \\nbackground research, it was revealed that, even as the \\nsector faces new pressures, some compelling residual \\nassets for Pakistan would include the availability of \\naffordable talent, high interest among young people \\nin the industry ( including from non-IT backgrounds ), \\ncontinued venture capital interest and continued interest by joint venture partners. Meanwhile, some \\ncompelling strategic future shifts for Pakistan’s indus -\\ntry – latching on to current trends and innovations –  \\nwould include  :\\n• Technology and digital transformation consulting  ;\\n• Collaborating between larger firms and small and \\nmedium-sized enterprises ( SMEs ) to deliver larger \\nprojects  ;\\n• More women in IT ;\\n• Strengthening exports in new markets ( e.g. Africa ) ;\\n• Productivity-based remuneration  ;\\n• Remote infrastructure monitoring and support ser -\\nvices  ;\\n• More local firms listing on the stock market ;\\n• More mobile applications  ;\\n• Greater emphasis on software products, not just \\nservices  ;\\n• Digital banking and cashless society providing new \\nproduct opportunities.\\nBy solving some of the key competitiveness and \\ngrowth constraints, Pakistan’s IT sector and its soft -\\nware firms can position strongly for export growth. It \\nis necessary to set some strategic objectives for the \\nshort to medium term to drive sector transformation, \\nand prioritize some key actions. In particular, it will be \\nessential for Pakistan to :\\n• Build a strong pipeline of tertiary educated and ap -\\npropriately skilled workers while enhancing women’s \\nparticipation  ;\\n• Resolve taxation issues related to sector definition ;',\n",
       " \"2\\nPakistan Export Strategy 2023-2027 • SOFTWARE DEVELOPMENT\\n• Ensure international expansion and export growth \\nby enhancing the sector’s global standing as well as \\nfirms’ understanding of new market opportunities ;\\n• Transform into more product and IP-led growth, \\ndriven by innovation and latching on to emerging \\ntechnologies and industry verticals.VISION AND STRATEGIC OBJECTIVES\\nTo achieve the development of the software services \\nsector in Pakistan, the present strategy provides a \\nroadmap and a plan of action (  PoA ) geared at achiev -\\ning the following overall vision :\\n“To be the leading export sector in the country, and make \\nPakistan a preferred destination for global IT products  \\nand services and the preferred profession for youth.”This vision statement, which was agreed on by all \\nthe software services stakeholders in Pakistan, de -\\nlineates this strategy’s proposed vision and strategic \\nobjectives. The strategy’s PoA responds to this vision by addressing the sector’s constraints and lever -\\naging opportunities comprehensively. To this end, \\nspecific efforts will be made in the following strategic \\ndirections.\\n•\\nDevelop\\na\\ncompelling\\nbrand\\nfor\\nPakistan\\nIT\\nto\\nstrengthen\\ninternational\\npositioning,\\nand\\nto\\naccelerate\\nexport\\nfirms'\\nmarket\\ndiversification\\nand\\ncommercial\\nsuccess\\nabroad\\n.\\nStrategic Objective 1: Strengthen Pakistan’s \\nsoftware sector’s global market positioning and \\ninternational competitiveness\\n•\\nExpand\\nthe\\ntalent\\npipeline\\nwith\\nan\\neye\\non\\ninclusiveness,\\nwhile\\nalso\\nimproving\\nfirm\\n-\\nlevel\\nmanagerial\\nand\\ntechnical\\ncompetencies\\nto\\ndrive\\ncompetitiveness\\nand\\nquality\\n.\\nStrategic Objective 2: Improve talent availability \\nfor growth and competitiveness\\n•\\nImprove\\ntax\\nframeworks\\nand\\nstreamline\\ncompliance\\ncomplexities,\\nand\\nimprove\\naccess\\nto\\ncapital\\nfor\\nsoftware\\nfirms\\n.\\nStrategic Objective 3: Improve business climate \\nfor software firms to compete and grow\\n•\\nEncourage\\nnew\\ninvestment\\nin\\nthe\\nsector\\n(including\\nfostering\\nstart\\n-\\nups)\\nand\\nimprove\\nthe\\nenabling\\nframework\\nto\\ndrive\\nproduct\\n-\\nled\\ninnovation\\n.\\nStrategic Objective 4: Strengthen innovation \\nand upgrading in the software sector\\nIMPLEMENTATION MANAGEMENT\\nThis strategy has developed a pragmatic and for -\\nward-looking roadmap for upgrading and international -\\nization. To achieve the strategy’s targets, stakeholders \\nwill need to coordinate actions, monitor progress and \\nmobilize resources for its implementation. Providing \\nbusiness development support to firms, enhancing \\ninnovation and creating an enabling business environ -\\nment are crucial for successful implementation.\\nAccordingly, a public–private sector specific council \\nfor the software industry is established, operational -\\nized and empowered. The software sector specific \\ncouncil should be responsible for overall coordination, provision of rapid solutions to regulatory and procedur -\\nal bottlenecks, policy guidance and the monitoring of \\nindustry development against the strategy’s strategic \\nobjectives.\\nThe following key areas of intervention are priorities to \\nfacilitate the strategy’s implementation  :\\n• Improve and increase the pipeline or talent ;\\n• Resolve, on an ongoing basis, tax and other regula -\\ntory issues ;\\n• Strengthen international exposure, branding and ex -\\nport market entry ;\\n• Foster a conducive climate for product develop -\\nment, innovation and start-up entrepreneurship.\",\n",
       " '3\\n A RAPIDLY  EVOLVING  GLOBAL  INDUSTRY  DRIVEN  BY HEIGHTENED  COMPETITION  \\nA RAPIDLY EVOLVING GLOBAL \\nINDUSTRY DRIVEN BY \\nHEIGHTENED COMPETITION\\nThe offshore IT services sector can be categorized as \\nfollows  :\\n• Information technology outsourcing (  ITO ) : That is \\ncentred on the production and use of software.\\n• Business process outsourcing ( BPO ) :  Activities \\nrelated to the management of business functions, \\nincluding finance and accounting, procurement, \\nsupply chain management and human resources \\nmanagement.\\n• Knowledge process outsourcing ( KPO ) :  Specialized \\nactivities that often require professional licensing, such as in the legal, financial, business intelligence \\nand data analytics fields.\\nFor this sector strategy, we focus on the software ser -\\nvices ( and in an accompanying, but separate, strategy \\n– BPO and KPO ) segment within offshore services. \\nSoftware services in Pakistan can be broadly catego -\\nrized as outsourced services and product develop -\\nment. Outsourced services is the largest sub-segment \\nof the industry in terms of exports. Figure 1  displays \\nhow the Pakistani Federal Board of Revenue ( FBR ) \\nclassifies these services.\\nFigure 1 :  Information technology outsourcing ( ITO ) and ITeS / BPO services classification\\n• Inbound and outbound call centres\\n• Medical transcription\\n• Remote monitoring\\n• Graphic design\\n• Accounting services\\n• HR services\\n• Telemedicine centres\\n• Data entry operations\\n• Locally produced TV programmes\\n• Insurance claims processing• Software development\\n• Software maintenance\\n• System integration\\n• Web design\\n• Web development\\n• Web hosting\\n• Network designIT services (information \\ntechnology outsourcing)IT-enabled services (BPO)IT sector\\nSource : Federal Board of Revenue, Pakistan.',\n",
       " '4\\nPakistan Export Strategy 2023-2027 • SOFTWARE DEVELOPMENT\\nIT and software leading \\nglobal services exports\\nIn the last decade, the global IT sector has experienced \\nsignificant growth and made large strides in innova -\\ntion. The ‘digital revolution’ has enabled new business \\nmodels, the creation of new consumer-focused prod -\\nucts and services, and introduced new possibilities for \\nbusiness efficiency. Telecommunications, computer \\nand information services have experienced increasing \\nexport value and are now the largest and fastest-grow -\\ning services exports globally (  Figure 2  ). While financial \\nservices also show up as a prominent services sector, \\nit must be acknowledged that, increasingly, the finan -\\ncial services industry is powered by information and \\ncommunications technology (  ICT ) services and the \\ngrowing fintech industry.  Exports of computer services \\nhave accounted for a small, but growing share of total \\nservices exports. Despite a drop from 3.5 % in 2007 \\nto 2.8  % in 2008, the share of exports from computer \\nservices has seen an increasing trend from the 3.1 % \\nlevel of 2005 to 9.5 % in 2020 (  Figure 3  ).\\nFigure 2 :  Growth in global services exports ( 2019 )\\nSources : ITC, United Nations Conference on Trade and Development ( UNCTAD ) and World Trade Organization ( WTO )  \\ntrade in services database based on International Monetary Fund ( IMF ) statistics.\\n©shutterstock',\n",
       " '5\\n A RAPIDLY  EVOLVING  GLOBAL  INDUSTRY  DRIVEN  BY HEIGHTENED  COMPETITION  \\nFigure 3 :  Share of global computer service exports ( 2005-20 ) ( per cent of total services exports )\\n0%1%2%3%4%5%6%7%8%9%10%\\n2005 2006 2007 2008 2009 2010 2011 2012 2013 2014 2015 2016 2017 2018 2019 2020\\nSources : ITC, United Nations Conference on Trade and Development ( UNCTAD ) and World Trade Organization ( WTO )  \\ntrade in services database based on Eurostat, International Monetary Fund ( IMF ), Organisation for Economic Co-operation  \\nand Development ( OECD ) and relevant national statistical authorities.\\nThese exports are led by Ireland, the Republic of In -\\ndia, the People’s Republic of China, the United States \\nof America and the Federal Republic of Germany, \\nwhich together accounted for $305.2 billion in exports \\n( 57.3 % of the world total ) ( Figure 4  ). While still one of the leaders in this sector, India’s share of the global \\nexport market has been declining, from a recent high of \\n30.7 % in 2008 to 11.6 % in 2019, due to growth in China \\nover time and a recent recovery in growth in Ireland, \\nGermany and the United States.\\nFigure 4 :  Computer and information service exports by exporter ( 2019 ) ( USD billion )\\n129,3\\n61,8\\n51,4\\n36,326,3\\n17,616,114,813,913,2151,7Ireland\\nIndia\\nChina\\nUSA\\nGermany\\nIsrael\\nNetherlands\\nUK\\nFrance\\nSingapore\\nOthers\\nSources : ITC, United Nations Conference on Trade and Development ( UNCTAD ) and World Trade Organization ( WTO )  \\ntrade in services database based on Eurostat, International Monetary Fund ( IMF ), Organisation for Economic Co-operation  \\nand Development ( OECD ) and relevant national statistical authorities.',\n",
       " '6\\nPakistan Export Strategy 2023-2027 • SOFTWARE DEVELOPMENT\\nIn 2020, the global IT industry took a small step back \\nin terms of overall revenue. While the tech sector fared \\nbetter than many other industries during the pandemic, \\nit was not immune to cutbacks in spending patterns \\nand deferment of major investments. In August 2020, \\nthe Industrial Development Corporation (  IDC ) project -\\ned global revenue of $4.8 trillion for the year, compared \\nto their original estimate of $5.2 trillion. Moving forward, \\nthe IDC projected that the technology industry would \\nreach $5 trillion in 2021. This would represent 4.2 % \\ngrowth, signalling a return to the trend line that the \\nindustry was on prior to the pandemic. Looking even \\nfurther into the future, the IDC expects the pattern to \\ncontinue, estimating a 5  % compound annual growth \\nrate ( CAGR ) for the industry through 2024.\\nIt is also useful to know which markets show the \\ngreatest demand for ICT imports. The United States remains the top destination, while China and the \\nAssociation of Southeast Asian Nations (  ASEAN ) re-\\ngional markets are in the Top 5 markets for ICT demand \\n( Figure 5  ). This should be of strong consideration for \\nPakistan’s industry, given the strong track record of \\ntechnology sector linkages with the United States, but \\nalso the emerging partnerships with China and other \\nAsian countries. Robust infrastructure and platforms, a \\nlarge installed base of users equipped with connected \\ndevices, and available bandwidth for these devices to \\ncommunicate are at a more mature stage in the United \\nStates than any other country, hence paving the way for \\nsuch dominance. Studies reveal that the economic im -\\npact of the US tech sector, measured as a percentage \\nof gross domestic product, exceeds that of most other \\nindustries, including notable sectors such as retail, \\nconstruction and transportation ( Cyberstates, 2021 ).\\nFigure 5 :  Leading markets for ICT imports ( Top 10 + Association of Southeast Asian Nations )\\n40,4\\n36,6\\n23,8\\n23,1\\n20,3\\n18,1\\n16,4\\n15,9\\n15,5\\n15\\n10,6United States of America\\nGermany\\nChina\\nASEAN\\nFrance\\nNetherlands\\nUnited Kingdom\\nSwitzerland\\nJapan\\nSingapore\\nBelgium\\nSources : ITC, United Nations Conference on Trade and Development ( UNCTAD ) and World Trade Organization ( WTO ) trade in services database \\nbased on International Monetary Fund (  IMF ) statistics.\\nAmong the other global regions, Western Europe \\nremains a significant contributor, accounting for ap -\\nproximately one of every five technology dollars spent \\nworldwide ( IT Industry Outlook, 2021 ). Furthermore, as \\nfar as individual countries go, China has established \\nitself as a major player in the global tech market. China has followed a pattern that can be seen in developing \\nregions, where there is a twofold effect of closing the \\ngap in categories such as IT infrastructure, software \\nand services, along with staking out leadership po -\\nsitions in emerging areas such as robotics and 5G \\n( Figure 6  ).',\n",
       " '7\\n A RAPIDLY  EVOLVING  GLOBAL  INDUSTRY  DRIVEN  BY HEIGHTENED  COMPETITION  \\nFigure 6 :  Global technology industry snapshot\\nSource : IDC.\\nFor the global economy to rebound to the growth \\ntrajectory determined during pre-COVID-19, tech \\nspending is expected to be led by digital business \\ntransformation. Overall, this would result in the glob -\\nal economy growing at 5.5 % and advanced regions \\nsuch as the United States and Western Europe, which have more than 50 % in global IT spending, growing at \\n3.3 %. The industries with the highest growth poten -\\ntial are healthcare, pharmaceutical, medical devices, \\nbanking, financial services and insurance ( BFSI ), and \\ntelecom (  Figure 7  ) ( NASSCOM 2021 CEO Survey, \\n2021  ).\\nFigure 7 :  Key categories of the technology industry\\nSource : IDC.',\n",
       " '8\\nPakistan Export Strategy 2023-2027 • SOFTWARE DEVELOPMENT\\nThe majority of demand for IT and business process \\nmanagement ( BPM ) services ( especially from a value \\ngenerated point of view ) is still predominantly concen -\\ntrated in developed markets such as the United States, \\nUnited Kingdom and Australia. Demand is also spread, \\nalbeit at a lower level, across smaller developed mar -\\nkets such as the French Republic, the Kingdom of the \\nNetherlands, Japan and the Kingdom of Denmark, as \\nwell as emerging markets such as the United Mexican States, Hong Kong, China, and the Federative Republic \\nof Brazil.\\nThe Top 3 countries servicing these requests are \\nIndia, the Republic of the Philippines, and China – cov -\\nering the full breadth of services from lower order BPO \\nand IT services to intellectual property-led products \\nand high-end product engineering. A brief overview of \\nthese countries, as well as emerging destinations, and \\ntheir service offering are given in Table 1.\\nTable 1 :  Competitor country service offerings\\nCountry Key features of service offering\\nIndiaThe country is the largest provider of outsourcing services to the global IT–BPM sectors. Representing some of \\nthe biggest IT–BPO outsourcing firms in the world, India is home to giants such as TATA Consultancy Services, \\nWipro BPO, Genpact, and Infosys, to name a few.  Popular companies that outsource to India include Oracle, \\nHewlett Packard, Schlumberger, Accenture, Capgemini, Microsoft and Dell.\\nPhilippinesThe IT–BPO sector in the country employs ~1.5 million people and strategies have been developed to further \\ngrow the sector.  US firms account for nearly 70 % of the outsourced jobs handled by the country, with Telep -\\nerformance, Qualfon, and Convergys (  now Concentrix  ) being major players.  The BPO sector is renowned for \\ncontracting work for telecom giants such as AT&T, Sprint, Verizon, British Telecom, and Telstra. \\nChinaEstimated to be the third-largest IT market in the world, while also being one of the largest IT / BPM outsourcing \\nplayers worldwide. An incumbent IT services and BPO player, China is now driving value-added services through \\nseveral technology-related partnerships to strengthen international ties.\\nMalaysiaMalaysian outsourced providers have largely capitalized on governmental, financial services, insurance, \\nmanufacturing and design and integration sectors.  Niche market opportunities exist for players in hosting, remote \\nmanagement, engineering services for computer-aided modelling (  CAM  ), and prototyping and testing. \\nBrazilBrazil has a long tradition in IT–BPM outsourcing. The IT services market is almost thrice the size of the BPM \\nsector, but even the BPM sector has gained traction in recent times.  Brazil has an infrastructure to support the \\nindustry, such as established IT services firms, a highly educated workforce, a number of engineering graduates \\nand a favourable investment climate – driving the ability to supply higher-end niche services  .\\nNote : Annex I discusses in more detail some examples from those above, which could be relevant to Pakistan.\\nAccelerated digitalization  \\nis driving demand for IT services\\nDigitalization is transforming the global economy, \\naffecting countries at all income levels to varying de -\\ngrees. In 2000–17, the total number of global internet \\nusers increased from 399.2 million to 3.7 billion, with \\nupper-middle-income countries home to the most \\nusers ( 1.6 billion ) ( Figure 8  ). This process is creating \\nincreased demand for new services in software devel -\\nopment, ICT services ( including IT services, software \\nsolutions integrators, managed services resellers, tele -\\ncoms operators, cloud service providers and techno -\\nlogical support services ), distribution activities, other \\nICT-related businesses ( such as BPO, knowledge pro -\\ncess outsourcing and business intelligence services ), \\nand e-commerce and fintech. Figure 9  illustrates the \\nforecast global growth in IT through to 2025.\\n©shutterstock',\n",
       " '9\\n A RAPIDLY  EVOLVING  GLOBAL  INDUSTRY  DRIVEN  BY HEIGHTENED  COMPETITION  \\nFigure 8 :  Global internet users by country income group ( 2000-17 )\\n00,511,522,533,54\\n2000 2002 2004 2006 2008 2010 2012 2014 2016Billions individuals\\nLow income Lower-middle-income Upper-middle-income High income\\nSource : World Bank, World Development Indicators.\\nFigure 9 :  Forecast growth in the global IT / BPM market ( 2019-25 ) ( USD billion )\\nSource : National Association of Software and Service Companies ( NASSCOM ) and Statista.\\nCOVID-19 has accelerated these trends and driven \\nfurther digital transformations to take place almost \\novernight. The need for business continuity took cen -\\ntre stage in board rooms, management meetings and \\noperational discussions for weeks, during the mid-first \\nquarter in 2020. Technology and its related services \\nwere reshaping the world at a pace unprecedented \\nprior to Q1 2020. Considering the uncertainty that pre -\\nvailed throughout 2020, the year 2021 further pushed \\norganizations, governments and countries to scale up \\nexpenditure on technology. For companies, it has been \\nimportant to innovate while meeting consumer demand \\nand maintaining steady market share. Governments and public sector enterprises have been pushed \\nto carry out their national duty of health, education, \\ndefence and infrastructure all using technology as a  \\n‘new normal’.\\nPrior to COVID-19 and beyond as well, the major \\ntechnology and business trends affecting the global \\nICT sector include the growth of cloud computing and \\nonline storage, the spread of the internet of things ( IoT ), \\nincreasing use of data analytics and data mining, and \\ngrowing awareness of data protection. These will ac -\\ncelerate the demand for IT services across the world, \\nand will provide a conducive environment for the fur -\\nther growth of Pakistan’s sector.',\n",
       " '10\\nPakistan Export Strategy 2023-2027 • SOFTWARE DEVELOPMENT\\nBox 1 :  Key trends and outlook for the IT industry ( 2021 )\\n• Online storage :  By offering information technologies as a service, cloud computing and online storage is an innovative \\nbusiness model that can reduce organizations’ upfront and maintenance costs of adopting digital solutions, and can offer \\nflexible infrastructure. These traits can make cloud services particularly attractive and relevant to SMEs. Investments in \\ncloud technology, security and risk, networks and mobility are on the priority list for every chief information officer in 2021. \\nAs companies place more of their IT architecture in the cloud and consider new options for their workforce, networking \\nperformance becomes more critical. A key highlight is the new space created to support and maintain this service to keep \\nsystems running without down time.\\n• Customer focus : Customer retention will take precedence above all and, as per Forrester™, chief marketing officers would \\nincrease 30 % of their spending on loyalty and retention marketing. Investments and focus on customer service through an \\nefficient call centre will increase through this drive.\\n• Digital nomads  : Work from anywhere became the norm in 2021, with a staggering growth of 300  %. Office space could \\nbe a thing of the past. The majority of resources and the next generation workforce would set into a work-from-anywhere \\nbusiness environment, with gig culture1 settling in for good. The trend would expand new opportunities for the freelance \\nworkforce across the world.\\n• Security and compliance : With remote working becoming the standard trend, cybersecurity, and managing risks and compli -\\nance, need innovative approaches to proactively test the defences and internal processes that create secure operations. \\nSecurely managing the data and responding appropriately poses new challenges that require systems checks and tighter \\ncontrols to safeguard and protect companies and individuals from cyberattacks. An increase in skills and resources for \\ncyber competencies is a key area that Pakistan should consider as a top priority to harness the upcoming opportunities.\\n• Privacy rules :  Regulatory and legal activity related to employee privacy infringements will double. While European regulators \\nare already enforcing privacy rules to protect employees’ personal data, countries such as Brazil, India and the Kingdom \\nof Thailand will soon follow suit. Educating and spreading awareness on privacy policies and rights, primarily to Pakistan’s \\nfreelance workforce, would be crucial. In addition, having a regulatory framework protecting these individual rights should \\nbe considered.\\n• Cybersecurity frameworks  : The Asia-Pacific region will finally catch up on zero trust adoption. Zero trust adoption in the \\nregion has lagged behind its global peers, but the acceleration of cloud adoption and an explosion in remote work, as well \\nas changing regulations and consumer behaviours, make it ripe for change. It was predicted that at least one government \\nin the region would embrace a zero-trust cybersecurity framework in 2021.\\n• Data dominance :  Data analytics and data mining can improve monitoring, diagnostic and analytical processes in a wide \\nrange of activities across society and the economy, including computer science, statistics, mathematics and logistics. In \\naddition to new methods lowering costs in data collection and storage, it includes approaches for solving problems through \\nthe pre-processing, modelling, testing and reporting of data. The integration of data analytics and data mining into organiza -\\ntions’ processes allows for improved flexibility and responsiveness, in addition to reduced costs in businesses processes.\\nSource : CompTIA’s IT Industry Outlook 2021. Available from https:// comptiacdn.azureedge.net / webcontent / docs / default-source /  \\nresearch-reports  / report---2021-comptia-it-industry-outlook.pdf  ?sfvrsn=18f99ffd _ 0 .\\n1.– A gig culture is one in which ‘temporary, flexible jobs are commonplace and companies tend to hire independent contractors and \\nfreelancers instead of full-time employees. A gig economy undermines the traditional economy of full-time workers who often focus on \\ntheir career development’ ( Investopedia ).',\n",
       " '11\\n A RAPIDLY  EVOLVING  GLOBAL  INDUSTRY  DRIVEN  BY HEIGHTENED  COMPETITION  \\nNew market trends, emerging technologies  \\nand COVID-19 shifts\\nWith the strong growth forecast in the industry glob -\\nally, there is a transition in the user preferences and \\nservice offering. Customers are now increasingly shift -\\ning towards seeking cost plus value arbitrage, from \\noutsourcing business models that have traditionally \\nrelied only on cost arbitrage to survive and grow. Due \\nto this change, companies in the Pakistani IT sector \\nare required to have a sophisticated view of the market and leap into offering outcome-based, ‘cost plus val -\\nue’-based service offerings –  as opposed to developing \\nservices to cater to the existing view of the outsourcing \\nmarket. To further clarify this trend, Table  2 expands \\non the description of the transition and dynamics of \\npeople-based, product  – and service-based, and out -\\ncome-based service offerings. \\nTable 2 :  Comparison between service offerings for enterprise software\\nPeople based Product and services based Outcome based\\nWhat is the industry \\nselling ?• People • Products and services • Business outcomes\\nTo whom is the \\nindustry selling ?• Chief information officer or \\nIT personnel• Head of line of business• Strategic partner to chief experience officer and \\nboard\\nWhat is the busi -\\nness model ?• Fixed cost\\n• Linear to number of \\nresources deployed\\n• Automation can deliver \\nsome non-linearity• Enterprise licence of software as a \\nservice ( SaaS ) subscription\\n• Fixed-term and scope service \\nagreements\\n• Primarily non-linear, with some \\nlinear services• Multi-year subscription pricing and value share\\n• Pricing linked to value\\n• Primarily non-linear, with some linear \\ncomponents\\nWhat does it take to \\ndeliver ?• Skilled resources\\n• Project managers\\n• Solution accelerators\\n• Automation• ‘Productized’ products and services\\n• People with a deep understanding of \\nthe product or service problem• Assembly of components and services that are \\nengineered for specific use cases and people\\n• Digital transformation consulting  ; third-party \\nsoftware, own software, technical services, data \\nsciences and BPM\\nEmerging technologies get the interest of business \\nleaders and governments alike.  By observing the \\npast, we can see that some technologies inevitably \\ncome into mainstream in a matter of years – cloud and \\nmobile technologies started off as leading emerging \\ntechnologies, which have now become prominent. \\nThe pandemic is a testimony to how disruption can \\npave the way to fast-track technology – remote work \\ndepends extensively on cloud and mobile technology. \\nApart from the already well-known popular emerg -\\ning technologies, Gartner has identified many more \\nthrough its Emerging Technologies and Trends Impact \\nRadar, where it has mapped out some that are in use \\nnow, some to come short term and others long term \\n( see Figure 10  ). Moreover, it is now acknowledged that \\nemerging technologies align with three broad themes \\n– interfaces and experiences, business enablers, and \\nproductivity revolution ( see Figure 11  ).\\n©pexels-markus-spiske',\n",
       " '12\\nPakistan Export Strategy 2023-2027 • SOFTWARE DEVELOPMENT\\nFigure 10 :  Emerging Technologies and Trends  \\nImpact Radar\\nSource : Gartner ( 2021 ).\\nNote : The rings on the chart represent the range, which estimates \\nthe number of years it will take until the technology or trend crosses \\nfrom early adopter to early majority adopter. The size and colour of the \\nemerging technology – or trend radar blip – represent the technology’s \\nmass ; in other words, how substantial the impact of the technology or \\ntrend will be on existing products and markets.\\nFigure 11 :  Emerging technologies align with three broad themes\\n•User andconsumer experiences have become apriority forsoftware development, andsimple -to-useapplications\\nandsystems take precedence above everything. What started offwith mobile hasnow been adapted tomuch\\nmore complex enterprise systems.Interfaces and experiences\\n•Technologies that impact enterprises bychanging practices, processes, methods, models orfunctions, and\\nchange thewayoperations andprocessors areruninorganizations .Business enablers\\n•This refers totheconfluence ofmultiple technologies andtrends thathelporganizations quickly, accurately andin\\ngreater volume classify, predict andsolve problems thathumans cannot .Forexample, robotic process automation\\n(RPA), IoTandartificial intelligence (AI)technologies taking thevolume, velocity andvariance ofdata andconvert\\nthem intoarelevant information fordecision -making .Already, firms have adopted these incarrying outmundane\\ntasks such asinventory check, Levels 1and2customer service, debtor follow -upsautomation using systems\\nconfigurations, chatbots andnotifications .Productivity revolution\\n©shutterstock',\n",
       " \"13\\n A RAPIDLY  EVOLVING  GLOBAL  INDUSTRY  DRIVEN  BY HEIGHTENED  COMPETITION  \\nWithin a few years, what is now seen as emerging tech -\\nnologies such as IoT, AI, robotic process automation \\n( RPA ), autonomous vehicles, mixed reality (  virtual real -\\nity and augmented reality ), 5G, digital twins and voice \\ninterfaces, etc. would be adapted to the mainstream \\nand have widespread usage. The same happened with \\nmobile, cloud, video calling, 3 – and 4-step authenti -\\ncation, chat bots and so on. In fact, some enterprise \\nsoftware companies have already built IoT connectors, \\nAI and machine learning into their mainstream software \\nproducts. For example, a Swedish enterprise software \\ncompany has integrated drone technology to its back-\\nend resource planning operations and the footage \\ntransmitted from distant dangerous locations is pro -\\ncessed to identify faults or repairs.\\nCOVID-19 has had implications for the sector’s current \\nand future trajectory.  As part of the strategy formulation \\nprocess, Pakistan industry stakeholders were guided \\nin strategic foresight visioning, to identify permanent \\nchanges brought on by COVID-19 for the software services sector. Accordingly, industry leaders had to \\nassess shifts across four dimensions. A summary of \\ntheir deliberations is displayed in Figure 12 .\\n• Growth  : Trends that are increasing or succeeding \\nmore than before ( accelerated by the pandemic ), \\nwith minimal disruption.\\n• Collapse  : Actors, trends and business models that \\nhave experienced catastrophic breakdown, are bro -\\nken beyond repair and are unlikely to see growth in \\nthe future, consequent to the pandemic.\\n• Constraint  : New ( or stronger than before ) limits, re -\\nstrictions or boundaries that are being developed, \\nintroduced or embraced for the greater good, but \\nhave an impact on the sector, brought on by the \\npandemic.\\n• Transformation  : Fundamental societal, systems, \\nbusiness model changes or re-organized around a \\nnew paradigm ; essentially bold and previously un -\\nthinkable or underestimated ideas and changes.\\nFigure 12 :  What will fundamentally change due to COVID-19 ?\\nGrowth\\n•\\nCyber and privacy laws\\n•\\nImprovements to \\nconnectivity and bandwidth\\n•\\nBetter collaboration between \\nservice provicers\\n•\\nAccess to growth capital\\n•\\nDigital finance, educational \\ntechnology (EdTech) and e\\n-\\ncommerce\\n•\\nOutsourcing\\n•\\nRegulations on fintech\\n•\\nGlobal expansion via remote \\nwork\\n•\\nEntertainment\\n•\\nEntrepreneurship in the \\nsector\\n•\\nAccelerated digital \\ntransformation Collapse\\n•\\nHuman resource retention\\n•\\nSocial media access \\nrestrictions\\n•\\n'9\\n–\\n5 job' model\\n•\\nBank branches and ATMs\\n•\\nCall centres Constraint\\n•\\nStricter data privacy and \\nprotection laws\\n•\\nInsufficient high\\n-\\nquality \\nhuman capital\\n•\\nLimited number of \\napproved digital services \\nproviders payable outside \\nPakistan\\n•\\nDifficulty in paying \\nforeign talent for \\nadvanced services and \\nsupport\\n•\\nInsufficient working \\ncapital financing options Transformation\\n•\\nFlexibility to work from \\nhome\\n•\\nExtra work hours due to \\nreduction of travel\\n•\\nIn\\n-\\nhouse IT services\\n•\\nOnline training and \\neducation\\n•\\nTeam communication\\n•\\nAccelerated doomestic \\ndigitization\\n•\\nInternational marketing\\n•\\nTraditional HR processes\\nThe acceleration of digitalization, further spurred on by the dramatic shifts brought on by COVID-19, indicate bright \\nprospects for the global IT services industry. This provides ample opportunity for countries like Pakistan, with an \\nalready dynamic sector, to leverage this growth and become a leading software services player for regional and \\nglobal clients.\",\n",
       " '©pexels-thisisengineering',\n",
       " '15\\nPAKISTANI SOFTWARE SECTOR  \\nEQUIPPED TO TAP INTO DY -\\nNAMIC GLOBAL TRENDS\\n1.– Kearney’s Global Services Location Index ( GSLI ) now includes 50 countries and is based on 44 metrics from independent sources. Regardless \\nof whether a country is already a successful exporter, the index aims to assess the country’s fundamental competitiveness as a location for export \\nof knowledge services, based on four broad factors : financial attractiveness, people skills and availability, business environment, and digital \\nreadiness.Pakistani software sector leveraging  \\nits comparative advantages\\nPakistan’s IT sector has a promising future, brimming \\nwith talent and strong potential to become the coun -\\ntry’s largest export industry. The sector accounts for a \\ngrowing contribution to gross domestic product ( GDP ) \\nof close to 1  %, earning valuable foreign exchange for \\nthe country and creating high-paying jobs. In recent \\ndecades, revenue from the sector increased rapidly, \\nfrom just $70 million in 2006 to approximately $220 \\nmillion in 2011 and nearly $2,000 million today. In the \\npast decade, growth averaged 14 % CAGR per year. \\nThis indicates that, while the sector is still in its early \\nstages, its growth trajectory displays huge potential. \\nThe sector has also remained resilient during the pan -\\ndemic. According to the 2021 Commonwealth Trade \\nReview ( July 2021 ), ‘Pakistan’s service exports showed \\na strong resilience during the Covid-19 pandemic … \\nby September 2020 Pakistan’s services exports had \\nalready rebounded to December 2019 levels ( despite \\nfalling by 20pc in April 2020 )’.\\nThe growth and potential of the IT and ITeS sector, \\nand digital economy generally, have been supported \\nby government policy and investment in infrastructure. \\nThe significant investment in ICT infrastructure includes \\nmore than 16 IT parks with IT-enabled infrastructure \\nand state-of-the-art facilities, as well as spreading \\ninternet access in more than 2,000 cities and towns \\nacross Pakistan. The sector now has greater recogni -\\ntion in planning and policy development, with many pro-investment policy initiatives aimed at the sector \\nintroduced in national budgets.\\nKEY FUNDAMENTALS ARE IN PLACE\\nEngagement in high-value-added segments remains \\nnascent albeit highly sophisticated, with some com -\\npanies exporting digital technologies for large indus -\\ntries in the United States such as oil and gas and \\nhealthcare.\\nDespite some areas of weakness, Pakistan ranks \\namong the Top 50 jurisdictions ( Rank 31 ) worldwide \\nin the 2021 Global Services Location Index ( GSLI ),1 a \\nmeasure of competitiveness as a location for export \\nof ICT and other knowledge services. On the pillar of \\n‘financial attractiveness’ in the GSLI, Pakistan is scored \\nthe second-most financially attractive location in the \\nworld for offshoring IT–BPO services ( Kearney, 2021 ). \\nMoreover, in the low-end BPO segment, operational \\ncosts are 60 % lower than in the Philippines, which is \\noften seen as the world’s customer support power -\\nhouse. This edge is favoured by the low competition \\nfor labour in Pakistan, due to the sector’s relative im -\\nmaturity (  Figure 13  ).',\n",
       " '16\\nPakistan Export Strategy 2023-2027 • SOFTWARE DEVELOPMENT\\nFigure 13 :  Pakistan ranks 31st in Global Services Location Index ( 2021 )\\n0 1 2 3 4 5 6 7 8India\\nMalaysia\\nBrazil\\nUSA\\nPhillippines\\nMexico\\nColombia\\nEgypt\\nBulgaria\\nGeorgia\\nRussia\\nSri Lanka\\nUAE\\nMauritius\\nFrance\\nPakistan\\nFinancial attractiveness People skills and availability Business environmnet Digital resonance\\nSource : ITC, based on Kearney Global Services Location Index ( GSLI ), 2021.\\n2.– Source : https:// www.brecorder.com / news / 40107362 / inclusion-of-women-in-tech .The Pakistani IT and ITeS industry has earned rec -\\nognition and has the established labour pool to win \\nmore and bigger contracts to the country. Particularly, \\nit boasts a trainable and competent workforce, most \\nof which (  60 % of the total population of 200 million ) \\nis aged 15–29. This represents an enormous human \\nand knowledge capital to drive the IT sector. Approx -\\nimately 20,000 IT graduates and engineers are be -\\ning produced each year. Pakistan is also the world’s \\nthird-largest English-speaking country after the United \\nStates ( 1st ) and India (  2nd ). Approximately 49 % of the \\npopulation speaks English as a second language ; i.e. \\n94.3 million people ( Couto & Fernandez-Stark, 2019 ). \\nAn added advantage – especially for customer-cen -\\ntric services – is that Pakistani IT workers’ English pro -\\nnunciation is relatively more neutral than in competitor \\ncountries.FEMALE PARTICIPATION IN THE SECTOR\\nGender dynamics play a significant role in the availabil -\\nity of appropriate skill to meet the industry’s labour de -\\nmands. Compared to developed economies, Pakistan \\nfeatures a slightly lower share of female workers in IT, \\nwhich is remarkable given the global bias towards male \\nprofessionals in the field of technology. However, par -\\nticipation of females in IT studies and IT employment \\nremains low and is rooted in concerns for safety, mo -\\nbility restrictions and traditional family roles. One key \\nfactor pertaining to the underemployment of women \\nis the commute to work ; the inadequate transporta -\\ntion system is of such significance that females might \\nignore better job opportunities and go for lower-paid, \\nlow-skill jobs. Only 15 % of women make up the total \\nemployment in software services, which is the largest \\nsegment in Pakistan’s information technology sector \\n( Table 3 ). According to a recent Pakistan Software \\nHouses Association ( P@SHA ) survey, only 16 % of fe -\\nmale computer science graduates are working versus \\n83 % of male graduates.2',\n",
       " '17\\n PAKISTANI SOFTWARE SECTOR EQUIPPED TO TAP INTO DYNAMIC GLOBAL TRENDS  \\nTable 3 :  Women in the IT segment : Pakistan vs selected countries\\n3.– See https:// pafla.org .Country Enrolled in IT college studies Working in the IT industry Year\\nPakistan 14 % 15 % 2016\\nIndia 45 % 30 % 2014\\nUnited States 22 % 25 % 2017\\nUnited Kingdom 18 % 16 % 2014\\nBrazil 15 % 38 % 2014\\nSource : Duke Global Value Chains Center ( 2019 ). ‘Pakistan in the Offshore Services Global Value Chain’.\\nGROWING FREELANCER COMMUNITY \\nCONTRIBUTING TO EXPORTS\\nIn 2017–21, the number of freelancers increased ex -\\nponentially in Pakistan as the number of clients and \\nprojects increased. Pakistan is ranked in the Top 3 \\ncountries for freelancing in the world ( Online Labour \\nIndex, Oxford Internet Institute, 2019  ).Transactional IT \\nand ITeS ( freelancers ) are mainly virtual assistance \\nservices such as website development, translation, \\ncontent writing and schedule management. According \\nto the Pakistan Software Export Board ( PSEB ) report \\n‘Pakistan’s IT Industry, 2020’, by 2019-20, freelancers \\nwere serving foreign clients in more than 120 countries \\nand earned $150 million in revenue. Pakistan’s share \\nof the global online worker population for software \\ndevelopment and technology monitored by the Online Labour Index ( OLI ) has grown from 11.9 % in 2017 to \\n13.9 % in 2021 ( Stephany et al., 2021 ; ‘New ways to \\nmeasure the world’s remote freelancing market’, arXiv \\npreprint arXiv  :2105.09148, 2020 ). This is illustrated in \\nFigure 14 , which was produced using OLI 2020 time \\nseries data. Most freelancers in Pakistan are aged \\nin their 20s and 30s ( more than 60 % ). In terms of \\nuser number, Freelancer.com ranks Pakistan as the \\nthird-largest country, accounting for 4 % of the total \\nregistered users. According to the recently formed \\nPakistan Freelancers Association ( PAFLA ), more than \\n1 million Pakistanis freelanced in 2019–21. According \\nto PAFLA, they billed more than 10 billion hours, with \\nannual revenue of $1 billion.3 Arguably, this data does \\nnot get captured or reflected fully in the official statistics \\non IT and ITeS exports, as the earnings go to personal \\naccounts.\\nFigure 14 :  Top 15 freelancing countries ( 2017 – left ; 2021 – right )\\nSource : Stephany et al., 2021.\\nWhile the growing freelancing community has provid -\\ned a strong impetus for the growth in export earnings \\n( remittances ), there would be strategic considerations for managing freelancers’ role and growth when devel -\\noping a competitive and sustainable IT services desti -\\nnation, as will be discussed in the way forward section.',\n",
       " '18\\nPakistan Export Strategy 2023-2027 • SOFTWARE DEVELOPMENT\\nPositive export outlook confirms sector potential\\n4.– As of 31 December 2020.\\n5.– See https:// startuppakistan.com.pk / it-and-ites-export-remittances-have-increased-by-1-98-billion-in-the-last-11-months / .According to the latest data available, in FY 2021/22, \\nIT and ITES export earnings topped $2.3 billion, up \\nfrom $1.8 billion the previous year. Although the in -\\ndustry originally targeted $3.5 billion for this year, the \\ngovernment expects the industry to reach $5 billion by \\n2023. Pakistan has more than 2,8604 IT enterprises \\nregistered with the PSEB, providing services to more \\nthan 100 countries.5 The sector employees more than \\n300,000 professionals ( of which 14 % are estimated to be women, according to the industry body, P@SHA ), \\nmaking it an important source of employment for \\nyoung graduates of higher education with expertise in \\ncurrent and emerging IT products and technologies.\\nA closer look at the growth pattern indicates that \\nthree categories in services had the most consistent \\ngrowth : i ) software consultancy services ; ii ) other com -\\nputer services ; and iii ) call centres (  Figure 15  ).\\nFigure 15 :  IT and ITeS export remittances\\n566 655 834 995 1.235 1.821 2.322 \\n - 500 1.000 1.500 2.000 2.500\\n2016 2017 2018 2019 2020 2021 2022 (P)$ Millions\\nCall centres Hardware consultancy services Software consultancy services\\nMaintenance & repairs of computer Export Computer Software Other Computer services\\nSource : Trade in Services data, State Bank of Pakistan.\\nNote: P- Provisional\\nPakistan’s top export destinations include the United \\nStates, the United Arab Emirates, the United Kingdom, \\nthe Republic of Singapore, and Canada, generating \\napproximately 90 % of total revenues in the sector (  Ta-\\nble 4  ). Of these, the United States is the main market \\n( 72 % ), followed distantly by the United Arab Emirates \\n( 11 % ) and the United Kingdom ( 10 % ). While this is \\na key strength – given the United States’ continued \\nsteady growth in demand for offshore services – there \\nare strategic considerations around market concen -\\ntration that need to be considered ( and are discussed \\nmore in the way forward section ).\\n©shutterstock',\n",
       " '19\\n PAKISTANI SOFTWARE SECTOR EQUIPPED TO TAP INTO DYNAMIC GLOBAL TRENDS  \\nTable 4 :  Top 5 export destinations\\n6.– See https:// invest.gov.pk / statistics .\\n7.– See https:// profit.pakistantoday.com.pk / 2021 / 07 / 25 / na-passes-act-to-attract-fdi-in-tech-sector / .CountryFY 2018 / 19\\n( USD million )FY 2019 / 20\\n( USD million )\\nUnited States 667.19 828.19\\nUnited Arab Emir -\\nates96.85 127.4\\nUnited Kingdom 80.33 111.23\\nSingapore 35.14 50.81\\nCanada 30.97 40.68\\nTotal 910 1 158\\nSource : Pakistan’s IT Industry Report, Trade in Services data,  \\nState Bank of Pakistan.\\nFavourable investment environment being \\nestablished\\nPakistan does not categorize foreign direct investment \\n( FDI ) in IT separately and includes it together with tele -\\ncoms. FDI in IT and telecoms together reached $622.5 \\nmillion in 2019–20, and $99.8 in 2021 ( up to June ).6 \\nTypically, such FDI numbers –  when joined with tele -\\ncoms – tends to be dominated by the telco sector. As \\nsuch, there is a need to categorize FDI correctly and \\nseparately into IT and ITeS to track progress over time.\\nSome key features of the investment incentives regime \\nfor IT include :\\n• Zero income tax on IT and ITeS exports ;\\n• Zero income tax for PSEB-registered IT start-ups ;\\n• 100 % foreign ownership of IT and ITeS companies ;\\n• 100 % repatriation of profits to foreign IT and ITeS \\ninvestors.\\nMajor global brands with a technology presence in \\nPakistan include SAP, Oracle, Microsoft, Dell and HP.\\nNew moves to create IT parks and software tech -\\nnology zones are expected to solve this problem to \\nsome extent, but its accessibility and affordability to IT \\nSMEs was a concern on the minds of sector stakehold -\\ners from an SME background and must be taken into \\nconsideration.\\nThe recent passing of the Special Technology Zones \\nAuthority Act ( July 2021 ) is expected to give a major \\nboost to FDI prospects in the sector. The Act provides for wide-ranging powers for the authority to promote \\nand manage investments in the technology sector, in a \\nsingle-window approach.7 Under the new law, investors \\n( IT zone developers and companies ) can receive a 10-\\nyear tax exemption. It also gives provisions to exempt \\nzone enterprises from all customs duties and taxes on \\ninvestment goods.USA; 72%UAE; 11%UK; 10%Singapore ; \\n4%Canada ; 3%\\n©shutterstock',\n",
       " '20\\nPakistan Export Strategy 2023-2027 • SOFTWARE DEVELOPMENT\\nBox 2 :  Pakistan’s push for special technology zones\\nIn December 2020, the government promulgated the Special Technology Zones Authority Ordinance, 2020 ( the STZA Ordinance ) \\nwith the stated objective of setting up a corporate authority to establish, among others, software and hardware technology parks, \\nhigh-tech industrial areas, science and technology zones, knowledge cities, technology incubation zones or any sector zone \\nrequiring technological intervention. The goal behind the creation of such zones is to provide institutional and legislative support \\nfor the technology sector with internationally competitive and export-oriented structures and ecosystem, in addition to developing \\ncollaboration between academia, researchers and the technology industry. A STZA Act was subsequently passed in July 2021 by \\nthe National Assembly. Zone developers, international ‘big tech’ firms and the local IT industry are being encouraged to participate \\nin the growth of STZAs. In summary, the STZs allow for cheaper real estate, one-window government facilitation and a tax-free \\nzone. The incentives regime under the STZA is as follows :\\n• Ten-year break from income tax to zone developers and zone enterprises, including exemption from minimum tax otherwise \\nlevied under Section 113 of the STZA Ordinance ;\\n• Ten-year exemption from customs duty, sales tax and withholding income tax on import of capital goods such as plant, \\nmachinery and equipment for use within the zone ;\\n• Tax exemption on dividend income and long-term capital gains of any venture capital fund from investment in a zone \\nenterprise( s ) ;\\n• Complete exemption on income of the Special Technology Zones Authority established under the STZA Act 2021.\\nThe passage of the STZA is expected to usher in an environment conducive to the investments required in high-tech industry, \\nputting the country on fast track to transforming the wider economy and creation of a highly skilled labour force.\\nPakistan’s IT services sector has many of the fundamentals in place to drive faster growth, and the rapid rise in \\nexport earnings already seen in recent years is a sign of strong export potential in the medium term, leveraging \\nthe available talent pool, financial attractiveness and existing market entry to major importing locations. Building \\non from this would require tackling some key growth and competitiveness challenges.\\n©ITC',\n",
       " '21\\nSERVICE MAP AND \\nCOMPETITIVENESS \\nDIAGNOSTIC\\nService map overview\\nSoftware services in Pakistan include those provided \\nby domestic firms as well as foreign ( including joint \\nventure operations ). Approximately 2,000 firms exist in \\nthe industry, with more new firms entering continually. \\nThe majority of firms ( approximately 95 % ), and in turn \\nmost of the revenue ( approximately 80 %–85 % ) come \\nfrom software services ( both outsourcing software \\ndevelopment and customized software development ), while approximately 15  %–20  % comes from higher-end \\nproduct engineering, and IP creation (  with global prod -\\nuct sales ) is still nascent. It is recognized that the latter \\nsegments are higher up the value-added ladder than \\nthe former (  Figure 16  ). As the strategy later articulates, \\nthe industry has objectives to grow these higher-value \\nsegments more in 2022-26.\\nFigure 16 :  IT products and services value pyramid\\nIP creation \\nand global \\nproducts\\nHigh-end \\nproduct\\nengineering\\nCustomized software development\\nCaptive – ODC/outsourced software development8800--8855%%\\n1155--2200%%Current State\\nIP creation and global \\nproducts\\nHigh-end product\\nengineering\\nCustomized software development\\nCaptive – ODC/outsourced software development3300--3355%%\\n6655--7700%%Desired State',\n",
       " '22\\nPakistan Export Strategy 2023-2027 • SOFTWARE DEVELOPMENT\\nINSTITUTIONAL AND POLICY SUPPORT \\nECOSYSTEM\\nBeyond firms, the industry consists of supporting pub -\\nlic and private institutions, mostly based in Karachi, La -\\nhore and Islamabad. In the private sector, P@SHA is \\nwidely recognized as the most prominent industry-sup -\\nporting institution. P@SHA has led significant lobbying \\nand advocacy initiatives to drive policy development. \\nPublic sector efforts for the IT and BPO industry are co -\\nordinated by the PSEB, a government body under the \\nMinistry of Information Technology and Telecommuni -\\ncation ( MoITT ). Additionally, there are some provincial \\nbodies like the Punjab Information Technology Board, \\nwhich works specifically on development and delivery \\nof IT services in the province.Some of the key industry stakeholders / institutions, \\nalongside their capability to support sector develop -\\nment and influence policies and programmes for it, are \\npresented in Table 5 , which is based on stakeholders’ \\nperspectives and feedback. According to stakeholders, \\nthe Federal Board of Revenue, the main body tasked \\nwith taxation for the sector, is seen as highly resourced, \\ncapable and influential, while the main sector-specific \\nbody ( PSEB ) and MoITT are seen to be moderately \\nresourced, capable and influential. The apex private \\nsector body ( P@SHA ) is seen to have reasonable re -\\nsourcing and influence, but to lack capacities. Notably, \\nthe intellectual property office scores low on all three \\nparameters and is a strong signal for the need to im -\\nprove this space if the industry seeks more IP – and \\nproduct-led growth.\\nTable 5 :  Pakistani software services industry stakeholders : Role and capabilities\\nName of institutionType of \\ninstitution1 Role played by the institutionCapability check\\nResources2Capacity3Influence4\\nFederal Board of Revenue \\n( FBR )BTaxation of income and sales at a federal \\nlevel1 1 1\\nPakistan Software Houses \\nAssociation ( P@SHA )CAssociation of IT firms ; advocacy and \\nlobbying to ensure government support2 3 2\\nPakistan Software Export Board \\n( PSEB )B Promotion and facilitation of IT exports 2 2 2\\nMinistry of Information \\nTechnology and Telecommu -\\nnicationADevelopment and regulation of IT infra -\\nstructure and resources at federal level2 2 2\\nMinistry of Finance and \\nRevenueADevelopment and regulation of finance \\nand revenue2 2 1\\nState Bank of Pakistan A Central bank 1 1 1\\nSindh Revenue Board A Taxation of services in Sindh 1 1 1\\nPunjab Revenue Board A Taxation of services in Punjab 1 1 2\\nKhyber Pakhtunkhwa Revenue \\nAuthorityATaxation of services in Khyber Pakh -\\ntunkhwa2 2 2\\nIntellectual Property Organisa -\\ntion of PakistanB Protection of intellectual property 3 3 3\\nMinistry of Commerce ADevelopment and policymaking for \\ngrowth of domestic and international \\ncommerce1 2 2\\nTrade Development Authority \\nof PakistanBDevelopment of trade activities of goods \\nand services1 2 3\\nSource : ITC, based on stakeholder consultations.\\nNote : 1 A ) Public sector ministry ; B ) Public sector specialized agency / statutory body ; C ) Private sector chamber or trade association ; D ) Private \\nsector support service provider ; C ) Donor agency / aid project ; D ) Other.\\n2 How well financially resourced to support sector development needs : 1. Very well resourced ; 2. Somewhat well resourced ; 3. Poorly resourced.\\n3 Capacities in the institution to support sector development needs : 1. High capacity ; 2. Moderate capacity ; 3. Low capacity.\\n4 How influential is this institution to drive sector development : 1. Very influential ; 2. Somewhat influential ; 3. Not influential.',\n",
       " '23\\n SERVICE  MAP  AND  COMPETITIVENESS  DIAGNOSTIC  \\nSome key laws and regulations relating to the sector \\nare presented in Table 6 , including remarks on their \\nimplementation status as per the author’s estimations. \\nIt is noteworthy that a lot of initiatives have been taken \\non taxation in recent years with respect to this sector – which is natural considering how relatively new the \\nsector is and the required adjustment to industry real -\\nities compared to existing tax frameworks. Moreover, \\nthe emerging regulations around cybersecurity and \\ndata are also to be expected.\\nTable 6 :  Other key laws and regulations pertaining to the sector\\nName of policy/\\nlaw/regulationDate enacted/\\nintroducedRelevant responsible \\ngovernment institutionObjectives and purposeRemarks on current implementation \\nstatus\\nIncome Tax Ordi -\\nnance 20012001/Revised \\nin every finan -\\ncial budgetFederal Board of RevenueTaxation of income of individu -\\nals and businesses1 . Income tax exemption was given up \\nto 2025 for IT firms bringing 80 % \\nof the proceeds back into Pakistan. \\nFY 2021/22 budget converted the \\nexemption to 100 % tax credit\\n2 . Indirect tax implication on remittance \\nof export proceeds up to 1 % of sales \\nproceeds (  under 154A  ) under with -\\nholding tax regime creates cash flow/\\ndocumentation problem for IT firms. \\nIT firms are allowed to get withhold -\\ning tax exemption, but process needs \\nto be facilitative\\n3 . Start-up exemption converted to \\n100 % tax credit will put the burden of \\nonerous documentation on start-ups\\nPrevention of \\nElectronic Crimes \\nAct ( PECA )2016Federal Investigation \\nAgencyPrevention of crimes, defama -\\ntion and fraud committed \\nthrough the use of internet-\\nbased platforms and employ -\\ning digital identity. Must be \\nread with allied laws for pre -\\nvention of specific crimes. The \\nlaw also stipulates methods of \\nprosecution, investigation and \\nadjudication for cybercrimes.Digital rights groups contest its misuse \\nby law enforcement agencies on protec -\\ntion of civil liberties and freedom of \\nexpression using transnational digital \\nplatforms.\\nPECA 2016 is gaining prominence in its \\nuse due to rapid growth in digital users \\nand social media platforms in Pakistan.\\nNational Cyber Se -\\ncurity Policy 20212021Pakistan Telecommunication \\nAuthorityNew national policy recently \\napproved by the Cabinet aimed \\nat data protection and preven -\\ntion of cybercrimes. It also \\nprovides for the establishment \\nof a new cybersecurity agency.As this is a very recent policy, imple -\\nmentation status is yet to be seen. The \\nnew policy aims to support both public \\nand private institutions, including na -\\ntional information systems and  critical \\ninfrastructure.\\nForeign Exchange \\nRegulation Act1947State Bank of Pakistan \\n( SBP )Regulation of inbound/out -\\nbound foreign remittance in \\nPakistan via correspondent \\nbanking subject to review from \\nthe State Bank of Pakistan \\n( SBP ) and the Federal Board of \\nRevenue.Progressive measures taken in 2020 to \\nallow software firms to make import-\\nbased software vendor payments \\nwithout approvals from the State Bank \\nof Pakistan ( SBP ). Further relaxation \\ngiven retaining export proceeds outside \\nPakistan for outstation expenses.\\nProvincial sales \\ntax on services \\n( Sindh, Khyber \\nPakhtunkhwa and \\nBalochistan )2010Sind Revenue Board\\nKhyber Pakhtunkhwa Rev -\\nenue Authority\\nBalochistan Revenue \\nAuthority\\nPunjab Revenue BoardSales taxation on IT servicesIT firms exporting more than 80 % of \\ntheir total revenue are exempt from \\nservices tax.',\n",
       " '24\\nPakistan Export Strategy 2023-2027 • SOFTWARE DEVELOPMENT\\nThere are numerous sub-bodies under the MoITT or \\nprovincial governments that reportedly work in silos, for \\nexample, the National Information Technology Board, \\nIgnite and the Universal Service Fund, which are often \\nimpacted by severe resource constraints, delayed deci -\\nsion-making and, in some cases, lack of leadership. At the provincial level, there are the Khyber Pakhtunkhwa \\nInformation Technology Board and the Punjab Informa -\\ntion Technology Board, but other federating units do \\nnot have such bodies. This can be confusing, because \\nthey can duplicate some of the work, which also seems \\nto be happening at the federal level.\\nCompetitiveness constraints\\nWhile recent trends have shown that Pakistan is mov -\\ning in the right direction and has the potential to fos -\\nter further growth of the IT and ITeS sector, achieving \\nthis growth will require addressing several constraints \\nthat weigh on the sector, create uncertainty, raise \\ncosts, reduce efficiency and prevent full participation. Fundamentally, these issues arise from constraints \\non the sector’s capacities to compete in the present, \\nconnect through accessing and using information \\nand knowledge, and change by adapting to changing \\nconditions and opportunities. A summary of these is \\npresented in Table 7 .\\nTable 7 :  Longlist of competitiveness constraints\\nConstraints Root causes Ease of \\nresolution\\n( Grade 1-5 )  \\n5- very difficultUrgent action \\nneeded\\n( Grade 1-5 )  \\n5- very urgent\\nFirm level\\nShortage of talent and \\nemployability issues• Insufficient annual flow of new talent\\n• Employability among graduates is low due to lack of required skills\\n• University–industry collaboration for upgrading curricula is weak\\n• Government programmes for skill development do not attract quality talent \\nand do not result in employability\\n• Brain drain drives high employee turnover\\n• New talent not sufficiently focused on emerging technology fields like AI, big \\ndata, robotics and IoT2 5\\nLow participation of \\nfemales in IT studies and \\nIT employment• Rooted in concerns for safety, mobility restrictions and traditional family roles\\n• A key factor pertaining to the underemployment of women is the commute \\nto work ; the inadequate transportation system is of such significance that \\nfemales may ignore better job opportunities and go for lesser-value, low-skill \\njobs3 4\\nPhysical infrastructure \\nconstraints• Cost of office space in metropolitan areas is expensive and drives up IT firms’ \\noperating costs\\n• Rent is regularly rising, pricing out SMEs and start-ups2 4\\nCapabilities for product \\nquality, diversification and \\ninnovation• Current focus is on bespoke software development and customization for \\nforeign clients  ; no emphasis on product development and IP-driven exports\\n• Internal capabilities for continuous improvement of quality and process are \\nweak3 4\\nBusiness environment levels\\nTax treatment• Tax treatment of IT sector changes from time to time\\n• Current regime of tax credits makes for onerous documentation, adding to \\ncosts for businesses\\n• Start-ups are exempt from withholding tax for five years, but procedures \\nare cumbersome and create an environment of exploitation with the tax \\nauthorities\\n• Lack of understanding among the industry and tax authorities fosters tax \\nharassment and evasion4 4',\n",
       " '25\\n SERVICE  MAP  AND  COMPETITIVENESS  DIAGNOSTIC  \\nConstraints Root causes Ease of \\nresolution\\n( Grade 1-5 )  \\n5- very difficultUrgent action \\nneeded\\n( Grade 1-5 )  \\n5- very urgent\\nAccess to finance and \\ngrowth capital• High reliance on external investment and family capital\\n• Bank credit relies too heavily on collateral-based lending, thus affecting \\naccess for IT firms\\n• Founders have to give up equity to international investors in order to simply \\nobtain liquidity\\n• Working capital constraints affect payroll delays and employee turnover\\n• Lack of project finance affects international expansion and investing in \\ninternal capability improvement\\n• Lack of specific export / project refinance facility by banks or government, as it \\nexists for other industry sectors2 4\\nGovernment IT depart -\\nments competing with the \\nprivate sector• Limited space for private IT players to build up portfolio from among govern -\\nment contracts due to uneven playing field competition from government\\n• When projects are open, preconditions for bids result in restricting most firms \\nfrom participating4 5\\nLack of market intelli -\\ngence to new markets• Lack of research and market insight in expanding into other territories\\n• Pakistani IT export is limited to where the Pakistani diaspora resides and \\nassists in getting market access ; IT firms have poor visibility into opportuni -\\nties in countries where Pakistani diaspora does not exist2 5\\nNational levels\\nRisk perception and inves -\\ntor attractiveness• Political stability and national security are key considerations for investors, \\nespecially in building a culture of trust and reliability\\n• Risk aversion towards Pakistan affects investor attractiveness4 5\\nInternational branding and \\nmarketing• No concerted effort to brand Pakistan’s IT industry against international \\ncompetition\\n• Consular missions underused as vehicles to promote exports and investment \\nin the sector  ; limited understanding among international missions about the \\nindustry and limited cooperation by industry to use missions2 4\\nDeeper discussion of selected key issues\\nTop issues emerging from the longlist above are pre -\\nsented in a detailed format below. These are based on \\nstakeholder consultations.\\nSUPPLY-SIDE AND INPUTS LEVEL\\nTalent shortages, employability and brain drain\\n• The current talent pipeline is insufficient for the \\nsector’s growth needs. Pakistan needs an annual \\nsupply of 100,000 IT graduates, while it is currently \\napproximately 20,000. Estimates suggest that the \\ntotal talent pool currently available for the sector is \\nroughly 75,000 high school graduates and 25,000 \\nuniversity graduates. This shortage will particular -\\nly affect SMEs and start-ups in the sector, unlike \\nlarge firms that can have various talent attraction \\nschemes. Consequently, it will affect the sector’s in -\\nclusive development.• The incoming talent is not sufficiently focused on \\nemerging technologies. Talent development and \\nuniversity programmes focus on technology skills \\nrelated to immediate market needs as opposed to \\nemerging markets around AI, big data / analytics, ro -\\nbotics, IoT and fintech. As an industry player noted, \\n‘Pakistani IT firms are mostly playing catch up to \\ncutting-edge US, EU, Chinese and Japanese firms \\nand are lagging behind by 15 years’.\\n• There is also a question of employability of talent. \\nThe employability rate across the sub-segments in \\nthe IT and ITeS services industry remains relatively \\nlow at 30 % and 50 % for high school graduates and \\nIT graduates (  Tier II-III universities  ) respectively. \\nThe government has initiated some programmes \\nfor skill development, but reportedly they do not \\nattract quality talent and do not result in employ -\\nability in software development, data analysis and \\nproject management. Employers often prefer can -\\ndidates with engineering degrees. Starting criteria ',\n",
       " '26\\nPakistan Export Strategy 2023-2027 • SOFTWARE DEVELOPMENT\\nfor employability include basic technical skills, pro -\\nficiency in the English language and the relevant \\ndomain competencies. For information technology \\noutsourcing ( ITO ), software services companies \\nemploy IT graduates from Tier II and III universities, \\nwhile product development firms engage exclusively \\nwith Tier I universities. Although there is interaction \\nbetween the industry and universities, it does not \\nnecessarily result in effective pedagogical changes \\nthat represent emerging technology trends or mar -\\nket readiness of the graduating cohorts.\\n• In addition to the unemployability among some \\ncandidates, brain drain lowers the availability of ap -\\npropriate human capital and increases turnover. \\nEmployee turnover has a major impact on service \\nquality and delivery timelines. Local salaries can -\\nnot compare with the income Pakistani talent can \\ngenerate in the Middle East, United Kingdom and \\nUnited States. This results in good talent being de -\\nveloped in Pakistan, but then moving abroad for \\nhigher income and better lifestyles. This presents \\nan opportunity, as expats in markets like the United \\nStates have become a strategic asset for Pakistan’s \\noffshore services industry. For example, several \\nleading IT firms in Pakistan have been funded by \\nPakistani Americans.\\nAccess to capital for growth\\n• The access to finance for IT firms for growth is lim -\\nited, and most firms rely on financing by way of ex -\\nternal investment ( giving up equity ) or from friends \\nand family. Banks’ collateral requirements are not \\nfeasible to meet for most technology companies, \\nwhich have limited immovable assets. Collateral-\\nbased credit offerings by local banks prevents IT \\nfirms from generating liquidity to expand operations \\noutside Pakistan. IT firms have to generate capi -\\ntal by giving equity to foreign investors in order to \\nscale business outside Pakistan or set up a separate \\nlegal identity outside Pakistan and retain revenue \\nproceeds outside Pakistan. Obtaining capital by di -\\nvestment costs founders 20 %–40 % of equity.\\n• There are limited bank or government sector-specific \\nexport / project refinance facilities in the way they ex -\\nist for other industry sectors. Lack of working capi -\\ntal financing ( coupled with internal issues like poor \\ncash flow management ) creates payroll delays, \\nwhich increases employee dissatisfaction / turnover. \\nIn the medium term, problems with access to capital \\nalso affect firms’ ability to scale operations and their \\nengineering capabilities, which in turn limits the abil -\\nity to compete globally.• The Government has introduced schemes like ‘Ka -\\nmyab Jawan Scheme’ and other State Bank of Paki -\\nstan financing schemes to incentivize the IT sector. \\nWhile the FY 2021 budget’s SME financing facility of \\nup to PKR 5 million of non-collateralized loans was \\nwelcomed, there were concerns about the stream -\\nlined eligibility of IT firms and the administration of \\nthe facility to ensure better accessibility and dis -\\nbursement.\\nInadequate physical infrastructure\\n• In major cities such as Lahore and Islamabad, local \\nand foreign companies struggle to find office space \\naligned to international standards and requirements \\nof the services industry, at an affordable cost ; e.g. \\n24 / 7 availability, IT-ready infrastructure, reliable pow -\\ner and security. This constraint hinders the growth of \\nsmall IT product-based companies and freelancers, \\nwho lack affordable IT plug-and-play spaces (  e.g. \\nco-work ) to expand their business and / or provide \\nmore complex and sophisticated services. Rising \\nrent in metropolitan areas, especially in Karachi, \\nputs cost pressure on IT firms.\\n• Industry players assert that metropolitan rents are \\nhighest in Karachi, and are nearly 30-40% more than \\nLahore and Islamabad. This counts for almost 20 % \\nof an IT firm’s operating expenses. Additionally, rents \\nincrease at a rate of 10 % each year.\\n »Relevant activities in the PoA for supply-side and \\ninputs level : Talent – 2.1.1, 2.1.2, 2.1.3, 2.1.4, 2.1.5, \\n2.1.6, 2.1.7, 2.2.1 and 2.2.2 ; Access to capital – \\n3.2.1, 3.2.2 and 3.2.3 ; Infrastructure – 4.1.3.\\nBUSINESS ENVIRONMENT LEVEL\\nSector recognition and tax treatment\\n• Industry stakeholders strongly assert that incon -\\nsistencies in tax treatment of the sector is hurting \\nthe predictability and growth plans of IT firms. As \\none industry leader noted, ‘It’s important to recog -\\nnize IT as a sector and growth / target-oriented tax \\nholidays’. In the government’s FY 2021 / 22 budget, \\nIT was recognized as an industry for the first time. \\nFurthermore, the Economic Advisory Council has \\ncreated a separate subcommittee on IT growth and \\ndigitization of the economy as recognition of the \\ngrowth potential in the industry. Industry stakehold -\\ners assert that, if the textile industry is given reduced \\nminimum turnover tax at 1.5 % instead of 3 %, the IT \\nindustry too – having been recognized as focused ',\n",
       " '27\\n SERVICE  MAP  AND  COMPETITIVENESS  DIAGNOSTIC  \\nfor growth – should be given the same minimum \\nturnover tax rate. While this is a contentious propo -\\nsition due to various socioeconomic and historical \\nconsiderations, policymakers would need to seri -\\nously consider the tax treatment of this sector given \\nits high net export earning status and potential for \\nhigh-income job creation.\\n• The sector recognition also has an implication for \\nallocations under government-supporting financing, \\nfor example, in getting a greater allocation of the Ex -\\nport Development Fund and the SME financing and \\nexport rebate, as enjoyed by other export sectors.\\n• Recently, the tax exemption regime has been con -\\nverted to tax credit for software exports, which \\nopens the door for onerous documentation and \\nharassment by tax authorities. Previously, the ex -\\nport of IT and IT-enabled services was exempt from \\nincome tax up to 30 June 2025. The Taxes ( Sec-\\nond Amendment  ) Ordinance 2021 dated 24 March \\n2021 replaced this exemption with a tax credit equal \\nto 100 % of the tax liability, subject to certain con -\\nditions. Additionally, the scope of services entitled \\nto tax credit has been enhanced to include cloud \\ncomputing and data storage services. However, \\nwhere such credit is not claimable (  such as due to \\nnon-compliance with any condition requisite  ), the \\nreceipts from exports are proposed to be taxed at \\n1 %, bringing them on par with the export of goods.\\n• Onerous tax documentation is often cited as a bot -\\ntleneck for firms in the industry, exacerbated by this \\nnew tax credit regime. Exemption qualification re -\\nquires onerous documentation to get exemption and \\nprocess export remittances into Pakistan. Start-ups, \\ntoo, face similar issues. Start-ups are exempt from \\nwithholding tax for five years under the Income Tax \\nOrdinance. The procedure for getting the exemption \\nand renewing it every year is cumbersome and cre -\\nates an environment of friction and exploitation with \\nthe tax authorities.\\n• Further, export of IT and IT-enabled services from \\nIslamabad is zero rated as against its current status \\nof being exempt. This will entitle a service provider to \\nclaim a refund for any input sales tax paid on goods \\nand services acquired. This will be relevant only to \\nexporters based in Islamabad, as IT services ren -\\ndered in provinces are subject to provincial sales tax \\nlaws, after the 18th Constitutional Amendment. The \\nprovincial differences in tax treatment would also \\nneed closer inspection to streamline and ensure that \\nan overall conducive climate across the country is \\ncreated for the IT exports industry to thrive.\\n8.– Travel advisory updated on 16 June 2021. Accessed at https:// travel.state.gov / content / travel / en / traveladvisories / traveladvisories / pakistan-\\ntravel-advisory.html .Risk perception and investor attractiveness\\nPakistan is generally perceived as a high-risk invest -\\nment proposition, particularly by US firms, which are \\nthe largest IT services importers. The United States De -\\npartment of State rated Pakistan with the Advisory Lev -\\nel 38 ( i.e. ‘reconsider travelling’ ), pinpointing terrorism \\nand sectarian violence as the main reasons. Similarly, \\nthe ‘political stability and absence of violence  / terror -\\nism’ index from the World Bank’s World Governance \\nIndicators ranks Pakistan at 125 out of a total of 126 \\ncountries.\\n• It is widely acknowledged in the industry that na -\\ntional security and political stability have a direct in -\\nfluence on the attractiveness and trust in Pakistan as \\nan IT exporter. As an industry leader noted, ‘Continu -\\nous government reform / policy irrespective of politi -\\ncal changes will create the trust foreign capital and \\nforeign buyers seek to invest in Pakistan and import \\nIT services from Pakistan’.\\n »Relevant activities in the PoA for business envi -\\nronment : Tax treatment – 3.1.1 and 3.1.2 ; Investor \\nattractiveness – 1.1.1, 1.1.2, 1.1.3, 4.1.1 and 4.2.2.\\nMARKET ACCESS LEVEL\\nInadequate market intelligence and \\ninternational marketing / branding\\n• Pakistan has not developed a concerted interna -\\ntional marketing strategy to effectively position itself \\nas an attractive and competitive offshore services \\ndestination. Consular staff around the world are not \\ntrained to identify or facilitate opportunities for Paki -\\nstani IT firms, and there is no formalized process for \\nIT firms to access Pakistani missions abroad to fa -\\ncilitate business promotion or drive country-specific \\nIT export targets.\\n• There is also a lack of research and market insight \\nto inform expansion into new markets. Often, Paki -\\nstani IT exports are limited to where the Pakistani \\ndiaspora resides and thus assist in getting market \\naccess. IT firms have less visibility into opportunities \\nin countries where Pakistani diaspora does not exist.',\n",
       " '28\\nPakistan Export Strategy 2023-2027 • SOFTWARE DEVELOPMENT\\nCapabilities for product quality, diversification \\nand innovation\\n• The lack of strong internal capabilities in some \\nsecond-tier firms for quality and delivery, including \\nadvanced project management, business analysis, \\ndata and cybersecurity, legal  / international contracts \\nand IT operation best practices can hold back their \\ninternational competitiveness. International process \\nand quality certifications should be strengthened \\nin order to enhance service delivery and ensure no \\nbreaches of service level agreements and loss of \\ncontracts.\\n• Pakistani companies need to strengthen their in -\\nnovation capabilities to develop IP-driven products, \\nmoving up from currently performing bespoke / cus-\\ntomization services on existing platforms and soft -\\nware made in the United States, Europe and other \\nmarkets. The current product portfolio is largely be -\\nspoke software development rather than product or \\nplatform development. Moreover, companies focus \\non winning big contracts with high margins rather \\nthan investing in or building sustainable products \\nthat can scale to different countries.\\n• A complementary aspect to upgrading to product \\ndevelopment should be strengthening intellectual \\nproperty. While the Intellectual Property Organization \\nAct exists, the process of trademark and intellectual \\nproperty registration is lengthy ( reports of some re -\\nsponse times as long as one year ). Moreover, there \\nis no section within the Intellectual Property Organi -\\nzation for software patent registration and protec -\\ntion, and the organization is in its nascent stages \\nand lacks efficiency and effectiveness in intellectual \\nproperty protection.Competition from government IT departments\\n• A persistent challenge faced by Pakistani IT firms \\nis the competition for IT services from public sector \\nentities, which have internal IT departments and / or \\ndrive digitization efforts. NADRA Technologies Lim -\\nited ( NTL ), Pakistan Revenue Automation ( Pvt ) Ltd \\n( PRAL  ), the Punjab Information Technology Board, \\nthe National Information Technology Board (  NITB  ), \\nthe National Logistics Cell (  NLC ) and the National \\nRadio & Telecommunication Corporation (  NRTC  ) \\nare all public sector-owned institutions set up to \\ndigitize essential government services as in-sourced \\nsoftware companies. However, they are highly con -\\nstrained by their speed to market, lack of innovation, \\nresource constraints, below-market pay scale, out -\\ndated management style and poor customer sup -\\nport operations, which limit their ability to respond \\nwith the agility required.\\n• In contrast, private IT firms are innovative, lean and \\nfollow emerging technology trends, but unfortunately \\ncannot compete with large government-owned IT \\nfirms. Consequently, they do not get the opportu -\\nnity to develop government technology ( GovTech ) \\nexperience and other eGovernment software devel -\\nopment initiatives, which could help them to build \\na portfolio and then bid for international tenders in \\nother countries. In cases where government projects \\nare open to the private sector, preconditions for bids \\ninvolve a certain size and experience that only a few \\nprivate IT firms can meet.\\n• The government would need to consider options for \\nencouraging domestic players to participate in the \\ngovernment digitization market, and also streamline \\nprocurement rules to encourage new players.\\n »Relevant activities in the PoA for market access \\nlevel : Market intel and global marketing – 1.1.1, \\n1.1.2, 1.1.3, 1.1.4, 1.2.1, 1.2.2, 1.2.3, 1.2.4 and 1.2.5  ; \\nProduct innovation and diversification – 4.1.2, \\n4.2.1, 4.2.2, 4.2.3 and 4.2.5 ; Government busi -\\nness – 4.2.5.\\nBy solving some of the key competitiveness \\nand growth constraints, Pakistan’s IT sector \\nand its software firms can position strongly \\nfor export growth. It is necessary to set some \\nstrategic objectives for the short to medium \\nterm to drive sector transformation, and prior -\\nitize some key actions.\\n©shutterstock',\n",
       " '29\\nTHE WAY FORWARD\\nThe acceleration of digitalization, further spurred on by \\nthe dramatic shifts brought on by COVID-19, indicate \\nbright prospects for the global IT services industry. \\nThis provides ample opportunity for Pakistan, with an \\nalready dynamic sector, to leverage this growth and \\nbecome a leading software services player for regional \\nand global clients. It is necessary to set some strategic \\nobjectives for the short to medium term to drive sector \\ntransformation, and prioritize some key actions.\\nSTRATEGIC FORESIGHT\\nThe strategy process considered current capabilities \\nand constraints, and future shifts and opportunities \\nfor Pakistan’s software sector. Industry stakeholders \\nextensively evaluated future orientations and upgrading \\ntrajectories. Figure 17  captures the summary of stake -\\nholders’ analysis of future trajectories along two curves \\n– the first assesses the present way of doing things \\nand which of those will remain strong and competitive \\ninto the future (  i.e. will remain as residual assets for Pa -\\nkistan ). The second assesses the current innovations \\nand trends already seen in Pakistan and globally, and how these will influence the future strategic orientation \\nof Pakistan’s software sector ( i.e. tomorrow’s way of \\ndoing things ). Some key messages that emerge from \\nthis exercise are the following :\\n• Some compelling residual assets  for Pakistan would \\ninclude the availability of affordable talent, high inter -\\nest among young people in the industry ( including \\nfrom non-IT backgrounds ), continued venture capi -\\ntal interest and continued interest by joint venture \\npartners.\\n• Some compelling strategic future shifts  for Paki -\\nstan’s industry include latching on to current trends \\nand innovations, including technology and digital \\ntransformation consulting, collaborating between \\nlarger firms and SMEs to deliver larger projects, \\nmore women in IT, strengthening exports in new \\nmarkets (  like Africa ), productivity-based remunera -\\ntion, remote infrastructure monitoring and support \\nservices, more local firms listing on the stock mar -\\nket, more mobile applications, greater emphasis \\non software products, not just services, and digi -\\ntal banking and a cashless society, providing new \\nproduct opportunities.\\n©shutterstock',\n",
       " '30\\nPakistan Export Strategy 2023-2027 • SOFTWARE DEVELOPMENT\\nFigure 17 :  Ride Two Curves foresight exercise\\n·\\n \\nPay is at minimal wages, no advantage for advance skills\\n·\\n \\nCompanies investing in  physical office space\\n·\\n \\nIncrease in freelancing activities\\n·\\n \\nCurrently developing software for others\\n·\\n \\nHR is old fashioned, not tailored for knowledge workers and \\nmanaging remote workforce\\n·\\n \\nInternational sales through foreign players\\n·\\n \\nOver dependency on US market\\n·\\n \\nPakistan diaspora\\n-\\nled business\\n·\\n \\nMostly web and mobile programming\\n·\\n \\nLittle or no chance of participating in mega government projects\\nTodays way of doing things\\nTomorrow’s way of doing things\\n·\\n \\nJVs and partnerships with countries globally to help reduce their \\nHR shortage \\n·\\n \\nHigh interest of youth in IT and they join from other faculties too \\n(finance, stats, etc)\\n·\\n \\nInvestments more into HR and soft assets than into concrete \\n·\\n \\nGovernment and private sector engagement through \\nprocurement engaging SMEs too\\n·\\n \\nProgrammers in web and mobile\\n·\\n \\nCountry brand image improvement with more exports\\n·\\n \\nVC investment hotspot\\n·\\n \\nUpskilling of talent pool\\nResidual assets\\nToday’s innovation\\n·\\n \\nCollaboration among SMEs to deliver larger projects\\n·\\n \\nFinancial services and digital tools as export\\n·\\n \\nFlexible working hours/place\\n·\\n \\nProductivity based remuneration\\n·\\n \\n4IR tech development (IoT, AI etc)\\n·\\n \\nMore women in IT\\n·\\n \\nBeing an IT key supplier to Africa\\n·\\n \\nMobile app development\\n·\\n \\nRemote infrastructure monitoring/ support\\n·\\n \\nTech consulting\\n·\\n \\nLocal language support in the apps\\n·\\n \\nUS/EU as high\\n-\\nvalue markets at 50%\\n·\\n \\nDigital transformation consulting\\n·\\n \\nDigital banks/cashless society\\n·\\n \\nDigital payments\\n·\\n \\nVoice\\n-\\nled  searches/5G and health tech\\n·\\n \\nHigh\\n-\\nvalue software development outsourcing\\n·\\n \\nIT outsourcing growth\\n·\\n \\nDeveloping mobile applications\\n·\\n \\nE\\n-\\ncommerce marketing/services/image processing\\n·\\n \\nInternet of Things/AI development services\\n·\\n \\nProof of life and high degree of accuracy in KYC\\n·\\n \\nIncrease in number of women in workforce\\n·\\n \\nFlexible working conditions\\nSource : ITC.',\n",
       " '31\\n THE WAY  FORWARD  \\nKey orientations to drive transformation in the sector\\n9.– Government of Pakistan, PSEB & MoITT , Pakistan IT Industry Overview ( 2020 ).To formulate a way forward plan, the strategy process \\nassessed current market and product orientations and \\nobtained strategic input from industry stakeholders on \\nfuture orientations. Accordingly, several orientations \\nwere identified : i ) around markets ; ii ) around prod -\\nucts, industries and technologies ; iii ) around emerging \\ntrends, gaps and opportunities ; and iv  ) around emerg -\\ning new technologies. Each of these are discussed in \\ndetail in the following section.\\nORIENTATION 1  :  \\nEXPLORING NEW MARKETS WHILE \\nCONTINUING TO GROW IN EXISTING \\nMARKETS\\nCurrently, Pakistan’s Top 5 exports are to the United \\nStates ( >50 % ), the United Arab Emirates ( >8 % ), the \\nUnited Kingdom ( >7 % ), Singapore ( >3 % ) and Can -\\nada ( >2 % ).9 There are some other limited exports to \\nEuropean countries and the Republic of Turkey. Pa -\\nkistan should aim to reduce the overdependence (  of \\nmore than 50  % ) of its revenue arising from a single \\nmarket. Other regions such as the Middle East and \\nNorth Africa, Europe and Scandinavia and Asia–Pacific \\nhave a growing need for IT products and services, and \\nwould be of interest for Pakistan’s market diversification efforts. The IDC identifies that a 54 % share of the $5 \\ntrillion technology industry spend comes from among \\nthese three regions : Europe and Scandinavia ( 22 % ) \\nand Asia Pacific ( 32 % ).\\nMarket focus and strategies\\nThe following section briefly explores an overview of \\ntrends and opportunities in some target markets.\\nMiddle East and North Africa ( MENA ) region : This is \\na particularly interesting region for Pakistan, where \\nIT sector expansion could be helped by supportive \\nforeign policy ( and consequently, trade ) allegiances. \\nGartner forecast IT spending in MENA to reach $171 \\nbillion in 2021. According to Gartner ( April 2021 ), ‘Busi -\\nness in MENA show renewed interest in IT projects as \\nimpact of COVID-19 declines in the region’. Gartner \\nwent on to report that the projects that went on hold or \\nwere cancelled during lockdowns in 2020 have recom -\\nmenced with a true understanding of resilient digital \\necosystems. Some countries in the region have adapt -\\ned encouraging policy regulations such as digital no -\\nmad visas, remote work visas and Smart Dubai 2021, \\netc. that would boost investment in IT services. The \\ngrowth in 2021-22 is expected to reach 4 %, amounting \\nto $177 billion. Key expenditure categories are indicat -\\ned in Figure 18 .\\nFigure 18 :  MENA IT spending ( 2020-22 ) ( USD, million )\\n2020 spending2020 growth \\n( % )2021 spending2021 growth \\n( % )2022 spending2022 growth \\n( % )\\nData centre systems 4 940 0 5 274 6.8 5 423 2.8\\nEnterprise software 6 922 0 7 925 14.5 8 737 10.2\\nDevices 25 522 -12.2 27 588 8 28 129 1.9\\nIT services 12 566 0.6 13 657 8.7 14 721 7.8\\nCommunications services 114 031 7.2 116 895 2.5 120 932 3.5\\nOverall IT 163 981 2.7 171 339 4.5 177 942 4\\nSource : Gartner, April 2021.\\nEurope : This region is the second-largest market after \\nthe United States, with a share of 19 % of global spend -\\ning on IT and forecasts of growth to $988 billion in 2022. \\nAccording to the IDC, in Europe, ‘digitalization process -\\nes will continue and even accelerate this year, and this includes cloud adoption. In terms of software, the \\nstrong demand for applications related to human cap -\\nital management, advertising, marketing, and customer \\nservice is expected to continue throughout 2021’. The \\nIDC ( May 2021 ) predicted that the European software ',\n",
       " '32\\nPakistan Export Strategy 2023-2027 • SOFTWARE DEVELOPMENT\\nmarket would post a growth of 6.6 % in 2021 . Pakistan \\nhouses a few European multinational corporations \\nsuch as Telenor, Jotun, Nestle, Unilever, Ecolean, Stan -\\ndard Chartered, GlaxoSmithKline and British American \\nTobacco, etc. The industry can push to set up global \\nin-house centres (  GICs  ) of these companies that have not set up in Pakistan already, and advocate for their \\nregional presence to be based out of Pakistan. For ex -\\nample, in India, the offshoring industry got their initial \\nboost through multinational corporations that offshore \\ntheir onshore requirements first, and then offshore \\nrequirements to Indian companies and workforce.\\nFigure 19 :  ICT spending growth rate YoY\\nSource : IDC Worldwide Black Book : Live Edition, May 2021.\\nAsia–Pacific : Asia is home to half of the world’s 3.2 \\nbillion population and, by 2030, Asia will be home to \\n65 % of the global middle class and will account for \\n40 % of global consumption. Asia currently accounts for \\nhalf of the world’s 2.2 billion internet users. According \\nto the IDC ( April 2021  ), ICT spending in the region was \\npredicted to grow by more than 4.9 % to reach $924 bil -\\nlion in 2021 and is expected to reach $1 trillion by 2024. \\nDue to the disruption to working models ( for example, \\nwork from anywhere policies ), a surge in spend for \\ndevices, cybersecurity and user experience, it is likely \\nthat cloud-based services will dominate in months and \\nyears to come. As per Gartner, mature countries in the \\nregion such as Singapore, the Republic of Korea, Aus -\\ntralia and New Zealand were projected to spend $174 \\nbillion, while China, Hong Kong and Chinese Taipei \\nwere expected to spend $498 billion in 2021.\\nParticipants also identified certain risks in the existing \\nand future market orientation mix, for example  : Market \\nsaturation in the United States ; thin profitability, low val -\\nue and high competition in Gulf and African markets ; \\nissues with foreign policy and consequently travel and \\nvisas in some target markets.The analysis above describes the potential of regions \\nother than the United States. While having the Unit -\\ned States as the main market, IT BPM opportunities \\nshould be explored in other growing regions and coun -\\ntries, building up alternatives in the medium to longer \\nterm. Participants in the strategy formulation exercises \\nidentified these regions as focus markets, as well as \\nthe Republic of Indonesia, Australia, and Malaysia spe -\\ncifically. It is recommended to identify the most po -\\ntential and high-priority markets in these regions with \\nwhich Pakistan can do business in IT and BPM and \\nhave a focused effort to commence and expand busi -\\nness opportunities there ( this is dealt with in the PoA ). \\nA thorough analysis of those priority countries needs to \\nbe conducted from an ‘outside in’ approach to identify \\nwhat would make the target country do business with \\nPakistan’s IT industry ( apart from hygiene factors like \\noverall digital, skills, trade and investment, and regu -\\nlatory policies  ). Once these high-priority countries for \\nthe short, mid and long term are identified, third-party \\nanalysts and market-entry consultants could promote \\nengagements and business between the two coun -\\ntries – ranging from bilateral economic partnership \\narrangements to industry association memorandums \\nof understanding and contracts between companies.',\n",
       " '33\\n THE WAY  FORWARD  \\nRequired investments and skills\\nInvestments would be needed in terms of public re -\\nsources to help de-risk some of firms’ international \\nmarket expansion efforts, including support for busi -\\nness-to-business meetings, participation in key trade \\nfairs and technology conclaves, support from Paki -\\nstan’s diplomatic missions in the above markets and \\nregions, and enabling long-term non-collateralized \\nfinancing for new foreign projects.\\nOn the private sector side, investments would be \\nneeded in formulating market-specific business strate -\\ngies, developing new product portfolios to suit these \\nmarkets and associated market collateral, as well as investments in new certifications, quality assurance \\nand risk and security processes that might be unique \\nand variable from market to market.\\nFirms would need to continue to strengthen in-house \\nskills in international business development and sales, \\ncontract negotiation, client servicing and advanced \\nproject management. Stronger contract (  legal  ) and \\nfinancial management skills would also be needed as \\ninternational business relationships proliferate and be -\\ncome more complex for existing firms. Additionally, lan -\\nguage skills ( aside from English ) to cater more deeply \\nand competitively in key target markets that are non-\\nEnglish speaking would be an advantage to Pakistani \\nIT firms looking to break in.\\nIn summary, Orientation 1 would have the following implications for the strategy :\\n• Markets  : Exploring opportunities in new markets \\nwhile continuing to grow in existing markets, and \\nformulating focused market entry strategies for \\neach market identified as high potential and high \\npriority ( see Activities 1.2.1, 1.2.2 and 1.2.3 in the \\nPoA ).\\n• Skills  : Improving firms internal go-to-market \\ncapabilities (  see Activity 1.2.4 ) ; improve soft \\nskills ( including language skills relevant to pri -\\nority markets ) to support prospecting / business development  / international marketing (  see Activ -\\nity 2.2.1 in the PoA ).\\n• Institutional  : Improving agencies like the TDAP \\nand PSEB’s abilities to promote the software \\nsector in key markets and provide timely market \\nintelligence ( see Activity 1.2.5 ).\\n• Investments  : Availability of affordable financing \\nto support international expansion ( see Activities \\n3.2.1, 3.2.2 and 3.2.3 in PoA ).\\nORIENTATION 2  :  \\nSTRENGTHENING PRESENCE IN \\nGROWING INDUSTRIES AND EMERGING \\nTECHNOLOGIES\\nWhile improving market orientations with a view to ex -\\npanding export opportunities, there is a need to also \\nimprove the Pakistani software sector’s positioning \\nfrom a products point of view and this entails looking \\nat growing industries and technologies in which to op -\\nerate. Already, Pakistan’s IT industry is present in many \\nindustry verticals. Participants identified presence in \\nthe following :\\n• Medical and healthcare\\n• Education\\n• Defence\\n• Telecoms\\n• E-commerce\\n• Automotive\\n• Entertainment• Educational technology ( EdTech )\\n• Fintech\\n• Games\\n• Real estate / property\\n• Digital payment\\nWhile continuing to grow in these verticals, the industry \\nenvisions growing additionally in the following  :\\n• Agriculture\\n• Embedded finance\\n• Oil and gas\\n• Cybersecurity\\nIn terms of technology spaces in which the industry \\nis currently playing, sector stakeholders identified the \\nfollowing : cloud, robotic process automation, 5G, AI, \\nIoT and big data. In terms of products, services and \\nsolutions, Pakistan is in enterprise applications, mobile \\nand web app development and integration, software \\nas a service, database administration services (  see \\nBox 3  ) and infrastructure services. In terms of future ',\n",
       " '34\\nPakistan Export Strategy 2023-2027 • SOFTWARE DEVELOPMENT\\norientations, industry stakeholders felt strongly about \\npositioning in the cloud computing space, while con -\\ntinuing to grow in IoT, AI and 5G-based services. On \\nservices and solutions, while growing software as a \\n10.– See https:// www.accenture.com / us-en / insights / cloud / ascend-to-cloud ?c=acn_glb_brandexpressionbbc_11635519&n=otc_1020 .\\n11.– Source : http : // www.bbc.com / storyworks / future / a-better-tomorrow / the-role-of-cloud-for-companies-in-a-post-covid-19-world / .service and app development are present, there is \\nkeen interest in digital financial services, data enable -\\nment services and advanced software development \\nservices.\\nBox 3 :  Data and database administration\\nA key area where governments and organizations are trying to set up a firm and comprehensive policy and management is the area \\nof data. When the lockdowns started throughout cities and countries, governments and organizations had to take immediate steps \\nto continue the business and to serve as much as possible without interruptions. Data played a pivotal role and became one of the \\nkey drivers and focus investments for the coming years. According to industry estimates, spending on database administration \\ntakes the lead in investments in the data space, with 61 % of forecast new investments going into this, with 56 % in data management \\nand policies ( CompTIA Industry Outlook, 2021 ).\\nSome of the risks in terms of technologies and prod -\\nucts, services and solutions that stakeholders identified \\ninclude  :\\n• Shortage of good-quality programmers  ;\\n• Fast and affordable connectivity  ;\\n• Changes in developer platforms ;\\n• Buyer preferences for foreign and  / or bigger players  ;\\n• Lack of risk capital for product development ;\\n• Competition from government in product develop -\\nment opportunities.\\nMarket focus and strategies\\nCloud computing, advanced analytics and cybersecu -\\nrity are clearly top technology priorities globally (  see \\nFigure 20 ). As per NASSCOM, the global cloud market \\nis forecast to grow with a CAGR of 27 %, to exceed $1 \\ntrillion by 2026, while the cybersecurity market is set to \\nreach $282 billion by 2027, and AI ( including advanced \\nanalytics and machine learning ) is set to exceed $110 \\nbillion in 2027.\\nCloud computing\\nThe pandemic and work from home transformed \\nthe requirement of businesses and governments to \\nstrengthen cybersecurity and cloud infrastructure and \\nadopt analytics and AI capabilities much more. Not all \\ncompanies were equipped with the technological tools \\nthey needed to combat these new challenges. For ex -\\nample, pre-COVID-19, most businesses had just begun their cloud migration journeys. Research conducted by \\nAccenture in 201910 found that 90 % of enterprises had \\n‘adopted cloud technology in some form’. On average, \\nthose enterprises only had approximately 20 %-40 % of \\ntheir workload in the cloud.11 The cloud services mar -\\nket includes infrastructure as a service ( IaaS ), software \\nas a service ( SaaS ), platform as a service ( PaaS ), \\nbusiness process as a service (  BPaaS ), and cloud \\nmanagement and security.  Pakistan could explore to \\nexpand in services offering on IaaS and BPaaS as a \\nstarter.\\nCybersecurity\\nIt is now well recognized that cybersecurity is a sec -\\ntor that runs across all industries, and has particularly \\nboomed in the COVID-19 era ( see Box 4  ). A focused \\neffort is recommended to build a formidable cyberse -\\ncurity industry programme collaborating the entire eco -\\nsystem, including the country’s defence establishment. \\nPakistan could venture into exporting defence software \\nand cybersecurity solutions and create its unique \\nstrength into a value proposition in the IT industry. As a \\ncase in point, the State of Israel had an export revenue \\nfrom the defence industry of $8.3 billion in 2020, and \\n5 % of it ( $415 million ) is attributed to information and \\ncyber systems. The industries that would spend the \\nmost on cybersecurity are banking, financial services \\nand insurance ( BFSI ), telecom, government, defence, \\nhealth, retail, manufacturing, energy and utilities. These \\nindustries are dominant in Pakistan and the expertise \\nand experiences servicing them should be considered \\nfor export.',\n",
       " '35\\n THE WAY  FORWARD  \\nFigure 20 :  Top technology priorities globally dominated by cloud, advanced analytics and cybersecurity\\nAR/VR/\\nMixed Reality\\nSource: 2021 NASSCOM CEO Survey, Gartner, FnF Research, Fortune Business InsightsGlobal AI spending \\nwill double by 2024, \\nwill reach USD 110 \\nBillionGlobal \\ncybersecurity \\nmarket to grow to \\nUSD 282 Billion  \\nby 2027Global RPA market \\nto cross USD 2 \\nBillion  by 2021, \\ngrowing at 20%Global cloud \\ncomputing \\nmarket to grow \\nat a 27% CAGR \\nto cross  USD 1 \\nTrillion by 20262021 NASSCOM CEO Survey\\nTech Industry Outlook\\nWhat Are The Top Technology\\nPriorities For Your Customers In 2021?\\nGlobal Technology Priorities In 2021 – Broadening Focus on \\nEmerging Tech Areas\\n5G Blockchain Devices\\n& IoTRPA &\\nRoboticsCyber\\nsecurityAdvanced\\nAnalytics & AI\\n/ML/NLPCloudCloud\\nAdvanced Analytics & AI\\nCybersecurity\\nRPA & Robotics\\nDevices & IOT\\nBlockchain\\n5G\\nAR/VR/Mixed RealityTop Tech\\nPriorities,\\n2019-2021,\\nRanked\\nCloud, Advanced Analytics/AI and Cybersecurity\\nAre The Top 3 Tech Priorities In 20212019 2020 2021\\n2\\n5\\n1\\nNA\\n3\\n4\\nNA\\nNA1\\n2\\n5\\n6\\n4\\n3\\nNA\\nNA1\\n2\\n3\\n4\\n5\\n6\\n7\\n8\\n8%12%14%16%18% 18%\\n7% 7%\\nKEY Insights Source : NASSCOM CEO Survey 2021.\\n©Pexels',\n",
       " '36\\nPakistan Export Strategy 2023-2027 • SOFTWARE DEVELOPMENT\\nBox 4 :  Cybersecurity spending booms in the pandemic era\\nIt is reported that, in February to May 2020, there were more than 500,000 people globally whose personal data was compromised using \\nvideo conferencing ( Deloitte, n.d ). Since working from home became the norm, 47 % of individuals become victims of phishing scams. As \\nper the Fortune Business Insights report1 in March 2021, the cybersecurity market in 2020 was $153 billion ( of which North America spent \\n$61.93 billion ) and was $165.78 billion in 2021, and is projected to grow at a 12 % CAGR to $366 billion in 2028. Banking, financial services \\nand insurance ( BFSI ), IT and telecommunications, retail, healthcare, government, manufacturing, energy and utility are expected to drive the \\nmarket growth in way of spending in cybersecurity ( see Figure 21  ).\\nFigure 21 :  Global cybersecurity market share, by industry ( 2020 )\\nSource : Fortune Business Insight.\\nFocus on cybersecurity has indeed leapfrogged, and investments increased in 2020–21. Remote workforce became the norm during the \\npandemic and many organizations have transitioned into partial or permanent remote working policies. With this has come the need for \\ncompliance with organizational policies and swift introduction of standard operating procedures, resulting in time and resources spent on \\nworkforce education. This trend is fuelled by the regulations from organizational human resources departments and IT services trying to \\nbring in policies and procedures to safeguard company interests from non-compliant activities that could make data and environments \\nvulnerable from employee breeches within and cyberattacks from outside. Risk analysis, cybersecurity analytics and penetration testing are \\nall areas that are forecast to see more investment in the coming years (  Figure 22  ).\\nFigure 22 :  Key investments and focus areas in cybersecurity\\n68%\\n66%\\n64%\\n55%\\n48%\\n47%\\n37%Compliance\\nWorkforce education\\nRisk analysis\\nCybersecurity analytics\\nPrivacy\\nPenetration testing\\nCybersecurity metrics\\nSource : CompTIA’s Industry Outlook, 2021.\\n1.– Source : https:// www.fortunebusinessinsights.com / industry-reports / cyber-security-market-101165 .',\n",
       " '37\\n THE WAY  FORWARD  \\nAdvanced analytics and AI\\nThe use of cognitive analytics / artificial intelligence ( AI ) \\nsystems is set to accelerate, with the expectation that it \\nwill be considered mainstream in the next 5–10 years. \\nIt will change the way individuals interact with data \\nand systems and the way businesses are run. Large \\nenterprises globally are using advanced analytics for \\nforecasting, data mining, machine learning, learning \\npatterns, semantic analysis, sentiment analysis and \\nsimulation, etc. Leading enterprise solutions have \\nincluded advanced analytics into their mainstream \\nproducts such as supply chain solutions, customer \\nrelationship management ( CRM ) and human resourc -\\nes ( HR ), to name a few. Existing trends have been \\nsomewhat disrupted due to COVID-19 and historical \\ndata that reflects past conditions is quickly becoming \\nobsolete. Consequently, there is now a shift from ‘big \\ndata’ to ‘small and wide data’, with Gartner predict -\\ning that, by 2025, 70 % of organizations will make this \\nshift, providing more context for analytics and mak -\\ning AI less ‘data hungry’. Services for analytics and \\ndata gathered through AI could be a novel offering by Pakistan software houses. Software houses could start \\nusing the AI / machine learning technologies to gather \\ninformation on consumer and organizational demo -\\ngraphics, behaviour, sentiments and predictions, etc. \\nand provide the data as a service and / or analytics as a \\nservice ( data as a service and analytics as a service ).\\nRequired investments and skills\\nInvesting resources in network expertise, cloud com -\\nputing, server administration, storage (  data centres  ) \\nand mobile device management should be given \\npriority to win in the cloud market. Further, help desk \\nand support services should focus on more complex \\nproblem-solving services than just first-level services. \\nHuman resources need to be oriented towards new \\nskills in cybersecurity, data analytics and AI as well as \\nin higher-order skills (  such as competencies for prob -\\nlem-solving rather than mere transactional-level en -\\ngagement ). Additionally, investing in creating a robust \\ntalent pipeline in these new industries and technologies \\nwill be essential, and the strategy’s PoA includes some \\nactivities specifically for this purpose.\\nIn summary, Orientation 2 would have the following implications for the strategy :\\n• Investments  : Attracting FDI that will support Pa -\\nkistan’s entry into these new industries and tech -\\nnologies ( see Activity 4.1.1 in PoA ) ; investments \\nthat build internal capabilities for innovation, im -\\nproving quality and product upgrading to latch \\non to emerging technologies and industries (  see \\nActivities 4.2.3 and 4.2.4 in PoA ).\\n• Institutional  : Updating IP protection, data priva -\\ncy and other laws that make Pakistan attractive \\nto these new industries that will be increasingly more discerning of issues like cybersecurity and \\nproduct IP ( see Activities 4.2.1 and 4.2.2 ).\\n• Skills  : Building up the overall talent pool and \\nthe specialized technical skilled workforce that \\nis better suited to these new technology trends, \\nas well as to enhance delivery excellence (  see \\nActivities 2.1.1, 2.1.2, 2.1.3, 2.1.4, 2.1.5 and 2.2.2 \\nin PoA  ) ; strengthening internal product portfo -\\nlios aligned to the growing technologies and in -\\ndustries discussed above ( see Activity 1.2.4 in  \\nthe PoA ).\\nORIENTATION 3  :  \\nFOCUS ON KEY TRANSFORMATION \\nAREAS FOR THE SECTOR\\nThis orientation is about focusing on three key transfor -\\nmation areas for the sector, namely user experience, \\nenhancing women’s participation in the sector, and \\nbuilding up international giants and IP-driven growth.Focus and strategies\\nFocus on user experience and quality\\nCompanies and governments have started using \\ncustomer experience and user experience to make a \\ndifference and to have a competitive advantage. With \\nthe explosion of the mobile and apps culture, this trend \\nhas become prevalent. Longer cycles of development, \\nincluding multiple testing and quality checks, is chang -\\ning into a more agile and dynamic develop, release ',\n",
       " '38\\nPakistan Export Strategy 2023-2027 • SOFTWARE DEVELOPMENT\\nand load frequent patches / fixes approach. According \\nto global forecasts, 62 % and 60  % of investments in \\nIT are expected to be in user experience and quality \\nassurance respectively in the coming years ( CompTIA \\nIndustry Outlook 2021 ). Pakistani software firms that \\nfocus on improving the user experience of software \\nsolutions and are known for high quality in both prod -\\nucts and service delivery will be successful in interna -\\ntional markets.\\nFocus on women’s participation\\nAccording to available data, there is less than 15 % fe-\\nmale participation in the IT workforce ( much lower than \\nIndia’s 35  %, Brazil’s 40  % and the Philippines’ 60  % ), \\ndespite nearly 60  % female participation in IT education. \\nA safe working environment, reducing mobility restric -\\ntions and combating traditional gender roles is needed \\nto narrow this disparity. With the adoption of ‘work from \\nanywhere’, some constraints ( like work environments \\nand mobility restrictions  ) would increasingly not be \\nconstraints anymore. Having laid out policies for re -\\ncruitment encouraging women to join the IT workforce \\namong the leading IT firms would set precedence for \\nothers to follow. Industry association initiatives like P@\\nSHA’s Diversity and Inclusion Framework is an excel -\\nlent start. The government and the IT industry should \\nbring about favourable labour policy frameworks and \\nencourage organizations to recruit more women into \\nthe IT labour force.\\nFocus on building up giants and IP creation\\nThe industry needs to make 10 of the large IT BPM \\ncompanies become global leaders and have them \\nrecognized like India’s large software houses, such \\nas TATA Consultancy Services ( TCS ), Infosys and \\nTech Mahindra, etc. When the large become trans -\\nnational, the midsized companies eventually become \\nlarge, and the small become medium and up the lad -\\nder. FDI can help in this upgrading via joint ventures \\nand value chain funding, etc. The recent joint venture \\nbetween Samsung and Lucky Group to manufacture \\nSamsung mobile devices needs to be marketed to \\nshowcase Pakistan’s capabilities and to lure other \\nmultinational corporations in the technology sector, \\nspecifically in software. Pakistan needs to attract FDI \\nto help domestic firms grow, and look at IP creation \\nfor locally developed products and offer these on a \\nsoftware as a service ( SaaS ) basis, which is becoming \\nthe default choice globally. Nationally, the government \\ncan support increasing scale and also encourage \\nentry into new technologies by better enabling the \\nprivate sector to participate actively and fairly in new \\ngovernment digitalization programmes that enable experimentation, which can then be scaled up to offer \\ninternational commercial offerings. Leveraging public \\ninvestment for advancing private sector development \\nof new technologies is a popular strategy among \\nmany global IT hubs.\\nFocus on improving advanced technical capabilities \\nin emerging technologies\\nTechnologies currently seen as emerging, such as IoT, \\nAI, robotic process automation, autonomous vehicles, \\nmixed reality (  virtual reality and augmented reality  ), \\n5G, digital twins and voice interfaces, etc., would be \\nadapted to the mainstream in a year or two as the pace \\nof digital adaptation and transformation quickens. \\nWhile the industry has grown thus far with base level \\neducation and trained workers, advanced technical \\nskills are needed in order to latch on to these emerg -\\ning technologies and be able to be a strong global \\nplayer. These advanced skills are primarily developed \\nat tertiary level, particularly through university educa -\\ntion that rewards research and post-doctoral work. To \\nbuild a solid cohort of young people in these new tech -\\nnologies, there needs to be a sound knowledge and \\nresearch base. A targeted effort to build up domestic \\nacademic talent along with welcoming international \\n( including Pakistani diaspora ) talent will be required.  \\nInternal investments by firms – by allocating teams and \\nfunding pools – to explore and experiment on these \\ntechnologies can also help generate new ideas and \\nseek new profitability while not risking core growth  \\nand revenues.\\nRequired investments and skills\\nFor the above focus transformation areas, investments \\nwill be needed at both firm and national levels. At the \\nfirm level, investing in better workforce and human \\nresources frameworks that encourage and reward \\nquality and service excellence and encourage great -\\ner female participation and retention will be needed. \\nAt the national level, too, better labour market frame -\\nworks that not only build the pipeline of women with IT \\neducation, but also ensure conversion into software \\nsector employment and lowers attrition. Meanwhile, \\nfor building up giants and moving to IP-led growth, \\nfirm-level investments in scaling their business, ag -\\ngressively promoting in key growth markets, investing \\nin skills for international expansion and new product \\ndevelopment will be important. National-level initiatives \\nthat support and incentivize this trajectory – by way of \\nmatching grants, targeted and time-bound schemes, \\nand non-collateralized financing tools to help de-\\nrisk global expansion – would help firms accelerate  \\nthis shift.',\n",
       " '39\\n THE WAY  FORWARD  \\nIn summary, Orientation 3 would have the following implications for the strategy :\\n• Investments  : Attracting FDI that will grow the \\nscale of domestic firms ( see Activity 4.1.1 in \\nPoA ) ; investments that build internal capabili -\\nties for innovation, improving quality and product \\nupgrading to latch on to emerging technologies \\nand industries ( see Activities 4.2.3 and 4.2.4 in \\nPoA ).\\n• Institutional  : Updating IP protection frameworks \\nand encouraging greater IP-led growth for do -\\nmestic firms ( see Activity 4.2.1 in the PoA ) ; in-\\ntroducing an incentives regime to encourage domestic firms to build product companies and \\nscale globally ( see Activity 4.2.3 in the PoA ).\\n• Skills  : Introducing training programmes to up -\\ngrade delivery capabilities towards better quality \\n( see Activity 2.2.2 in the PoA ) ; enhancing wom -\\nen’s participation in the sector ( see Activity 2.1.6 \\nin the PoA ) ; upgrading tertiary education capa -\\nbilities in emerging technologies like AI, machine \\nlearning, big data and robotics, etc. ( see Activity \\n2.1.5 in the PoA ).\\nThe strategic framework\\nTHE VISION\\nIndustry stakeholders deliberated at length in crafting \\na vision for the sector’s five-year strategy, considering \\nkey strategic orientations and transformation areas identified. Key words were identified, and several per -\\nmutations of a vision statement were developed and \\ndiscussed. A word cloud that visualizes the key words \\nintroduced by them is provided in Figure 23 .\\nFigure 23 :  Word cloud of key vision areas\\nThe following statement was selected and delineates \\nthis strategy’s proposed vision and strategic approach \\nto develop the software exports sector.\\n“To be the leading export sector in the country, and make \\nPakistan a preferred destination for global IT products  \\nand services and the preferred profession for youth.”',\n",
       " \"40\\nPakistan Export Strategy 2023-2027 • SOFTWARE DEVELOPMENT\\nSome key parts of this statement that are compelling \\nare :\\n• The vision of becoming the leading export sector, \\nwhich provides a strong signal to the private sector \\non the goal being chased and a signal to the public \\nsector on the industry’s ambition and focus ;\\n• The vision to make Pakistan a preferred global des -\\ntination, which is important to signal for exports as \\nwell as foreign investment ;\\n• The mention of products ( not only services ) signals \\nthe desire to move up the value ladder and become \\nmore IP-generating  ;• The mention of the preferred profession for youth is \\na strong signal on the goal of creating more good \\njobs to meet rising youth aspirations.\\nTHE STRATEGIC OBJECTIVES\\nThe PoA will respond to this vision by addressing the \\nsector’s constraints and leveraging opportunities in a \\ncomprehensive manner. The PoA will be structured \\naround the following strategic objectives, agreed on \\nby sector stakeholders.\\n•\\nDevelop\\na\\ncompelling\\nbrand\\nfor\\nPakistan\\nIT\\nto\\nstrengthen\\ninternational\\npositioning,\\nand\\nto\\naccelerate\\nexport\\nfirms'\\nmarket\\ndiversification\\nand\\ncommercial\\nsuccess\\nabroad\\n.\\nStrategic Objective 1: Strengthen Pakistan’s \\nsoftware sector’s global market positioning and \\ninternational competitiveness\\n•\\nExpand\\nthe\\ntalent\\npipeline\\nwith\\nan\\neye\\non\\ninclusiveness,\\nwhile\\nalso\\nimproving\\nfirm\\n-\\nlevel\\nmanagerial\\nand\\ntechnical\\ncompetencies\\nto\\ndrive\\ncompetitiveness\\nand\\nquality\\n.\\nStrategic Objective 2: Improve talent availability \\nfor growth and competitiveness\\n•\\nImprove\\ntax\\nframeworks\\nand\\nstreamline\\ncompliance\\ncomplexities,\\nand\\nimprove\\naccess\\nto\\ncapital\\nfor\\nsoftware\\nfirms\\n.\\nStrategic Objective 3: Improve business climate \\nfor software firms to compete and grow\\n•\\nEncourage\\nnew\\ninvestment\\nin\\nthe\\nsector\\n(including\\nfostering\\nstart\\n-\\nups)\\nand\\nimprove\\nthe\\nenabling\\nframework\\nto\\ndrive\\nproduct\\n-\\nled\\ninnovation\\n.\\nStrategic Objective 4: Strengthen innovation \\nand upgrading in the software sector\\n©shutterstock\",\n",
       " '41\\nIMPLEMENTATION \\nFRAMEWORK\\nThe objective of the Software Development Export \\nStrategy for Pakistan is to create an enabling envi -\\nronment for the industry to realize its potential and \\nbenefit the country. Achieving this ambitious objective \\nwill depend on the industry’s ability to implement the \\nactivities defined in this strategy. To structure sector \\ndevelopment, it is recommended that the following \\ninterventions be implemented with priority  :\\n• Improve and increase the pipeline or talent ;\\n• Resolve, on an ongoing basis, tax and other regula -\\ntory issues ;\\n• Strengthen international exposure, branding and ex -\\nport market entry ;\\n• Foster a conducive climate for product develop -\\nment, innovation and start-up entrepreneurship.\\nMANAGING FOR RESULTS\\nThe translation of priorities into implementable projects \\nwill contribute to achieving the substantial increase in \\nexport competitiveness and export earnings envisaged \\nunder the strategy. These will be driven by reforming \\nthe regulatory framework, optimizing institutional sup -\\nport to exporters and strengthening private sector \\ncapacities to respond to market opportunities and \\nchallenges. Allocation of human, financial and tech -\\nnical resources is required to efficiently coordinate, \\nimplement and monitor overall implementation.\\nSuccessful execution of activities will depend on \\nstakeholders’ abilities to plan and coordinate actions \\nin a tactical manner. Diverse activities must be syn -\\nchronized across public and private sector institutions \\nto create sustainable results, and it is therefore nec -\\nessary to foster an adequate environment and create \\nan appropriate framework for the strategy’s successful \\nimplementation.\\nKey to achieving the targets will be coordination \\nof activities, monitoring progress and mobilizing re -\\nsources for implementation. To that effect, industry \\nrepresentatives recommended that a public–private \\nsector specific council for the software export sector be \\nrapidly established, operationalized and empowered. The sector specific council will be responsible for over -\\nall coordination, provision of policy guidance and the \\nmonitoring of industry development along the strategic \\norientation.\\nSOFTWARE SECTOR SPECIFIC COUNCIL\\nIt is recommended that a software sector specific \\ncouncil be rapidly established by the MoC and effec -\\ntively organized by the TDAP and MoC to support the \\nindustry with the capacity to steer its development stra -\\ntegically. The sector specific council will be facilitated \\nby a secretariat coordinated by the TDAP, supported \\nand advised by P@SHA.\\nIndustry representatives recommend that the sec -\\ntor specific council be composed of the following \\nmembers  :\\n• Ministry of Commerce ;\\n• Trade Development Authority of Pakistan ;\\n• Ministry of Information Technology and Telecommu -\\nnication  ;\\n• Pakistan Software Export Board  ;\\n• Ministry of Federal Education and Professional Training ;\\n• Small and Medium Enterprises Development Author -\\nity ( SMEDA ) ;\\n• Federal Board of Revenue ;\\n• Securities and Exchange Commission of Pakistan ;\\n• Board of Investment ;\\n• P@SHA  ;\\n• University of Engineering and Technology, Lahore.\\nIt is recommended that the sector specific council be \\nempowered to meet quarterly and to implement the \\nfollowing functions  :\\n• Create a shared understanding of key market chal -\\nlenges and opportunities facing the sector ;\\n• Set goals and targets that, if achieved, will strength -\\nen the sector’s competitive position and enhance \\nPakistan’s overall capacity to meet markets’ chang -\\ning demands ;',\n",
       " '42\\nPakistan Export Strategy 2023-2027 • SOFTWARE DEVELOPMENT\\n• Propose key policy changes to be undertaken and \\npromote these policy changes among national deci -\\nsion makers ;\\n• Support the coordination, implementation and moni -\\ntoring of activities in the sector by the government, \\nprivate sector, institutions or international organiza -\\ntions to ensure alignment to goals and targets, as \\nrequired to contribute to resource identification and \\nalignment.KEY SUCCESS FACTORS FOR EFFECTIVE \\nIMPLEMENTATION\\nDuring stakeholder consultations, several participants \\nreiterated the need to focus on implementation to en -\\nsure the strategy’s success. Some of the comments \\nare mentioned below.\\n‘Stakeholders need to identify who will do what \\nwhen a final plan of action has been decided on. \\nWithout laying out clear roles and responsibilities, \\nwe might not get anywhere. All sectors will need to \\nwork together.’\\n‘While the strategy is comprehensive and looks \\ngood so far, the outcome can only be determined \\nas long as the stakeholders and their responsibilities \\nare clearly defined.’\\n‘One cannot rely on a single institution or the gov -\\nernment alone. The tasks need to be clear, and \\neveryone’s role needs to be assigned and cross-\\nchecked so it can be seen through. The industry \\nneeds support, the government is willing to provide it and, if assembled, applied and monitored prop -\\nerly, it will set us on the right track and enable the \\nindustry to achieve its true potential.’\\n‘It is imperative that [the strategy] lay great stress \\non meeting the timeline set for the laid-out goals. \\nDelays due to procedural issues and communica -\\ntion pipelines tend to make things less effective \\nand are a hindrance to implementation of rectifying \\nmeasures.’\\n‘It is imperative that stakeholders from both govern -\\nment and the private sector are involved in [the] \\nplan of action, because the implementation would \\nrequire equal effort from both sides.’\\nThe presence of the sector specific council to oversee \\nthe strategy’s implementation is a key success factor, \\nbut it is not sufficient to effectively fulfil its assigned \\nfunctions.\\nPrivate sector support and participation in \\nimplementation\\nThe private sector clearly expressed its willingness to \\ncontribute, directly or in partnership with public insti -\\ntutions, to the strategy’s implementation. Their imple -\\nmentation efforts can range from providing business \\nintelligence to institutions to contributing to project \\ndesign, promotion and branding, and policy advoca -\\ncy, etc. In brief, the private sector’s practical knowl -\\nedge of business operations is essential to ensuring \\nthat the strategy remains aligned to market trends and \\nopportunities.Proactive networking and communication\\nThe key implementing institutions detailed in the PoA \\nneed to be informed of the strategy’s content and the \\nimplications for their 2022–26 programming. This net -\\nworking and communication is essential to build further \\nownership and provide institutions with the opportunity \\nto confirm the activities they can implement in the short \\nto long term. It will be important for the TDAP, MoC and \\nmembers of the sector specific council to reach out to \\nrelevant institutions nationally to create awareness and \\nsupport for the development of the software services \\nindustry.\\nResources for implementation\\nThe sector specific council, in collaboration with \\nthe TDAP and the Secretariat at MoC, will need to \\nleverage additional support for efficient implementa -\\ntion. Effective planning and resource mobilization is ',\n",
       " '43\\n IMPLEMENTATION  FRAMEWORK  \\nindispensable in supporting strategy implementation. \\nResource mobilization should be carefully planned and \\norganized.\\nAs the software export industry is a priority sec -\\ntor strategy of the STPF, the Government of Pakistan \\nshould define annual budget allocations and support \\nto drive the industry’s growth. This commitment will \\ndemonstrate clear engagement towards strength -\\nening the sector and encourage private partners to \\nsupport development. In addition to national budget \\nsupport, resource identification will require the Board of Investment to effectively target foreign investors \\nin line with the strategy’s priorities. Investment flows \\nto Pakistan should also be considered as a valuable \\ndriver of strategy implementation and overall industry \\ndevelopment.\\nThe various implementation modalities detailed will \\ndetermine the success of the strategy’s implementa -\\ntion. However, high-level support from the government, \\nin collaboration with strong championship by the pri -\\nvate sector, will be the real driver of successful strategy \\nimplementation.\\nTo achieve the vision and strategic objectives discussed, a robust, actionable and realistic strategic plan of action \\n( PoA ) is required. This is provided in the section below, and constitutes the heart of this strategy.\\nThe PoA is structured along the four strategic objectives and the operational objectives described above. For each \\nobjective, the PoA outlines detailed activities and their implementation modalities, which include  :\\n• Priority level :  Priority 1 being the highest and 3 the lowest.\\n• Period : The desired time-frame of the activity.\\n• Reform or project  : Defines whether the activity entails a legal action.\\n• Targets  : Quantifiable targets that allow completion monitoring of the activity during the implementation stage.\\n• Leading implementing partners  : One single accountable lead institution per activity. ( The institution can also \\nhave a technical role or can solely have an oversight and coordination role. )\\n• Supporting implementing partners  : Any institution that should be involved at any stage of the activity’s im -\\nplementation.\\n©Pexels',\n",
       " '',\n",
       " 'Islamic Republic of Pakistan  \\nExport Strategy  2023-2027  \\nSOFTWARE DEVELOPMENTPLAN OF ACTION  \\n( 2023-2027  )',\n",
       " '46\\nPakistan Export Strategy 2023-2027 • SOFTWARE DEVELOPMENT\\nStrategic objectiveOperational \\nobjectiveActivityPriority\\n( 1=highest )Period\\nReform or \\nprojectTargetsLeading \\nimplementing \\npartnersSupporting \\nimplementing \\npartners2023\\n2024\\n2025\\n2026\\n2027\\n1 . Strengthen \\nPakistan’s software \\nsector’s global \\nmarket positioning \\nand international \\ncompetitiveness1 .1 Develop \\nand promote \\na credible and \\npersuasive brand \\npositioning for \\nPakistani soft -\\nware IT exports1.1.1. Develop a ‘Pakistani IT’ unique and \\ncredible brand positioning jointly among the \\nindustry association and the PSEB/TDAP \\nthrough a series of industry consultations \\nwith expert facilitation, alongside global \\ntrends and competitive pressures.2 Project• Sector country brand \\ndeveloped through \\nconsultative processPSEB• TDAP\\n• P@SHA\\n1.1.2. Develop media collateral and launch \\npublicity campaign to promote the brand \\nand develop marketing materials ( featuring \\nPakistan’s software capabilities, sector de -\\nvelopment initiatives and incentives, and top \\nbusiness profiles/case studies of success  ), \\nand branding guidelines based on the above \\nidentified brand positioning, to be used for all \\ndomestic and international industry events.1 Reform• Media collateral \\ndeveloped\\n• Brand guidelines \\ndevelopedMoITT• PSEB\\n• TDAP\\n• MoC\\n1.1.3 Train Pakistan’s commercial counsel -\\nlors in diplomatic missions abroad on the \\nnew brand positioning, conduct information \\nsessions and identify priority countries on \\nwhich to work.2 Project• 10 overseas missions \\ntrained\\n• Pakistani software \\nexporters report \\nimproved support \\nfrom commercial \\ncounsellorsPakistan Insti -\\ntute of Trade & \\nDevelopment \\n( PITAD )• MoITT\\n• PSEB\\n• P@SHA\\n• TDAP\\n1.1.4. Identify and participate in the most \\nrelevant IT sector international fairs and \\nbusiness-to-business opportunities (  initially \\nvirtually  ).1 Project• 5 trade fairs attended\\n• 50 business-to-\\nbusiness matchmaking \\nopportunities pursuedTDAP• P@SHA\\n• PSEB\\n1 .2 . Accelerate \\nmarket diver -\\nsification and \\nimprove com -\\nmercial success \\nin new markets1.2.1. Conduct detailed analysis on high-\\npotential and high-priority markets and drive \\nawareness among software firms to focus \\ntheir business development efforts.1 Project• Analysis completed \\nand publicized\\n• 60 % of existing \\nsoftware firms have \\nused the analysis to \\ntarget their business \\ndevelopment effortsPSEB• P@SHA\\n• TDAP\\n1.2.2. Develop detailed market entry plan for \\nthe MENA region, including specific approach \\non how to break into identified specific mar -\\nkets, regulatory conditions, listing of potential \\npartners and holding business-to-business \\nmatchmaking, etc.1 Project• MENA market entry \\nplan developed\\n• At least 20 firms have \\nwon MENA region \\nbusinessMoC• PSEB\\n• TDAP\\n• Trade missions\\n• P@SHA',\n",
       " '47\\n PLAN OF ACTION ( 2023-2027 ) Strategic objectiveOperational \\nobjectiveActivityPriority\\n( 1=highest )Period\\nReform or \\nprojectTargetsLeading \\nimplementing \\npartnersSupporting \\nimplementing \\npartners2023\\n2024\\n2025\\n2026\\n2027\\n1 . Strengthen \\nPakistan’s software \\nsector’s global \\nmarket positioning \\nand international \\ncompetitiveness1 .2 . Accelerate \\nmarket diver -\\nsification and \\nimprove com -\\nmercial success \\nin new markets1.2.3. Develop detailed market entry plan for \\nthe Asia–Pacific region, including a specific \\napproach on how to break into identified spe -\\ncific markets, regulatory conditions, listing of \\npotential partners and holding business-to-\\nbusiness matchmaking, etc.2 Project• Asia–Pacific market \\nentry plan developed\\n• At least 20 firms have \\nwon new Asia–Pacific \\nregion businessMoC• PSEB\\n• TDAP\\n• P@SHA\\n• Trade missions\\n• MoITT\\n1.2.4 Conduct capacity-building programme \\nfor firms to review and refine their product \\nportfolio and internal go-to-market strategies \\nfor identified market opportunities (  as per \\n1.2.1, 1.2.2 and 1.2.3 ).2 Project• Capacity-building \\nprogramme developed \\nand implemented\\n• At least 60 % of firms \\nreport refinements to \\nproduct portfolio and/\\nor improved go-to-\\nmarket abilitiesPSEB • P@SHA\\n1.2.5 Improve capabilities in key govern -\\nment agencies ( e.g. the TDAP and PSEB ) \\nthrough a series of briefing programmes from \\nthe industry to promote the software sector \\n( including in understanding market seg -\\nments/definitions and gathering data/insights \\non them, conducting and providing market \\nintelligence to the sector, how to identify and \\nsupport forging business-to-business link -\\nages and other partners for sector growth, in \\ncollaboration with sector association  ).3 Project/reform• At least two rounds of \\ngovernment agency \\ncapability improve -\\nment programmes \\nconducted\\n• At least 50 % of firms \\nreport improved \\nrelevance of services \\nby relevant govern -\\nment agenciesPSEB • TDAP\\n2 . Improve talent \\navailability for \\ngrowth and com -\\npetitiveness2 .1 Increase the \\ntalent pipeline \\nfor software \\nfirms and en -\\nhance inclusion2.1.1. Expand provision of IT skills through \\nexisting tertiary institutions and IT vocational \\nschools to introduce dedicated software \\nsector-relevant programmes.2 Project• Tertiary institutions \\nand vocational schools \\nintroduce new dedi -\\ncated programmes for \\nIT sector Ministry \\nof Federal \\nEducation and \\nProfessional \\nTraining• MoITT\\n• PSEB\\n2.1.2 Introduce short-term conversion \\ncourses for tertiary graduates of other sub -\\njects to transition to the IT sector and obtain \\nthe required skills and become employable.3 Project• Short-term conver -\\nsion programmes \\nintroduced\\n• 3,000 students \\nundergo programmes Ministry \\nof Federal \\nEducation and \\nProfessional \\nTraining• MoITT\\n• PSEB',\n",
       " '48\\nPakistan Export Strategy 2023-2027 • SOFTWARE DEVELOPMENT\\nStrategic objectiveOperational \\nobjectiveActivityPriority\\n( 1=highest )Period\\nReform or \\nprojectTargetsLeading \\nimplementing \\npartnersSupporting \\nimplementing \\npartners2023\\n2024\\n2025\\n2026\\n2027\\n2 . Improve talent \\navailability for \\ngrowth and com -\\npetitiveness2 .1 Increase the \\ntalent pipeline \\nfor software \\nfirms and en -\\nhance inclusion2.1.3 Establish a programme to place \\nuniversity graduates into IT firms, including \\nexpansion of internships. Announce a ‘1,000 \\ninternship’ programme and obtain com -\\nmitment from at least 20 software firms to \\naccommodate 10 interns a year and conduct \\noutreach in the provinces to on-board \\ncandidates.1 Project• Sector-specific \\ninternship programme \\nestablished\\n• At least 20 firms \\naccommodate at least \\n10 interns annually\\n• At least 30 % of \\ninductees are from \\nnon-typical cities/\\ntownsMoITT• PSEB\\n• Ministry \\nof Federal \\nEducation and \\nProfessional \\nTraining\\n2.1.4 Conduct and publicize a skills survey \\non emerging skill requirements of software \\nfirms in order to reduce skills mismatch, \\ninform youth education choices and influence \\ntertiary institutions’ curriculum, and provide \\ncontinual industry guidance/input on the \\ncurriculum to ensure industry relevance and \\nemployability.2 Project• Emerging skills \\nsurvey conducted and \\npublished\\n• Survey publicized in \\ntraditional and social \\nmedia, and presented \\nto 80 % of tertiary \\ninstitutionsMoITT• PSEB\\n• P@SHA\\n2.1.5 Engage selected suitable tertiary educa -\\ntion institutions to introduce new courses \\naimed at building the talent pool for emerging \\ntechnology opportunities ( e.g. in AI, machine \\nlearning, big data, cybersecurity, robotics and \\nIoT, etc.3 Project• At least 50 % of tertiary \\ninstitutions engaged \\nintroduce new courses \\nin emerging skill areasMoITT• PSEB\\n• P@SHA\\n• Ministry \\nof Federal \\nEducation and \\nProfessional \\nTraining\\n2.1.6 Introduce a special programme to en -\\nhance women’s participation in the software \\nsector by spreading awareness of career op -\\nportunities in the sector, showcasing female \\nrole models in the sector, and improving \\ninternal systems to foster a female-friendly \\nwork environment. (  Aligned to P@SHA’s \\n‘Diversity and Inclusion Framework’ report.  )1 Project• Women participation \\nprogramme rolled out\\n• Women employees \\nin software firms \\nincrease by 25 %\\n• Share of women \\nemployees reporting \\nimproved work \\nenvironment increase \\n30 % from baselineMoITT• PSEB\\n• P@SHA\\n• Ministry \\nof Federal \\nEducation and \\nProfessional \\nTraining\\n• National \\nCommission on \\nStatus of Women \\n( NCSW )\\n• Provincial \\ndepartments \\nfor women \\ndevelopment',\n",
       " '49\\n PLAN OF ACTION ( 2023-2027 ) Strategic objectiveOperational \\nobjectiveActivityPriority\\n( 1=highest )Period\\nReform or \\nprojectTargetsLeading \\nimplementing \\npartnersSupporting \\nimplementing \\npartners2023\\n2024\\n2025\\n2026\\n2027\\n2 . Improve talent \\navailability for \\ngrowth and com -\\npetitiveness2 .1 Increase the \\ntalent pipeline \\nfor software \\nfirms and en -\\nhance inclusion2.1.7 Conduct provincial-level awareness-\\nraising sessions for school-going youth on \\nhigh-potential career opportunities in the \\nsoftware sector, so as to expand the pipeline \\nof available talent at an early stage.2 Project• At least 20 provincial-\\nlevel awareness-\\nraising sessions heldMoITT• PSEB\\n• Ministry \\nof Federal \\nEducation and \\nProfessional \\nTraining\\n• Provincial educa -\\ntion departments\\n2 .2 Improve \\ninternal skill \\ncapabilities for \\nexport business \\ngrowth2.2.1 Introduce/expand training to improve \\nsoft skills of employees in software firms \\n( e.g. negotiation, communication and \\ninterpersonal skills  ), especially among the \\nbusiness development and prospecting, \\nmarketing and client engagement teams.3 Project• Soft skills training \\nprogrammes rolled out \\nyearly\\n• At least 30 % of \\nemployees in firms \\nparticipated in soft \\nskills trainingPSEB • P@SHA\\n2.2.2 Introduce training programmes to \\nupgrade project management capabilities \\n( Scrum, the Information Technology Infra -\\nstructure Library and project management \\nprofessional ) in order to enhance productivity \\nand quality of service delivery.3 Project• Project management \\ntraining programmes \\nrolled out yearly\\n• Share of project \\nmanagement certified \\nemployees increase \\n30 % from baselinePSEB • P@SHA\\n3 . Improve business \\nclimate for software \\nfirms to compete \\nand grow3 .1 . Improve tax \\nframework for \\nsoftware sector3.1.1 Conduct periodic industry–government \\nengagement sessions to reduce uncertainty/\\nopacity of tax rules, resolve operational \\nissues in tax compliance, address procedural \\ninefficiencies, and build confidence and trust \\nbetween tax authorities and the software \\nindustry. (  A sub-working group under the \\nSector Specific Council and/or a dedicated \\nWorking Committee on Tax at P@SHA could \\nbe established  )1 Reform• Two engagement \\nsessions held per year\\n• At least 70 % of firms \\nreport improvement in \\ntax compliance experi -\\nence and procedural \\nefficiency\\n• At least 60 % of firms \\nreport improved \\nconfidence in tax \\nauthoritiesFederal Board \\nof Revenue \\n( FBR )• P@SHA\\n• MoITT\\n• PSEB\\n3.1.2 Review and reduce tax procedural com -\\nplexities, especially for start-ups and SMEs in \\nthe software sector.1 Reform• Required reforms \\npassed\\n• Start-ups and SMEs \\nreporting complex \\nand cumbersome tax \\nprocedures decline by \\n30 % against baselineFederal Board \\nof Revenue \\n( FBR )• P@SHA\\n• MoITT\\n• PSEB',\n",
       " '50\\nPakistan Export Strategy 2023-2027 • SOFTWARE DEVELOPMENT\\nStrategic objectiveOperational \\nobjectiveActivityPriority\\n( 1=highest )Period\\nReform or \\nprojectTargetsLeading \\nimplementing \\npartnersSupporting \\nimplementing \\npartners2023\\n2024\\n2025\\n2026\\n2027\\n3 . Improve business \\nclimate for software \\nfirms to compete \\nand grow3 .2 . Improve \\naccess to capital \\nfor software \\nfirms3.2.1 Introduce project financing windows \\n( including government refinancing facilities ) \\nfor software firms to enable international \\nmarket expansion.1 Project• Dedicated project \\nfinancing window \\nintroduced\\n• At least 60 % of \\nsoftware firms seeking \\nproject finance for \\ninternational expansion \\nactivities receive itState Bank \\nof Pakistan \\n( SBP )• PSEB\\n• P@SHA\\n3.2.2 Federal financial sector authorities and \\nbanks to collectively identify and develop new \\nloan products and lending modalities to suit \\nsoftware export business.3 Project/reform• New dedicated loan \\nproducts and/or \\nmodalities introduced \\nin at least three banks \\nor non-bank financial \\ninstitutionsMinistry of \\nFinance and \\nRevenue \\n( MoFR )• MoITT\\n• PSEB\\n• MoC\\n• State Bank of \\nPakistan ( SBP )\\n3.2.3. Improve banks’ internal credit scoring \\nand credit appraisal of software businesses.2 Reform• At least three banks \\nintroduce credit \\nscoring models suited \\nto software businessesState Bank \\nof Pakistan \\n( SBP )• Ministry of \\nFinance and \\nRevenue ( MoFR )\\n• PSEB\\n4 . Strengthen \\ninnovation and \\nupgrading in the \\nsoftware sector4 .1 . Encourage \\nnew investment \\nin the sector and \\nstart-ups4.1.1 Launch a time-bound investment pro -\\nmotion effort to attract FDI into the software \\nsector, with focused attention on market \\nsegments that Pakistan desires upgrading \\ninto and building positioning in.3 Project• FDI into software \\nsector increases by \\n30 %by 2024 and by \\n50 % by 2026Board of \\nInvestment• TDAP\\n• PSEB\\n4.1.2 Assess current ecosystem for software \\nstart-ups and introduce a time-bound and \\nfocused programme to address bottlenecks \\nand launch a ‘1,000 start-ups’ programme \\nto boost new entrepreneurship in the sector \\nfrom across the country.3 Reform• Ecosystem assess -\\nment conducted and at \\nleast 50 % of identified \\nbottlenecks resolved \\nby 2023 and 80 % by \\n2026\\n• 1,000 start-ups \\nprogramme launched \\nand 60 % achieved by \\n2026MoITT• PSEB\\n• P@SHA\\n4.1.3 Introduce subsidized rent scheme for \\nfirst six months in the new special technol -\\nogy zones to encourage start-ups and SME \\nsoftware firms ( eligibility to be defined by \\nrelevant authority in consultation with the \\nindustry  ).1 Project/reform• Subsidized rent \\nscheme introduced\\n• Share of start-ups and \\nsmaller software firms \\nreporting infrastructure \\nas a constraint \\ndeclines 25 % against \\nbaselineSpecial \\nTechnology \\nZones Author -\\nity Ordinance, \\n2020 ( STZA )• MoITT\\n• PSEB',\n",
       " '51\\n PLAN OF ACTION ( 2023-2027 ) Strategic objectiveOperational \\nobjectiveActivityPriority\\n( 1=highest )Period\\nReform or \\nprojectTargetsLeading \\nimplementing \\npartnersSupporting \\nimplementing \\npartners2023\\n2024\\n2025\\n2026\\n2027\\n4 . Strengthen \\ninnovation and \\nupgrading in the \\nsoftware sector4 .2 . Improve \\nenabling \\nframework for \\nproduct-led in -\\nnovation4.2.1 Update intellectual property protec -\\ntion frameworks and their implementation to \\nprotect Pakistani software product innovation \\nand encourage IP-led growth in the sector.1 Reform• Intellectual property \\nprotection framework \\nupdated to interna -\\ntional standardsMoITT• PSEB\\n• Intellectual \\nProperty Owners \\nAssociation ( IPO )\\n4.2.2 Align data protection, information secu -\\nrity and privacy laws to global best practices \\nto build trust in Pakistani IT as a brand and \\nensure that Pakistani software firms win and \\nretain business from customers in countries \\nthat have increasingly tighter laws and height -\\nened information security concerns.1 Reform• Relevant laws align -\\nment completed\\n• Share of international \\ncustomers reporting \\nincreased trust \\nand confidence in \\nPakistani IT data \\nsecurity and privacy \\nincreased 20 %MoITT • PSEB\\n4.2.3 Introduce a targeted export incentive \\nscheme for software firms that build and sell \\n( globally ) IP-led software products ( and \\nmove on from customized software service \\nprovision ) to encourage moving up value \\nchain.2 Reform• Export incentive \\nscheme introduced\\n• At least 10 firms \\ngenerate more than \\n60 % of export revenue \\nfrom ( IP-led ) product \\nexportsMoC• TDAP\\n• PSEB\\n• MoITT\\n4.2.4 In order to help build product portfolio \\nand strengthen export potential, ensure \\nthat Pakistan software firms have equitable \\naccess to government IT projects by levelling \\nthe playing field with internal IT departments, \\nand simplifying preconditions/enabling con -\\nditions in bids. Consider carving out certain \\nprojects ( by types/size ) exclusively for private \\nsector players to foster innovation.1 Reform• Share of private \\nsoftware firms report -\\ning better and fairer \\naccess to government \\nprojects ( led by \\nbetter bid conditions  ) \\nimproved by 20 %\\n• At least 30 % of new \\ngovernment IT tenders \\ngranted to private \\nplayers by 2024 and \\n50 % by 2026MoITT• PSEB\\n• MoC\\n4.2.5 Establish collaboration with innovation \\necosystems in friendly countries and connect \\nPakistan’s tech ecosystem to accelerate \\nproduct-led growth and innovation of Paki -\\nstani software start-ups and SMEs.1 Project• At least three inter -\\nnational ecosystem \\ncollaborations forgedMoITT• PSEB\\n• P@SHA\\n• Small and \\nMedium \\nEnterprises \\nDevelopment \\nAuthority \\n( SMEDA )',\n",
       " '',\n",
       " 'Islamic Republic of Pakistan  \\nExport Strategy  2023-2027  \\nSOFTWARE DEVELOPMENTANNEXES',\n",
       " '54\\nPakistan Export Strategy 2023-2027 • SOFTWARE DEVELOPMENT\\nAnnex I:   \\nList of participants in the public-private \\nconsultations\\nName Designation Organization\\nJamil Ahmed TDAP Director Services\\nAdeel Ahmed Systems Manager\\nFarzana Noshab Asian Development Bank Senior economist\\nImran Moinuddin NexDegree Private Limited CEO\\nZaroon Farrukh TPS Worldwide Pre-sales consultant\\nAamir WaheedSecurities & Exchange Commission of Paki -\\nstan ( SECP )Director\\nZunair Minhas Luminogics ( SMC-PVT ) LTD CEO\\nHira Zainab P@SHA Senior director – industry engagement\\nYusra Gilani AABBLL Legal advisor / consultant\\nAbdul Rahim AhmadSecurities & Exchange Commission of Paki -\\nstan ( SECP )Chief information officer\\nHalima Iqbal Oraan Tech ( Pvt ) Ltd CEO and founder\\nRoohi Khan Systems Limited Chief financial officer\\nMuhammad ShoaibUniversity of Engineering and Technology \\n( UET ), LahoreProfessor\\nAsif Raza TDAP Law officer\\nAwais HassanUniversity of Engineering and Technology \\n( UET ), LahoreAssociate professor\\nAsif Peer Systems Limited CEO\\nSamar Hasan Epiphany CEO\\nSyed Ali Abbas Hasani Pakistan Software Export Board Director, operations and administration\\nRaza Matin Brandverse Pvt Ltd CEO and founder\\nShahzad Shahid TPS Worldwide CEO\\nShahid Ul Ghani Sindh Revenue Board Deputy commissioner, IT\\nBarkan Saeed P@SHA Chairman\\nSyed Ahmad DPL ( Pvt ) Ltd CEO\\nRohail Nazir TDAP Assistant director\\nSyed Bilal Mahmood Contour Software Managing director\\nSaima Azhar TDAP Deputy director\\nSumair Ahmad Ministry of Commerce Research associate',\n",
       " '55\\n ANNEX ES \\nAnnex II:   \\nCountry examples\\nLESSONS FROM A GLOBAL LEADER : \\nINDIA\\nIndia is a leading global player, owning 55  % share of \\nthe global IT services market. In 2017, offshore services \\ntotalled $116.8 billion, equivalent to 20 % of foreign ex -\\nchange reserves. IT services exports rose at a CAGR \\nof almost 13 % in 2009–17. BPO follows, accounting for \\n22.2 % of exports. The Indian IT–BPO industry compris -\\nes more than 15,000 firms. While larger firms generally \\noffer bundled end-to-end solutions that encompass \\nthe entire offshore services global value chain, small \\nand emerging players excel in niche services  / verticals \\n( Bhattacharjee & Chakrabartib, 2015 ).The IT–BPM industry in India started off as voiced-\\nbased call centres for telemarketing, which followed \\nafter sales support and non-voice-based data entry \\noperations in the 1990s. The sector has now moved \\ninto department collection, equity and bond analysis, \\naccounting, filing income taxes and clinical drug re -\\nsearch, etc. Much of India’s success can be attributed \\nto the abundant supply of technically skilled profes -\\nsionals, extensive expenditure to resolve the Y2K prob -\\nlem, and the broadening and deepening of IT activities \\ncombined with greater emphasis on higher-value-add -\\ned services in the financial and health care industries, \\namong others.\\nFigure 1 :  India’s offshore services industry, evolution and policies\\nSource : Authors based on Bhattachrjee and Chakrabartib ( 2015 ) ; India Brand Equity Foundation ( IBEF ) ( 2018 ).',\n",
       " '56\\nPakistan Export Strategy 2023-2027 • SOFTWARE DEVELOPMENT\\nHaving a large multinational corporation presence in \\nthe country has helped India to attract many global \\nin-house centres and pushed others to invest in open \\ncaptive centres in the country. Nearly half of the global \\ncaptive centres are based in India, followed by other \\nsourcing functions such as finance and accounting, \\nhuman resources, procurement and live streaming \\nBPO, etc with a dominant share. Operations in the \\nsourcing industry are poised to scale up significantly \\ncompared to other players in the market.\\nIndia has now transformed and positioned its IT–\\nBPO or earlier known ‘call centre’ industry to IT–BPM \\nto thrive off the competition and add value to its offer -\\ning. Asian regional peers such as the Philippines and \\nthe Socialist Republic of Viet Nam came into the fray \\nand started carving off market share on the typical \\n‘call centre agent’ business with the language fluency and, most importantly, the relationship these countries \\nhad with the global leader in BPO, the United States. \\nAdding to that, the cost arbitrage has been replaced by \\nvalue addition. More than customer service, now con -\\nsumers and companies are looking for user / customer \\nexperience, or in other words, total solutions. India \\nchanged its game from by offering knowledge process \\noutsourcing ( KPO ) services such as accounting, le -\\ngal, research and digital services, etc. This was beyond \\nthe typical ‘call centre agent’ services that were the \\nhallmark of BPO business. India then transformed and \\npositioned its outsourcing business as BPM, adding \\nmore value-added and specialized services such as \\nmanaging entire business processes such as employ -\\nee on-boarding, expense reporting, complete account \\nmanagement, invoice management, loan management \\nand compliance management.\\nFigure 2 :  India’s technology profile (  2021  )\\nSource:  NASSCOM ( 2021 ).',\n",
       " '57\\n ANNEX ES \\nThe IT and BPM industry’s revenue was estimated at \\n$194 billion in 2021, accounting for close to 8 % of the \\ncountry’s GDP. Of this, nearly 77 % revenue estimates \\nare from the export of IT and BPM services. Moreover, \\n54 % of IT and BPM export revenue is expected from IT \\nservices exports ( $81 billion ), while BPM is 23 % and an -\\nother 23 % from engineering services and R&D of soft -\\nware products. The IT and BPM sector, with 4.47 million \\nemployees, is the largest private sector employer in \\nIndia. In 2020 alone, there were more than 138,000 new \\nrecruits to the sector. India also has more than 12,500 \\ntech start-ups and has established delivery centres \\nin more than 80 countries with more than 1,000 units.\\nAs per NASSCOM’s report in December 2020, out \\nof 4.47 million employees in the tech sector in India, 1.6 \\nmillion (  36 % ) are women, and 62 % of large to medium-\\nsized organizations have implemented programmes on \\ndiversification.\\nAs per the Department of Promotion of Industry \\nand Internal Trade, FDI for the IT–BPM sector was the \\nsecond-highest ranked in 2020. The India Brand Equity \\nFoundation ( IBEF ) notes that the computer and hard -\\nware sector attracted $69 billion in April to December \\n2020. According to IBEF (  May 2021 ), in 2020, private \\nequity investments in the sector were $7.5 billion, and \\nIT–BPM led venture capital investments ( 380 deals in \\n2020 ), contributing 71 % to the total deal count ( IBEF, \\nMay 2021 ).\\nFuelling its growth trajectory, Indian IT and BPM \\ncompanies have expanded their operations to on \\nshore and near shore, taking advantage of local reg -\\nulatory frameworks and being close to its clients to \\nserve better. Leading IT and BPM companies such as \\nTATA Consultancy Services and Infosys are expand -\\ning headcount in the United States and Canada. As \\nper NASSCOM’s Tech Bytes monthly industry report \\nin April 2021, the TCS is expanding its delivery centre \\npresence in Montreal and Ohio, with plans to hire more \\nthan 500 employees ( in the next three years ) and 800 employees ( by 2022 ), while Infosys plans to double \\nits Canadian workforce to 4,000 employees by 2023. \\nThe TCS announced in February that they plan to re -\\ncruit 1,500 in United Kingdom in the next year. Further, \\nand quite uniquely, Infosys has an employee base of \\nmore than 2,000 working from the Philippines, taking \\nadvantage of the market and its reach and showing the \\nstrength of collaborative rather than competing mind -\\nsets. The operation commenced as early as 2007 and \\nnow houses several centres of excellence such as ac -\\ncounting, customer service and service desk.\\nOn emerging technologies, Everest Group, on behalf \\nof NASSCOM, reported that more than 400 start-ups \\nare AI related. India is the leading country for robotic \\nprocess automation development. Patent filing across \\nemerging technologies is gaining pace in India accord -\\ning to a NASSCOM study. It is reported that more than \\n6,500 intellectual property patents were created in the \\nUnited States by Indian companies in 2015-19. Already, \\nIndia is driving towards making the country a global AI \\ninnovation hub. As per the Economic Times ( 18 June \\n2021 ), India ranks 8th in terms of AI patent filing and \\n4th in terms of AI research papers globally.\\nThe cohesion of the industry, government and aca -\\ndemia in India gives rise to the dominant IT–BPM sec -\\ntor. Having identified the role of an inclusive workforce \\nto meet the growing demand, the organizations and \\nregulatory framework adapt a well-rounded approach \\nto keep the resources engaged.\\nFigure 3 shows some of the initiatives and pro -\\ngrammes that inculcate a culture of inclusiveness and \\nencouragement for women to join and expand in the \\nIT–BPM industry. The figure presents the leading estab -\\nlishments that have adapted and executed these pro -\\ngrammes, such as safety of women at the workplace, \\nincluding persons with a disability and lesbian, gay, \\nbisexual, transgender, queer and intersexed commu -\\nnity ( LGBTQI ), talent acquisition, skilling programmes \\nfor women, and retaining a women’s workforce.\\n©shutterstock',\n",
       " '58\\nPakistan Export Strategy 2023-2027 • SOFTWARE DEVELOPMENT\\nFigure 3 :  Recalibrating culture and policies for a hybrid work model\\nSource : NASSCOM ( March 2021 ). ‘Rising Together : Diversity, Equity & Inclusion in a Changing World’.\\n12.– Source : https:// www.bworldonline.com / government-dropped-the-ball-in-the-it-bpm-industry / .THE PHILIPPINES\\nAccording to the IT Business Process Association of \\nthe Philippines (  IBPAP  ), the country overtook India in \\nvoice-based sourcing services in 2010. According to \\nthe Department of Information and Communications \\nTechnology, the IT–BPM sector contributed an export \\nrevenue of $26.7 billion in 2020, employing 1.32 million \\nresources.From 2010, the Philippine IT–BPM sourcing business \\nremains in the leadership position along with India \\nwhile having a larger market share in voice-based \\nservices due to the language fluency, soft skills and \\nhistoric relationship with the United States. Currently, \\nthe country enjoys an 18 % market share in the voice-\\nbased service market.12 The workforce of full-time em -\\nployees is projected to increase from 1.3 million in 2019 \\nto 1.8 by 2022, a CAGR growth of 7.8 %.',\n",
       " '59\\n ANNEX ES \\nFigure 4 :  Competitive positioning of IT and BPM centres\\nSource : Frost & Sullivan analysis.\\nFigure 5 :  Assessment of the Philippine IT-BPM sector\\nSource : Based on a workshop with IBPAP Board of Trustees.\\n13.– Source : Roadmap 2022, The Philippine IT–BPM Sector, by IBPAP and Frost & Sullivan ( 2016 ).Figure 5 shows the strength of the language proficien -\\ncy, tone of voice ( friendly ) and the cost leadership po -\\nsition. The country, however, is moving up from cost \\nleader position to offer value servicing as more regional \\ncountries, for example Viet Nam and China, are enter -\\ning the sphere with low-cost services.\\nMoving up the value chain, the Philippines identified \\nthe following offerings and services to grow in the six \\nyears starting in 2016.131. Contact centre and BPO subsector :\\n »Engineering services outsourcing ( ESO ), data \\nanalytics, performance management and legal \\nprocess outsourcing ( LPO ).\\n2. Information technology services subsector :\\n »Application development management (  ADM  ), \\nsystem integration, automation enablement, IoT-\\nenablement languages (  e.g. Python program -\\nming  ).',\n",
       " '60\\nPakistan Export Strategy 2023-2027 • SOFTWARE DEVELOPMENT\\n3. Health information management subsector  :\\n »Preventive health, remote healthcare manage -\\nment and provider services.\\n4. Animation and game development subsector : »3D animation, augmented and virtual reality \\n( AR / VR ) and gamification.\\n5. Global in-house centre subsector :\\n »Industry-specific services for telecom, healthcare, \\ninsurance and pharmaceuticals.\\nFigure 6 :  Current and projected headcount of the Philippine IT–BPM sector\\nSource : Philippine IT–BPM Roadmap, 2016.\\nTaking note of the changes in technologies, especially \\nthe threat of emerging tech such as robotic process \\nautomation, IoT and machine learning, to Philippine \\ndominant voice-based services, the country plans to \\ndrive multiple programmes to compete and retain its \\nleadership position in the sourcing business.\\nFollowing are a few of the high-impact programmes :\\n• Human capital  : Interventions to expand, upgrade \\nand attract the supply of fresh graduates and ca -\\nreer shifters, as well as retain and develop the exist -\\ning workforce.\\n• Inclusive growth :  Interventions to create more diver -\\nsified, nationwide growth of the IT–BPM sector and \\nthe improved capabilities of local government units \\nto attract and sustain IT–BPM sector investments.\\n• Country competitiveness  : Interventions to enhance \\ninternational competitive positioning of the Philippine \\nIT–BPM sector.\\n• Government support  : Interventions to strengthen \\ngovernment–industry collaboration.• SMEs and start-ups : Interventions to create a vibrant \\nSME and start-up ecosystem contributing to the IT–\\nBPM sector.\\n• Impact of technology  : Interventions to enable in -\\ncreased adoption of technology with a view to drive \\nthe sector’s productivity and competitiveness and \\nensure the development of a future-ready workforce.\\nVIET NAM\\nOxford Business Group states that Viet Nam is still a \\nboutique market when it comes to outsourcing and \\nlags behind its regional peers such as India and the \\nPhilippines. However, Viet Nam overtook India to be -\\ncome Japan’s second-largest software outsourcing \\npartner after China, accounting for approximately 21 % \\nof the market. Viet Nam has 20,000 employees work -\\ning for Japanese companies providing BPO services \\n( Kearney, 2019 ).\\nViet Nam has 55.5 % of the population younger \\nthan 35 years ( World Bank, 2021 ), a literacy rate of ',\n",
       " '61\\n ANNEX ES \\n98.5 % and more than 60 % of internet users and 55 % \\nsmartphone users, having connected 99 % of the prov -\\ninces with 4G. It comes 47th out of 127 in the Global \\nInnovation index ( G11-2017  ) and was ranked 67th most \\ncompetitive nation in the world out of 140 countries, \\nby the World Economic Forum’s Global Competitive \\nReport in 2019. Hanoi and Ho Chi Minh City are among \\nthe Top 10 dynamic cities in the world according to the \\nCity Momentum Index. Gartner recognized Viet Nam as \\nthe ‘Tier 1 Emerging Offshore Outsourcing Location in \\nAPAC’ in 2015 and the KPMG stated its attractiveness \\nas a destination for IT outsourcing service thanks to \\nits young and highly trainable labour force, competi -\\ntive cost structure and a stable business environment \\n( 2015 ).\\nViet Nam’s IT–BPM industry is relatively new, but is \\ncatching up fast. Though the sourcing services from \\nViet Nam don’t cover end to end, as only a limited set \\nof companies have more than 1,000 full-time employ -\\nees and the majority of companies have less than 500 \\nemployees, they are able to provide application devel -\\nopment and testing, customization, maintenance and \\nsupport ( Oxford Business Group, 2017 ).\\nViet Nam is rapidly moving up the ranks to posi -\\ntion itself as an outsourcing destination in South-East \\nAsia. Multiple initiatives and regulatory frameworks \\nhave been introduced to catch up market share. These \\ninclude a 98 % tariff reduction within the Association \\nof Southeast Asian Nations ( ASEAN  ) for cross-border \\ntrade and investment, infrastructure improvements \\ndriven by large multinational corporations setting up \\nplants, adherence to international standards of do -\\ning business, and pledge and execute creating more business-friendly policies for foreign enterprises and \\ninvestments. Outward-looking, market-oriented eco -\\nnomic policies has seen an influx of private enterpris -\\nes and foreign investment in recent times. The drivers \\nhave paved the way for Viet Nam to become a domi -\\nnant player in the BPO industry along with following \\naccolades.\\n• Ho Chi Minh City as a top outsourcing city for \\neight consecutive years ( 2009–16 ) by Tholons ;\\n• Top-ranked pioneering location and cost envi -\\nronment for BPO services  in BPO and Shared \\nService Location Index by Cushman & Wakefield ;\\n• The next BPO giant  according to Spotlight on Viet \\nNam by PricewaterhouseCoopers  ;\\n• Ranked 5th  in Top 10 Global Locations for Off -\\nshore Services by Gartner in 2016 ;\\n• Ranked 5th  in Global Services Location Index by \\nKearney in 2019 ) ;\\n• Ranked 67th Most Competitive Nation in the \\nWorld by the World Economic Forum in 2019.\\nSource : Outsource Asia, September 2020.\\nViet Nam entered the BPO market late when compared \\nto other Asian countries, which jumped into the BPO \\nservices frenzy in the mid-1990s. However, it got atten -\\ntion and now is ranked as the 5th topmost outsourcing \\nlocations in the world (  Figure 7  ).\\nFigure 7 :  Kearney Global Services Location Index 2019, Digital Resonance\\nNote : For France, Germany, the United Kingdom and the United States, Tier II locations are assessed.  \\nNumbers may not resolve due to rounding.\\nSource : Kearney’s Global Services Location Index ( GSLI ), 2019.',\n",
       " '62\\nPakistan Export Strategy 2023-2027 • SOFTWARE DEVELOPMENT\\nViet Nam has the following competitive sourcing factors :\\n• Strategic location  : Gateway to East Asia and the Pacific.\\n• Integration into the global economy  : Part of global trade agreements such as the implementation of \\nthe Comprehensive and Progressive Agreement for Trans-Pacific Partnership (  CPTPP  ) and ratification \\nof the European Union-Vietnam Free Trade Agreement (  EVFTA  ).\\n• Improving business regulations : Ranked 70th among 190 economies for Ease of Doing Business 2020 .\\n• An emerging middle class with increasing purchasing power : Forecast to be among the  Top 20 econo -\\nmies in the world by 2050 .\\n• Young population with growing skill set : The median age is 32.5 years, which comprises 70 % of all \\nVietnamese, while the  emerging middle class , which comprises 13 % of the population, has a literacy \\nrate of more than 95 % and more than 77 % labour participation.\\n• Fast, stable economic growth : Export-oriented manufacturing and processing industry , robust domes -\\ntic demand , rising FDI flow  and high fintech investments .\\n• Competitive labour cost  : Salary in 2020 was $132–$190 per month.\\nSource :  Outsource Asia, September 2020.\\nTo summarize, Viet Nam has convincingly taken over \\nthe cost leader position in BPO services using its \\npolitical stability, literate younger population, connec -\\ntivity, geopolitical relations, ease of doing business regulatory frameworks and geographic location for \\nnear shore and on shore services in the East Asia and \\nPacific market. In 2021, the industry was poised for a \\nrapid growth trajectory alongside the forecast econom -\\nic growth rate of 6.6 % ( World Bank, 2021 ).\\n©Pexels',\n",
       " '63\\n ANNEX ES \\nAnnex III:   \\nDetailed plan of action description\\nSTRATEGIC OBJECTIVE 1 : STRENGTHEN \\nTHE PAKISTANI SOFTWARE SECTOR’S \\nGLOBAL MARKET POSITIONING AND \\nINTERNATIONAL COMPETITIVENESS\\nOperational Objective 1.1  : Develop and \\npromote a credible and persuasive brand \\npositioning for Pakistani software IT exports\\n1.1.1 Develop a ‘Pakistan IT’ unique and credible brand \\npositioning jointly among the industry association \\nand the PSEB and TDAP through a series of industry \\nconsultations with expert facilitation, alongside global \\ntrends and competitive pressures.\\nAs Pakistan’s software sector has been growing steadi -\\nly, it is an opportune time to engage all stakeholders \\nin a sector branding exercise, which not only signals \\ninternally – within Pakistan – as to the sector’s ambitions \\nand orientation, but also signals externally to potential \\npartners as to the sector’s readiness to compete for \\nbusiness. Developing a compelling proposition will re -\\nquire a combination of internal stakeholder discussions \\nto home in on the unique elements that partners would \\nfind competitive, coupled with expert input from out -\\nside that helps sense check and refine, them. While the \\nbrand must primarily be articulated by the industry, as \\nit must have strong commercial relevance, the exercise \\nmust have public sector input and ownership as well in \\norder to ensure longevity and credibility.\\n1.1.2 Develop media collaterals and launch publicity \\ncampaign to promote the brand and develop mar -\\nketing materials ( featuring Pakistan’s software capa -\\nbilities, sector development initiatives and incentives, \\nand top business profiles / case studies of success ), \\nand branding guidelines based on the above identi -\\nfied brand positioning, to be used for all domestic and \\ninternational industry events.\\nAccording to the brand positioning developed, it is \\nimportant to have strong media collaterals developed, \\nwhich will be used by all industry stakeholders in their \\ndaily dealings with partners as well as in international \\nexpansion efforts ( like trade fairs and business-to-busi -\\nness meetings  ). Government agencies ( Ministry of Foreign Affairs, etc. ) should use the media collaterals \\ndeveloped. All this is to ensure consistency in branding \\nand grow recognizability among international partners. \\nA mix of media outputs need to be developed – rang -\\ning from trade fair stall guidelines to case study and \\npromotional videos, to logos free to use by all industry \\nplayers in their communications, and an active virtual \\npresence ( website and social media ).\\n1.1.3 Train Pakistan’s commercial counsellors in over -\\nseas diplomatic missions on the new brand position -\\ning, conduct information sessions and identify priority \\ncountries on which to work.\\nIn order to leverage the extensive network of Pakistani \\ndiplomats in key focus countries, commercial counsel -\\nlors would be trained in the sector’s new orientation as \\nper this strategy, the new sector branding developed \\nand what it encompasses, as well as focus segments \\nand markets that the industry wishes to target. When \\nnew diplomats are nominated, and prior to their taking \\nup posting abroad, they should receive a briefing from \\nthe industry. As such, commercial counsellors would \\nbecome much more adept at advocating for the sec -\\ntor’s investment and business partnerships abroad, \\nusing credible and compelling materials and armed \\nwith the right facts and positioning. Such training can \\nbe conducted by the industry association, in partner -\\nship with the key trade and foreign affairs authorities.\\n1.1.4 Identify and participate in the most relevant IT \\nsector international  fairs and business-to-business \\nopportunities (  initially virtually  )\\nTrade fairs will remain an important element in interna -\\ntional business promotion of the industry, albeit a great -\\ner virtual presence during the pandemic. Government \\nauthorities involved in trade and investment promotion \\nshould partner with the private sector to identify the \\nmost relevant and useful fairs and business-to-busi -\\nness opportunities – especially those that match the \\nnew orientations set out in this strategy. They should \\nalso help meet the targeted growth objectives ( e.g. in \\nthe new emerging technologies or in the new markets \\nprioritized  ), and facilitate participation in them. A spe -\\ncial focus on SME players in the industry is important \\nto ensure that those otherwise unable to participate in \\nsuch opportunities also get a fair chance. Government ',\n",
       " '64\\nPakistan Export Strategy 2023-2027 • SOFTWARE DEVELOPMENT\\nschemes that subsidise or otherwise support such par -\\nticipation would be important in initial years, especially \\nfor SMEs.\\nOperational Objective 1.2  : Accelerate market \\ndiversification and improve commercial \\nsuccess in new markets\\n1.2.1 Conduct detailed analysis on high-potential and \\nhigh-priority markets and drive awareness among soft -\\nware firms to focus their business development efforts.\\nAlthough this strategy document has already suggest -\\ned some priority markets ( based on available analysis \\nand stakeholder inputs  ), it is important to conduct \\nmore deep-dive analyses to identify specific potential \\nand drive that awareness among the industry. Typically, \\nthis analysis would be done by organizations like the \\nPSEB, in partnership with P@SHA, with support from \\nexternal sources ( including foreign missions ). These \\nanalyses should inform the basis of firms’ international \\nexpansion strategies and internal resource allocations. \\nThis would be particularly useful for SMEs in the sector, \\nwho have limited resources to undertake exploration, \\nand can help ensure resource efficiency. In the five-\\nyear period of the strategy, ideally, the majority of firms \\nin the sector would have used, or at least referenced, \\nsuch detailed analysis in deciding their own internation -\\nal expansion and market exploration.\\n1.2.2 Develop detailed market entry plan for the MENA \\nregion, including specific approach on how to break \\ninto identified specific markets, regulatory condi -\\ntions, listing of potential partners and holding busi -\\nness-to-business meetings, etc.\\n1.2.3 Develop detailed market entry plan for the Asia–\\nPacific region, including a specific approach on how \\nto break into identified specific markets, regulatory \\nconditions, listing of potential partners and holding \\nbusiness-to-business matchmaking, etc.\\nThe two activities relating to detailed market entry \\nplans for MENA and Asia–Pacific are indicative only, \\nand could include other markets as well. Essentially, \\nbased on the deep-dive priority market and potential \\nanalysis conducted as per Activity 1.2.1, step-by-step \\nmarket entry plans would be developed to guide firms \\nlooking to enter these regions and markets. Typical -\\nly, such plans would include pre-competitive details \\nlike regulatory procedures, how to navigate entry and \\nlisting of potential partners, etc. The objective of such \\nplans would be to de-risk as much as possible the new \\nmarket entry efforts, and ensure maximum chances of \\nsuccess for firms.1.2.4 Conduct capacity-building programme for firms \\nto review and refine their product portfolio and internal \\ngo-to-market strategies to identified market opportuni -\\nties ( as per 1.2.1, 1.2.2 and 1.2.3 ).\\nRefining product portfolios and strengthening go-to-\\nmarket strategies – especially to new markets – can \\noften be done by a specialized skill. Some products \\nmay be relevant to some markets more than others, \\nwhile some market entry strategies would be better \\nsuited to some markets more than others. Accordingly, \\nthis activity envisages providing capacity building to \\nsupport firms to do that, delivered by experts as well \\nas through peer learning. Once again, the purpose \\nhere is to de-risk as much as possible the new market \\nentry efforts and ensure maximum chances of suc -\\ncess for firms.\\n1.2.5 Improve capabilities in key government agencies \\n( e.g. TDAP and PSEB ) to promote the software sector \\n( including in conducting and providing market intelli -\\ngence to the sector, how to identify and support forging \\nbusiness-to-business linkages and other partners for \\nsector growth, in collaboration with sector association ).\\nWhile one-off market identification is done upfront, it \\nis vital to build capabilities in the system to continually \\nconduct such assessments in order to regularly pro -\\nvide the industry with guidance and updates on shifts \\nin existing markets and trends in new ones. This market \\nintelligence typically has ‘public good’ characteristics \\nin that no individual firm may be willing to pay for it, and \\nas such the leading government trade support institu -\\ntions need to provide it.\\nIMPROVE TALENT AVAILABILITY FOR \\nGROWTH AND COMPETITIVENESS\\nOperational Objective 2.1  : Increase the talent \\npipeline for software firms and enhance \\ninclusion\\n2.1.1 Expand provision of IT skills through existing ter -\\ntiary institutions and IT vocational schools to introduce \\ndedicated software sector-relevant programmes.\\n2.1.2 Introduce short-term conversion courses for ter -\\ntiary graduates of other subjects to transition to the \\nIT sector and obtain the required skills and become \\nemployable.\\n2.1.3 Establish a programme to place university grad -\\nuates into IT firms, including expansion of internships. \\nAnnounce a ‘1,000 internship’ programme and obtain ',\n",
       " '65\\n ANNEX ES \\ncommitment from at least 20 software firms to accom -\\nmodate 10 interns a year and conduct outreach in the \\nprovinces to on-board candidates.\\nThe purpose of the above three activities is to grow \\nthe talent pipeline available to support the sector’s \\nfuture growth ambitions. It is often the case that ambi -\\ntious growth goals become constrained by the lack of \\navailable skills, and planning now and building up the \\ncapacities early can help avert a crisis later. IT tertiary \\neducation provision through all channels needs to be \\nincreased, while supplementing and complementing \\nwith vocational training as well as skills development. \\nEspecially for the industry’s planned shift to high -\\ner-value-added business, simple skills development \\nwould not be sufficient, and a concerted effort to grow \\nIT tertiary education numbers is vital. In order to ad -\\ndress short – to medium-term constraints, introducing \\nhigh-impact conversion courses for those who study \\nother disciplines to enter the industry can be very use -\\nful. Meanwhile, introducing well-structured internship \\nprogrammes can not only help provide an additional \\nentry point for young graduates ( with lower commit -\\nments from firms ), but can also help bridge the em -\\nployability gap.\\n2.1.4 Conduct and publicize a skills survey on emerging \\nskill requirements of software firms in order to reduce \\nskills mismatch, inform youth education choices and \\ninfluence tertiary institutions’ curriculum, and provide \\ncontinual industry guidance / input on the curriculum to \\nensure industry relevance and employability.\\nIt is important for the industry to signal to education -\\nal institutions as well as young job seekers as to the \\nemerging skill requirements and demands in the IT \\nsector. Accordingly, a popular tool is to conduct a \\nskills survey generated by the industry and use that to \\nspread wide awareness on the industry’s needs. Ad -\\nditionally, to ensure continual alignment and realign -\\nment to industry needs, this skills survey needs to be \\nconducted periodically and engage industry leaders in \\nshaping IT curriculum in tertiary institutions.\\n2.1.5 Engage selected suitable tertiary education in -\\nstitutions to introduce new courses aimed at building \\nthe talent pool for emerging technology opportunities \\n( e.g. in AI, machine learning, big data, cybersecurity, \\nrobotics, and IoT, etc.\\nAs one of the industry’s main medium-term objectives \\nis to upgrade its product offering by latching on to \\nemerging technologies (  ref : Orientation 3 earlier  ), it \\nis vital that the necessary skilled talent pool is devel -\\noped. Unlike simple re-skilling or upskilling, working on emerging technologies requires core competencies \\ntaught in tertiary institutions, as well as proliferation of \\nresearch and post-doctoral work. New courses in ter -\\ntiary education institutions, built up with industry input \\nand global expertise, will be vital. Public funding for \\nnew degree programmes and departments should \\nalso be considered.\\n2.1.6 Introduce a special programme to enhance wom -\\nen’s participation in the software sector by spreading \\nawareness of career opportunities in the sector, show -\\ncasing female role models in the sector and improv -\\ning internal systems to foster a female-friendly work \\nenvironment.\\nA key transformation area identified for the sector’s \\nsustainable growth is enhancing women’s participa -\\ntion. This is unlikely to entirely happen organically, and \\nneeds support and incentives. This activity envisages \\nembarking on a special and targeted programme – a \\nmulti-pronged approach – to not only spread aware -\\nness of entry points and career opportunities for \\nwomen, but to also showcase female role models and \\nimprove internal human resources practices that favour \\nwomen’s participation. P@SHA’s work on publishing a \\n‘Diversity and Inclusion Framework’ serves as a strong \\nfoundation from which to build.\\n2.1.7 Conduct provincial-level awareness-raising ses -\\nsions for school-going youth on high-potential career \\nopportunities in the software sector, so as to expand \\nthe pipeline of available talent at an early stage.\\nOften, young people away from the main cities may \\nnot always know of the opportunities in the sector or \\nknow of the entry points to get in. This activity is similar \\nand linked to 2.1.4 above, but with an explicit focus \\non provincial job creation and ensuring greater geo -\\ngraphical inclusion of the IT workforce. In particular, \\nthis recognizes the strong multiplier effects of IT worker \\nincomes and the role it can play in improving house -\\nhold prosperity in provincial economies.\\nOperational Objective 2.2  : Improve internal \\nskill capabilities for export business growth  .\\n2.2.1 Introduce / expand training to improve soft skills \\nof employees in software firms ( e.g. negotiation, com -\\nmunication and interpersonal skills  ), especially among \\nthe business development, prospecting, marketing and \\nclient engagement teams.\\n2.2.2 Introduce training programmes to upgrade \\nproject management capabilities ( Scrum, the Infor -\\nmation Technology Infrastructure Library and project ',\n",
       " '66\\nPakistan Export Strategy 2023-2027 • SOFTWARE DEVELOPMENT\\nmanagement professional ) in order to enhance pro -\\nductivity and quality of service delivery.\\nBoth these activities are aimed at improving firm-level \\ncapabilities for business growth, with a special focus \\non export revenue. As the industry evolves and new \\nclients are on-boarded from existing and new markets, \\nthe pressure to perform and delivery high quality and \\nreliability becomes a key success factor. Accordingly, \\nimproving skills within the firms to deal better with cli -\\nents and improve delivery projects to clients becomes \\nimportant. These two activities are aimed at this – \\nwhere the training programmes can happen at the firm \\nlevel, at an industry-wide level (  led by the association  ), \\nat professional training academy level or a combination \\nof all of these.\\nSTRATEGIC OBJECTIVE 3 : IMPROVE \\nBUSINESS CLIMATE FOR SOFTWARE \\nFIRMS TO COMPETE AND GROW\\nOperational Objective 3.1  : Improve tax \\nframework for software sector\\n3.1.1 Conduct periodic industry–government engage -\\nment sessions to reduce uncertainty / opacity of tax \\nrules, resolve operational issues in tax compliance, \\naddress procedural inefficiencies and build confidence \\nand trust between tax authorities and the software \\nindustry.\\n3.1.2 Review and reduce tax procedural complexities, \\nespecially for start-ups and SMEs in the software \\nsector.\\nThe above activities are aimed at addressing the fre -\\nquent issues industry players face with taxation, and \\nare aimed at introducing a more regular mechanism for \\nresolving issues as well as a specific and focused ef -\\nfort to ease pain points for start-ups and SMEs. Often, \\ntax authorities do not understand the sector well, given \\nthe different business models and operating modali -\\nties compared to other sectors – this leads to tensions, \\npoorly designed tax administration frameworks and \\nweakened compliance.\\nOperational Objective 3.2  : Improve access  \\nto capital for software firms\\n3.2.1 Introduce project financing windows (  including \\ngovernment refinancing facilities ) for software firms to \\nenable international market expansion.3.2.2 Federal financial sector authorities and banks to \\ncollectively identify and develop new loan products and \\nlending modalities to suit software export business.\\n3.2.3. Improve banks’ internal credit scoring and credit \\nappraisal of software businesses.\\nAs noted in the constraints analysis section, firms in \\nthe software export sector find it hard to obtain growth \\ncapital and existing financing modes are not suitable \\nor are unappealing. The above activities are aimed \\nat addressing that through a mix of introducing new \\nproducts and procedures and improving bank lending \\nprinciples (  through better credit scoring ). It is expected \\nthat, in time, the sector will have little difficulty in ac -\\ncessing debt capital, whether it is to finance working \\ncapital needs or to finance international expansion. \\nWhile software firms may continue to seek equity cap -\\nital for particular needs, it is important to ensure that \\nthe channel of debt capital always remains open and \\neasy, so that entrepreneurs have multiple sources of \\nfinancing to use as needed and as suited for the pur -\\npose and the stage of the businesses’ growth.\\nSTRENGTHEN INNOVATION AND \\nUPGRADING IN THE SOFTWARE SECTOR\\nOperational Objective 4.1  : Encourage new \\ninvestment in the sector and start-ups\\n4.1.1 Launch a time-bound investment promotion effort \\nto attract FDI into the software sector, with focused at -\\ntention on market segments that Pakistan desires up -\\ngrading into and building positioning in.\\nA key determinant of the Pakistani software sector’s \\nupgrading and enhanced competitiveness and ag -\\ngressive new market entry would be attracting new and \\ngood-quality FDI. Given the tight competition for FDI \\nattraction, as well as domestic issues in FDI facilitation, \\nPakistan needs to launch a focused investment promo -\\ntion effort in a targeted and time-bound manner. Such \\nan effort would require public resources to be allocated \\nand disbursed in a timely manner ( to finance the FDI \\npromotion programme  ), proactive engagement by the \\nprivate sector ( including advocacy by existing foreign \\ninvestors located in Pakistan ), support of Pakistan’s \\ninternational diplomatic missions and alignment with \\nkey agencies involved in investor facilitation.\\n4.1.2 Assess current ecosystem for software start-ups \\nand introduce a time-bound and focused programme \\nto address bottlenecks and launch a ‘1,000 start-ups’ ',\n",
       " '67\\n ANNEX ES \\nprogramme to boost new entrepreneurship in the sec -\\ntor from across the country.\\n4.1.3 Introduce a subsidized rent scheme for first six \\nmonths in the new special technology zones to encour -\\nage start-ups and smaller software firms ( eligibility to \\nbe defined by relevant authority in consultation with \\nthe industry ).\\nNew investment into the sector doesn’t only come \\nfrom foreign investment, but also from new domestic \\nentrepreneurship. New entrepreneurship is also a key \\ncontributor to innovation in the sector. Accordingly, \\nsupporting the start-up ecosystem becomes important. \\nThis activity is aimed at introducing a time-bound effort \\nto rapidly remove bottlenecks for start-ups and create \\na more favourable climate for start-up entrepreneurship \\nin the software exports sector. This also recognizes that \\nnew export revenue growth doesn’t only come from \\nlarger firms, but also from the establishment of new \\nfirms, exporting from day one ( ‘born global’ ) or starting \\nwith domestic clients and then moving to exports. The \\nsecond activity here also recognizes that smaller firms \\nface greater challenges in the early years of operations \\n– especially around cost pressures and profitability – \\nand, as such, require some initial nurturing by way of \\nmaking operating expenses like rent more affordable \\nfor an initial period.\\nOperational Objective 4.2  : Improve enabling \\nframework for product-led innovation\\n4.2.1 Update intellectual property protection frame -\\nworks and their implementation to protect Pakistani \\nsoftware product innovation and encourage IP-led \\ngrowth in the sector.\\n4.2.2 Align data protection, information security and \\nprivacy laws to global best practices to build trust in \\nPakistani IT as a brand and ensure that Pakistani soft -\\nware firms win and retain business from customers \\nin countries that have increasingly tighter laws and \\nheightened information security concerns.\\nThe above two activities are aimed at introducing ( or \\nstrengthening existing ) legal and regulatory frame -\\nworks that position Pakistan more strongly for prod -\\nuct-led growth in the sector, which is a key focus of \\nthis five-year strategy. With the growing global atten -\\ntion on intellectual property, data protection and pri -\\nvacy rules, Pakistan needs to introduce new, or align \\nexisting, national rules to global rules and trends. This \\nwill become a prerequisite for the sector’s global ex -\\npansion goals.4.2.3 Introduce a targeted export incentive scheme \\nfor software firms that build and sell ( globally ) IP-led \\nsoftware products ( and move on from customized \\nsoftware service provision ) to encourage moving up \\nvalue chain.\\nAs a way to encourage and accelerate product-led \\ngrowth in the short to medium term, this activity envis -\\nages introducing a time-bound and focused export in -\\ncentive scheme for firms that move up the value chain \\nthrough a product-led approach. This incentive would \\naim to signal to the industry as to the desired trajectory \\nto be pursued and also make it financially attractive. \\nThe mechanics of such an incentive scheme would \\nneed to be carefully devised ( in close consultation with \\nthe private sector  ) to ensure that it is feasible to comply \\nand no perverse incentives are created. It should also \\nbe periodically monitored to ensure that the desired \\npolicy goals are being met.\\n4.2.4 In order to help build product portfolio and \\nstrengthen export potential, ensure that Pakistani soft -\\nware firms have equitable access to government IT \\nprojects by levelling the playing field with internal IT \\ndepartments and simplifying preconditions  / enabling \\nconditions in bids. Consider carving out certain proj -\\nects ( by types / size ) exclusively for private sector play -\\ners to foster innovation.\\nAs noted in the constraints analysis section, industry \\nstakeholders felt quite strongly about the problems \\nin private sector opportunities to tap into government \\nIT projects. This activity envisages creating a more \\nlevel playing field and will perhaps require a gradual \\napproach. A useful low-hanging fruit is to rewrite pro -\\ncurement rules to better enable, and increase procure -\\nment pipeline visibility, for the domestic private sector \\nto participate in such projects.\\n4.2.5 Establish collaboration with innovation ecosys -\\ntems in friendly countries and connect Pakistan’s tech \\necosystem to accelerate product-led growth and inno -\\nvation of Pakistani software start-ups and SMEs.\\nWith a view to globalizing Pakistan’s software eco -\\nsystem and enabling greater exposure for Pakistani \\nstart-ups and SMEs, twinning the country with other \\ninnovation ecosystems (  e.g. through forging memoran -\\ndums of understanding between industry associations \\nand between apex ICT agencies, and partnerships be -\\ntween angel / venture capital networks, etc. ). First steps \\ncan be made with countries with which Pakistan has \\nbilateral trade and investment, comprehensive partner -\\nship or bilateral dialogue agreements.',\n",
       " '68\\nPakistan Export Strategy 2023-2027 • SOFTWARE DEVELOPMENT\\nREFERENCES\\nKearney ( 2019 ). The 2019 Kearney Global Services Location Index. Available from \\nhttps:// www.kearney.com/digital/gsli/2019-full-report .\\nBhattacharjee, Sankalpa & Debkumar, Chakrabartib ( 2015 ). ‘Investigating India’s com -\\npetitive edge in the IT-ITES sector’. IIMB Management Review , 27( 1 ) : 19–34.\\nCompTIA ( 2020 ). IT Industry Outlook 2021. Accessed at https://  www.comptia.org/news -\\nroom/2020/11/17/rebuilding-for-the-future-comptia-releases-its-it-industry-outlook-2021 .\\nCompTIA (  2021 ). ‘Cyberstates 2021 : The definitive guide to the U.S. tech industry and \\ntech workforce’. Available from https://  www.cyberstates.org/pdf/CompTIA_Cyberstates_  \\n2021.pdf .\\nCouto, V. & Fernandez-Stark, K. ( 2019 ). ‘Pakistan in the Offshore Services Global \\nValue Chain’. Duke Global Value Chains Centre. Available from https://  gvcc.duke.edu/\\ncggclisting/pakistan-in-the-offshore-services-global-value-chain/ .\\nCushman & Wakefield ( 2016 ). ‘Where in the World ? Business Process Outsourcing and \\nShared Service Location Index 2016’. Available from https://  www.qbusiness.pl/uploads/\\nRaporty/cwbpo2016.pdf .\\nDeloitte (  n.d. ). ‘Impact of COVID-19 on Cybersecurity’. Available from https://  www2.\\ndeloitte.com/ch/en/pages/risk/articles/impact-covid-cybersecurity.html .\\nGartner (  2021  ). ‘5 Impactful Technologies From the Gartner Emerging Technologies and \\nTrends Impact Radar for 2022’. Available from https://  www.gartner.com/en/articles/5-\\nimpactful-technologies-from-the-gartner-emerging-technologies-and-trends-impact-\\nradar-for-2022 .\\nGovernment of Pakistan, PSEB & MoITT (  2020 ). ‘Pakistan’s IT Industry  : Overview’. \\nAvailable from h t t p : / / w w w . m o i t . g o v . p k / S i t e I m a g e / M i s c / fi l e s / P a k i s t a n  % 2 7 s  % 2 0 I T  % 2 0\\nIndustry  %20Report-Printer.pdf .\\nIndia Brand Equity Foundation (  2018 ). IT and ITeS Report. Available from https://  www.\\nibef.org/download/IT-ITeS-Repor-Feb-2018.pdf .\\nIndia Brand Equity Foundation (  2021 ). IT & BMP Report. Available from https://  www.ibef.\\norg/download/IT-and-BPM-October-2021.pdf .\\nKearney ( 2021 ). Kearney Global Services Location Index. Available from https://  www.\\nkearney.com/digital/article  / ?/a/the-2021-kearney-global-services-location-index .',\n",
       " '69\\n REFERENCES  \\nNASSCOM ( 2021 ). ‘NASSCOM CEO Survey – Tech Industry Outlook’. Available \\nfrom https://  nasscom.in/knowledge-center/publications/2021-nasscom-ceo-survey-  \\ntech-industry-outlook .\\nOutsource Asia ( 2020  ). ‘Outsourcing in Vietnam : Competitive Factors and Entrepreneurial \\nChallenges’. Available from https://  outsourceasia.org/outsourcing-in-vietnam-competitive-  \\nfactors-and-entrepreneurial-challenges/ .\\nOxford Business Group ( 2017 ). ‘Vietnam Year in Review 2016’. Available from https://  ox-\\nfordbusinessgroup.com/news/vietnam-year-review-2016 .\\nStephany, F., Kässi, O., Rani, U. & Lehdonvirta, V. (  2021 ). ‘Online Labour Index 2020 : New \\nways to measure the world’s remote freelancing market’. arXiv preprint arXiv  :2105.09148 . \\nAvailable from http : // arxiv.org/abs/2105.09148 .\\nWorld Bank (  2021 ). Vietnam Macro Poverty Outlook. Available from https://  pubdocs.\\nworldbank.org/en/972091563917611616/mpo-vnm.pdf .',\n",
       " 'The designations employed and the presentation of material in this document do not imply the \\nexpression of any opinion whatsoever on the part of the International Trade Centre concerning the legal \\nstatus of any country, territory, city or area or of its authorities, or concerning the delimitation of its \\nfrontiers or boundaries.\\nThis document has not formally been edited by the International Trade Centre.',\n",
       " 'PAKISTAN EXPORT STRATEGY SOFTWARE DEVELOPMENT 2023-2027\\nThis document has been produced \\nwith the financial support  \\nof the Foreign, Commonwealth  \\n& Development Office With technical support from ITC']"
      ]
     },
     "execution_count": 59,
     "metadata": {},
     "output_type": "execute_result"
    }
   ],
   "source": [
    "def read_pdf(file_path: str) -> List[str]:\n",
    "    with open(file_path, 'rb') as file:  # The 'b' in 'rb' stands for binary mode\n",
    "        reader: PyPDF2.PdfReader = PyPDF2.PdfReader(file)\n",
    "        text_content: List[str] = [page.extract_text() for page in reader.pages]\n",
    "        return text_content\n",
    "\n",
    "pages: list[str] = read_pdf(\"./Software-Development-Export-Strategy-Pakistan.pdf\")\n",
    "pages"
   ]
  }
 ],
 "metadata": {
  "kernelspec": {
   "display_name": "py12",
   "language": "python",
   "name": "python3"
  },
  "language_info": {
   "codemirror_mode": {
    "name": "ipython",
    "version": 3
   },
   "file_extension": ".py",
   "mimetype": "text/x-python",
   "name": "python",
   "nbconvert_exporter": "python",
   "pygments_lexer": "ipython3",
   "version": "3.12.0"
  }
 },
 "nbformat": 4,
 "nbformat_minor": 2
}
