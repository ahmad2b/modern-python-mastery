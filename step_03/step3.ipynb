{
 "cells": [
  {
   "cell_type": "markdown",
   "metadata": {},
   "source": [
    "# Python Operators\n",
    "* Arithmetic operators\n",
    "* Assignment operators\n",
    "* Comparison operators\n",
    "* Logical operators\n",
    "* Identity operators\n",
    "* Membership operators\n",
    "* Bitwise operators"
   ]
  },
  {
   "cell_type": "markdown",
   "metadata": {},
   "source": [
    "`install lxml`"
   ]
  },
  {
   "cell_type": "code",
   "execution_count": 1,
   "metadata": {},
   "outputs": [
    {
     "name": "stdout",
     "output_type": "stream",
     "text": [
      "Retrieving notices: ...working... done\n",
      "Collecting package metadata (current_repodata.json): ...working... done\n",
      "Solving environment: ...working... done\n",
      "\n",
      "## Package Plan ##\n",
      "\n",
      "  environment location: C:\\Users\\ahmad\\.conda\\envs\\py12\n",
      "\n",
      "  added / updated specs:\n",
      "    - lxml\n",
      "\n",
      "\n",
      "The following packages will be downloaded:\n",
      "\n",
      "    package                    |            build\n",
      "    ---------------------------|-----------------\n",
      "    libxml2-2.10.4             |       h0ad7f3c_1         2.8 MB\n",
      "    libxslt-1.1.37             |       h2bbff1b_1         447 KB\n",
      "    lxml-4.9.3                 |  py312h09808a7_0         1.0 MB\n",
      "    openssl-3.0.12             |       h2bbff1b_0         7.4 MB\n",
      "    ------------------------------------------------------------\n",
      "                                           Total:        11.7 MB\n",
      "\n",
      "The following NEW packages will be INSTALLED:\n",
      "\n",
      "  libiconv           pkgs/main/win-64::libiconv-1.16-h2bbff1b_2 \n",
      "  libxml2            pkgs/main/win-64::libxml2-2.10.4-h0ad7f3c_1 \n",
      "  libxslt            pkgs/main/win-64::libxslt-1.1.37-h2bbff1b_1 \n",
      "  lxml               pkgs/main/win-64::lxml-4.9.3-py312h09808a7_0 \n",
      "\n",
      "The following packages will be UPDATED:\n",
      "\n",
      "  openssl                                 3.0.11-h2bbff1b_2 --> 3.0.12-h2bbff1b_0 \n",
      "\n",
      "\n",
      "\n",
      "Downloading and Extracting Packages\n",
      "\n",
      "libxml2-2.10.4       | 2.8 MB    |            |   0% \n",
      "\n",
      "lxml-4.9.3           | 1.0 MB    |            |   0% \u001b[A\n",
      "\n",
      "\n",
      "libxslt-1.1.37       | 447 KB    |            |   0% \u001b[A\u001b[A\n",
      "\n",
      "\n",
      "\n",
      "openssl-3.0.12       | 7.4 MB    |            |   0% \u001b[A\u001b[A\u001b[A\n",
      "\n",
      "\n",
      "\n",
      "openssl-3.0.12       | 7.4 MB    |            |   0% \u001b[A\u001b[A\u001b[A\n",
      "\n",
      "\n",
      "libxslt-1.1.37       | 447 KB    | 3          |   4% \u001b[A\u001b[A\n",
      "\n",
      "\n",
      "\n",
      "openssl-3.0.12       | 7.4 MB    | 1          |   2% \u001b[A\u001b[A\u001b[A\n",
      "libxml2-2.10.4       | 2.8 MB    |            |   1% \n",
      "\n",
      "\n",
      "\n",
      "openssl-3.0.12       | 7.4 MB    | 3          |   3% \u001b[A\u001b[A\u001b[A\n",
      "libxml2-2.10.4       | 2.8 MB    | 4          |   4% \n",
      "\n",
      "\n",
      "libxslt-1.1.37       | 447 KB    | ##8        |  29% \u001b[A\u001b[A\n",
      "\n",
      "lxml-4.9.3           | 1.0 MB    | 1          |   2% \u001b[A\n",
      "\n",
      "\n",
      "\n",
      "openssl-3.0.12       | 7.4 MB    | 6          |   7% \u001b[A\u001b[A\u001b[A\n",
      "libxml2-2.10.4       | 2.8 MB    | 8          |   8% \n",
      "\n",
      "\n",
      "libxslt-1.1.37       | 447 KB    | #####7     |  57% \u001b[A\u001b[A\n",
      "\n",
      "\n",
      "\n",
      "openssl-3.0.12       | 7.4 MB    | #3         |  14% \u001b[A\u001b[A\u001b[A\n",
      "\n",
      "lxml-4.9.3           | 1.0 MB    | #2         |  12% \u001b[A\n",
      "\n",
      "\n",
      "\n",
      "openssl-3.0.12       | 7.4 MB    | ##1        |  22% \u001b[A\u001b[A\u001b[A\n",
      "libxml2-2.10.4       | 2.8 MB    | #7         |  17% \n",
      "\n",
      "\n",
      "\n",
      "openssl-3.0.12       | 7.4 MB    | ###        |  30% \u001b[A\u001b[A\u001b[A\n",
      "\n",
      "\n",
      "libxslt-1.1.37       | 447 KB    | ########## | 100% \u001b[A\u001b[A\n",
      "\n",
      "\n",
      "libxslt-1.1.37       | 447 KB    | ########## | 100% \u001b[A\u001b[A\n",
      "libxml2-2.10.4       | 2.8 MB    | ###        |  30% \n",
      "\n",
      "lxml-4.9.3           | 1.0 MB    | ##4        |  25% \u001b[A\n",
      "\n",
      "\n",
      "\n",
      "openssl-3.0.12       | 7.4 MB    | ###7       |  37% \u001b[A\u001b[A\u001b[A\n",
      "libxml2-2.10.4       | 2.8 MB    | ###7       |  37% \n",
      "\n",
      "\n",
      "\n",
      "openssl-3.0.12       | 7.4 MB    | ####3      |  44% \u001b[A\u001b[A\u001b[A\n",
      "libxml2-2.10.4       | 2.8 MB    | ####2      |  42% \n",
      "\n",
      "lxml-4.9.3           | 1.0 MB    | ####9      |  50% \u001b[A\n",
      "\n",
      "\n",
      "\n",
      "openssl-3.0.12       | 7.4 MB    | ######6    |  66% \u001b[A\u001b[A\u001b[A\n",
      "\n",
      "\n",
      "\n",
      "openssl-3.0.12       | 7.4 MB    | #######5   |  75% \u001b[A\u001b[A\u001b[A\n",
      "libxml2-2.10.4       | 2.8 MB    | ####8      |  49% \n",
      "\n",
      "lxml-4.9.3           | 1.0 MB    | #########9 | 100% \u001b[A\n",
      "libxml2-2.10.4       | 2.8 MB    | #######7   |  77% \n",
      "\n",
      "lxml-4.9.3           | 1.0 MB    | ########## | 100% \u001b[A\n",
      "\n",
      "\n",
      "\n",
      "openssl-3.0.12       | 7.4 MB    | ########1  |  81% \u001b[A\u001b[A\u001b[A\n",
      "libxml2-2.10.4       | 2.8 MB    | ########5  |  85% \n",
      "\n",
      "\n",
      "\n",
      "openssl-3.0.12       | 7.4 MB    | #########5 |  95% \u001b[A\u001b[A\u001b[A\n",
      "libxml2-2.10.4       | 2.8 MB    | #########1 |  92% \n",
      "libxml2-2.10.4       | 2.8 MB    | ########## | 100% \n",
      "libxml2-2.10.4       | 2.8 MB    | ########## | 100% \n",
      "\n",
      "\n",
      "\n",
      "openssl-3.0.12       | 7.4 MB    | ########## | 100% \u001b[A\u001b[A\u001b[A\n",
      "                                                     \n",
      "\n",
      "\n",
      "                                                     \u001b[A\n",
      "\n",
      "\n",
      "                                                     \u001b[A\u001b[A\n",
      "\n",
      "\n",
      "\n",
      "                                                     \u001b[A\u001b[A\u001b[A\n",
      "\n",
      "Preparing transaction: ...working... done\n",
      "Verifying transaction: ...working... done\n",
      "Executing transaction: ...working... done\n"
     ]
    },
    {
     "name": "stderr",
     "output_type": "stream",
     "text": [
      "\n",
      "\n",
      "==> WARNING: A newer version of conda exists. <==\n",
      "  current version: 23.5.2\n",
      "  latest version: 23.10.0\n",
      "\n",
      "Please update conda by running\n",
      "\n",
      "    $ conda update -n base -c defaults conda\n",
      "\n",
      "Or to minimize the number of packages updated during conda update use\n",
      "\n",
      "     conda install conda=23.10.0\n",
      "\n",
      "\n"
     ]
    }
   ],
   "source": [
    "!conda install lxml -y"
   ]
  },
  {
   "cell_type": "markdown",
   "metadata": {},
   "source": [
    "## Python Arithmetic Operators"
   ]
  },
  {
   "cell_type": "code",
   "execution_count": 2,
   "metadata": {},
   "outputs": [
    {
     "name": "stdout",
     "output_type": "stream",
     "text": [
      "Requirement already satisfied: pandas in c:\\users\\ahmad\\.conda\\envs\\py12\\lib\\site-packages (2.1.1)Note: you may need to restart the kernel to use updated packages.\n",
      "\n",
      "Requirement already satisfied: numpy>=1.26.0 in c:\\users\\ahmad\\.conda\\envs\\py12\\lib\\site-packages (from pandas) (1.26.0)\n",
      "Requirement already satisfied: python-dateutil>=2.8.2 in c:\\users\\ahmad\\.conda\\envs\\py12\\lib\\site-packages (from pandas) (2.8.2)\n",
      "Requirement already satisfied: pytz>=2020.1 in c:\\users\\ahmad\\.conda\\envs\\py12\\lib\\site-packages (from pandas) (2023.3.post1)\n",
      "Requirement already satisfied: tzdata>=2022.1 in c:\\users\\ahmad\\.conda\\envs\\py12\\lib\\site-packages (from pandas) (2023.3)\n",
      "Requirement already satisfied: six>=1.5 in c:\\users\\ahmad\\.conda\\envs\\py12\\lib\\site-packages (from python-dateutil>=2.8.2->pandas) (1.16.0)\n"
     ]
    }
   ],
   "source": [
    "# installing packages\n",
    "%pip install pandas"
   ]
  },
  {
   "cell_type": "code",
   "execution_count": 1,
   "metadata": {},
   "outputs": [
    {
     "data": {
      "text/html": [
       "<div>\n",
       "<style scoped>\n",
       "    .dataframe tbody tr th:only-of-type {\n",
       "        vertical-align: middle;\n",
       "    }\n",
       "\n",
       "    .dataframe tbody tr th {\n",
       "        vertical-align: top;\n",
       "    }\n",
       "\n",
       "    .dataframe thead th {\n",
       "        text-align: right;\n",
       "    }\n",
       "</style>\n",
       "<table border=\"1\" class=\"dataframe\">\n",
       "  <thead>\n",
       "    <tr style=\"text-align: right;\">\n",
       "      <th></th>\n",
       "      <th>Operator</th>\n",
       "      <th>Name</th>\n",
       "      <th>Example</th>\n",
       "      <th>Try it</th>\n",
       "    </tr>\n",
       "  </thead>\n",
       "  <tbody>\n",
       "    <tr>\n",
       "      <th>0</th>\n",
       "      <td>+</td>\n",
       "      <td>Addition</td>\n",
       "      <td>x + y</td>\n",
       "      <td>Try it »</td>\n",
       "    </tr>\n",
       "    <tr>\n",
       "      <th>1</th>\n",
       "      <td>-</td>\n",
       "      <td>Subtraction</td>\n",
       "      <td>x - y</td>\n",
       "      <td>Try it »</td>\n",
       "    </tr>\n",
       "    <tr>\n",
       "      <th>2</th>\n",
       "      <td>*</td>\n",
       "      <td>Multiplication</td>\n",
       "      <td>x * y</td>\n",
       "      <td>Try it »</td>\n",
       "    </tr>\n",
       "    <tr>\n",
       "      <th>3</th>\n",
       "      <td>/</td>\n",
       "      <td>Division</td>\n",
       "      <td>x / y</td>\n",
       "      <td>Try it »</td>\n",
       "    </tr>\n",
       "    <tr>\n",
       "      <th>4</th>\n",
       "      <td>%</td>\n",
       "      <td>Modulus</td>\n",
       "      <td>x % y</td>\n",
       "      <td>Try it »</td>\n",
       "    </tr>\n",
       "    <tr>\n",
       "      <th>5</th>\n",
       "      <td>**</td>\n",
       "      <td>Exponentiation</td>\n",
       "      <td>x ** y</td>\n",
       "      <td>Try it »</td>\n",
       "    </tr>\n",
       "    <tr>\n",
       "      <th>6</th>\n",
       "      <td>//</td>\n",
       "      <td>Floor division</td>\n",
       "      <td>x // y</td>\n",
       "      <td>Try it »</td>\n",
       "    </tr>\n",
       "  </tbody>\n",
       "</table>\n",
       "</div>"
      ],
      "text/plain": [
       "  Operator            Name Example    Try it\n",
       "0        +        Addition   x + y  Try it »\n",
       "1        -     Subtraction   x - y  Try it »\n",
       "2        *  Multiplication   x * y  Try it »\n",
       "3        /        Division   x / y  Try it »\n",
       "4        %         Modulus   x % y  Try it »\n",
       "5       **  Exponentiation  x ** y  Try it »\n",
       "6       //  Floor division  x // y  Try it »"
      ]
     },
     "execution_count": 1,
     "metadata": {},
     "output_type": "execute_result"
    }
   ],
   "source": [
    "# importing packages\n",
    "import pandas as pd\n",
    "\n",
    "table = pd.read_html('https://www.w3schools.com/python/python_operators.asp')\n",
    "table[0]"
   ]
  },
  {
   "cell_type": "code",
   "execution_count": 2,
   "metadata": {},
   "outputs": [
    {
     "name": "stdout",
     "output_type": "stream",
     "text": [
      "10\n",
      "4\n",
      "21\n",
      "2.3333333333333335\n"
     ]
    }
   ],
   "source": [
    "a: int = 7\n",
    "b: int = 3\n",
    "\n",
    "print(a + b) # Addition 10\n",
    "print(a - b) # Subtraction 4\n",
    "print(a * b) # Multiplication 21\n",
    "print(a / b) # Division 2.3333333333333335"
   ]
  },
  {
   "cell_type": "code",
   "execution_count": 3,
   "metadata": {},
   "outputs": [
    {
     "name": "stdout",
     "output_type": "stream",
     "text": [
      "2\n"
     ]
    }
   ],
   "source": [
    "a: int = 11\n",
    "b: int = 3\n",
    "\n",
    "print(a % b) # Modulus 2"
   ]
  },
  {
   "cell_type": "code",
   "execution_count": 4,
   "metadata": {},
   "outputs": [
    {
     "name": "stdout",
     "output_type": "stream",
     "text": [
      "4\n"
     ]
    }
   ],
   "source": [
    "print(2**2) # Exponentiation 4"
   ]
  },
  {
   "cell_type": "code",
   "execution_count": 5,
   "metadata": {},
   "outputs": [
    {
     "name": "stdout",
     "output_type": "stream",
     "text": [
      "6.0\n",
      "6\n"
     ]
    }
   ],
   "source": [
    "print(18/3)  # Division 6.0\n",
    "print(18//3) # Floor division 6"
   ]
  },
  {
   "cell_type": "code",
   "execution_count": 6,
   "metadata": {},
   "outputs": [
    {
     "name": "stdout",
     "output_type": "stream",
     "text": [
      "4\n"
     ]
    }
   ],
   "source": [
    "print(18//4) # Floor division 4"
   ]
  },
  {
   "cell_type": "markdown",
   "metadata": {},
   "source": [
    "## Python Assignment Operators"
   ]
  },
  {
   "cell_type": "code",
   "execution_count": 7,
   "metadata": {},
   "outputs": [
    {
     "data": {
      "text/html": [
       "<div>\n",
       "<style scoped>\n",
       "    .dataframe tbody tr th:only-of-type {\n",
       "        vertical-align: middle;\n",
       "    }\n",
       "\n",
       "    .dataframe tbody tr th {\n",
       "        vertical-align: top;\n",
       "    }\n",
       "\n",
       "    .dataframe thead th {\n",
       "        text-align: right;\n",
       "    }\n",
       "</style>\n",
       "<table border=\"1\" class=\"dataframe\">\n",
       "  <thead>\n",
       "    <tr style=\"text-align: right;\">\n",
       "      <th></th>\n",
       "      <th>Operator</th>\n",
       "      <th>Example</th>\n",
       "      <th>Same As</th>\n",
       "      <th>Try it</th>\n",
       "    </tr>\n",
       "  </thead>\n",
       "  <tbody>\n",
       "    <tr>\n",
       "      <th>0</th>\n",
       "      <td>=</td>\n",
       "      <td>x = 5</td>\n",
       "      <td>x = 5</td>\n",
       "      <td>Try it »</td>\n",
       "    </tr>\n",
       "    <tr>\n",
       "      <th>1</th>\n",
       "      <td>+=</td>\n",
       "      <td>x += 3</td>\n",
       "      <td>x = x + 3</td>\n",
       "      <td>Try it »</td>\n",
       "    </tr>\n",
       "    <tr>\n",
       "      <th>2</th>\n",
       "      <td>-=</td>\n",
       "      <td>x -= 3</td>\n",
       "      <td>x = x - 3</td>\n",
       "      <td>Try it »</td>\n",
       "    </tr>\n",
       "    <tr>\n",
       "      <th>3</th>\n",
       "      <td>*=</td>\n",
       "      <td>x *= 3</td>\n",
       "      <td>x = x * 3</td>\n",
       "      <td>Try it »</td>\n",
       "    </tr>\n",
       "    <tr>\n",
       "      <th>4</th>\n",
       "      <td>/=</td>\n",
       "      <td>x /= 3</td>\n",
       "      <td>x = x / 3</td>\n",
       "      <td>Try it »</td>\n",
       "    </tr>\n",
       "    <tr>\n",
       "      <th>5</th>\n",
       "      <td>%=</td>\n",
       "      <td>x %= 3</td>\n",
       "      <td>x = x % 3</td>\n",
       "      <td>Try it »</td>\n",
       "    </tr>\n",
       "    <tr>\n",
       "      <th>6</th>\n",
       "      <td>//=</td>\n",
       "      <td>x //= 3</td>\n",
       "      <td>x = x // 3</td>\n",
       "      <td>Try it »</td>\n",
       "    </tr>\n",
       "    <tr>\n",
       "      <th>7</th>\n",
       "      <td>**=</td>\n",
       "      <td>x **= 3</td>\n",
       "      <td>x = x ** 3</td>\n",
       "      <td>Try it »</td>\n",
       "    </tr>\n",
       "    <tr>\n",
       "      <th>8</th>\n",
       "      <td>&amp;=</td>\n",
       "      <td>x &amp;= 3</td>\n",
       "      <td>x = x &amp; 3</td>\n",
       "      <td>Try it »</td>\n",
       "    </tr>\n",
       "    <tr>\n",
       "      <th>9</th>\n",
       "      <td>|=</td>\n",
       "      <td>x |= 3</td>\n",
       "      <td>x = x | 3</td>\n",
       "      <td>Try it »</td>\n",
       "    </tr>\n",
       "    <tr>\n",
       "      <th>10</th>\n",
       "      <td>^=</td>\n",
       "      <td>x ^= 3</td>\n",
       "      <td>x = x ^ 3</td>\n",
       "      <td>Try it »</td>\n",
       "    </tr>\n",
       "    <tr>\n",
       "      <th>11</th>\n",
       "      <td>&gt;&gt;=</td>\n",
       "      <td>x &gt;&gt;= 3</td>\n",
       "      <td>x = x &gt;&gt; 3</td>\n",
       "      <td>Try it »</td>\n",
       "    </tr>\n",
       "    <tr>\n",
       "      <th>12</th>\n",
       "      <td>&lt;&lt;=</td>\n",
       "      <td>x &lt;&lt;= 3</td>\n",
       "      <td>x = x &lt;&lt; 3</td>\n",
       "      <td>Try it »</td>\n",
       "    </tr>\n",
       "  </tbody>\n",
       "</table>\n",
       "</div>"
      ],
      "text/plain": [
       "   Operator  Example     Same As    Try it\n",
       "0         =    x = 5       x = 5  Try it »\n",
       "1        +=   x += 3   x = x + 3  Try it »\n",
       "2        -=   x -= 3   x = x - 3  Try it »\n",
       "3        *=   x *= 3   x = x * 3  Try it »\n",
       "4        /=   x /= 3   x = x / 3  Try it »\n",
       "5        %=   x %= 3   x = x % 3  Try it »\n",
       "6       //=  x //= 3  x = x // 3  Try it »\n",
       "7       **=  x **= 3  x = x ** 3  Try it »\n",
       "8        &=   x &= 3   x = x & 3  Try it »\n",
       "9        |=   x |= 3   x = x | 3  Try it »\n",
       "10       ^=   x ^= 3   x = x ^ 3  Try it »\n",
       "11      >>=  x >>= 3  x = x >> 3  Try it »\n",
       "12      <<=  x <<= 3  x = x << 3  Try it »"
      ]
     },
     "execution_count": 7,
     "metadata": {},
     "output_type": "execute_result"
    }
   ],
   "source": [
    "table[1]"
   ]
  },
  {
   "cell_type": "code",
   "execution_count": 8,
   "metadata": {},
   "outputs": [
    {
     "name": "stdout",
     "output_type": "stream",
     "text": [
      "7\n",
      "10\n"
     ]
    }
   ],
   "source": [
    "a: int = 7 # Assignment Operator\n",
    "print(a) # 7\n",
    "\n",
    "a += 3 # Addition 10\n",
    "\n",
    "print(a) # 10"
   ]
  },
  {
   "cell_type": "markdown",
   "metadata": {},
   "source": [
    "## Python Comparison Operators"
   ]
  },
  {
   "cell_type": "code",
   "execution_count": 9,
   "metadata": {},
   "outputs": [
    {
     "data": {
      "text/html": [
       "<div>\n",
       "<style scoped>\n",
       "    .dataframe tbody tr th:only-of-type {\n",
       "        vertical-align: middle;\n",
       "    }\n",
       "\n",
       "    .dataframe tbody tr th {\n",
       "        vertical-align: top;\n",
       "    }\n",
       "\n",
       "    .dataframe thead th {\n",
       "        text-align: right;\n",
       "    }\n",
       "</style>\n",
       "<table border=\"1\" class=\"dataframe\">\n",
       "  <thead>\n",
       "    <tr style=\"text-align: right;\">\n",
       "      <th></th>\n",
       "      <th>Operator</th>\n",
       "      <th>Name</th>\n",
       "      <th>Example</th>\n",
       "      <th>Try it</th>\n",
       "    </tr>\n",
       "  </thead>\n",
       "  <tbody>\n",
       "    <tr>\n",
       "      <th>0</th>\n",
       "      <td>==</td>\n",
       "      <td>Equal</td>\n",
       "      <td>x == y</td>\n",
       "      <td>Try it »</td>\n",
       "    </tr>\n",
       "    <tr>\n",
       "      <th>1</th>\n",
       "      <td>!=</td>\n",
       "      <td>Not equal</td>\n",
       "      <td>x != y</td>\n",
       "      <td>Try it »</td>\n",
       "    </tr>\n",
       "    <tr>\n",
       "      <th>2</th>\n",
       "      <td>&gt;</td>\n",
       "      <td>Greater than</td>\n",
       "      <td>x &gt; y</td>\n",
       "      <td>Try it »</td>\n",
       "    </tr>\n",
       "    <tr>\n",
       "      <th>3</th>\n",
       "      <td>&lt;</td>\n",
       "      <td>Less than</td>\n",
       "      <td>x &lt; y</td>\n",
       "      <td>Try it »</td>\n",
       "    </tr>\n",
       "    <tr>\n",
       "      <th>4</th>\n",
       "      <td>&gt;=</td>\n",
       "      <td>Greater than or equal to</td>\n",
       "      <td>x &gt;= y</td>\n",
       "      <td>Try it »</td>\n",
       "    </tr>\n",
       "    <tr>\n",
       "      <th>5</th>\n",
       "      <td>&lt;=</td>\n",
       "      <td>Less than or equal to</td>\n",
       "      <td>x &lt;= y</td>\n",
       "      <td>Try it »</td>\n",
       "    </tr>\n",
       "  </tbody>\n",
       "</table>\n",
       "</div>"
      ],
      "text/plain": [
       "  Operator                      Name Example    Try it\n",
       "0       ==                     Equal  x == y  Try it »\n",
       "1       !=                 Not equal  x != y  Try it »\n",
       "2        >              Greater than   x > y  Try it »\n",
       "3        <                 Less than   x < y  Try it »\n",
       "4       >=  Greater than or equal to  x >= y  Try it »\n",
       "5       <=     Less than or equal to  x <= y  Try it »"
      ]
     },
     "execution_count": 9,
     "metadata": {},
     "output_type": "execute_result"
    }
   ],
   "source": [
    "table[2]"
   ]
  },
  {
   "cell_type": "code",
   "execution_count": 10,
   "metadata": {},
   "outputs": [
    {
     "name": "stdout",
     "output_type": "stream",
     "text": [
      "False\n"
     ]
    }
   ],
   "source": [
    "a: int = 7\n",
    "b: int = 3\n",
    "\n",
    "print(a == b) # False"
   ]
  },
  {
   "cell_type": "code",
   "execution_count": 11,
   "metadata": {},
   "outputs": [
    {
     "name": "stdout",
     "output_type": "stream",
     "text": [
      "False\n"
     ]
    }
   ],
   "source": [
    "a: int = 7\n",
    "b: str = \"7\"\n",
    "print(a == b) # False"
   ]
  },
  {
   "cell_type": "code",
   "execution_count": 12,
   "metadata": {},
   "outputs": [
    {
     "name": "stdout",
     "output_type": "stream",
     "text": [
      "False\n"
     ]
    }
   ],
   "source": [
    "a: int = 7\n",
    "b: int = 7\n",
    "print( a != b) # False"
   ]
  },
  {
   "cell_type": "code",
   "execution_count": 13,
   "metadata": {},
   "outputs": [
    {
     "name": "stdout",
     "output_type": "stream",
     "text": [
      "True\n"
     ]
    }
   ],
   "source": [
    "a: int = 7  \n",
    "b: int = 3\n",
    "\n",
    "print(a > b) # True"
   ]
  },
  {
   "cell_type": "code",
   "execution_count": 14,
   "metadata": {},
   "outputs": [
    {
     "name": "stdout",
     "output_type": "stream",
     "text": [
      "True\n"
     ]
    }
   ],
   "source": [
    "a: int = 7\n",
    "b: int = 7\n",
    "\n",
    "print(a >= b) # True"
   ]
  },
  {
   "cell_type": "markdown",
   "metadata": {},
   "source": [
    "### ASCII Code\n",
    "\n",
    "``` python\n",
    "A = 65\n",
    "B = 66\n",
    "Z = 90\n",
    "\n",
    "a = 97\n",
    "b = 98\n",
    "c = 122\n",
    "\n",
    "0 = 48\n",
    "1 = 49\n",
    "9 = 57```"
   ]
  },
  {
   "cell_type": "code",
   "execution_count": 15,
   "metadata": {},
   "outputs": [
    {
     "data": {
      "text/plain": [
       "65"
      ]
     },
     "execution_count": 15,
     "metadata": {},
     "output_type": "execute_result"
    }
   ],
   "source": [
    "ord('A')\n"
   ]
  },
  {
   "cell_type": "code",
   "execution_count": 16,
   "metadata": {},
   "outputs": [
    {
     "data": {
      "text/plain": [
       "'A'"
      ]
     },
     "execution_count": 16,
     "metadata": {},
     "output_type": "execute_result"
    }
   ],
   "source": [
    "chr(65)"
   ]
  },
  {
   "cell_type": "code",
   "execution_count": 19,
   "metadata": {},
   "outputs": [
    {
     "name": "stdout",
     "output_type": "stream",
     "text": [
      "True\n",
      "65 66\n"
     ]
    }
   ],
   "source": [
    "a: str = 'A'\n",
    "b: str = 'B'\n",
    "\n",
    "print(a < b) # True\n",
    "print(ord(a) , ord(b)) # 65"
   ]
  },
  {
   "cell_type": "markdown",
   "metadata": {},
   "source": [
    "## Python Logical Operators"
   ]
  },
  {
   "cell_type": "code",
   "execution_count": 20,
   "metadata": {},
   "outputs": [
    {
     "data": {
      "text/html": [
       "<div>\n",
       "<style scoped>\n",
       "    .dataframe tbody tr th:only-of-type {\n",
       "        vertical-align: middle;\n",
       "    }\n",
       "\n",
       "    .dataframe tbody tr th {\n",
       "        vertical-align: top;\n",
       "    }\n",
       "\n",
       "    .dataframe thead th {\n",
       "        text-align: right;\n",
       "    }\n",
       "</style>\n",
       "<table border=\"1\" class=\"dataframe\">\n",
       "  <thead>\n",
       "    <tr style=\"text-align: right;\">\n",
       "      <th></th>\n",
       "      <th>Operator</th>\n",
       "      <th>Description</th>\n",
       "      <th>Example</th>\n",
       "      <th>Try it</th>\n",
       "    </tr>\n",
       "  </thead>\n",
       "  <tbody>\n",
       "    <tr>\n",
       "      <th>0</th>\n",
       "      <td>and</td>\n",
       "      <td>Returns True if both statements are true</td>\n",
       "      <td>x &lt; 5 and x &lt; 10</td>\n",
       "      <td>Try it »</td>\n",
       "    </tr>\n",
       "    <tr>\n",
       "      <th>1</th>\n",
       "      <td>or</td>\n",
       "      <td>Returns True if one of the statements is true</td>\n",
       "      <td>x &lt; 5 or x &lt; 4</td>\n",
       "      <td>Try it »</td>\n",
       "    </tr>\n",
       "    <tr>\n",
       "      <th>2</th>\n",
       "      <td>not</td>\n",
       "      <td>Reverse the result, returns False if the resul...</td>\n",
       "      <td>not(x &lt; 5 and x &lt; 10)</td>\n",
       "      <td>Try it »</td>\n",
       "    </tr>\n",
       "  </tbody>\n",
       "</table>\n",
       "</div>"
      ],
      "text/plain": [
       "  Operator                                        Description  \\\n",
       "0      and           Returns True if both statements are true   \n",
       "1       or      Returns True if one of the statements is true   \n",
       "2      not  Reverse the result, returns False if the resul...   \n",
       "\n",
       "                 Example    Try it  \n",
       "0       x < 5 and x < 10  Try it »  \n",
       "1         x < 5 or x < 4  Try it »  \n",
       "2  not(x < 5 and x < 10)  Try it »  "
      ]
     },
     "execution_count": 20,
     "metadata": {},
     "output_type": "execute_result"
    }
   ],
   "source": [
    "table[3]"
   ]
  },
  {
   "cell_type": "markdown",
   "metadata": {},
   "source": [
    "## Python Identity Operators"
   ]
  },
  {
   "cell_type": "code",
   "execution_count": 21,
   "metadata": {},
   "outputs": [
    {
     "data": {
      "text/html": [
       "<div>\n",
       "<style scoped>\n",
       "    .dataframe tbody tr th:only-of-type {\n",
       "        vertical-align: middle;\n",
       "    }\n",
       "\n",
       "    .dataframe tbody tr th {\n",
       "        vertical-align: top;\n",
       "    }\n",
       "\n",
       "    .dataframe thead th {\n",
       "        text-align: right;\n",
       "    }\n",
       "</style>\n",
       "<table border=\"1\" class=\"dataframe\">\n",
       "  <thead>\n",
       "    <tr style=\"text-align: right;\">\n",
       "      <th></th>\n",
       "      <th>Operator</th>\n",
       "      <th>Description</th>\n",
       "      <th>Example</th>\n",
       "      <th>Try it</th>\n",
       "    </tr>\n",
       "  </thead>\n",
       "  <tbody>\n",
       "    <tr>\n",
       "      <th>0</th>\n",
       "      <td>is</td>\n",
       "      <td>Returns True if both variables are the same ob...</td>\n",
       "      <td>x is y</td>\n",
       "      <td>Try it »</td>\n",
       "    </tr>\n",
       "    <tr>\n",
       "      <th>1</th>\n",
       "      <td>is not</td>\n",
       "      <td>Returns True if both variables are not the sam...</td>\n",
       "      <td>x is not y</td>\n",
       "      <td>Try it »</td>\n",
       "    </tr>\n",
       "  </tbody>\n",
       "</table>\n",
       "</div>"
      ],
      "text/plain": [
       "  Operator                                        Description     Example  \\\n",
       "0       is  Returns True if both variables are the same ob...      x is y   \n",
       "1   is not  Returns True if both variables are not the sam...  x is not y   \n",
       "\n",
       "     Try it  \n",
       "0  Try it »  \n",
       "1  Try it »  "
      ]
     },
     "execution_count": 21,
     "metadata": {},
     "output_type": "execute_result"
    }
   ],
   "source": [
    "table[4]"
   ]
  },
  {
   "cell_type": "code",
   "execution_count": 23,
   "metadata": {},
   "outputs": [
    {
     "name": "stdout",
     "output_type": "stream",
     "text": [
      "140720806564104\n",
      "140720806564104\n",
      "True\n"
     ]
    }
   ],
   "source": [
    "x: str = 'abc'\n",
    "y: str = 'abc'\n",
    "\n",
    "print(id(x))\n",
    "print(id(y))\n",
    "print(x is y) # True"
   ]
  },
  {
   "cell_type": "markdown",
   "metadata": {},
   "source": [
    "## Python Membership Operators"
   ]
  },
  {
   "cell_type": "code",
   "execution_count": 24,
   "metadata": {},
   "outputs": [
    {
     "data": {
      "text/html": [
       "<div>\n",
       "<style scoped>\n",
       "    .dataframe tbody tr th:only-of-type {\n",
       "        vertical-align: middle;\n",
       "    }\n",
       "\n",
       "    .dataframe tbody tr th {\n",
       "        vertical-align: top;\n",
       "    }\n",
       "\n",
       "    .dataframe thead th {\n",
       "        text-align: right;\n",
       "    }\n",
       "</style>\n",
       "<table border=\"1\" class=\"dataframe\">\n",
       "  <thead>\n",
       "    <tr style=\"text-align: right;\">\n",
       "      <th></th>\n",
       "      <th>Operator</th>\n",
       "      <th>Description</th>\n",
       "      <th>Example</th>\n",
       "      <th>Try it</th>\n",
       "    </tr>\n",
       "  </thead>\n",
       "  <tbody>\n",
       "    <tr>\n",
       "      <th>0</th>\n",
       "      <td>in</td>\n",
       "      <td>Returns True if a sequence with the specified ...</td>\n",
       "      <td>x in y</td>\n",
       "      <td>Try it »</td>\n",
       "    </tr>\n",
       "    <tr>\n",
       "      <th>1</th>\n",
       "      <td>not in</td>\n",
       "      <td>Returns True if a sequence with the specified ...</td>\n",
       "      <td>x not in y</td>\n",
       "      <td>Try it »</td>\n",
       "    </tr>\n",
       "  </tbody>\n",
       "</table>\n",
       "</div>"
      ],
      "text/plain": [
       "  Operator                                        Description     Example  \\\n",
       "0       in  Returns True if a sequence with the specified ...      x in y   \n",
       "1   not in  Returns True if a sequence with the specified ...  x not in y   \n",
       "\n",
       "     Try it  \n",
       "0  Try it »  \n",
       "1  Try it »  "
      ]
     },
     "execution_count": 24,
     "metadata": {},
     "output_type": "execute_result"
    }
   ],
   "source": [
    "table[5]"
   ]
  },
  {
   "cell_type": "code",
   "execution_count": 26,
   "metadata": {},
   "outputs": [
    {
     "name": "stdout",
     "output_type": "stream",
     "text": [
      "['A', 'B', 'C', 'D', 'E', 'F', 'G', 'H', 'I', 'J', 'K', 'L', 'M', 'N', 'O', 'P', 'Q', 'R', 'S', 'T', 'U', 'V', 'W', 'X', 'Y', 'Z']\n"
     ]
    }
   ],
   "source": [
    "alphabets: list[str] = [chr(i) for i in range(65, 91)]\n",
    "\n",
    "print(alphabets)"
   ]
  },
  {
   "cell_type": "code",
   "execution_count": 30,
   "metadata": {},
   "outputs": [
    {
     "name": "stdout",
     "output_type": "stream",
     "text": [
      "0 A\n",
      "1 B\n",
      "2 C\n",
      "3 D\n",
      "Found M\n"
     ]
    }
   ],
   "source": [
    "for i in range(len(alphabets)):\n",
    "    print(i, names[i])\n",
    "    if alphabets[i] == 'D':\n",
    "        print('Found M')\n",
    "        break"
   ]
  },
  {
   "cell_type": "markdown",
   "metadata": {},
   "source": [
    "## PEMDAS\n",
    "\n",
    "Alright, let's solve the equation step by step. We'll use the order of operations, often remembered by the acronym PEMDAS/BODMAS:\n",
    "\n",
    "- **P**arentheses/**B**rackets\n",
    "- **E**xponents (ie Powers and Square Roots, etc.)/**O**rders (ie Powers and Square Roots, etc.)\n",
    "- **MD** Multiplication and Division (left-to-right)\n",
    "- **AS** Addition and Subtraction (left-to-right)\n",
    "\n",
    "Given the expression:\n",
    "\n",
    "\\[ 3 + 2 - 2 \\times 4 \\div 2 + 2 \\]\n",
    "\n",
    "Let's solve it step by step:\n",
    "\n",
    "1. **Multiplication and Division**:\n",
    "\\[ 2 \\times 4 = 8 \\]\n",
    "\\[ 8 \\div 2 = 4 \\]\n",
    "\n",
    "Replacing these values in the expression, we get:\n",
    "\n",
    "\\[ 3 + 2 - 4 + 2 \\]\n",
    "\n",
    "2. **Addition and Subtraction** (from left to right):\n",
    "\\[ 3 + 2 = 5 \\]\n",
    "\\[ 5 - 4 = 1 \\]\n",
    "\\[ 1 + 2 = 3 \\]\n",
    "\n",
    "So, the final answer is:\n",
    "\n",
    "\\[ 3 \\] "
   ]
  },
  {
   "cell_type": "code",
   "execution_count": 31,
   "metadata": {},
   "outputs": [
    {
     "name": "stdout",
     "output_type": "stream",
     "text": [
      "14000000000\n"
     ]
    }
   ],
   "source": [
    "universe_age = 14_000_000_000\n",
    "print(universe_age)"
   ]
  },
  {
   "cell_type": "code",
   "execution_count": 34,
   "metadata": {},
   "outputs": [
    {
     "name": "stdout",
     "output_type": "stream",
     "text": [
      "Ahmad\n",
      "1\n",
      "5.7\n"
     ]
    }
   ],
   "source": [
    "# Unzip \n",
    "\n",
    "a, b, c = 'Ahmad', 1, 5.7\n",
    "\n",
    "print(a)\n",
    "print(b)\n",
    "print(c)"
   ]
  },
  {
   "cell_type": "code",
   "execution_count": 35,
   "metadata": {},
   "outputs": [
    {
     "name": "stdout",
     "output_type": "stream",
     "text": [
      "('Ahmad', 1, 5.7)\n"
     ]
    }
   ],
   "source": [
    "data = ('Ahmad', 1, 5.7)\n",
    "print(data)"
   ]
  },
  {
   "cell_type": "code",
   "execution_count": 36,
   "metadata": {},
   "outputs": [
    {
     "name": "stdout",
     "output_type": "stream",
     "text": [
      "Ahmad 1 5.7\n"
     ]
    }
   ],
   "source": [
    "print(*data)"
   ]
  },
  {
   "cell_type": "code",
   "execution_count": 37,
   "metadata": {},
   "outputs": [
    {
     "data": {
      "text/plain": [
       "4"
      ]
     },
     "execution_count": 37,
     "metadata": {},
     "output_type": "execute_result"
    }
   ],
   "source": [
    "2*2"
   ]
  },
  {
   "cell_type": "code",
   "execution_count": 38,
   "metadata": {},
   "outputs": [
    {
     "data": {
      "text/plain": [
       "'aaa'"
      ]
     },
     "execution_count": 38,
     "metadata": {},
     "output_type": "execute_result"
    }
   ],
   "source": [
    "\"a\" * 3"
   ]
  },
  {
   "cell_type": "markdown",
   "metadata": {},
   "source": [
    "## Zen of Python"
   ]
  },
  {
   "cell_type": "code",
   "execution_count": 39,
   "metadata": {},
   "outputs": [
    {
     "name": "stdout",
     "output_type": "stream",
     "text": [
      "The Zen of Python, by Tim Peters\n",
      "\n",
      "Beautiful is better than ugly.\n",
      "Explicit is better than implicit.\n",
      "Simple is better than complex.\n",
      "Complex is better than complicated.\n",
      "Flat is better than nested.\n",
      "Sparse is better than dense.\n",
      "Readability counts.\n",
      "Special cases aren't special enough to break the rules.\n",
      "Although practicality beats purity.\n",
      "Errors should never pass silently.\n",
      "Unless explicitly silenced.\n",
      "In the face of ambiguity, refuse the temptation to guess.\n",
      "There should be one-- and preferably only one --obvious way to do it.\n",
      "Although that way may not be obvious at first unless you're Dutch.\n",
      "Now is better than never.\n",
      "Although never is often better than *right* now.\n",
      "If the implementation is hard to explain, it's a bad idea.\n",
      "If the implementation is easy to explain, it may be a good idea.\n",
      "Namespaces are one honking great idea -- let's do more of those!\n"
     ]
    }
   ],
   "source": [
    "import this"
   ]
  }
 ],
 "metadata": {
  "kernelspec": {
   "display_name": "py12",
   "language": "python",
   "name": "python3"
  },
  "language_info": {
   "codemirror_mode": {
    "name": "ipython",
    "version": 3
   },
   "file_extension": ".py",
   "mimetype": "text/x-python",
   "name": "python",
   "nbconvert_exporter": "python",
   "pygments_lexer": "ipython3",
   "version": "3.12.0"
  }
 },
 "nbformat": 4,
 "nbformat_minor": 2
}
