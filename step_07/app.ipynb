{
 "cells": [
  {
   "cell_type": "markdown",
   "metadata": {},
   "source": [
    "# Python Static Typing for Dictionaries"
   ]
  },
  {
   "cell_type": "code",
   "execution_count": 1,
   "metadata": {},
   "outputs": [
    {
     "name": "stdout",
     "output_type": "stream",
     "text": [
      "['John', 'Jill', 'Jack', 'Jenny']\n",
      "John\n"
     ]
    }
   ],
   "source": [
    "# list\n",
    "\n",
    "names: list[str] = [\"John\", \"Jill\", \"Jack\", \"Jenny\"]\n",
    "print(names)\n",
    "print(names[0])"
   ]
  },
  {
   "cell_type": "code",
   "execution_count": 2,
   "metadata": {},
   "outputs": [
    {
     "name": "stdout",
     "output_type": "stream",
     "text": [
      "{1, 2, 3, 4, 5}\n",
      "True\n"
     ]
    }
   ],
   "source": [
    "# set\n",
    "\n",
    "data: set = {1, 2, 3, 4, 5}\n",
    "print(data)\n",
    "print(1 in data)"
   ]
  },
  {
   "cell_type": "code",
   "execution_count": 3,
   "metadata": {},
   "outputs": [
    {
     "ename": "TypeError",
     "evalue": "'set' object is not subscriptable",
     "output_type": "error",
     "traceback": [
      "\u001b[1;31m---------------------------------------------------------------------------\u001b[0m",
      "\u001b[1;31mTypeError\u001b[0m                                 Traceback (most recent call last)",
      "\u001b[1;32mc:\\Users\\ahmad\\Desktop\\TrainingGround\\modern-python-mastery\\step_07\\app.ipynb Cell 4\u001b[0m line \u001b[0;36m1\n\u001b[1;32m----> <a href='vscode-notebook-cell:/c%3A/Users/ahmad/Desktop/TrainingGround/modern-python-mastery/step_07/app.ipynb#W4sZmlsZQ%3D%3D?line=0'>1</a>\u001b[0m \u001b[39mprint\u001b[39m(data[\u001b[39m0\u001b[39;49m])\n",
      "\u001b[1;31mTypeError\u001b[0m: 'set' object is not subscriptable"
     ]
    }
   ],
   "source": [
    "print(data[0])"
   ]
  },
  {
   "cell_type": "code",
   "execution_count": 4,
   "metadata": {},
   "outputs": [
    {
     "data": {
      "text/plain": [
       "['add',\n",
       " 'clear',\n",
       " 'copy',\n",
       " 'difference',\n",
       " 'difference_update',\n",
       " 'discard',\n",
       " 'intersection',\n",
       " 'intersection_update',\n",
       " 'isdisjoint',\n",
       " 'issubset',\n",
       " 'issuperset',\n",
       " 'pop',\n",
       " 'remove',\n",
       " 'symmetric_difference',\n",
       " 'symmetric_difference_update',\n",
       " 'union',\n",
       " 'update']"
      ]
     },
     "execution_count": 4,
     "metadata": {},
     "output_type": "execute_result"
    }
   ],
   "source": [
    "# set methods\n",
    "\n",
    "[i for i in dir(data) if (\"__\") not in i]"
   ]
  },
  {
   "cell_type": "markdown",
   "metadata": {},
   "source": [
    "## Dictionary\n",
    "\n",
    "* Key: value (items)\n",
    "  * key replacement of indexes\n",
    "  * value item\n",
    "* dict_variable[key]\n",
    "  * dict_variable[new_key] = new_value\n",
    "    * add new value\n",
    "    * update value"
   ]
  },
  {
   "cell_type": "code",
   "execution_count": 7,
   "metadata": {},
   "outputs": [
    {
     "name": "stdout",
     "output_type": "stream",
     "text": [
      "{'age': '30', 'city': 'New York', 'name': 'John'}\n",
      "{'name': 'John', 'age': '30', 'city': 'New York'}\n"
     ]
    }
   ],
   "source": [
    "from typing import Dict\n",
    "import pprint # pretty print\n",
    "\n",
    "data: Dict[str, str] = {\n",
    "    \"name\": \"John\",\n",
    "    \"age\": \"30\",\n",
    "    \"city\": \"New York\"\n",
    "}\n",
    "\n",
    "pprint.pprint(data) # pretty print.\n",
    "\n",
    "print(data) # print"
   ]
  },
  {
   "cell_type": "code",
   "execution_count": 8,
   "metadata": {},
   "outputs": [
    {
     "name": "stdout",
     "output_type": "stream",
     "text": [
      "{'education': 'BS Computer Science',\n",
      " 'fname': 'Shoukat Ali',\n",
      " 'name': 'Muhammad Ahmad'}\n"
     ]
    }
   ],
   "source": [
    "from typing import Dict, Union, Optional\n",
    "import pprint\n",
    "\n",
    "\n",
    "Key = Union[int,str] # create custom type\n",
    "Value = Union[int, str, list, dict, tuple, set]\n",
    "\n",
    "# List                    0                1            2\n",
    "data : Dict[Key,Value] = {\n",
    "                        \"fname\":\"Shoukat Ali\",\n",
    "                        \"name\":\"Muhammad Ahmad\",\n",
    "                        \"education\": \"BS Computer Science\"\n",
    "                        }\n",
    "\n",
    "pprint.pprint(data)"
   ]
  },
  {
   "cell_type": "code",
   "execution_count": 9,
   "metadata": {},
   "outputs": [
    {
     "name": "stdout",
     "output_type": "stream",
     "text": [
      "Shoukat Ali\n",
      "Muhammad Ahmad\n",
      "BS Computer Science\n"
     ]
    }
   ],
   "source": [
    "print(data[\"fname\"])\n",
    "print(data[\"name\"])\n",
    "print(data[\"education\"])"
   ]
  },
  {
   "cell_type": "code",
   "execution_count": 10,
   "metadata": {},
   "outputs": [
    {
     "ename": "KeyError",
     "evalue": "0",
     "output_type": "error",
     "traceback": [
      "\u001b[1;31m---------------------------------------------------------------------------\u001b[0m",
      "\u001b[1;31mKeyError\u001b[0m                                  Traceback (most recent call last)",
      "\u001b[1;32mc:\\Users\\ahmad\\Desktop\\TrainingGround\\modern-python-mastery\\step_07\\app.ipynb Cell 10\u001b[0m line \u001b[0;36m1\n\u001b[1;32m----> <a href='vscode-notebook-cell:/c%3A/Users/ahmad/Desktop/TrainingGround/modern-python-mastery/step_07/app.ipynb#X13sZmlsZQ%3D%3D?line=0'>1</a>\u001b[0m \u001b[39mprint\u001b[39m(data[\u001b[39m0\u001b[39;49m])\n",
      "\u001b[1;31mKeyError\u001b[0m: 0"
     ]
    }
   ],
   "source": [
    "print(data[0])"
   ]
  },
  {
   "cell_type": "code",
   "execution_count": 12,
   "metadata": {},
   "outputs": [
    {
     "data": {
      "text/plain": [
       "1"
      ]
     },
     "execution_count": 12,
     "metadata": {},
     "output_type": "execute_result"
    }
   ],
   "source": [
    "from typing import Dict, Union, Optional\n",
    "import pprint\n",
    "\n",
    "Key = Union[int,str] # create custom type\n",
    "Value = Union[int, str, list, dict, tuple, set]\n",
    "\n",
    "data: Dict[Key,Value] = {\n",
    "    \"fname\" : \"Shoukat Ali\",\n",
    "    \"name\" : \"Muhammad Ahmad\",\n",
    "    \"education\" : \"BS Computer Science\",\n",
    "    \"abc\" : {\n",
    "        \"a\" : 1,\n",
    "        \"b\" : 2,\n",
    "        \"c\" : 3\n",
    "    }\n",
    "}\n",
    "\n",
    "data[\"abc\"][\"a\"]"
   ]
  },
  {
   "cell_type": "code",
   "execution_count": 13,
   "metadata": {},
   "outputs": [
    {
     "name": "stdout",
     "output_type": "stream",
     "text": [
      "{'fname': 'Shaukat Ali', 'name': 'Muhammad Ahmad', 'education': 'BS Computer Science', 'abc': {'a': 1, 'b': 2, 'c': 3}}\n"
     ]
    }
   ],
   "source": [
    "# updating dictionary\n",
    "\n",
    "data[\"fname\"] = \"Shaukat Ali\"\n",
    "\n",
    "print(data)"
   ]
  },
  {
   "cell_type": "code",
   "execution_count": 17,
   "metadata": {},
   "outputs": [
    {
     "name": "stdout",
     "output_type": "stream",
     "text": [
      "Shoukat Ali\n",
      "Muhammad Ahmad\n",
      "NA\n"
     ]
    }
   ],
   "source": [
    "from typing import Dict, Union, Optional\n",
    "import pprint\n",
    "\n",
    "Key = Union[int,str] # create custom type\n",
    "Value = Union[int, str, list, dict, tuple, set]\n",
    "\n",
    "data: Dict[Key, Value] = {\n",
    "    \"fname\" : \"Shoukat Ali\",\n",
    "    \"name\" : \"Muhammad Ahmad\",\n",
    "    \"education\" : \"BS Computer Science\",\n",
    "}\n",
    "\n",
    "print(data.get(\"fname\"))\n",
    "print(data.get(\"name\"))\n",
    "print(data.get(\"pakistan\", \"NA\"))"
   ]
  },
  {
   "cell_type": "code",
   "execution_count": 18,
   "metadata": {},
   "outputs": [
    {
     "data": {
      "text/plain": [
       "['clear',\n",
       " 'copy',\n",
       " 'fromkeys',\n",
       " 'get',\n",
       " 'items',\n",
       " 'keys',\n",
       " 'pop',\n",
       " 'popitem',\n",
       " 'setdefault',\n",
       " 'update',\n",
       " 'values']"
      ]
     },
     "execution_count": 18,
     "metadata": {},
     "output_type": "execute_result"
    }
   ],
   "source": [
    "[i for i in dir(data) if (\"__\") not in i]"
   ]
  },
  {
   "cell_type": "code",
   "execution_count": 20,
   "metadata": {},
   "outputs": [
    {
     "name": "stdout",
     "output_type": "stream",
     "text": [
      "fname Shoukat Ali\n",
      "name Muhammad Ahmad\n",
      "education BS Computer Science\n"
     ]
    }
   ],
   "source": [
    "from typing import Dict, Union, Optional\n",
    "import pprint\n",
    "\n",
    "Key = Union[int,str] # create custom type\n",
    "Value = Union[int, str, list, dict, tuple, set]\n",
    "\n",
    "data: Dict[Key, Value] = {\n",
    "    \"fname\" : \"Shoukat Ali\",\n",
    "    \"name\" : \"Muhammad Ahmad\",\n",
    "    \"education\" : \"BS Computer Science\",\n",
    "}\n",
    "\n",
    "for d in data:\n",
    "    print(d, data[d])"
   ]
  },
  {
   "cell_type": "code",
   "execution_count": 24,
   "metadata": {},
   "outputs": [
    {
     "name": "stdout",
     "output_type": "stream",
     "text": [
      "dict_keys(['fname', 'name', 'education'])\n",
      "dict_values(['Shoukat Ali', 'Muhammad Ahmad', 'BS Computer Science'])\n",
      "dict_items([('fname', 'Shoukat Ali'), ('name', 'Muhammad Ahmad'), ('education', 'BS Computer Science')])\n",
      "fname\n",
      "name\n",
      "education\n",
      "-------------------\n",
      "\n",
      "fname\n",
      "name\n",
      "education\n"
     ]
    }
   ],
   "source": [
    "from typing import Dict, Union, Optional\n",
    "import pprint\n",
    "\n",
    "Key = Union[int,str] # create custom type\n",
    "Value = Union[int, str, list, dict, tuple, set]\n",
    "\n",
    "data: Dict[Key, Value] = {\n",
    "    \"fname\": \"Shoukat Ali\",\n",
    "    \"name\": \"Muhammad Ahmad\",\n",
    "    \"education\": \"BS Computer Science\",\n",
    "}\n",
    "\n",
    "print(data.keys())\n",
    "print(data.values())\n",
    "print(data.items())\n",
    "\n",
    "for k in data.keys():\n",
    "    print(k)\n",
    "    \n",
    "print('-------------------\\n')\n",
    "    \n",
    "for v in data.keys():\n",
    "    print(v)"
   ]
  },
  {
   "cell_type": "code",
   "execution_count": 25,
   "metadata": {},
   "outputs": [
    {
     "data": {
      "text/plain": [
       "{'Shoukat Ali': 'fname',\n",
       " 'Muhammad Ahmad': 'name',\n",
       " 'BS Computer Science': 'education'}"
      ]
     },
     "execution_count": 25,
     "metadata": {},
     "output_type": "execute_result"
    }
   ],
   "source": [
    "{v:k for k, v in data.items()}"
   ]
  },
  {
   "cell_type": "code",
   "execution_count": 26,
   "metadata": {},
   "outputs": [
    {
     "name": "stdout",
     "output_type": "stream",
     "text": [
      "20 10\n"
     ]
    }
   ],
   "source": [
    "a: int = 10\n",
    "b: int = 20\n",
    "\n",
    "a, b = b, a # swap, shuffle\n",
    "\n",
    "print(a, b)"
   ]
  },
  {
   "cell_type": "code",
   "execution_count": 27,
   "metadata": {},
   "outputs": [
    {
     "name": "stdout",
     "output_type": "stream",
     "text": [
      "{}\n",
      "{'name': None, 'fname': None, 'education': None}\n"
     ]
    }
   ],
   "source": [
    "keys: list[str] = [\"name\", \"fname\", \"education\"]\n",
    "\n",
    "data: dict[Key, Value] = {}\n",
    "\n",
    "print(data)\n",
    "\n",
    "data = data.fromkeys(keys) # inline\n",
    "\n",
    "print(data)"
   ]
  }
 ],
 "metadata": {
  "kernelspec": {
   "display_name": "py12",
   "language": "python",
   "name": "python3"
  },
  "language_info": {
   "codemirror_mode": {
    "name": "ipython",
    "version": 3
   },
   "file_extension": ".py",
   "mimetype": "text/x-python",
   "name": "python",
   "nbconvert_exporter": "python",
   "pygments_lexer": "ipython3",
   "version": "3.12.0"
  }
 },
 "nbformat": 4,
 "nbformat_minor": 2
}
