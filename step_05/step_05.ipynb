{
 "cells": [
  {
   "cell_type": "markdown",
   "metadata": {},
   "source": [
    "# List\n",
    "\n",
    "* iteration operation with loop\n",
    "* apply any operation on element"
   ]
  },
  {
   "cell_type": "code",
   "execution_count": 1,
   "metadata": {},
   "outputs": [
    {
     "name": "stdout",
     "output_type": "stream",
     "text": [
      "['Sir Zia', 'Muhammad Qasim', 'Daniyal']\n"
     ]
    }
   ],
   "source": [
    "names: list[str] = ['Sir Zia', 'Muhammad Qasim', 'Daniyal']\n",
    "print(names)"
   ]
  },
  {
   "cell_type": "code",
   "execution_count": 3,
   "metadata": {},
   "outputs": [
    {
     "name": "stdout",
     "output_type": "stream",
     "text": [
      "Sir Zia\n",
      "Muhammad Qasim\n",
      "Daniyal\n"
     ]
    }
   ],
   "source": [
    "# For Loop\n",
    "for name in names:\n",
    "    print(name)"
   ]
  },
  {
   "cell_type": "code",
   "execution_count": 4,
   "metadata": {},
   "outputs": [
    {
     "name": "stdout",
     "output_type": "stream",
     "text": [
      "Sir Zia\n",
      "Muhammad Qasim\n",
      "Daniyal\n"
     ]
    }
   ],
   "source": [
    "# While Loop\n",
    "\n",
    "i: int = 0\n",
    "\n",
    "while i < len(names):\n",
    "    print(names[i])\n",
    "    i += 1"
   ]
  },
  {
   "cell_type": "code",
   "execution_count": 5,
   "metadata": {},
   "outputs": [
    {
     "name": "stdout",
     "output_type": "stream",
     "text": [
      "Welcome Dear Teacher Sir Zia\n",
      "Welcome Dear Teacher Muhammad Qasim\n",
      "Welcome Dear Teacher Daniyal\n"
     ]
    }
   ],
   "source": [
    "for name in names:\n",
    "    print(f\"Welcome Dear Teacher {name}\")"
   ]
  },
  {
   "cell_type": "code",
   "execution_count": 7,
   "metadata": {},
   "outputs": [
    {
     "name": "stdout",
     "output_type": "stream",
     "text": [
      "Welcome Dear Teacher Sir Zia\n",
      "PIAIC Generator AI Team\n",
      "\n",
      "Welcome Dear Teacher Muhammad Qasim\n",
      "PIAIC Generator AI Team\n",
      "\n",
      "Welcome Dear Teacher Daniyal\n",
      "PIAIC Generator AI Team\n",
      "\n"
     ]
    }
   ],
   "source": [
    "for name in names:\n",
    "    print(f\"Welcome Dear Teacher {name}\")\n",
    "    print(\"PIAIC Generator AI Team\\n\")"
   ]
  },
  {
   "cell_type": "code",
   "execution_count": 8,
   "metadata": {},
   "outputs": [
    {
     "name": "stdout",
     "output_type": "stream",
     "text": [
      "Welcome Dear Teacher Sir Zia\n",
      "PIAIC Generator AI Team\n",
      "\n",
      "Welcome Dear Teacher Muhammad Qasim\n",
      "PIAIC Generator AI Team\n",
      "\n",
      "Welcome Dear Teacher Daniyal\n",
      "PIAIC Generator AI Team\n",
      "\n",
      "Pakistan Zindabad\n"
     ]
    }
   ],
   "source": [
    "for name in names:\n",
    "    print(f\"Welcome Dear Teacher {name}\")\n",
    "    print(\"PIAIC Generator AI Team\\n\")\n",
    "print(\"Pakistan Zindabad\")    \n"
   ]
  },
  {
   "cell_type": "code",
   "execution_count": 9,
   "metadata": {},
   "outputs": [
    {
     "name": "stdout",
     "output_type": "stream",
     "text": [
      "Welcome Dear Teacher Daniyal\n",
      "PIAIC Generator AI Team\n",
      "\n",
      "Welcome Dear Teacher Muhammad Qasim\n",
      "PIAIC Generator AI Team\n",
      "\n",
      "Welcome Dear Teacher Sir Zia\n",
      "PIAIC Generator AI Team\n",
      "\n",
      "Pakistan Zindabad\n"
     ]
    }
   ],
   "source": [
    "# printing list in reverse order using for loop and negative indexing\n",
    "\n",
    "for name in names[::-1]:\n",
    "    print(f\"Welcome Dear Teacher {name}\")\n",
    "    print(\"PIAIC Generator AI Team\\n\")\n",
    "print(\"Pakistan Zindabad\")"
   ]
  },
  {
   "cell_type": "code",
   "execution_count": 10,
   "metadata": {},
   "outputs": [
    {
     "name": "stdout",
     "output_type": "stream",
     "text": [
      "<class 'list'>\n",
      "('Sir Zia', 'AI')\n",
      "('Sir Daniyal', 'Cloud Computing')\n",
      "('Sir Qasim', 'Blockchain')\n"
     ]
    }
   ],
   "source": [
    "data_base : list[tuple[str, str]] = [\n",
    "    (\"Sir Zia\", \"AI\"),\n",
    "    (\"Sir Daniyal\", \"Cloud Computing\"),\n",
    "    (\"Sir Qasim\", \"Blockchain\")\n",
    "]\n",
    "\n",
    "print(type(data_base))\n",
    "\n",
    "for row in data_base:\n",
    "    print(row)"
   ]
  },
  {
   "cell_type": "code",
   "execution_count": 14,
   "metadata": {},
   "outputs": [
    {
     "name": "stdout",
     "output_type": "stream",
     "text": [
      "USER:  sir_zia \n",
      "PASSWORD:  123\n",
      "---------------------------\n",
      "USER:  sir_daniyal \n",
      "PASSWORD:  456\n",
      "---------------------------\n",
      "USER:  sir_qasim \n",
      "PASSWORD:  789\n",
      "---------------------------\n"
     ]
    }
   ],
   "source": [
    "data_base: list[tuple[str, str]] = [\n",
    "    ('sir_zia', '123'),\n",
    "    ('sir_daniyal', '456'),\n",
    "    ('sir_qasim', '789')\n",
    "]\n",
    "\n",
    "for row in data_base:\n",
    "    user, password = row\n",
    "    print('USER: ', user, '\\nPASSWORD: ', password)\n",
    "    print('---------------------------')\n",
    "    \n",
    "    \n",
    "    \n",
    "    "
   ]
  },
  {
   "cell_type": "code",
   "execution_count": 15,
   "metadata": {},
   "outputs": [
    {
     "name": "stdout",
     "output_type": "stream",
     "text": [
      "<class 'str'> <class 'str'>\n",
      "MAS 159\n"
     ]
    }
   ],
   "source": [
    "input_user : str = input(\"Enter User Name: \")\n",
    "input_password : str = input(\"Enter Password: \")\n",
    "\n",
    "print(type(input_user), type(input_password))\n",
    "print(input_user, input_password)"
   ]
  },
  {
   "cell_type": "code",
   "execution_count": 17,
   "metadata": {},
   "outputs": [
    {
     "name": "stdout",
     "output_type": "stream",
     "text": [
      "Valid User sir_zia\n"
     ]
    }
   ],
   "source": [
    "data_base : list[tuple[str, str]] = [\n",
    "    ('sir_zia', '123'),\n",
    "    ('sir_daniyal', '456'),\n",
    "    ('sir_qasim', '789')\n",
    "]\n",
    "input_user : str = input(\"Enter User Name: \")\n",
    "input_password : str = input(\"Enter Password: \")\n",
    "\n",
    "for row in data_base:\n",
    "    user, password = row\n",
    "    if user == input_user and password == input_password:\n",
    "        print(f\"Valid User {user}\")\n",
    "        break\n",
    "else:\n",
    "    print(\"Not found, Invalid User\")"
   ]
  },
  {
   "cell_type": "code",
   "execution_count": 22,
   "metadata": {},
   "outputs": [
    {
     "name": "stdout",
     "output_type": "stream",
     "text": [
      "(Alice, that was a great trick!)\n",
      "(David, that was a great trick!)\n",
      "(Carolina, that was a great trick!)\n",
      "I can't wait to see your next trick, Carolina\n",
      "['alice', 'david', 'carolina']\n",
      "carolina\n"
     ]
    }
   ],
   "source": [
    "magicians : list[str] = ['alice', 'david', 'carolina']\n",
    "\n",
    "for magician in magicians:\n",
    "    print(f\"({magician.title()}, that was a great trick!)\")\n",
    "    \n",
    "print(f\"I can't wait to see your next trick, {magician.title()}\")\n",
    "\n",
    "print(magicians) # magicians list is not changed\n",
    "print(magician) # magician variable is changed"
   ]
  },
  {
   "cell_type": "code",
   "execution_count": 25,
   "metadata": {},
   "outputs": [
    {
     "ename": "IndentationError",
     "evalue": "unexpected indent (2752036153.py, line 2)",
     "output_type": "error",
     "traceback": [
      "\u001b[1;36m  Cell \u001b[1;32mIn[25], line 2\u001b[1;36m\u001b[0m\n\u001b[1;33m    print(message)\u001b[0m\n\u001b[1;37m    ^\u001b[0m\n\u001b[1;31mIndentationError\u001b[0m\u001b[1;31m:\u001b[0m unexpected indent\n"
     ]
    }
   ],
   "source": [
    "message = \"Hello Python World!\"\n",
    "    print(message)"
   ]
  },
  {
   "cell_type": "markdown",
   "metadata": {},
   "source": [
    "## Numbers with loop\n",
    "\n",
    "`* range(start, end, step)`"
   ]
  },
  {
   "cell_type": "code",
   "execution_count": 26,
   "metadata": {},
   "outputs": [
    {
     "data": {
      "text/plain": [
       "range(0, 10)"
      ]
     },
     "execution_count": 26,
     "metadata": {},
     "output_type": "execute_result"
    }
   ],
   "source": [
    "range(10)"
   ]
  },
  {
   "cell_type": "code",
   "execution_count": 27,
   "metadata": {},
   "outputs": [
    {
     "data": {
      "text/plain": [
       "[0, 1, 2, 3, 4, 5, 6, 7, 8, 9]"
      ]
     },
     "execution_count": 27,
     "metadata": {},
     "output_type": "execute_result"
    }
   ],
   "source": [
    "list(range(10)) # starting = 0, ending = n -1"
   ]
  },
  {
   "cell_type": "code",
   "execution_count": 28,
   "metadata": {},
   "outputs": [
    {
     "data": {
      "text/plain": [
       "[2, 3, 4, 5, 6, 7, 8, 9]"
      ]
     },
     "execution_count": 28,
     "metadata": {},
     "output_type": "execute_result"
    }
   ],
   "source": [
    "list(range(2, 10)) # starting = 2, ending = n -1"
   ]
  },
  {
   "cell_type": "code",
   "execution_count": 29,
   "metadata": {},
   "outputs": [
    {
     "data": {
      "text/plain": [
       "[2, 4, 6, 8, 10, 12, 14, 16, 18, 20]"
      ]
     },
     "execution_count": 29,
     "metadata": {},
     "output_type": "execute_result"
    }
   ],
   "source": [
    "list(range(2, 21, 2)) # starting = 2, ending = n -1, step = 2"
   ]
  },
  {
   "cell_type": "code",
   "execution_count": 30,
   "metadata": {},
   "outputs": [
    {
     "name": "stdout",
     "output_type": "stream",
     "text": [
      "1\n",
      "2\n",
      "3\n",
      "4\n",
      "5\n",
      "6\n",
      "7\n",
      "8\n",
      "9\n",
      "10\n"
     ]
    }
   ],
   "source": [
    "for n in range(1, 11):\n",
    "    print(n)"
   ]
  },
  {
   "cell_type": "code",
   "execution_count": 31,
   "metadata": {},
   "outputs": [
    {
     "name": "stdout",
     "output_type": "stream",
     "text": [
      "2 X 1 = 2\n",
      "2 X 2 = 4\n",
      "2 X 3 = 6\n",
      "2 X 4 = 8\n",
      "2 X 5 = 10\n",
      "2 X 6 = 12\n",
      "2 X 7 = 14\n",
      "2 X 8 = 16\n",
      "2 X 9 = 18\n",
      "2 X 10 = 20\n"
     ]
    }
   ],
   "source": [
    "for n in range(1, 11):\n",
    "    print(f\"{2} X {n} = {2 * n}\")"
   ]
  },
  {
   "cell_type": "code",
   "execution_count": 33,
   "metadata": {},
   "outputs": [
    {
     "name": "stdout",
     "output_type": "stream",
     "text": [
      "[1, 4, 9, 16, 25, 36, 49, 64, 81, 100]\n"
     ]
    }
   ],
   "source": [
    "squares : list[int] = []\n",
    "\n",
    "for value in range(1, 11):\n",
    "    square = value ** 2\n",
    "    squares.append(square)\n",
    "print(squares)\n",
    "    "
   ]
  },
  {
   "cell_type": "markdown",
   "metadata": {},
   "source": [
    "## List Comprehensive\n",
    "\n",
    "```python\n",
    "for item in items_list:\n",
    "    loop_body\n",
    "```\n",
    "\n",
    "### Comprehensive Style\n",
    "\n",
    "```python\n",
    "[loop_body for item in items_list]\n",
    "```"
   ]
  },
  {
   "cell_type": "code",
   "execution_count": 38,
   "metadata": {},
   "outputs": [
    {
     "name": "stdout",
     "output_type": "stream",
     "text": [
      "1\n",
      "4\n",
      "9\n",
      "16\n",
      "25\n",
      "36\n",
      "49\n",
      "64\n",
      "81\n",
      "100\n"
     ]
    }
   ],
   "source": [
    "for i in range(1, 11):\n",
    "    print(i ** 2)"
   ]
  },
  {
   "cell_type": "code",
   "execution_count": 39,
   "metadata": {},
   "outputs": [
    {
     "data": {
      "text/plain": [
       "[1, 4, 9, 16, 25, 36, 49, 64, 81, 100]"
      ]
     },
     "execution_count": 39,
     "metadata": {},
     "output_type": "execute_result"
    }
   ],
   "source": [
    "[i**2 for i in range(1, 11)]"
   ]
  },
  {
   "cell_type": "code",
   "execution_count": 40,
   "metadata": {},
   "outputs": [
    {
     "name": "stdout",
     "output_type": "stream",
     "text": [
      "[1, 2, 3, 4, 5, 6, 7, 8, 9, 0]\n",
      "0\n",
      "9\n",
      "45\n"
     ]
    }
   ],
   "source": [
    "digits : list[int] = [1, 2, 3, 4, 5, 6, 7, 8, 9, 0]\n",
    "\n",
    "print(digits)\n",
    "print(min(digits))\n",
    "print(max(digits))\n",
    "print(sum(digits))"
   ]
  },
  {
   "cell_type": "code",
   "execution_count": 42,
   "metadata": {},
   "outputs": [
    {
     "name": "stdout",
     "output_type": "stream",
     "text": [
      "['pizza', 'falafel', 'carrot cake']\n",
      "['pizza', 'falafel', 'carrot cake']\n",
      "['pizza', 'falafel', 'carrot cake']\n",
      "['ice cream', 'falafel', 'carrot cake']\n",
      "['ice cream', 'falafel', 'carrot cake']\n",
      "['ice cream', 'falafel', 'carrot cake']\n"
     ]
    }
   ],
   "source": [
    "# Deep Copy\n",
    "\n",
    "my_food : list[str] = ['pizza', 'falafel', 'carrot cake']\n",
    "friend_food : list[str] = my_food[:] # Deep Copy\n",
    "shallow_friend_food : list[str] = my_food # Shallow Copy\n",
    "\n",
    "print(my_food)\n",
    "print(friend_food)\n",
    "print(shallow_friend_food)\n",
    "\n",
    "friend_food[0] = 'ice cream'\n",
    "shallow_friend_food[0] = 'ice cream'\n",
    "\n",
    "print(my_food)\n",
    "print(friend_food)\n",
    "print(shallow_friend_food)"
   ]
  },
  {
   "cell_type": "markdown",
   "metadata": {},
   "source": [
    "## Tuples"
   ]
  },
  {
   "cell_type": "code",
   "execution_count": 44,
   "metadata": {},
   "outputs": [
    {
     "name": "stdout",
     "output_type": "stream",
     "text": [
      "('A', 'B', 'C')\n",
      "A\n",
      "('A', 'B')\n"
     ]
    }
   ],
   "source": [
    "names: tuple[str] = ('A', 'B', 'C')\n",
    "print(names)\n",
    "print(names[0])\n",
    "print(names[0:2])"
   ]
  },
  {
   "cell_type": "code",
   "execution_count": 45,
   "metadata": {},
   "outputs": [
    {
     "ename": "TypeError",
     "evalue": "'tuple' object does not support item assignment",
     "output_type": "error",
     "traceback": [
      "\u001b[1;31m---------------------------------------------------------------------------\u001b[0m",
      "\u001b[1;31mTypeError\u001b[0m                                 Traceback (most recent call last)",
      "\u001b[1;32mc:\\Users\\ahmad\\Desktop\\TrainingGround\\modern-python-mastery\\step_05\\step_05.ipynb Cell 30\u001b[0m line \u001b[0;36m3\n\u001b[0;32m      <a href='vscode-notebook-cell:/c%3A/Users/ahmad/Desktop/TrainingGround/modern-python-mastery/step_05/step_05.ipynb#X46sZmlsZQ%3D%3D?line=0'>1</a>\u001b[0m names: \u001b[39mtuple\u001b[39m[\u001b[39mstr\u001b[39m] \u001b[39m=\u001b[39m (\u001b[39m'\u001b[39m\u001b[39mA\u001b[39m\u001b[39m'\u001b[39m, \u001b[39m'\u001b[39m\u001b[39mB\u001b[39m\u001b[39m'\u001b[39m, \u001b[39m'\u001b[39m\u001b[39mC\u001b[39m\u001b[39m'\u001b[39m)\n\u001b[1;32m----> <a href='vscode-notebook-cell:/c%3A/Users/ahmad/Desktop/TrainingGround/modern-python-mastery/step_05/step_05.ipynb#X46sZmlsZQ%3D%3D?line=2'>3</a>\u001b[0m names[\u001b[39m0\u001b[39;49m] \u001b[39m=\u001b[39m \u001b[39m\"\u001b[39m\u001b[39mD\u001b[39m\u001b[39m\"\u001b[39m \u001b[39m# Error because tuple is immutable\u001b[39;00m\n",
      "\u001b[1;31mTypeError\u001b[0m: 'tuple' object does not support item assignment"
     ]
    }
   ],
   "source": [
    "names: tuple[str] = ('A', 'B', 'C')\n",
    "\n",
    "names[0] = \"D\" # Error because tuple is immutable\n",
    "\n"
   ]
  },
  {
   "cell_type": "code",
   "execution_count": 47,
   "metadata": {},
   "outputs": [
    {
     "name": "stdout",
     "output_type": "stream",
     "text": [
      "('A', 'B', 'C')\n",
      "('Pakistan', 'China', 'Russia')\n"
     ]
    }
   ],
   "source": [
    "names : tuple[str] = ('A', 'B', 'C')\n",
    "\n",
    "print(names)\n",
    "\n",
    "names: tuple[str] = ('Pakistan', 'China', 'Russia')\n",
    "\n",
    "print(names)"
   ]
  },
  {
   "cell_type": "code",
   "execution_count": 49,
   "metadata": {},
   "outputs": [
    {
     "name": "stdout",
     "output_type": "stream",
     "text": [
      "(1, 2, 3, 4, 5, 6, 7, 8, 9, 0, 'A', True, 3.14, [1, 2, 3], (1, 2, 3))\n"
     ]
    }
   ],
   "source": [
    "from typing import Any\n",
    "\n",
    "data: tuple[Any] = (1, 2, 3, 4, 5, 6, 7, 8, 9, 0, 'A', True, 3.14, [1, 2, 3], (1, 2, 3))\n",
    "\n",
    "print(data)"
   ]
  },
  {
   "cell_type": "code",
   "execution_count": 50,
   "metadata": {},
   "outputs": [
    {
     "data": {
      "text/plain": [
       "[9, 8, 7, 6, 5, 4, 3, 2, 1, 0]"
      ]
     },
     "execution_count": 50,
     "metadata": {},
     "output_type": "execute_result"
    }
   ],
   "source": [
    "sorted([1, 2, 3, 4, 5, 6, 7, 8, 9, 0], reverse=True)"
   ]
  }
 ],
 "metadata": {
  "kernelspec": {
   "display_name": "py12",
   "language": "python",
   "name": "python3"
  },
  "language_info": {
   "codemirror_mode": {
    "name": "ipython",
    "version": 3
   },
   "file_extension": ".py",
   "mimetype": "text/x-python",
   "name": "python",
   "nbconvert_exporter": "python",
   "pygments_lexer": "ipython3",
   "version": "3.12.0"
  }
 },
 "nbformat": 4,
 "nbformat_minor": 2
}
