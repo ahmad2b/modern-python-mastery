{
 "cells": [
  {
   "cell_type": "markdown",
   "metadata": {},
   "source": [
    "# Python Step 01 - Hello World"
   ]
  },
  {
   "cell_type": "code",
   "execution_count": 1,
   "metadata": {},
   "outputs": [
    {
     "name": "stdout",
     "output_type": "stream",
     "text": [
      "Hello world\n"
     ]
    }
   ],
   "source": [
    "print(\"Hello world\")"
   ]
  },
  {
   "cell_type": "markdown",
   "metadata": {},
   "source": [
    "## Python types\n",
    "\n",
    "### Basic/Common Types\n",
    "\n",
    "* `str`\n",
    "* `int`\n",
    "* `float`\n",
    "* `bool`\n",
    "* `list`\n",
    "* `tuple`\n",
    "* `any`"
   ]
  },
  {
   "cell_type": "markdown",
   "metadata": {},
   "source": [
    "## String (`str`)"
   ]
  },
  {
   "cell_type": "code",
   "execution_count": 5,
   "metadata": {},
   "outputs": [
    {
     "name": "stdout",
     "output_type": "stream",
     "text": [
      "Muhammad Ahmad Shoukat\n",
      "<class 'str'>\n",
      "2141553298992\n"
     ]
    }
   ],
   "source": [
    "name: str = 'Muhammad Ahmad Shoukat'\n",
    "print(name)\n",
    "print(type(name))\n",
    "print(id(name))"
   ]
  },
  {
   "cell_type": "code",
   "execution_count": 8,
   "metadata": {},
   "outputs": [
    {
     "name": "stdout",
     "output_type": "stream",
     "text": [
      "700\n",
      "<class 'int'>\n",
      "2141551536816\n"
     ]
    }
   ],
   "source": [
    "name: str = 700 # will give error; check helloworld.py\n",
    "print(name)\n",
    "print(type(name))\n",
    "print(id(name))"
   ]
  },
  {
   "cell_type": "markdown",
   "metadata": {},
   "source": [
    "## `int`"
   ]
  },
  {
   "cell_type": "code",
   "execution_count": 9,
   "metadata": {},
   "outputs": [
    {
     "name": "stdout",
     "output_type": "stream",
     "text": [
      "700\n",
      "<class 'int'>\n",
      "2141551536848\n",
      "['as_integer_ratio', 'bit_count', 'bit_length', 'conjugate', 'denominator', 'from_bytes', 'imag', 'is_integer', 'numerator', 'real', 'to_bytes']\n"
     ]
    }
   ],
   "source": [
    "number : int = 700 # variable declaration\n",
    "print(number) # print variable\n",
    "print(type(number)) # type of variable\n",
    "print(id(number)) # memory address\n",
    "print([i for i in dir (number) if \"__\" not in i]) # to check all the methods & attributes of a class"
   ]
  },
  {
   "cell_type": "markdown",
   "metadata": {},
   "source": [
    "## `float`"
   ]
  },
  {
   "cell_type": "code",
   "execution_count": 10,
   "metadata": {},
   "outputs": [
    {
     "name": "stdout",
     "output_type": "stream",
     "text": [
      "70.73\n",
      "<class 'float'>\n",
      "2141533559472\n",
      "['as_integer_ratio', 'conjugate', 'fromhex', 'hex', 'imag', 'is_integer', 'real']\n"
     ]
    }
   ],
   "source": [
    "decimal : float = 70.73\n",
    "print(decimal) # print variable\n",
    "print(type(decimal)) # type of variable\n",
    "print(id(decimal)) # memory address\n",
    "print([i for i in dir (decimal) if \"__\" not in i]) # to check all the methods & attributes of a class"
   ]
  },
  {
   "cell_type": "markdown",
   "metadata": {},
   "source": [
    "## `bool`"
   ]
  },
  {
   "cell_type": "code",
   "execution_count": 11,
   "metadata": {},
   "outputs": [
    {
     "name": "stdout",
     "output_type": "stream",
     "text": [
      "True\n",
      "<class 'bool'>\n",
      "140720806300368\n",
      "['as_integer_ratio', 'bit_count', 'bit_length', 'conjugate', 'denominator', 'from_bytes', 'imag', 'is_integer', 'numerator', 'real', 'to_bytes']\n"
     ]
    }
   ],
   "source": [
    "boolean : bool = True # variable declaration\n",
    "print(boolean) # print variable\n",
    "print(type(boolean)) # type of variable\n",
    "print(id(boolean)) # memory address\n",
    "print([i for i in dir (boolean) if \"__\" not in i]) # to check all the methods & attributes of a class"
   ]
  },
  {
   "cell_type": "markdown",
   "metadata": {},
   "source": [
    "## `list`"
   ]
  },
  {
   "cell_type": "code",
   "execution_count": 12,
   "metadata": {},
   "outputs": [
    {
     "name": "stdout",
     "output_type": "stream",
     "text": [
      "[1, 2, 3, 4, 5, 6, 7, 8, 9, 10]\n",
      "<class 'list'>\n",
      "2141553163008\n",
      "['append', 'clear', 'copy', 'count', 'extend', 'index', 'insert', 'pop', 'remove', 'reverse', 'sort']\n"
     ]
    }
   ],
   "source": [
    "long : list[number] = [1,2,3,4,5,6,7,8,9,10] # variable declaration\n",
    "print(long) # print variable\n",
    "print(type(long)) # type of variable\n",
    "print(id(long)) # memory address\n",
    "print([i for i in dir (long) if \"__\" not in i]) # to check all the methods & attributes of a class"
   ]
  },
  {
   "cell_type": "markdown",
   "metadata": {},
   "source": [
    "## `tuple`"
   ]
  },
  {
   "cell_type": "code",
   "execution_count": 13,
   "metadata": {},
   "outputs": [
    {
     "name": "stdout",
     "output_type": "stream",
     "text": [
      "('Muhammad Ahmad Shoukat', 700, 70.73)\n",
      "<class 'tuple'>\n",
      "2141553224128\n",
      "['count', 'index']\n"
     ]
    }
   ],
   "source": [
    "different : tuple[str, int, float] = ('Muhammad Ahmad Shoukat', 700, 70.73) # variable declaration\n",
    "print(different) # print variable\n",
    "print(type(different)) # type of variable\n",
    "print(id(different)) # memory address\n",
    "print([i for i in dir (different) if \"__\" not in i]) # to check all the methods & attributes of a class"
   ]
  },
  {
   "cell_type": "markdown",
   "metadata": {},
   "source": [
    "## `any`"
   ]
  },
  {
   "cell_type": "code",
   "execution_count": 14,
   "metadata": {},
   "outputs": [
    {
     "name": "stdout",
     "output_type": "stream",
     "text": [
      "Pakistan\n",
      "<class 'str'>\n",
      "2141553282096\n",
      "700\n",
      "<class 'int'>\n",
      "2141551530032\n"
     ]
    }
   ],
   "source": [
    "check: any = 'Pakistan'\n",
    "print(check)\n",
    "print(type(check))\n",
    "print(id(check))\n",
    "check = 700\n",
    "print(check)\n",
    "print(type(check))\n",
    "print(id(check))"
   ]
  }
 ],
 "metadata": {
  "kernelspec": {
   "display_name": "langchain",
   "language": "python",
   "name": "python3"
  },
  "language_info": {
   "codemirror_mode": {
    "name": "ipython",
    "version": 3
   },
   "file_extension": ".py",
   "mimetype": "text/x-python",
   "name": "python",
   "nbconvert_exporter": "python",
   "pygments_lexer": "ipython3",
   "version": "3.12.0"
  }
 },
 "nbformat": 4,
 "nbformat_minor": 2
}
