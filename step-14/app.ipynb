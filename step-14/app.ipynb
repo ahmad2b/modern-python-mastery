{
 "cells": [
  {
   "cell_type": "markdown",
   "metadata": {},
   "source": [
    "# Method Overloading"
   ]
  },
  {
   "cell_type": "code",
   "execution_count": 1,
   "metadata": {},
   "outputs": [],
   "source": [
    "from typing import Union, overload\n",
    "\n",
    "class Adder:\n",
    "    @overload\n",
    "    def add(self, x:int, y:int) -> int:\n",
    "        ...\n",
    "    \n",
    "    @overload\n",
    "    def add(self, x:str, y:str) -> str:\n",
    "        ...\n",
    "        \n",
    "    @overload\n",
    "    def add(self, x:float, y:float) -> float:\n",
    "        ...\n",
    "        \n",
    "    def add(self, x: Union[int, float, str], y: Union[int, float, str]) -> Union[int, float, str]:\n",
    "        if isinstance(x, int) and isinstance(y, int):\n",
    "            return x + y\n",
    "        elif isinstance(x, str) and isinstance(y, str):\n",
    "            return x + y\n",
    "        elif isinstance(x, float) and isinstance(y, float):\n",
    "            return x + y\n",
    "        else:\n",
    "            raise TypeError(\"Invalid arguments type\")"
   ]
  },
  {
   "cell_type": "code",
   "execution_count": 2,
   "metadata": {},
   "outputs": [
    {
     "name": "stdout",
     "output_type": "stream",
     "text": [
      "3 12 3.0\n"
     ]
    },
    {
     "ename": "TypeError",
     "evalue": "Invalid arguments type",
     "output_type": "error",
     "traceback": [
      "\u001b[1;31m---------------------------------------------------------------------------\u001b[0m",
      "\u001b[1;31mTypeError\u001b[0m                                 Traceback (most recent call last)",
      "\u001b[1;32mc:\\Users\\ahmad\\Desktop\\TrainingGround\\modern-python-mastery\\step-14\\app.ipynb Cell 3\u001b[0m line \u001b[0;36m8\n\u001b[0;32m      <a href='vscode-notebook-cell:/c%3A/Users/ahmad/Desktop/TrainingGround/modern-python-mastery/step-14/app.ipynb#W2sZmlsZQ%3D%3D?line=3'>4</a>\u001b[0m result3 \u001b[39m=\u001b[39m adder\u001b[39m.\u001b[39madd(\u001b[39m1.0\u001b[39m, \u001b[39m2.0\u001b[39m)\n\u001b[0;32m      <a href='vscode-notebook-cell:/c%3A/Users/ahmad/Desktop/TrainingGround/modern-python-mastery/step-14/app.ipynb#W2sZmlsZQ%3D%3D?line=5'>6</a>\u001b[0m \u001b[39mprint\u001b[39m(result1, result2, result3)\n\u001b[1;32m----> <a href='vscode-notebook-cell:/c%3A/Users/ahmad/Desktop/TrainingGround/modern-python-mastery/step-14/app.ipynb#W2sZmlsZQ%3D%3D?line=7'>8</a>\u001b[0m result4 \u001b[39m=\u001b[39m adder\u001b[39m.\u001b[39;49madd(\u001b[39m1\u001b[39;49m, \u001b[39m\"\u001b[39;49m\u001b[39m2\u001b[39;49m\u001b[39m\"\u001b[39;49m)\n",
      "\u001b[1;32mc:\\Users\\ahmad\\Desktop\\TrainingGround\\modern-python-mastery\\step-14\\app.ipynb Cell 3\u001b[0m line \u001b[0;36m2\n\u001b[0;32m     <a href='vscode-notebook-cell:/c%3A/Users/ahmad/Desktop/TrainingGround/modern-python-mastery/step-14/app.ipynb#W2sZmlsZQ%3D%3D?line=21'>22</a>\u001b[0m     \u001b[39mreturn\u001b[39;00m x \u001b[39m+\u001b[39m y\n\u001b[0;32m     <a href='vscode-notebook-cell:/c%3A/Users/ahmad/Desktop/TrainingGround/modern-python-mastery/step-14/app.ipynb#W2sZmlsZQ%3D%3D?line=22'>23</a>\u001b[0m \u001b[39melse\u001b[39;00m:\n\u001b[1;32m---> <a href='vscode-notebook-cell:/c%3A/Users/ahmad/Desktop/TrainingGround/modern-python-mastery/step-14/app.ipynb#W2sZmlsZQ%3D%3D?line=23'>24</a>\u001b[0m     \u001b[39mraise\u001b[39;00m \u001b[39mTypeError\u001b[39;00m(\u001b[39m\"\u001b[39m\u001b[39mInvalid arguments type\u001b[39m\u001b[39m\"\u001b[39m)\n",
      "\u001b[1;31mTypeError\u001b[0m: Invalid arguments type"
     ]
    }
   ],
   "source": [
    "adder = Adder()\n",
    "result1 = adder.add(1, 2)\n",
    "result2 = adder.add(\"1\", \"2\")\n",
    "result3 = adder.add(1.0, 2.0)\n",
    "\n",
    "print(result1, result2, result3)\n",
    "\n",
    "result4 = adder.add(1, \"2\")"
   ]
  },
  {
   "cell_type": "code",
   "execution_count": 3,
   "metadata": {},
   "outputs": [
    {
     "ename": "NameError",
     "evalue": "name 'add' is not defined",
     "output_type": "error",
     "traceback": [
      "\u001b[1;31m---------------------------------------------------------------------------\u001b[0m",
      "\u001b[1;31mNameError\u001b[0m                                 Traceback (most recent call last)",
      "\u001b[1;32mc:\\Users\\ahmad\\Desktop\\TrainingGround\\modern-python-mastery\\step-14\\app.ipynb Cell 4\u001b[0m line \u001b[0;36m1\n\u001b[1;32m----> <a href='vscode-notebook-cell:/c%3A/Users/ahmad/Desktop/TrainingGround/modern-python-mastery/step-14/app.ipynb#W3sZmlsZQ%3D%3D?line=0'>1</a>\u001b[0m add([\u001b[39m1\u001b[39m, \u001b[39m2\u001b[39m, \u001b[39m3\u001b[39m], [\u001b[39m4\u001b[39m, \u001b[39m5\u001b[39m, \u001b[39m6\u001b[39m])\n",
      "\u001b[1;31mNameError\u001b[0m: name 'add' is not defined"
     ]
    }
   ],
   "source": [
    "add([1, 2, 3], [4, 5, 6])"
   ]
  },
  {
   "cell_type": "markdown",
   "metadata": {},
   "source": [
    "# Function Overloading"
   ]
  },
  {
   "cell_type": "code",
   "execution_count": 5,
   "metadata": {},
   "outputs": [
    {
     "name": "stdout",
     "output_type": "stream",
     "text": [
      "3 12 3.0\n"
     ]
    }
   ],
   "source": [
    "from typing import Union, overload\n",
    "\n",
    "@overload\n",
    "def add(x:int, y:int) -> int:\n",
    "    ...\n",
    "\n",
    "@overload\n",
    "def add(x:str, y:str) -> str:\n",
    "    ...\n",
    "    \n",
    "@overload\n",
    "def add(x:float, y:float) -> float:\n",
    "    ...\n",
    "    \n",
    "def add(x: Union[int, float, str], y: Union[int, float, str]) -> Union[int, float, str]:\n",
    "    if isinstance(x, int) and isinstance(y, int):\n",
    "        return x + y\n",
    "    elif isinstance(x, str) and isinstance(y, str):\n",
    "        return x + y\n",
    "    elif isinstance(x, float) and isinstance(y, float):\n",
    "        return x + y\n",
    "    else:\n",
    "        raise TypeError(\"Invalid arguments type\")\n",
    "    \n",
    "result1 = add(1, 2)\n",
    "result2 = add(\"1\", \"2\")\n",
    "result3 = add(1.0, 2.0)\n",
    "\n",
    "print(result1, result2, result3)"
   ]
  },
  {
   "cell_type": "markdown",
   "metadata": {},
   "source": [
    "# Multiple Inheritance"
   ]
  },
  {
   "cell_type": "code",
   "execution_count": 6,
   "metadata": {},
   "outputs": [
    {
     "name": "stdout",
     "output_type": "stream",
     "text": [
      "object height is 6 Feet\n",
      "object eye color is brown\n",
      "Mother Speaking function: Hello World\n",
      "None\n"
     ]
    }
   ],
   "source": [
    "class Mother:\n",
    "    def __init__(self, name:str) -> None:\n",
    "        self.name: str = name\n",
    "        self.eye_color: str = \"brown\"\n",
    "\n",
    "    def speak(self, words: str) -> str:\n",
    "        print(f\"Mother Speaking function: {words}\")\n",
    "        \n",
    "class Father:\n",
    "    def __init__(self, name:str) -> None:\n",
    "        self.name: str = name\n",
    "        self.heights: str = \"6 Feet\"\n",
    "\n",
    "    def speak(self, words: str) -> str:\n",
    "        print(f\"Father Speaking function: {words}\")\n",
    "        \n",
    "class Child(Mother, Father):\n",
    "    def __init__(self, mother_name: str, father_name: str, child_name: str) -> None:\n",
    "        Mother.__init__(self, mother_name)\n",
    "        Father.__init__(self, father_name)\n",
    "        self.name: str = child_name\n",
    "        \n",
    "qasim: Child = Child(\"Mother\", \"Father\", \"Child\")\n",
    "\n",
    "print(f\"object height is {qasim.heights}\")\n",
    "print(f\"object eye color is {qasim.eye_color}\")\n",
    "print(qasim.speak(\"Hello World\"))"
   ]
  },
  {
   "cell_type": "code",
   "execution_count": 7,
   "metadata": {},
   "outputs": [
    {
     "data": {
      "text/plain": [
       "['eye_color', 'heights', 'name', 'speak']"
      ]
     },
     "execution_count": 7,
     "metadata": {},
     "output_type": "execute_result"
    }
   ],
   "source": [
    "[i for i in dir(qasim) if \"__\" not in i]"
   ]
  },
  {
   "cell_type": "code",
   "execution_count": 8,
   "metadata": {},
   "outputs": [
    {
     "name": "stdout",
     "output_type": "stream",
     "text": [
      "object height is 6 Feet\n",
      "object eye color is blue\n",
      "Mother Speaking function: Hello World\n",
      "None\n"
     ]
    }
   ],
   "source": [
    "class Mother:\n",
    "    def __init__(self, name:str) -> None:\n",
    "        self.name: str = name\n",
    "        self.eye_color: str = \"blue\"\n",
    "        \n",
    "    def speaking(self, words: str) -> str:\n",
    "        print(f\"Mother Speaking function: {words}\")\n",
    "        \n",
    "class Father:\n",
    "    def __init__(self, name:str) -> None:\n",
    "        self.name: str = name\n",
    "        self.heights: str = \"6 Feet\"\n",
    "        \n",
    "    def speaking(self, words: str) -> str:\n",
    "        print(f\"Father Speaking function: {words}\")\n",
    "        \n",
    "class Child(Mother, Father):\n",
    "    def __init__(self, mother_name: str, father_name: str, child_name: str) -> None:\n",
    "        Mother.__init__(self, mother_name)\n",
    "        Father.__init__(self, father_name)\n",
    "        self.name: str = child_name\n",
    "        \n",
    "ahmad: Child = Child(\"Mother\", \"Father\", \"Child\")\n",
    "\n",
    "print(f\"object height is {ahmad.heights}\")\n",
    "print(f\"object eye color is {ahmad.eye_color}\")\n",
    "print(ahmad.speaking(\"Hello World\"))\n"
   ]
  },
  {
   "cell_type": "markdown",
   "metadata": {},
   "source": [
    "# Overriding"
   ]
  },
  {
   "cell_type": "code",
   "execution_count": 9,
   "metadata": {},
   "outputs": [
    {
     "name": "stdout",
     "output_type": "stream",
     "text": [
      "Bird eating function: Grains\n",
      "Animal eating function: Grass\n"
     ]
    }
   ],
   "source": [
    "class Animal():\n",
    "    def eating(self, food: str) -> None: \n",
    "        print(f\"Animal eating function: {food}\")\n",
    "        \n",
    "class Bird(Animal):\n",
    "    def eating(self, food: str) -> None: \n",
    "        print(f\"Bird eating function: {food}\")\n",
    "        \n",
    "bird: Bird = Bird()\n",
    "bird.eating(\"Grains\")\n",
    "\n",
    "animal: Animal = Animal()\n",
    "animal.eating(\"Grass\")"
   ]
  },
  {
   "cell_type": "markdown",
   "metadata": {},
   "source": [
    "# Polymorphism"
   ]
  },
  {
   "cell_type": "code",
   "execution_count": 10,
   "metadata": {},
   "outputs": [
    {
     "name": "stdout",
     "output_type": "stream",
     "text": [
      "Bird eating function: Grass\n"
     ]
    }
   ],
   "source": [
    "animal: Animal = Bird() # at run time it will be decided which method to call \n",
    "animal.eating(\"Grass\")"
   ]
  },
  {
   "cell_type": "code",
   "execution_count": 11,
   "metadata": {},
   "outputs": [
    {
     "name": "stdout",
     "output_type": "stream",
     "text": [
      "<class '__main__.Bird'>\n"
     ]
    }
   ],
   "source": [
    "print(type(animal))"
   ]
  },
  {
   "cell_type": "code",
   "execution_count": 18,
   "metadata": {},
   "outputs": [
    {
     "name": "stdout",
     "output_type": "stream",
     "text": [
      "Animal eating function: Grass\n"
     ]
    }
   ],
   "source": [
    "animal: Animal = Animal() # at run time it will be decided which method to call\n",
    "animal.eating(\"Grass\")"
   ]
  },
  {
   "cell_type": "markdown",
   "metadata": {},
   "source": [
    "# Static Method and Static variable (class variable)"
   ]
  },
  {
   "cell_type": "code",
   "execution_count": 19,
   "metadata": {},
   "outputs": [
    {
     "name": "stdout",
     "output_type": "stream",
     "text": [
      "8\n",
      "15\n",
      "Static variable or class variable PIAIC\n"
     ]
    }
   ],
   "source": [
    "class MathOperatios:\n",
    "    \n",
    "    counter: int = 100\n",
    "    organization: str = \"PIAIC\"\n",
    "    \n",
    "    @staticmethod\n",
    "    def add(x: int, y: int) -> int:\n",
    "        \"\"\"Add two numbers.\"\"\"\n",
    "        return x + y\n",
    "    \n",
    "    @staticmethod\n",
    "    def multiply(x: int, y: int) -> int:\n",
    "        \"\"\"Multiply two numbers.\"\"\"\n",
    "        return x * y\n",
    "    \n",
    "# Using the static method\n",
    "\n",
    "result_add = MathOperatios.add(5, 3)\n",
    "print(result_add)\n",
    "\n",
    "result_multiply = MathOperatios.multiply(5, 3)\n",
    "print(result_multiply)\n",
    "\n",
    "print(\"Static variable or class variable\", MathOperatios.organization)    \n"
   ]
  },
  {
   "cell_type": "markdown",
   "metadata": {},
   "source": [
    "# Everything is an object"
   ]
  },
  {
   "cell_type": "code",
   "execution_count": 20,
   "metadata": {},
   "outputs": [
    {
     "name": "stdout",
     "output_type": "stream",
     "text": [
      "Human eating function: Biryani\n"
     ]
    }
   ],
   "source": [
    "class Human():\n",
    "    def eating(self, food: str) -> None: \n",
    "        print(f\"Human eating function: {food}\")\n",
    "        \n",
    "obj1: Human = Human()\n",
    "obj1.eating(\"Biryani\")"
   ]
  },
  {
   "cell_type": "code",
   "execution_count": 21,
   "metadata": {},
   "outputs": [
    {
     "data": {
      "text/plain": [
       "['__class__',\n",
       " '__delattr__',\n",
       " '__dict__',\n",
       " '__dir__',\n",
       " '__doc__',\n",
       " '__eq__',\n",
       " '__format__',\n",
       " '__ge__',\n",
       " '__getattribute__',\n",
       " '__getstate__',\n",
       " '__gt__',\n",
       " '__hash__',\n",
       " '__init__',\n",
       " '__init_subclass__',\n",
       " '__le__',\n",
       " '__lt__',\n",
       " '__module__',\n",
       " '__ne__',\n",
       " '__new__',\n",
       " '__reduce__',\n",
       " '__reduce_ex__',\n",
       " '__repr__',\n",
       " '__setattr__',\n",
       " '__sizeof__',\n",
       " '__str__',\n",
       " '__subclasshook__',\n",
       " '__weakref__',\n",
       " 'eating']"
      ]
     },
     "execution_count": 21,
     "metadata": {},
     "output_type": "execute_result"
    }
   ],
   "source": [
    "dir(obj1)"
   ]
  },
  {
   "cell_type": "code",
   "execution_count": 22,
   "metadata": {},
   "outputs": [
    {
     "data": {
      "text/plain": [
       "['__class__',\n",
       " '__delattr__',\n",
       " '__dir__',\n",
       " '__doc__',\n",
       " '__eq__',\n",
       " '__format__',\n",
       " '__ge__',\n",
       " '__getattribute__',\n",
       " '__getstate__',\n",
       " '__gt__',\n",
       " '__hash__',\n",
       " '__init__',\n",
       " '__init_subclass__',\n",
       " '__le__',\n",
       " '__lt__',\n",
       " '__ne__',\n",
       " '__new__',\n",
       " '__reduce__',\n",
       " '__reduce_ex__',\n",
       " '__repr__',\n",
       " '__setattr__',\n",
       " '__sizeof__',\n",
       " '__str__',\n",
       " '__subclasshook__']"
      ]
     },
     "execution_count": 22,
     "metadata": {},
     "output_type": "execute_result"
    }
   ],
   "source": [
    "dir(object)"
   ]
  },
  {
   "cell_type": "markdown",
   "metadata": {},
   "source": [
    "# Callable"
   ]
  },
  {
   "cell_type": "code",
   "execution_count": 23,
   "metadata": {},
   "outputs": [
    {
     "name": "stdout",
     "output_type": "stream",
     "text": [
      "Human is eating Shawarama\n",
      "Human is eating Pizza!\n"
     ]
    }
   ],
   "source": [
    "from typing import Any\n",
    "\n",
    "class Human(object):\n",
    "    def eating(self, food: str) -> None:\n",
    "        print(f\"Human is eating {food}\")\n",
    "        \n",
    "    def __call__(self) -> None:\n",
    "        self.eating(\"Pizza!\")\n",
    "        \n",
    "obj3: Human = Human()\n",
    "obj3.eating(\"Shawarama\")\n",
    "\n",
    "obj3.__call__()    "
   ]
  },
  {
   "cell_type": "code",
   "execution_count": 24,
   "metadata": {},
   "outputs": [
    {
     "data": {
      "text/plain": [
       "<__main__.Human at 0x218c3d5a450>"
      ]
     },
     "execution_count": 24,
     "metadata": {},
     "output_type": "execute_result"
    }
   ],
   "source": [
    "Human()"
   ]
  }
 ],
 "metadata": {
  "kernelspec": {
   "display_name": "py12",
   "language": "python",
   "name": "python3"
  },
  "language_info": {
   "codemirror_mode": {
    "name": "ipython",
    "version": 3
   },
   "file_extension": ".py",
   "mimetype": "text/x-python",
   "name": "python",
   "nbconvert_exporter": "python",
   "pygments_lexer": "ipython3",
   "version": "3.12.0"
  }
 },
 "nbformat": 4,
 "nbformat_minor": 2
}
