{
 "cells": [
  {
   "cell_type": "markdown",
   "metadata": {},
   "source": [
    "# OOP (Object Oriented Programming)\n",
    "\n",
    "* Class\n",
    "  * method\n",
    "    * first argument must be additional variable (self, this or anything else)\n",
    "  * attribute\n",
    "    * connect with individual object\n",
    "  * class variables\n",
    "  * constructor\n",
    "    * def `__init__(self, arg1, arg2)`\n",
    "  * Class variable\n",
    "    * this value use for all objects\n",
    "      * `ClassName.class_variable`\n",
    "\n",
    "```python\n",
    "class ClassName():\n",
    "    class_variable1: type = value\n",
    "```\n",
    "\n",
    "## Syntax of class\n",
    "\n",
    "```python\n",
    "class ClassName():\n",
    "    pass\n",
    "```"
   ]
  },
  {
   "cell_type": "code",
   "execution_count": 1,
   "metadata": {},
   "outputs": [],
   "source": [
    "# Basic Example\n",
    "\n",
    "class Teacher():\n",
    "    def __init__(self, teacher_id: int, teacher_name: str) -> None: # Constructor\n",
    "        self.name: str = teacher_name  # Attributes \n",
    "        self.teacher_id: int = teacher_id # Attributes \n",
    "        self.organization_name: str = \"PIAIC\" # Attributes\n",
    "        \n",
    "    def speak(self, words: str) -> None: # Method\n",
    "        print(f\"{self.name} says {words}\")\n",
    "        \n",
    "    def teaching(self, subject: str) -> None: # Method\n",
    "        print(f\"{self.name} is teaching {subject}\")"
   ]
  },
  {
   "cell_type": "code",
   "execution_count": 4,
   "metadata": {},
   "outputs": [
    {
     "name": "stdout",
     "output_type": "stream",
     "text": [
      "Qasim\n",
      "Asif\n",
      "Qasim says Hello\n",
      "Asif says Hi\n",
      "Qasim is teaching AI\n",
      "Asif is teaching CNC\n"
     ]
    }
   ],
   "source": [
    "obj1: Teacher = Teacher(1, \"Qasim\")\n",
    "obj2: Teacher = Teacher(2, \"Asif\")\n",
    "\n",
    "print(obj1.name)\n",
    "print(obj2.name)\n",
    "\n",
    "obj1.speak(\"Hello\")\n",
    "obj2.speak(\"Hi\")\n",
    "\n",
    "obj1.teaching(\"AI\")\n",
    "obj2.teaching(\"CNC\")"
   ]
  },
  {
   "cell_type": "code",
   "execution_count": 6,
   "metadata": {},
   "outputs": [
    {
     "ename": "TypeError",
     "evalue": "Teacher.__init__() missing 1 required positional argument: 'teacher_name'",
     "output_type": "error",
     "traceback": [
      "\u001b[1;31m---------------------------------------------------------------------------\u001b[0m",
      "\u001b[1;31mTypeError\u001b[0m                                 Traceback (most recent call last)",
      "\u001b[1;32mc:\\Users\\ahmad\\Desktop\\TrainingGround\\modern-python-mastery\\step-13\\app.ipynb Cell 4\u001b[0m line \u001b[0;36m1\n\u001b[1;32m----> <a href='vscode-notebook-cell:/c%3A/Users/ahmad/Desktop/TrainingGround/modern-python-mastery/step-13/app.ipynb#W3sZmlsZQ%3D%3D?line=0'>1</a>\u001b[0m abc1: Teacher \u001b[39m=\u001b[39m Teacher(\u001b[39m3\u001b[39;49m)\n",
      "\u001b[1;31mTypeError\u001b[0m: Teacher.__init__() missing 1 required positional argument: 'teacher_name'"
     ]
    }
   ],
   "source": [
    "abc1: Teacher = Teacher(3)"
   ]
  },
  {
   "cell_type": "code",
   "execution_count": 7,
   "metadata": {},
   "outputs": [
    {
     "data": {
      "text/plain": [
       "['__class__',\n",
       " '__delattr__',\n",
       " '__dict__',\n",
       " '__dir__',\n",
       " '__doc__',\n",
       " '__eq__',\n",
       " '__format__',\n",
       " '__ge__',\n",
       " '__getattribute__',\n",
       " '__getstate__',\n",
       " '__gt__',\n",
       " '__hash__',\n",
       " '__init__',\n",
       " '__init_subclass__',\n",
       " '__le__',\n",
       " '__lt__',\n",
       " '__module__',\n",
       " '__ne__',\n",
       " '__new__',\n",
       " '__reduce__',\n",
       " '__reduce_ex__',\n",
       " '__repr__',\n",
       " '__setattr__',\n",
       " '__sizeof__',\n",
       " '__str__',\n",
       " '__subclasshook__',\n",
       " '__weakref__',\n",
       " 'name',\n",
       " 'organization_name',\n",
       " 'speak',\n",
       " 'teacher_id',\n",
       " 'teaching']"
      ]
     },
     "execution_count": 7,
     "metadata": {},
     "output_type": "execute_result"
    }
   ],
   "source": [
    "dir(obj1)"
   ]
  },
  {
   "cell_type": "markdown",
   "metadata": {},
   "source": [
    "# Class Variable\n",
    "\n",
    "* Class variable\n",
    "* this value use for all objects\n",
    "  * `ClassName.class_variable`\n",
    "  * `object_name.class_variable`\n",
    "\n",
    "```python\n",
    "class ClassName():\n",
    "    class_variable1: type = Value\n",
    "```"
   ]
  },
  {
   "cell_type": "code",
   "execution_count": 8,
   "metadata": {},
   "outputs": [],
   "source": [
    "class Teacher():\n",
    "    counter: int = 0 # Class Variable\n",
    "    help_line_number: str = \"0930-1234567\" # Class Variable\n",
    "    \n",
    "    def __init__(self, teacher_id: int, teacher_name: str) -> None: # Constructor\n",
    "        self.name: str = teacher_name  # self.attribute_name: type = value\n",
    "        self.teacher_id: int = teacher_id \n",
    "        self.organization_name: str = \"PIAIC\" \n",
    "        Teacher.counter += 1\n",
    "        \n",
    "    def speak(self, words: str) -> None: # Method\n",
    "        print(f\"{self.name} says {words}\")\n",
    "        \n",
    "    def teaching(self, subject: str) -> None: # Method\n",
    "        print(f\"{self.name} is teaching {subject}\")\n",
    "        \n",
    "    def print_counter(self) -> None:\n",
    "        print(Teacher.counter)\n",
    "        \n",
    "    def details(self) -> None:\n",
    "        print(f\"Name: {self.name}\\nTeacher ID: {self.teacher_id}\\nOrganization Name: {self.organization_name}\")"
   ]
  },
  {
   "cell_type": "code",
   "execution_count": 11,
   "metadata": {},
   "outputs": [
    {
     "name": "stdout",
     "output_type": "stream",
     "text": [
      "3\n",
      "Name: Qasim\n",
      "Teacher ID: 1\n",
      "Organization Name: PIAIC\n",
      "None\n"
     ]
    }
   ],
   "source": [
    "obj1: Teacher = Teacher(1, \"Qasim\")\n",
    "\n",
    "print(Teacher.counter)\n",
    "print(obj1.details())"
   ]
  },
  {
   "cell_type": "code",
   "execution_count": 12,
   "metadata": {},
   "outputs": [
    {
     "data": {
      "text/plain": [
       "1959374882720"
      ]
     },
     "execution_count": 12,
     "metadata": {},
     "output_type": "execute_result"
    }
   ],
   "source": [
    "id(obj1)"
   ]
  },
  {
   "cell_type": "code",
   "execution_count": 15,
   "metadata": {},
   "outputs": [
    {
     "name": "stdout",
     "output_type": "stream",
     "text": [
      "6\n",
      "Name: Asif\n",
      "Teacher ID: 2\n",
      "Organization Name: PIAIC\n",
      "None\n"
     ]
    }
   ],
   "source": [
    "obj2: Teacher = Teacher(2, \"Asif\")\n",
    "\n",
    "\n",
    "\n",
    "print(Teacher.counter)\n",
    "print(obj2.details())"
   ]
  },
  {
   "cell_type": "code",
   "execution_count": 16,
   "metadata": {},
   "outputs": [
    {
     "data": {
      "text/plain": [
       "1959399000640"
      ]
     },
     "execution_count": 16,
     "metadata": {},
     "output_type": "execute_result"
    }
   ],
   "source": [
    "id(obj2)"
   ]
  },
  {
   "cell_type": "markdown",
   "metadata": {},
   "source": [
    "## Inheritence\n",
    "\n",
    "```python\n",
    "class ChileClass(ParentClass):\n",
    "    pass\n",
    "```"
   ]
  },
  {
   "cell_type": "code",
   "execution_count": 17,
   "metadata": {},
   "outputs": [],
   "source": [
    "class Parents():\n",
    "    def __init__(self) -> None:\n",
    "        self.eye_color: str = \"Brown\"\n",
    "        self.hair_color: str = \"Black\"\n",
    "        \n",
    "    def speak(self, words: str) -> None:\n",
    "        print(f\"Parent method speaks {words}\")\n",
    "        \n",
    "    def watching(self, tv_show: str) -> None:\n",
    "        print(f\"Parent method watching {tv_show}\")\n",
    "        \n",
    "class Child(Parents):\n",
    "    pass"
   ]
  },
  {
   "cell_type": "code",
   "execution_count": 18,
   "metadata": {},
   "outputs": [
    {
     "name": "stdout",
     "output_type": "stream",
     "text": [
      "Brown\n",
      "Black\n",
      "Parent method speaks Hello\n",
      "Parent method watching Tom & Jerry\n"
     ]
    }
   ],
   "source": [
    "obj1: Parents = Parents()\n",
    "print(obj1.eye_color)\n",
    "print(obj1.hair_color)\n",
    "obj1.speak(\"Hello\")\n",
    "obj1.watching(\"Tom & Jerry\")"
   ]
  },
  {
   "cell_type": "code",
   "execution_count": 19,
   "metadata": {},
   "outputs": [
    {
     "name": "stdout",
     "output_type": "stream",
     "text": [
      "Brown\n",
      "Black\n",
      "Parent method speaks Hi\n",
      "Parent method watching Mr. Bean\n"
     ]
    }
   ],
   "source": [
    "obj2: Child = Child()\n",
    "print(obj2.eye_color)\n",
    "print(obj2.hair_color)\n",
    "obj2.speak(\"Hi\")\n",
    "obj2.watching(\"Mr. Bean\")"
   ]
  },
  {
   "cell_type": "code",
   "execution_count": 20,
   "metadata": {},
   "outputs": [],
   "source": [
    "class Child(Parents):\n",
    "    def teaching(self, subject : str = None)->None:\n",
    "        print(f'Child method for teaching : {subject}')"
   ]
  },
  {
   "cell_type": "code",
   "execution_count": 22,
   "metadata": {},
   "outputs": [
    {
     "name": "stdout",
     "output_type": "stream",
     "text": [
      "Brown\n",
      "Black\n",
      "Parent method speaks Hi\n",
      "Parent method watching Mr. Bean\n",
      "Child method for teaching : Maths\n"
     ]
    }
   ],
   "source": [
    "obj2: Child = Child()\n",
    "print(obj2.eye_color)\n",
    "print(obj2.hair_color)\n",
    "obj2.speak(\"Hi\")\n",
    "obj2.watching(\"Mr. Bean\")\n",
    "obj2.teaching(\"Maths\")"
   ]
  },
  {
   "cell_type": "markdown",
   "metadata": {},
   "source": [
    "## Encapsulation\n",
    "\n",
    "**Encapsulation**:\n",
    "The bundling of data with the methods that operate on that data. It restricts direct accesss to some of an object's components and can prevent the accidental modification of data."
   ]
  },
  {
   "cell_type": "markdown",
   "metadata": {},
   "source": [
    "## Abstraction\n",
    "\n",
    "**Abstraction**:\n",
    "The concept of hiding the complex reality while exposing only the necessary parts. It helps to reduce programming complexity and effort."
   ]
  },
  {
   "cell_type": "markdown",
   "metadata": {},
   "source": [
    "## Inheritence\n",
    "\n",
    "**Inheritence**:\n",
    "A mechanism wherein a new class inherits properties and behavior (methods) form another class. This helps to create a new class based on an existing class."
   ]
  },
  {
   "cell_type": "markdown",
   "metadata": {},
   "source": [
    "## Polymorphism\n",
    "\n",
    "**Polymorphism**:\n",
    "The ability of different classes to respond to the same message (method call) in different ways. This allows for code to work with objects of various classes as if they were objects of a common superclass."
   ]
  }
 ],
 "metadata": {
  "kernelspec": {
   "display_name": "py12",
   "language": "python",
   "name": "python3"
  },
  "language_info": {
   "codemirror_mode": {
    "name": "ipython",
    "version": 3
   },
   "file_extension": ".py",
   "mimetype": "text/x-python",
   "name": "python",
   "nbconvert_exporter": "python",
   "pygments_lexer": "ipython3",
   "version": "3.12.0"
  }
 },
 "nbformat": 4,
 "nbformat_minor": 2
}
