{
 "cells": [
  {
   "cell_type": "markdown",
   "metadata": {},
   "source": [
    "# Dictionary"
   ]
  },
  {
   "cell_type": "code",
   "execution_count": 2,
   "metadata": {},
   "outputs": [
    {
     "name": "stdout",
     "output_type": "stream",
     "text": [
      "['clear', 'copy', 'fromkeys', 'get', 'items', 'keys', 'pop', 'popitem', 'setdefault', 'update', 'values']\n"
     ]
    }
   ],
   "source": [
    "from typing import Dict, Union, Optional\n",
    "import pprint\n",
    "\n",
    "Key = Union[str, int]\n",
    "Value = Union[str, int, float, bool, list, dict, tuple, set]\n",
    "\n",
    "data: Dict[Key, Value] = {\n",
    "    \"name\" : \"Muhammad Ahmad\",\n",
    "    \"age\" : 24,\n",
    "    \"city\" : \"Lahore\"\n",
    "}\n",
    "\n",
    "methods : list[str] = [m for m in dir(data) if \"__\" not in m]\n",
    "print(methods)"
   ]
  },
  {
   "cell_type": "code",
   "execution_count": 3,
   "metadata": {},
   "outputs": [
    {
     "name": "stdout",
     "output_type": "stream",
     "text": [
      "Before {'name': 'Muhammad Ahmad', 'age': 24, 'city': 'Lahore'}\n"
     ]
    }
   ],
   "source": [
    "print(\"Before\", data)"
   ]
  },
  {
   "cell_type": "code",
   "execution_count": 4,
   "metadata": {},
   "outputs": [
    {
     "name": "stdout",
     "output_type": "stream",
     "text": [
      "After {}\n"
     ]
    }
   ],
   "source": [
    "data.clear()\n",
    "print(\"After\", data)"
   ]
  },
  {
   "cell_type": "code",
   "execution_count": 6,
   "metadata": {},
   "outputs": [
    {
     "name": "stdout",
     "output_type": "stream",
     "text": [
      "['clear', 'copy', 'fromkeys', 'get', 'items', 'keys', 'pop', 'popitem', 'setdefault', 'update', 'values']\n"
     ]
    }
   ],
   "source": [
    "methods: list[str] = [m for m in dir(data) if \"__\" not in m]\n",
    "print(methods)"
   ]
  },
  {
   "cell_type": "code",
   "execution_count": 7,
   "metadata": {},
   "outputs": [
    {
     "name": "stdout",
     "output_type": "stream",
     "text": [
      "Before {'name': 'Muhammad Ahmad', 'education': 'BS Computer Science', 'age': 24}\n",
      "Muhammad Ahmad\n",
      "After {'education': 'BS Computer Science', 'age': 24}\n",
      "['clear', 'copy', 'fromkeys', 'get', 'items', 'keys', 'pop', 'popitem', 'setdefault', 'update', 'values']\n"
     ]
    }
   ],
   "source": [
    "# pop: remove an item from dictionary\n",
    "\n",
    "from typing import Dict, Union, Optional\n",
    "import pprint\n",
    "\n",
    "Key = Union[str, int]\n",
    "Value = Union[str, int, float, bool, list, dict, tuple, set]\n",
    "\n",
    "data: Dict[Key, Value] = {\n",
    "    \"name\" : \"Muhammad Ahmad\",\n",
    "    \"education\" : \"BS Computer Science\",\n",
    "    \"age\": 24,\n",
    "}\n",
    "\n",
    "print(\"Before\", data)\n",
    "\n",
    "a: str = data.pop(\"name\")\n",
    "print(a)\n",
    "\n",
    "print(\"After\", data)\n",
    "\n",
    "methods: list[str] = [m for m in dir(data) if \"__\" not in m]\n",
    "print(methods)"
   ]
  },
  {
   "cell_type": "code",
   "execution_count": 8,
   "metadata": {},
   "outputs": [
    {
     "name": "stdout",
     "output_type": "stream",
     "text": [
      "Before {'education': 'BS Computer Science', 'age': 24}\n",
      "('age', 24)\n",
      "After {'education': 'BS Computer Science'}\n"
     ]
    }
   ],
   "source": [
    "# POPITEM: It removes the last item from the dictionary\n",
    "\n",
    "print(\"Before\", data)\n",
    "\n",
    "a: tuple = data.popitem()\n",
    "\n",
    "print(a)\n",
    "\n",
    "print(\"After\", data)\n",
    "\n",
    "methods: list[str] = [m for m in dir(data) if \"__\" not in m]"
   ]
  },
  {
   "cell_type": "code",
   "execution_count": 9,
   "metadata": {},
   "outputs": [
    {
     "name": "stdout",
     "output_type": "stream",
     "text": [
      "Before {'fname': 'Muhammad Ahmad', 'name': 'Shoukat Ali', 'education': 'BS Computer Science'}\n",
      "Shoukat Ali\n",
      "Lahore\n",
      "After {'fname': 'Muhammad Ahmad', 'name': 'Shoukat Ali', 'education': 'BS Computer Science', 'city': 'Lahore'}\n"
     ]
    }
   ],
   "source": [
    "# Set Default: It sets the default value for the key if the key is not present in the dictionary\n",
    "\n",
    "from typing import Dict, Union, Optional\n",
    "import pprint\n",
    "\n",
    "Key = Union[int,str] # create custom type\n",
    "Value = Union[int, str, list, dict, tuple, set]\n",
    "\n",
    "data : Dict[Key,Value] = {\n",
    "                        \"fname\":\"Muhammad Ahmad\",\n",
    "                        \"name\":\"Shoukat Ali\",\n",
    "                        \"education\": \"BS Computer Science\",}\n",
    "\n",
    "print(\"Before\", data)\n",
    "\n",
    "a: str = data.setdefault(\"name\", \"Muhammad Ahmad\")\n",
    "b: str = data.setdefault(\"city\", \"Lahore\")\n",
    "\n",
    "print(a)\n",
    "print(b)\n",
    "print(\"After\", data)\n"
   ]
  },
  {
   "cell_type": "code",
   "execution_count": 11,
   "metadata": {},
   "outputs": [
    {
     "name": "stdout",
     "output_type": "stream",
     "text": [
      "Before {'name': 'Muhammad Ahmad', 'education': 'BS Computer Science'}\n",
      "{'name': 'Shoukat Ali', 'education': 'BS Computer Science', 'city': 'Lahore'}\n"
     ]
    }
   ],
   "source": [
    "# Update: It updates the dictionary with the new key value pair or update the value of the existing key\n",
    "\n",
    "from typing import Dict, Union, Optional\n",
    "import pprint\n",
    "\n",
    "Key = Union[int,str] # create custom type\n",
    "Value = Union[int, str, list, dict, tuple, set]\n",
    "\n",
    "data : Dict[Key,Value] = {\n",
    "                        \"name\": \"Muhammad Ahmad\",\n",
    "                        \"education\": \"BS Computer Science\",}\n",
    "\n",
    "data2 : Dict[Key,Value] = {\n",
    "                        \"name\": \"Shoukat Ali\",\n",
    "                        \"city\": \"Lahore\"}\n",
    "\n",
    "print(\"Before\", data)\n",
    "\n",
    "data.update(data2)\n",
    "\n",
    "print(data)"
   ]
  },
  {
   "cell_type": "code",
   "execution_count": 12,
   "metadata": {},
   "outputs": [
    {
     "data": {
      "text/html": [
       "<div>\n",
       "<style scoped>\n",
       "    .dataframe tbody tr th:only-of-type {\n",
       "        vertical-align: middle;\n",
       "    }\n",
       "\n",
       "    .dataframe tbody tr th {\n",
       "        vertical-align: top;\n",
       "    }\n",
       "\n",
       "    .dataframe thead th {\n",
       "        text-align: right;\n",
       "    }\n",
       "</style>\n",
       "<table border=\"1\" class=\"dataframe\">\n",
       "  <thead>\n",
       "    <tr style=\"text-align: right;\">\n",
       "      <th></th>\n",
       "      <th>roll_no</th>\n",
       "      <th>name</th>\n",
       "      <th>age</th>\n",
       "    </tr>\n",
       "  </thead>\n",
       "  <tbody>\n",
       "    <tr>\n",
       "      <th>0</th>\n",
       "      <td>1</td>\n",
       "      <td>Ahmad</td>\n",
       "      <td>24</td>\n",
       "    </tr>\n",
       "    <tr>\n",
       "      <th>1</th>\n",
       "      <td>2</td>\n",
       "      <td>Ali</td>\n",
       "      <td>23</td>\n",
       "    </tr>\n",
       "    <tr>\n",
       "      <th>2</th>\n",
       "      <td>3</td>\n",
       "      <td>Shoukat</td>\n",
       "      <td>22</td>\n",
       "    </tr>\n",
       "    <tr>\n",
       "      <th>3</th>\n",
       "      <td>4</td>\n",
       "      <td>Ahsan</td>\n",
       "      <td>21</td>\n",
       "    </tr>\n",
       "    <tr>\n",
       "      <th>4</th>\n",
       "      <td>5</td>\n",
       "      <td>Sami</td>\n",
       "      <td>20</td>\n",
       "    </tr>\n",
       "    <tr>\n",
       "      <th>5</th>\n",
       "      <td>6</td>\n",
       "      <td>Kashif</td>\n",
       "      <td>19</td>\n",
       "    </tr>\n",
       "    <tr>\n",
       "      <th>6</th>\n",
       "      <td>7</td>\n",
       "      <td>Muneeb</td>\n",
       "      <td>18</td>\n",
       "    </tr>\n",
       "    <tr>\n",
       "      <th>7</th>\n",
       "      <td>8</td>\n",
       "      <td>Hassan</td>\n",
       "      <td>17</td>\n",
       "    </tr>\n",
       "    <tr>\n",
       "      <th>8</th>\n",
       "      <td>9</td>\n",
       "      <td>Usman</td>\n",
       "      <td>16</td>\n",
       "    </tr>\n",
       "    <tr>\n",
       "      <th>9</th>\n",
       "      <td>10</td>\n",
       "      <td>Saad</td>\n",
       "      <td>15</td>\n",
       "    </tr>\n",
       "  </tbody>\n",
       "</table>\n",
       "</div>"
      ],
      "text/plain": [
       "   roll_no     name  age\n",
       "0        1    Ahmad   24\n",
       "1        2      Ali   23\n",
       "2        3  Shoukat   22\n",
       "3        4    Ahsan   21\n",
       "4        5     Sami   20\n",
       "5        6   Kashif   19\n",
       "6        7   Muneeb   18\n",
       "7        8   Hassan   17\n",
       "8        9    Usman   16\n",
       "9       10     Saad   15"
      ]
     },
     "execution_count": 12,
     "metadata": {},
     "output_type": "execute_result"
    }
   ],
   "source": [
    "# Importing pandas library\n",
    "import pandas as pd\n",
    "from typing import Any \n",
    "\n",
    "students_data : Dict[str, list[Any]] = {\n",
    "    \"roll_no\" : [1,2,3,4,5,6,7,8,9,10],\n",
    "    \"name\" : [\"Ahmad\", \"Ali\", \"Shoukat\", \"Ahsan\", \"Sami\", \"Kashif\", \"Muneeb\", \"Hassan\", \"Usman\", \"Saad\"],\n",
    "    \"age\" : [24, 23, 22, 21, 20, 19, 18, 17, 16, 15],\n",
    "}\n",
    "\n",
    "df: pd.DataFrame = pd.DataFrame(students_data)\n",
    "\n",
    "df"
   ]
  },
  {
   "cell_type": "code",
   "execution_count": 15,
   "metadata": {},
   "outputs": [
    {
     "name": "stdout",
     "output_type": "stream",
     "text": [
      "Original position of alien is 0 \n",
      "New position of alien is 3\n"
     ]
    }
   ],
   "source": [
    "# pseudo code\n",
    "# 1. Move the alien to the right\n",
    "# 2. Determine how far the alien has moved based on its current speed\n",
    "# 3. Speed: fast: 3, medium: 2, slow: 1\n",
    "# 4. Print the current position of the alien\n",
    "\n",
    "from typing import Union\n",
    "\n",
    "alien : dict[str, Union[int, str]] = {\n",
    "    \"x_position\": 0,\n",
    "    \"y_position\": 25,\n",
    "    \"speed\": \"medium\"\n",
    "}\n",
    "\n",
    "print(f\"Original position of alien is {alien['x_position']} \")\n",
    "\n",
    "alien[\"speed\"] = \"fast\"\n",
    "\n",
    "if alien[\"speed\"] == \"fast\":\n",
    "    x_increment = 3\n",
    "elif alien[\"speed\"] == \"medium\":\n",
    "    x_increment = 2\n",
    "else:\n",
    "    x_increment = 1\n",
    "    \n",
    "alien[\"x_position\"] = alien[\"x_position\"] + x_increment\n",
    "\n",
    "print(f\"New position of alien is {alien['x_position']}\")"
   ]
  },
  {
   "cell_type": "code",
   "execution_count": 16,
   "metadata": {},
   "outputs": [
    {
     "name": "stdout",
     "output_type": "stream",
     "text": [
      "\n",
      "Hi Jen!\n",
      "\n",
      "Hi Sarah!\n",
      "\tSarah, I see your favorite languages are:\n",
      "\t\tC\n",
      "\n",
      "Hi Edward!\n",
      "\n",
      "Hi Phil!\n",
      "\tPhil, I see your favorite languages are:\n",
      "\t\tPython\n",
      "\t\tHaskell\n"
     ]
    }
   ],
   "source": [
    "favorite_languages : dict[str, list[str]] = {\n",
    "    \"jen\" : [\"python\", \"ruby\"],\n",
    "    \"sarah\" : [\"c\"],\n",
    "    \"edward\" : [\"ruby\", \"go\"],\n",
    "    \"phil\" : [\"python\", \"haskell\"],\n",
    "}\n",
    "\n",
    "friends : list[str] = [\"phil\", \"sarah\"]\n",
    "\n",
    "for name, languages in favorite_languages.items():\n",
    "    print(f\"\\nHi {name.title()}!\")\n",
    "    if name in friends:\n",
    "        print(f\"\\t{name.title()}, I see your favorite languages are:\")\n",
    "        for language in languages:\n",
    "            print(f\"\\t\\t{language.title()}\")\n",
    "            "
   ]
  },
  {
   "cell_type": "code",
   "execution_count": 17,
   "metadata": {},
   "outputs": [
    {
     "name": "stdout",
     "output_type": "stream",
     "text": [
      "Erin, please take our poll!\n",
      "\n",
      "\n",
      "dict_keys(['jen', 'sarah', 'edward', 'phil'])\n"
     ]
    }
   ],
   "source": [
    "if 'erin' not in favorite_languages.keys():\n",
    "    print(\"Erin, please take our poll!\")\n",
    "    \n",
    "print(\"\\n\")\n",
    "\n",
    "print(favorite_languages.keys())"
   ]
  },
  {
   "cell_type": "code",
   "execution_count": 19,
   "metadata": {},
   "outputs": [
    {
     "data": {
      "text/plain": [
       "True"
      ]
     },
     "execution_count": 19,
     "metadata": {},
     "output_type": "execute_result"
    }
   ],
   "source": [
    "\"Ahmad\" in \"\"\"My Name is Muhammad Ahmad and I love to code\"\"\""
   ]
  },
  {
   "cell_type": "code",
   "execution_count": 22,
   "metadata": {},
   "outputs": [
    {
     "name": "stdout",
     "output_type": "stream",
     "text": [
      "[]\n",
      "[{'color': 'green', 'points': '5', 'speed': 'slow'},\n",
      " {'color': 'green', 'points': '5', 'speed': 'slow'},\n",
      " {'color': 'green', 'points': '5', 'speed': 'slow'},\n",
      " {'color': 'green', 'points': '5', 'speed': 'slow'},\n",
      " {'color': 'green', 'points': '5', 'speed': 'slow'},\n",
      " {'color': 'green', 'points': '5', 'speed': 'slow'},\n",
      " {'color': 'green', 'points': '5', 'speed': 'slow'},\n",
      " {'color': 'green', 'points': '5', 'speed': 'slow'},\n",
      " {'color': 'green', 'points': '5', 'speed': 'slow'},\n",
      " {'color': 'green', 'points': '5', 'speed': 'slow'},\n",
      " {'color': 'green', 'points': '5', 'speed': 'slow'},\n",
      " {'color': 'green', 'points': '5', 'speed': 'slow'},\n",
      " {'color': 'green', 'points': '5', 'speed': 'slow'},\n",
      " {'color': 'green', 'points': '5', 'speed': 'slow'},\n",
      " {'color': 'green', 'points': '5', 'speed': 'slow'},\n",
      " {'color': 'green', 'points': '5', 'speed': 'slow'},\n",
      " {'color': 'green', 'points': '5', 'speed': 'slow'},\n",
      " {'color': 'green', 'points': '5', 'speed': 'slow'},\n",
      " {'color': 'green', 'points': '5', 'speed': 'slow'},\n",
      " {'color': 'green', 'points': '5', 'speed': 'slow'},\n",
      " {'color': 'green', 'points': '5', 'speed': 'slow'},\n",
      " {'color': 'green', 'points': '5', 'speed': 'slow'},\n",
      " {'color': 'green', 'points': '5', 'speed': 'slow'},\n",
      " {'color': 'green', 'points': '5', 'speed': 'slow'},\n",
      " {'color': 'green', 'points': '5', 'speed': 'slow'},\n",
      " {'color': 'green', 'points': '5', 'speed': 'slow'},\n",
      " {'color': 'green', 'points': '5', 'speed': 'slow'},\n",
      " {'color': 'green', 'points': '5', 'speed': 'slow'},\n",
      " {'color': 'green', 'points': '5', 'speed': 'slow'},\n",
      " {'color': 'green', 'points': '5', 'speed': 'slow'}]\n"
     ]
    }
   ],
   "source": [
    "import pprint\n",
    "\n",
    "aliens: list[Dict[str, str]] = []\n",
    "print(aliens)\n",
    "\n",
    "# Make 30 green aliens\n",
    "\n",
    "for alien_number in range(30):\n",
    "    new_alien: dict[str, str] = {\"color\": \"green\", \"points\": \"5\", \"speed\": \"slow\"}\n",
    "    aliens.append(new_alien)\n",
    "    \n",
    "pprint.pprint(aliens)"
   ]
  },
  {
   "cell_type": "markdown",
   "metadata": {},
   "source": [
    "## Nested Dictionary Error Solutions"
   ]
  },
  {
   "cell_type": "code",
   "execution_count": 23,
   "metadata": {},
   "outputs": [
    {
     "name": "stdout",
     "output_type": "stream",
     "text": [
      "[{'color': 'green', 'points': 5, 'speed': 'slow'},\n",
      " {'color': 'green', 'points': 5, 'speed': 'slow'},\n",
      " {'color': 'green', 'points': 5, 'speed': 'slow'},\n",
      " {'color': 'green', 'points': 5, 'speed': 'slow'},\n",
      " {'color': 'green', 'points': 5, 'speed': 'slow'},\n",
      " {'color': 'green', 'points': 5, 'speed': 'slow'},\n",
      " {'color': 'green', 'points': 5, 'speed': 'slow'},\n",
      " {'color': 'green', 'points': 5, 'speed': 'slow'},\n",
      " {'color': 'green', 'points': 5, 'speed': 'slow'},\n",
      " {'color': 'green', 'points': 5, 'speed': 'slow'},\n",
      " {'color': 'green', 'points': 5, 'speed': 'slow'},\n",
      " {'color': 'green', 'points': 5, 'speed': 'slow'},\n",
      " {'color': 'green', 'points': 5, 'speed': 'slow'},\n",
      " {'color': 'green', 'points': 5, 'speed': 'slow'},\n",
      " {'color': 'green', 'points': 5, 'speed': 'slow'},\n",
      " {'color': 'green', 'points': 5, 'speed': 'slow'},\n",
      " {'color': 'green', 'points': 5, 'speed': 'slow'},\n",
      " {'color': 'green', 'points': 5, 'speed': 'slow'},\n",
      " {'color': 'green', 'points': 5, 'speed': 'slow'},\n",
      " {'color': 'green', 'points': 5, 'speed': 'slow'},\n",
      " {'color': 'green', 'points': 5, 'speed': 'slow'},\n",
      " {'color': 'green', 'points': 5, 'speed': 'slow'},\n",
      " {'color': 'green', 'points': 5, 'speed': 'slow'},\n",
      " {'color': 'green', 'points': 5, 'speed': 'slow'},\n",
      " {'color': 'green', 'points': 5, 'speed': 'slow'},\n",
      " {'color': 'green', 'points': 5, 'speed': 'slow'},\n",
      " {'color': 'green', 'points': 5, 'speed': 'slow'},\n",
      " {'color': 'green', 'points': 5, 'speed': 'slow'},\n",
      " {'color': 'green', 'points': 5, 'speed': 'slow'},\n",
      " {'color': 'green', 'points': 5, 'speed': 'slow'}]\n"
     ]
    }
   ],
   "source": [
    "from typing import Union, TypedDict, Tuple, Set, List\n",
    "import pprint\n",
    "\n",
    "Alien = TypedDict(\"Alien\", {\"color\": str, \"points\": int, \"speed\": str})\n",
    "\n",
    "aliens: List[Alien] = []\n",
    "\n",
    "for alien_number in range(30):\n",
    "    new_alien: Alien = {\"color\": \"green\", \"points\": 5, \"speed\": \"slow\"}\n",
    "    aliens.append(new_alien)\n",
    "    \n",
    "pprint.pprint(aliens)"
   ]
  },
  {
   "cell_type": "code",
   "execution_count": null,
   "metadata": {},
   "outputs": [],
   "source": []
  }
 ],
 "metadata": {
  "kernelspec": {
   "display_name": "py12",
   "language": "python",
   "name": "python3"
  },
  "language_info": {
   "codemirror_mode": {
    "name": "ipython",
    "version": 3
   },
   "file_extension": ".py",
   "mimetype": "text/x-python",
   "name": "python",
   "nbconvert_exporter": "python",
   "pygments_lexer": "ipython3",
   "version": "3.12.0"
  }
 },
 "nbformat": 4,
 "nbformat_minor": 2
}
